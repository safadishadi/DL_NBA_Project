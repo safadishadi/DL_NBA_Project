{
 "cells": [
  {
   "cell_type": "code",
   "execution_count": null,
   "metadata": {
    "colab": {
     "base_uri": "https://localhost:8080/"
    },
    "id": "ofxf80vLdj2U",
    "outputId": "4f947ef0-b330-462a-a4ea-4e86997abf50"
   },
   "outputs": [
    {
     "name": "stdout",
     "output_type": "stream",
     "text": [
      "Fetching game data...\n",
      "Fetching team stats...\n",
      "Fetching player stats...\n"
     ]
    },
    {
     "name": "stderr",
     "output_type": "stream",
     "text": [
      "<ipython-input-1-5ff8df091798>:60: FutureWarning: The behavior of DataFrame concatenation with empty or all-NA entries is deprecated. In a future version, this will no longer exclude empty or all-NA columns when determining the result dtypes. To retain the old behavior, exclude the relevant entries before the concat operation.\n",
      "  return pd.concat(all_player_stats, ignore_index=True)\n"
     ]
    }
   ],
   "source": [
    "# Uncomment Install necessary libraries\n",
    "# !pip install nba_api\n",
    "\n",
    "from nba_api.stats.endpoints import leaguegamefinder, teamgamelog, playergamelog\n",
    "from nba_api.stats.static import teams, players\n",
    "import pandas as pd\n",
    "import numpy as np\n",
    "from sklearn.model_selection import train_test_split\n",
    "from sklearn.preprocessing import StandardScaler, LabelEncoder\n",
    "import time\n",
    "\n",
    "# Step 1: Fetch NBA Stats\n",
    "def fetch_all_game_data():\n",
    "    \"\"\"\n",
    "    Fetches all NBA game data from the API for all teams.\n",
    "    Returns a DataFrame with historical game data.\n",
    "    \"\"\"\n",
    "    nba_teams = teams.get_teams()\n",
    "    all_games = []\n",
    "    for team in nba_teams:\n",
    "        team_id = team['id']\n",
    "        gamefinder = leaguegamefinder.LeagueGameFinder(team_id_nullable=team_id)\n",
    "        team_games = gamefinder.get_data_frames()[0]\n",
    "        team_games['TEAM_ID'] = team_id\n",
    "        all_games.append(team_games)\n",
    "        time.sleep(1)  # Prevent rate limiting\n",
    "    return pd.concat(all_games, ignore_index=True)\n",
    "\n",
    "def fetch_team_stats():\n",
    "    \"\"\"\n",
    "    Fetches team stats for all teams.\n",
    "    Returns a DataFrame with team stats.\n",
    "    \"\"\"\n",
    "    nba_teams = teams.get_teams()\n",
    "    all_team_stats = []\n",
    "    for team in nba_teams:\n",
    "        team_id = team['id']\n",
    "        stats = teamgamelog.TeamGameLog(team_id=team_id).get_data_frames()[0]\n",
    "        stats['TEAM_ID'] = team_id\n",
    "        all_team_stats.append(stats)\n",
    "        time.sleep(1)\n",
    "    return pd.concat(all_team_stats, ignore_index=True)\n",
    "\n",
    "def fetch_player_stats():\n",
    "    \"\"\"\n",
    "    Fetches player stats for all players.\n",
    "    Returns a DataFrame with player stats.\n",
    "    \"\"\"\n",
    "    nba_players = players.get_players()\n",
    "    all_player_stats = []\n",
    "    for player in nba_players[:50]:  # Limit to first 50 players to avoid overloading TODO:maybe remove\n",
    "        player_id = player['id']\n",
    "        try:\n",
    "            stats = playergamelog.PlayerGameLog(player_id=player_id).get_data_frames()[0]\n",
    "            stats['PLAYER_ID'] = player_id\n",
    "            all_player_stats.append(stats)\n",
    "            time.sleep(1)\n",
    "        except Exception as e:\n",
    "            print(f\"Error fetching player stats for {player['full_name']}: {e}\")\n",
    "    return pd.concat(all_player_stats, ignore_index=True)\n",
    "\n",
    "\n",
    "print(\"Fetching game data...\")\n",
    "games = fetch_all_game_data()\n",
    "\n",
    "print(\"Fetching team stats...\")\n",
    "team_stats = fetch_team_stats()\n",
    "\n",
    "print(\"Fetching player stats...\")\n",
    "player_stats = fetch_player_stats()"
   ]
  },
  {
   "cell_type": "code",
   "execution_count": 2,
   "metadata": {
    "id": "oN-3BOFBRGbo"
   },
   "outputs": [],
   "source": [
    "# Step 2: Preprocess Data\n",
    "\n",
    "def contains_alpha(col):\n",
    "    # Only apply to columns of type 'object' (string columns)\n",
    "    if col.dtype == 'object':\n",
    "        return col.str.contains(r'[a-zA-Z]', na=False).any()\n",
    "    return False\n",
    "\n",
    "def preprocess_data(games, team_stats, player_stats):\n",
    "    \"\"\"\n",
    "    Prepares and merges game, team, and player stats for use with a Tabular Transformer.\n",
    "    \"\"\"\n",
    "    # Merge games with team stats\n",
    "    data = games.merge(team_stats, left_on=['GAME_ID', 'TEAM_ID'], right_on=['Game_ID', 'Team_ID'], how='left', suffixes=('', '_TEAM'))\n",
    "\n",
    "    # Aggregate player stats by GAME_ID and TEAM_ID\n",
    "    \"\"\" temporarily removed, TODO: add back to model\n",
    "    player_stats_grouped = player_stats.groupby(['Game_ID', 'TEAM_ID']).mean().reset_index()\n",
    "    player_stats_grouped.drop(columns=['PLAYER_ID'], inplace=True)\n",
    "\n",
    "    # Merge aggregated player stats with games\n",
    "    data = data.merge(player_stats_grouped, on=['GAME_ID', 'TEAM_ID'], how='left', suffixes=('', '_PLAYER'))\n",
    "    \"\"\"\n",
    "    # Encode target variable (e.g., Win/Loss)\n",
    "    data['TARGET'] = (data['WL'] == 'W').astype(int)\n",
    "\n",
    "    # add new features\n",
    "    data['Home'] = data['MATCHUP'].apply(lambda x: 1 if '@' in x else 0)\n",
    "    data['Win_Streak'] = data.groupby('TEAM_ID')['W'].rolling(window=5).sum().reset_index(drop=True)\n",
    "    data['Win_Pct_Last_10'] = data.groupby('TEAM_ID')['W'].rolling(window=10).mean().reset_index(drop=True)\n",
    "\n",
    "    # Drop unnecessary columns\n",
    "    columns_to_drop = ['GAME_DATE', 'MATCHUP', 'WL', 'GAME_ID', 'TEAM_ABBREVIATION', 'TEAM_NAME']\n",
    "    data.drop(columns=[col for col in columns_to_drop if col in data.columns], inplace=True)\n",
    "\n",
    "    print(type(data))\n",
    "    # Drop the columns with alphabetic characters\n",
    "    columns_to_drop2 = [col for col in data.columns if contains_alpha(data[col])]\n",
    "    print(columns_to_drop2)\n",
    "    print(type(data))\n",
    "    if(columns_to_drop2):\n",
    "      data.drop(columns=[col for col in columns_to_drop2 if col in data.columns], inplace=True)\n",
    "    print(type(data))\n",
    "\n",
    "    # Handle missing values\n",
    "    data.fillna(0, inplace=True)\n",
    "\n",
    "    return data\n",
    "\n",
    "# Step 3: Prepare Data for Tabular Transformer\n",
    "def prepare_data_for_transformer(data):\n",
    "    \"\"\"\n",
    "    Splits the data into train, validation, and test sets and scales numeric features.\n",
    "    \"\"\"\n",
    "    # Split data into features and target\n",
    "    X = data.drop(columns=['TARGET'])\n",
    "    y = data['TARGET']\n",
    "\n",
    "    # Split into train, validation, and test sets\n",
    "    X_train, X_temp, y_train, y_temp = train_test_split(X, y, test_size=0.3, random_state=42, stratify=y)\n",
    "    X_val, X_test, y_val, y_test = train_test_split(X_temp, y_temp, test_size=0.5, random_state=42, stratify=y_temp)\n",
    "\n",
    "    # Scale numeric features\n",
    "    scaler = StandardScaler()\n",
    "    X_train = scaler.fit_transform(X_train)\n",
    "    X_val = scaler.transform(X_val)\n",
    "    X_test = scaler.transform(X_test)\n",
    "\n",
    "    return X_train, X_val, X_test, y_train, y_val, y_test"
   ]
  },
  {
   "cell_type": "code",
   "execution_count": 3,
   "metadata": {
    "colab": {
     "base_uri": "https://localhost:8080/"
    },
    "id": "OQuKIjWMBiPf",
    "outputId": "605e9f8e-0975-4f9f-9850-3f254156c3d3"
   },
   "outputs": [
    {
     "name": "stdout",
     "output_type": "stream",
     "text": [
      "\n"
     ]
    }
   ],
   "source": [
    "\"\"\" just for debugging TODO:remove cell\n",
    "print(games.columns)\n",
    "print(team_stats.columns)\n",
    "print(player_stats.columns)\n",
    "print(games.head())\n",
    "print(team_stats.head())\n",
    "print(player_stats.sample())\n",
    "\"\"\""
   ]
  },
  {
   "cell_type": "code",
   "execution_count": 3,
   "metadata": {
    "colab": {
     "base_uri": "https://localhost:8080/"
    },
    "collapsed": true,
    "id": "Qbwz2s20fo_3",
    "outputId": "65e1898d-0d21-439f-98a9-3747210e9831"
   },
   "outputs": [
    {
     "name": "stdout",
     "output_type": "stream",
     "text": [
      "Preprocessing data...\n",
      "<class 'pandas.core.frame.DataFrame'>\n",
      "['GAME_DATE_TEAM', 'MATCHUP_TEAM', 'WL_TEAM']\n",
      "<class 'pandas.core.frame.DataFrame'>\n",
      "<class 'pandas.core.frame.DataFrame'>\n",
      "Preparing data for Tabular Transformer...\n",
      "Data is ready!\n",
      "Train shape: (75216, 50), Validation shape: (16118, 50), Test shape: (16118, 50)\n"
     ]
    }
   ],
   "source": [
    "#preserve original data, work on copies\n",
    "games_copy = games.copy()\n",
    "team_stats_copy = team_stats.copy()\n",
    "player_stats_copy = player_stats.copy()\n",
    "\n",
    "print(\"Preprocessing data...\")\n",
    "data = preprocess_data(games_copy, team_stats_copy, player_stats_copy)\n",
    "\n",
    "\"\"\"just for debugging TODO:remove from cell\n",
    "print(data.columns)\n",
    "print(data.head())\n",
    "\"\"\"\n",
    "print(\"Preparing data for Tabular Transformer...\")\n",
    "X_train, X_val, X_test, y_train, y_val, y_test = prepare_data_for_transformer(data)\n",
    "\n",
    "print(\"Data is ready!\")\n",
    "print(f\"Train shape: {X_train.shape}, Validation shape: {X_val.shape}, Test shape: {X_test.shape}\")"
   ]
  }
 ],
 "metadata": {
  "colab": {
   "provenance": []
  },
  "kernelspec": {
   "display_name": "Python 3",
   "name": "python3"
  },
  "language_info": {
   "name": "python"
  }
 },
 "nbformat": 4,
 "nbformat_minor": 0
}
