{
  "cells": [
    {
      "cell_type": "code",
      "execution_count": 2,
      "metadata": {
        "colab": {
          "base_uri": "https://localhost:8080/"
        },
        "id": "ofxf80vLdj2U",
        "outputId": "311c01b5-173f-4ece-f780-14592d093494",
        "collapsed": true
      },
      "outputs": [
        {
          "output_type": "stream",
          "name": "stdout",
          "text": [
            "Requirement already satisfied: nba_api in /usr/local/lib/python3.11/dist-packages (1.7.0)\n",
            "Requirement already satisfied: numpy<2.0.0,>=1.22.2 in /usr/local/lib/python3.11/dist-packages (from nba_api) (1.26.4)\n",
            "Requirement already satisfied: requests<3.0.0,>=2.32.3 in /usr/local/lib/python3.11/dist-packages (from nba_api) (2.32.3)\n",
            "Requirement already satisfied: charset-normalizer<4,>=2 in /usr/local/lib/python3.11/dist-packages (from requests<3.0.0,>=2.32.3->nba_api) (3.4.1)\n",
            "Requirement already satisfied: idna<4,>=2.5 in /usr/local/lib/python3.11/dist-packages (from requests<3.0.0,>=2.32.3->nba_api) (3.10)\n",
            "Requirement already satisfied: urllib3<3,>=1.21.1 in /usr/local/lib/python3.11/dist-packages (from requests<3.0.0,>=2.32.3->nba_api) (2.3.0)\n",
            "Requirement already satisfied: certifi>=2017.4.17 in /usr/local/lib/python3.11/dist-packages (from requests<3.0.0,>=2.32.3->nba_api) (2024.12.14)\n"
          ]
        }
      ],
      "source": [
        "# Install necessary libraries\n",
        "!pip install nba_api\n",
        "\n",
        "from nba_api.stats.endpoints import leaguegamefinder, teamgamelog, playergamelog\n",
        "from nba_api.stats.static import teams, players\n",
        "import pandas as pd\n",
        "import numpy as np\n",
        "from sklearn.model_selection import train_test_split\n",
        "from sklearn.preprocessing import StandardScaler, MinMaxScaler\n",
        "import time\n",
        "\n",
        "#Fetch NBA Stats from NBA official site using NBA-API\n",
        "def fetch_all_game_data():\n",
        "    \"\"\"\n",
        "    Fetches the most recent 100 NBA game data from the API for all teams.\n",
        "    Returns a DataFrame with historical game data.\n",
        "    \"\"\"\n",
        "    nba_teams = teams.get_teams()\n",
        "    all_games = []\n",
        "    for team in nba_teams:\n",
        "        team_id = team['id']\n",
        "        gamefinder = leaguegamefinder.LeagueGameFinder(team_id_nullable=team_id)\n",
        "        team_games = gamefinder.get_data_frames()[0]\n",
        "        team_games['TEAM_ID'] = team_id\n",
        "        all_games.append(team_games)\n",
        "        time.sleep(1)  # Prevent rate limiting\n",
        "    return pd.concat(all_games, ignore_index=True)\n",
        "\n",
        "def fetch_team_stats():\n",
        "    \"\"\"\n",
        "    Fetches team stats for all teams.\n",
        "    Returns a DataFrame with team stats.\n",
        "    \"\"\"\n",
        "    nba_teams = teams.get_teams()\n",
        "    all_team_stats = []\n",
        "    for team in nba_teams:\n",
        "        team_id = team['id']\n",
        "        stats = teamgamelog.TeamGameLog(team_id=team_id).get_data_frames()[0]\n",
        "        stats['TEAM_ID'] = team_id\n",
        "        all_team_stats.append(stats)\n",
        "        time.sleep(1)\n",
        "    return pd.concat(all_team_stats, ignore_index=True)"
      ]
    },
    {
      "cell_type": "code",
      "execution_count": 3,
      "metadata": {
        "id": "oN-3BOFBRGbo"
      },
      "outputs": [],
      "source": [
        "\n",
        "def contains_alpha(col):\n",
        "    if col.dtype == 'object':\n",
        "        return col.str.contains(r'[a-zA-Z]', na=False).any()\n",
        "\n",
        "    return False\n",
        "\n",
        "\n",
        "# Add opponent team ID to each line of data df according to abbreviations\n",
        "def add_opponent_team_id(data):\n",
        "    nba_teams = teams.get_teams()\n",
        "    team_abbr_to_id = {team['abbreviation']: int(team['id']) for team in nba_teams}\n",
        "    data['OPPONENT_ABBR'] = data['MATCHUP'].apply(lambda x: x.split(' ')[-1])\n",
        "    data['OPPONENT_ABBR'] = data['OPPONENT_ABBR'].str.strip().str.upper()\n",
        "    data['OPPONENT_TEAM_ID'] = data['OPPONENT_ABBR'].map(team_abbr_to_id).astype('Int64')\n",
        "    data.drop(columns=['OPPONENT_ABBR'], inplace=True)\n",
        "\n",
        "    return data\n",
        "\n",
        "\n",
        "# Add relevant opponent stats to each line of data df\n",
        "def add_opponent_stats(data, team_stats_copy):\n",
        "    opponent_stats = team_stats_copy.copy()\n",
        "    opponent_stats = opponent_stats.rename(columns={\n",
        "        'TEAM_ID': 'OPPONENT_TEAM_ID',\n",
        "        'W': 'OPPONENT_W',\n",
        "        'L': 'OPPONENT_L',\n",
        "        'W_PCT': 'OPPONENT_W_PCT',\n",
        "        'Home': 'OPPONENT_Home',\n",
        "        'Win_Pct_Last_10': 'OPPONENT_Win_Pct_Last_10',\n",
        "        'Win_Streak': 'OPPONENT_Win_Streak',\n",
        "        'TARGET': 'OPPONENT_TARGET'\n",
        "    })\n",
        "    data = data.merge(opponent_stats,\n",
        "                      left_on=['Game_ID', 'OPPONENT_TEAM_ID'],\n",
        "                      right_on=['Game_ID', 'OPPONENT_TEAM_ID'],\n",
        "                      how='left')\n",
        "    data.fillna(0, inplace=True)\n",
        "\n",
        "    return data\n",
        "\n",
        "\n",
        "# Main preprocessing function\n",
        "def preprocess_data(games_copy, team_stats_copy, player_stats):\n",
        "    #remove in-game stats, leave all pre-game stats\n",
        "    to_drop_g_col = ['MIN', 'PTS', 'FGM', 'FGA', 'FG_PCT', 'FG3M', 'FG3A', 'FG3_PCT',\n",
        "                    'FTM', 'FTA', 'FT_PCT', 'OREB', 'DREB', 'REB', 'AST', 'STL', 'BLK',\n",
        "                    'TOV', 'PF', 'PLUS_MINUS']\n",
        "    games_copy.drop(columns=[col for col in to_drop_g_col if col in games_copy.columns], inplace=True)\n",
        "    to_drop_t_col = ['MIN', 'FGM', 'FGA', 'FG_PCT', 'FG3M', 'FG3A', 'FG3_PCT',\n",
        "                    'FTM', 'FTA', 'FT_PCT', 'OREB', 'DREB', 'REB', 'AST', 'STL',\n",
        "                    'BLK', 'TOV', 'PF', 'PTS']\n",
        "    team_stats_copy.drop(columns=[col for col in to_drop_t_col if col in team_stats_copy.columns], inplace=True)\n",
        "\n",
        "    data = games_copy.merge(team_stats_copy, left_on=['GAME_ID','TEAM_ID'], right_on=['Game_ID', 'Team_ID'], how='left', suffixes=('', '_drop'))\n",
        "    data = data[[c for c in data.columns if not c.endswith('_drop')]]\n",
        "\n",
        "    data = add_opponent_team_id(data)\n",
        "    data = add_opponent_stats(data, team_stats_copy)\n",
        "\n",
        "    #create new features\n",
        "    data['TARGET'] = (data['WL_x'] == 'W').astype(int)\n",
        "    data['Home'] = data['MATCHUP_x'].apply(lambda x: 1 if '@' in x else 0)\n",
        "    data['Win_Pct_Last_10'] = data.groupby('TEAM_ID')['W'].rolling(window=10).mean().reset_index(drop=True)\n",
        "    data['Win_Streak'] = data.groupby('TEAM_ID')['W'].rolling(window=5).sum().reset_index(drop=True)\n",
        "\n",
        "    #drop unnecessary columns\n",
        "    columns_to_drop = ['GAME_DATE', 'GAME_DATE_x', 'MATCHUP', 'GAME_ID', 'TEAM_ABBREVIATION', 'TEAM_NAME',\n",
        "                       'TEAM_ID_TEAM', 'Team_ID', 'WL', 'Team_ID_x',  'Team_ID_y']\n",
        "    data.drop(columns=[col for col in columns_to_drop if col in data.columns], inplace=True)\n",
        "\n",
        "    columns_to_drop2 = [col for col in data.columns if contains_alpha(data[col])]\n",
        "    if columns_to_drop2:\n",
        "        data.drop(columns=[col for col in columns_to_drop2 if col in data.columns], inplace=True)\n",
        "\n",
        "    #remove irrelevant lines with NaN values\n",
        "    data.fillna(0, inplace=True)\n",
        "    data = data[data['Game_ID'] != 0]\n",
        "\n",
        "    return data\n",
        "\n",
        "\n",
        "#Prepare Data for Tabular Transformer\n",
        "def prepare_data_for_transformer(data):\n",
        "    \"\"\"\n",
        "    Splits the data into train, validation, and test sets and scales numeric features.\n",
        "    \"\"\"\n",
        "    # Split data into features and target\n",
        "    X = data\n",
        "    y = data['TARGET']\n",
        "\n",
        "    # Split into train, validation, and test sets\n",
        "    X_train, X_temp, y_train, y_temp = train_test_split(X, y, test_size=0.3, random_state=42, stratify=y)\n",
        "    X_val, X_test, y_val, y_test = train_test_split(X_temp, y_temp, test_size=0.5, random_state=42, stratify=y_temp)\n",
        "\n",
        "    # Define features for Standard and MinMax normalization\n",
        "    standard_features = ['W', 'L', 'OPPONENT_W', 'OPPONENT_L', 'W_PCT', 'Win_Pct_Last_10', 'Win_Streak']\n",
        "    minmax_features = ['SEASON_ID', 'TEAM_ID', 'Game_ID', 'OPPONENT_TEAM_ID', 'OPPONENT_W_PCT', 'Home']\n",
        "\n",
        "    # Standard Scaling\n",
        "    existing_standard_columns =[col for col in standard_features if col in X_train]\n",
        "    standard_scaler = StandardScaler()\n",
        "    X_train[existing_standard_columns] = standard_scaler.fit_transform(X_train[existing_standard_columns])\n",
        "    X_val[existing_standard_columns] = standard_scaler.transform(X_val[existing_standard_columns])\n",
        "    X_test[existing_standard_columns] = standard_scaler.transform(X_test[existing_standard_columns])\n",
        "\n",
        "    # MinMax Scaling\n",
        "    existing_minmax_columns = [col for col in minmax_features if col in X_train]\n",
        "    minmax_scaler = MinMaxScaler()\n",
        "    X_train[existing_minmax_columns] = minmax_scaler.fit_transform(X_train[existing_minmax_columns])\n",
        "    X_val[existing_minmax_columns] = minmax_scaler.transform(X_val[existing_minmax_columns])\n",
        "    X_test[existing_minmax_columns] = minmax_scaler.transform(X_test[existing_minmax_columns])\n",
        "\n",
        "    return X_train, X_val, X_test, y_train, y_val, y_test"
      ]
    },
    {
      "cell_type": "code",
      "source": [
        "#Data fetch\n",
        "print(\"Fetching game data...\")\n",
        "games = fetch_all_game_data()\n",
        "\n",
        "print(\"Fetching team stats...\")\n",
        "team_stats = fetch_team_stats()\n",
        "\n",
        "\"\"\"\n",
        "#temporarily removed, TODO: add back to model\n",
        "print(\"Fetching player stats...\")\n",
        "player_stats = fetch_player_stats()\n",
        "\"\"\"\n"
      ],
      "metadata": {
        "colab": {
          "base_uri": "https://localhost:8080/",
          "height": 70
        },
        "id": "M3lEvcTAkof2",
        "outputId": "02d851d6-2746-46fa-bda1-74db1304478e"
      },
      "execution_count": 4,
      "outputs": [
        {
          "output_type": "stream",
          "name": "stdout",
          "text": [
            "Fetching game data...\n",
            "Fetching team stats...\n"
          ]
        },
        {
          "output_type": "execute_result",
          "data": {
            "text/plain": [
              "' \\n#temporarily removed, TODO: add back to model\\nprint(\"Fetching player stats...\")\\nplayer_stats = fetch_player_stats()\\n'"
            ],
            "application/vnd.google.colaboratory.intrinsic+json": {
              "type": "string"
            }
          },
          "metadata": {},
          "execution_count": 4
        }
      ]
    },
    {
      "cell_type": "code",
      "execution_count": 5,
      "metadata": {
        "colab": {
          "base_uri": "https://localhost:8080/"
        },
        "collapsed": true,
        "id": "Qbwz2s20fo_3",
        "outputId": "d3be7a5c-5e07-4d0f-f1f7-365d6267eb0c"
      },
      "outputs": [
        {
          "output_type": "stream",
          "name": "stdout",
          "text": [
            "Preprocessing data...\n",
            "##############################idan:1\n",
            "Index(['SEASON_ID', 'TEAM_ID', 'TEAM_ABBREVIATION', 'TEAM_NAME', 'GAME_ID',\n",
            "       'GAME_DATE', 'MATCHUP', 'WL'],\n",
            "      dtype='object')\n",
            "Index(['Team_ID', 'Game_ID', 'GAME_DATE', 'MATCHUP', 'WL', 'W', 'L', 'W_PCT',\n",
            "       'TEAM_ID'],\n",
            "      dtype='object')\n",
            "##############################idan:2\n",
            "Index(['SEASON_ID', 'TEAM_ID', 'TEAM_ABBREVIATION', 'TEAM_NAME', 'GAME_ID',\n",
            "       'GAME_DATE', 'MATCHUP', 'WL', 'Team_ID', 'Game_ID', 'W', 'L', 'W_PCT'],\n",
            "      dtype='object')\n",
            "*********************************shadi-1\n",
            "       SEASON_ID     TEAM_ID TEAM_ABBREVIATION          TEAM_NAME     GAME_ID  \\\n",
            "0          22024  1610612737               ATL      Atlanta Hawks  0022400686   \n",
            "1          22024  1610612737               ATL      Atlanta Hawks  0022400675   \n",
            "2          22024  1610612737               ATL      Atlanta Hawks  0022400532   \n",
            "3          22024  1610612737               ATL      Atlanta Hawks  0022400656   \n",
            "4          22024  1610612737               ATL      Atlanta Hawks  0022400639   \n",
            "...          ...         ...               ...                ...         ...   \n",
            "107583     21988  1610612766               CHH  Charlotte Hornets  0028800062   \n",
            "107584     21988  1610612766               CHH  Charlotte Hornets  0028800052   \n",
            "107585     21988  1610612766               CHH  Charlotte Hornets  0028800024   \n",
            "107586     21988  1610612766               CHH  Charlotte Hornets  0028800015   \n",
            "107587     21988  1610612766               CHH  Charlotte Hornets  0028800008   \n",
            "\n",
            "         GAME_DATE      MATCHUP WL       Team_ID     Game_ID     W     L  \\\n",
            "0       2025-02-01    ATL @ IND  L  1.610613e+09  0022400686  22.0  27.0   \n",
            "1       2025-01-30    ATL @ CLE  L  1.610613e+09  0022400675  22.0  26.0   \n",
            "2       2025-01-28  ATL vs. HOU  L  1.610613e+09  0022400532  22.0  25.0   \n",
            "3       2025-01-27    ATL @ MIN  L  1.610613e+09  0022400656  22.0  24.0   \n",
            "4       2025-01-25  ATL vs. TOR  L  1.610613e+09  0022400639  22.0  23.0   \n",
            "...            ...          ... ..           ...         ...   ...   ...   \n",
            "107583  1988-11-12    CHH @ ATL  L           NaN         NaN   NaN   NaN   \n",
            "107584  1988-11-11    CHH @ WAS  L           NaN         NaN   NaN   NaN   \n",
            "107585  1988-11-08  CHH vs. LAC  W           NaN         NaN   NaN   NaN   \n",
            "107586  1988-11-05    CHH @ DET  L           NaN         NaN   NaN   NaN   \n",
            "107587  1988-11-04  CHH vs. CLE  L           NaN         NaN   NaN   NaN   \n",
            "\n",
            "        W_PCT  OPPONENT_TEAM_ID  \n",
            "0       0.449        1610612754  \n",
            "1       0.458        1610612739  \n",
            "2       0.468        1610612745  \n",
            "3       0.478        1610612750  \n",
            "4       0.489        1610612761  \n",
            "...       ...               ...  \n",
            "107583    NaN        1610612737  \n",
            "107584    NaN        1610612764  \n",
            "107585    NaN        1610612746  \n",
            "107586    NaN        1610612765  \n",
            "107587    NaN        1610612739  \n",
            "\n",
            "[107588 rows x 14 columns]\n",
            "*********************************shadi-1.\n",
            "##############################idan:3\n",
            "Index(['SEASON_ID', 'TEAM_ID', 'TEAM_ABBREVIATION', 'TEAM_NAME', 'GAME_ID',\n",
            "       'GAME_DATE', 'MATCHUP', 'WL', 'Team_ID', 'Game_ID', 'W', 'L', 'W_PCT',\n",
            "       'OPPONENT_TEAM_ID'],\n",
            "      dtype='object')\n",
            "##############################idan:4\n",
            "       SEASON_ID     TEAM_ID TEAM_ABBREVIATION          TEAM_NAME     GAME_ID  \\\n",
            "0          22024  1610612737               ATL      Atlanta Hawks  0022400686   \n",
            "1          22024  1610612737               ATL      Atlanta Hawks  0022400675   \n",
            "2          22024  1610612737               ATL      Atlanta Hawks  0022400532   \n",
            "3          22024  1610612737               ATL      Atlanta Hawks  0022400656   \n",
            "4          22024  1610612737               ATL      Atlanta Hawks  0022400639   \n",
            "...          ...         ...               ...                ...         ...   \n",
            "107583     21988  1610612766               CHH  Charlotte Hornets  0028800062   \n",
            "107584     21988  1610612766               CHH  Charlotte Hornets  0028800052   \n",
            "107585     21988  1610612766               CHH  Charlotte Hornets  0028800024   \n",
            "107586     21988  1610612766               CHH  Charlotte Hornets  0028800015   \n",
            "107587     21988  1610612766               CHH  Charlotte Hornets  0028800008   \n",
            "\n",
            "       GAME_DATE_x    MATCHUP_x WL_x     Team_ID_x     Game_ID  ...     L  \\\n",
            "0       2025-02-01    ATL @ IND    L  1.610613e+09  0022400686  ...  27.0   \n",
            "1       2025-01-30    ATL @ CLE    L  1.610613e+09  0022400675  ...  26.0   \n",
            "2       2025-01-28  ATL vs. HOU    L  1.610613e+09  0022400532  ...  25.0   \n",
            "3       2025-01-27    ATL @ MIN    L  1.610613e+09  0022400656  ...  24.0   \n",
            "4       2025-01-25  ATL vs. TOR    L  1.610613e+09  0022400639  ...  23.0   \n",
            "...            ...          ...  ...           ...         ...  ...   ...   \n",
            "107583  1988-11-12    CHH @ ATL    L  0.000000e+00           0  ...   0.0   \n",
            "107584  1988-11-11    CHH @ WAS    L  0.000000e+00           0  ...   0.0   \n",
            "107585  1988-11-08  CHH vs. LAC    W  0.000000e+00           0  ...   0.0   \n",
            "107586  1988-11-05    CHH @ DET    L  0.000000e+00           0  ...   0.0   \n",
            "107587  1988-11-04  CHH vs. CLE    L  0.000000e+00           0  ...   0.0   \n",
            "\n",
            "        W_PCT  OPPONENT_TEAM_ID     Team_ID_y   GAME_DATE_y    MATCHUP_y WL_y  \\\n",
            "0       0.449        1610612754  1.610613e+09  FEB 01, 2025  IND vs. ATL    W   \n",
            "1       0.458        1610612739  1.610613e+09  JAN 30, 2025  CLE vs. ATL    W   \n",
            "2       0.468        1610612745  1.610613e+09  JAN 28, 2025    HOU @ ATL    W   \n",
            "3       0.478        1610612750  1.610613e+09  JAN 27, 2025  MIN vs. ATL    W   \n",
            "4       0.489        1610612761  1.610613e+09  JAN 25, 2025    TOR @ ATL    W   \n",
            "...       ...               ...           ...           ...          ...  ...   \n",
            "107583  0.000        1610612737  0.000000e+00             0            0    0   \n",
            "107584  0.000        1610612764  0.000000e+00             0            0    0   \n",
            "107585  0.000        1610612746  0.000000e+00             0            0    0   \n",
            "107586  0.000        1610612765  0.000000e+00             0            0    0   \n",
            "107587  0.000        1610612739  0.000000e+00             0            0    0   \n",
            "\n",
            "       OPPONENT_W  OPPONENT_L  OPPONENT_W_PCT  \n",
            "0            27.0        20.0           0.574  \n",
            "1            39.0         9.0           0.813  \n",
            "2            32.0        14.0           0.696  \n",
            "3            25.0        21.0           0.543  \n",
            "4            13.0        32.0           0.289  \n",
            "...           ...         ...             ...  \n",
            "107583        0.0         0.0           0.000  \n",
            "107584        0.0         0.0           0.000  \n",
            "107585        0.0         0.0           0.000  \n",
            "107586        0.0         0.0           0.000  \n",
            "107587        0.0         0.0           0.000  \n",
            "\n",
            "[107588 rows x 21 columns]\n",
            "Index(['SEASON_ID', 'TEAM_ID', 'TEAM_ABBREVIATION', 'TEAM_NAME', 'GAME_ID',\n",
            "       'GAME_DATE_x', 'MATCHUP_x', 'WL_x', 'Team_ID_x', 'Game_ID', 'W', 'L',\n",
            "       'W_PCT', 'OPPONENT_TEAM_ID', 'Team_ID_y', 'GAME_DATE_y', 'MATCHUP_y',\n",
            "       'WL_y', 'OPPONENT_W', 'OPPONENT_L', 'OPPONENT_W_PCT'],\n",
            "      dtype='object')\n",
            "0         22.0\n",
            "1         22.0\n",
            "2         22.0\n",
            "3         22.0\n",
            "4         22.0\n",
            "          ... \n",
            "107583     0.0\n",
            "107584     0.0\n",
            "107585     0.0\n",
            "107586     0.0\n",
            "107587     0.0\n",
            "Name: W, Length: 107588, dtype: float64\n",
            "##############################idan:4\n",
            "   SEASON_ID     TEAM_ID     Game_ID     W     L  W_PCT  OPPONENT_TEAM_ID  \\\n",
            "0      22024  1610612737  0022400686  22.0  27.0  0.449        1610612754   \n",
            "1      22024  1610612737  0022400675  22.0  26.0  0.458        1610612739   \n",
            "2      22024  1610612737  0022400532  22.0  25.0  0.468        1610612745   \n",
            "3      22024  1610612737  0022400656  22.0  24.0  0.478        1610612750   \n",
            "4      22024  1610612737  0022400639  22.0  23.0  0.489        1610612761   \n",
            "5      22024  1610612737  0022400623  22.0  22.0  0.500        1610612761   \n",
            "6      22024  1610612737  0022400612  22.0  21.0  0.512        1610612765   \n",
            "7      22024  1610612737  0022400602  22.0  20.0  0.524        1610612752   \n",
            "8      22024  1610612737  0022400587  22.0  19.0  0.537        1610612738   \n",
            "9      22024  1610612737  0022400563  21.0  19.0  0.525        1610612741   \n",
            "10     22024  1610612737  0022400556  20.0  19.0  0.513        1610612756   \n",
            "11     22024  1610612737  0022400522  19.0  19.0  0.500        1610612756   \n",
            "12     22024  1610612737  0022400506  19.0  18.0  0.514        1610612762   \n",
            "13     22024  1610612737  0022400486  18.0  18.0  0.500        1610612746   \n",
            "14     22024  1610612737  0022400477  18.0  17.0  0.514        1610612747   \n",
            "15     22024  1610612737  0022400461  18.0  16.0  0.529        1610612743   \n",
            "16     22024  1610612737  0022400438  18.0  15.0  0.545        1610612761   \n",
            "17     22024  1610612737  0022400427  17.0  15.0  0.531        1610612748   \n",
            "18     22024  1610612737  0022400413  16.0  15.0  0.516        1610612741   \n",
            "19     22024  1610612737  0022400395  15.0  15.0  0.500        1610612750   \n",
            "\n",
            "    OPPONENT_W  OPPONENT_L  OPPONENT_W_PCT  TARGET  Home  Win_Pct_Last_10  \\\n",
            "0         27.0        20.0           0.574       0     1              0.0   \n",
            "1         39.0         9.0           0.813       0     1              0.0   \n",
            "2         32.0        14.0           0.696       0     0              0.0   \n",
            "3         25.0        21.0           0.543       0     1              0.0   \n",
            "4         13.0        32.0           0.289       0     0              0.0   \n",
            "5         12.0        32.0           0.273       0     0              0.0   \n",
            "6         23.0        21.0           0.523       0     0              0.0   \n",
            "7         28.0        16.0           0.636       0     1              0.0   \n",
            "8         29.0        13.0           0.690       1     1              0.0   \n",
            "9         18.0        23.0           0.439       1     1             21.9   \n",
            "10        19.0        20.0           0.487       1     0             21.7   \n",
            "11        17.0        19.0           0.472       0     1             21.4   \n",
            "12         9.0        26.0           0.257       1     1             21.1   \n",
            "13        20.0        15.0           0.571       0     1             20.7   \n",
            "14        20.0        14.0           0.588       0     1             20.3   \n",
            "15        19.0        13.0           0.594       0     1             19.9   \n",
            "16         7.0        25.0           0.219       1     1             19.5   \n",
            "17        15.0        14.0           0.517       1     0             19.0   \n",
            "18        13.0        18.0           0.419       1     0             18.4   \n",
            "19        14.0        14.0           0.500       1     0             17.8   \n",
            "\n",
            "    Win_Streak  \n",
            "0          0.0  \n",
            "1          0.0  \n",
            "2          0.0  \n",
            "3          0.0  \n",
            "4        110.0  \n",
            "5        110.0  \n",
            "6        110.0  \n",
            "7        110.0  \n",
            "8        110.0  \n",
            "9        109.0  \n",
            "10       107.0  \n",
            "11       104.0  \n",
            "12       101.0  \n",
            "13        97.0  \n",
            "14        94.0  \n",
            "15        92.0  \n",
            "16        91.0  \n",
            "17        89.0  \n",
            "18        87.0  \n",
            "19        84.0  \n",
            "Index(['SEASON_ID', 'TEAM_ID', 'Game_ID', 'W', 'L', 'W_PCT',\n",
            "       'OPPONENT_TEAM_ID', 'OPPONENT_W', 'OPPONENT_L', 'OPPONENT_W_PCT',\n",
            "       'TARGET', 'Home', 'Win_Pct_Last_10', 'Win_Streak'],\n",
            "      dtype='object')\n",
            "Preparing data for Tabular Transformer...\n",
            "*********************************shadi-1\n",
            "Index(['SEASON_ID', 'TEAM_ID', 'Game_ID', 'W', 'L', 'W_PCT',\n",
            "       'OPPONENT_TEAM_ID', 'OPPONENT_W', 'OPPONENT_L', 'OPPONENT_W_PCT',\n",
            "       'TARGET', 'Home', 'Win_Pct_Last_10', 'Win_Streak'],\n",
            "      dtype='object')\n",
            "       SEASON_ID     TEAM_ID     Game_ID     W     L  W_PCT  OPPONENT_TEAM_ID  \\\n",
            "61303      22024  1610612754  0022400572  23.0  19.0  0.548        1610612765   \n",
            "54367      22024  1610612752  0022400653  31.0  16.0  0.660        1610612763   \n",
            "13590      22024  1610612741  0022400682  21.0  28.0  0.429        1610612761   \n",
            "100757     22024  1610612765  0022400479  17.0  18.0  0.486        1610612750   \n",
            "90548      22024  1610612762  0022400618  10.0  32.0  0.238        1610612760   \n",
            "43792      22024  1610612749  0022400398  16.0  12.0  0.571        1610612741   \n",
            "21252      22024  1610612743  0022400531  22.0  15.0  0.595        1610612751   \n",
            "104583     22024  1610612766  0022400300   6.0  14.0  0.300        1610612737   \n",
            "13637      22024  1610612741  0022400083   1.0   1.0  0.500        1610612749   \n",
            "7773       22024  1610612739  0022400080   2.0   0.0  1.000        1610612765   \n",
            "54378      22024  1610612752  0022400482  24.0  12.0  0.667        1610612741   \n",
            "32638      22024  1610612746  0022400087   1.0   1.0  0.500        1610612743   \n",
            "28791      22024  1610612745  0022400388  19.0   9.0  0.679        1610612761   \n",
            "61316      22024  1610612754  0022400389  14.0  15.0  0.483        1610612758   \n",
            "50695      22024  1610612751  0022400320  10.0  13.0  0.435        1610612754   \n",
            "50701      22024  1610612751  0022400276   7.0  10.0  0.412        1610612758   \n",
            "3801       22024  1610612738  0022400089   3.0   0.0  1.000        1610612765   \n",
            "47547      22024  1610612750  0022400505  19.0  17.0  0.528        1610612740   \n",
            "32618      22024  1610612746  0022400314  13.0   9.0  0.591        1610612743   \n",
            "100755     22024  1610612765  0022400513  19.0  18.0  0.514        1610612751   \n",
            "65127      22024  1610612755  0022400167   1.0   5.0  0.167        1610612756   \n",
            "13609      22024  1610612741  0022400398  13.0  17.0  0.433        1610612749   \n",
            "3767       22024  1610612738  0022400507  27.0  10.0  0.730        1610612743   \n",
            "32         22024  1610612737  0022400030   7.0  10.0  0.412        1610612741   \n",
            "17451      22024  1610612742  0022400273   9.0   8.0  0.529        1610612748   \n",
            "76502      22024  1610612758  0022400285   8.0  10.0  0.444        1610612760   \n",
            "7726       22024  1610612739  0022400696  40.0   9.0  0.816        1610612742   \n",
            "65088      22024  1610612755  0022400660  18.0  27.0  0.400        1610612747   \n",
            "0          22024  1610612737  0022400686  22.0  27.0  0.449        1610612754   \n",
            "94409      22024  1610612763  0022400499  24.0  13.0  0.649        1610612742   \n",
            "97124      22024  1610612764  0022400302   2.0  16.0  0.111        1610612749   \n",
            "72713      22024  1610612757  0022400031   6.0  10.0  0.375        1610612745   \n",
            "104582     22024  1610612766  0022400050   6.0  15.0  0.286        1610612755   \n",
            "94423      22024  1610612763  0022400329  15.0   8.0  0.652        1610612758   \n",
            "84055      22024  1610612760  0022400555  33.0   6.0  0.846        1610612755   \n",
            "50692      22024  1610612751  0022401224  10.0  16.0  0.385        1610612739   \n",
            "21274      22024  1610612743  0022400270   9.0   6.0  0.600        1610612747   \n",
            "58151      22024  1610612753  0022400043  14.0   7.0  0.667        1610612751   \n",
            "76480      22024  1610612758  0022400558  20.0  20.0  0.500        1610612749   \n",
            "11531      22024  1610612740  0022400042   4.0  16.0  0.200        1610612763   \n",
            "3794       22024  1610612738  0022400187   8.0   2.0  0.800        1610612751   \n",
            "76482      22024  1610612758  0022400528  19.0  19.0  0.500        1610612738   \n",
            "40306      22024  1610612748  0022400570  20.0  19.0  0.513        1610612747   \n",
            "47557      22024  1610612750  0022400367  14.0  12.0  0.538        1610612752   \n",
            "13607      22024  1610612741  0022400430  14.0  18.0  0.438        1610612749   \n",
            "72690      22024  1610612757  0022400560  13.0  26.0  0.333        1610612751   \n",
            "25045      22024  1610612744  0022400172   7.0   1.0  0.875        1610612738   \n",
            "17462      22024  1610612742  0022400153   4.0   2.0  0.667        1610612753   \n",
            "11508      22024  1610612740  0022400581  11.0  32.0  0.256        1610612762   \n",
            "36294      22024  1610612747  0022400376  16.0  12.0  0.571        1610612758   \n",
            "\n",
            "        OPPONENT_W  OPPONENT_L  OPPONENT_W_PCT  TARGET  Home  Win_Pct_Last_10  \\\n",
            "61303         21.0        20.0           0.512       1     1              0.0   \n",
            "54367         31.0        16.0           0.660       1     0              0.0   \n",
            "13590         15.0        33.0           0.313       1     1              0.0   \n",
            "100757        17.0        17.0           0.500       1     0             20.1   \n",
            "90548         36.0         7.0           0.837       0     1              0.0   \n",
            "43792         13.0        17.0           0.433       1     1             17.6   \n",
            "21252         13.0        25.0           0.342       1     0             25.5   \n",
            "104583        10.0        11.0           0.476       0     0              6.6   \n",
            "13637          1.0         1.0           0.500       1     1              2.7   \n",
            "7773           0.0         2.0           0.000       1     0              6.5   \n",
            "54378         16.0        19.0           0.457       0     1             26.1   \n",
            "32638          0.0         2.0           0.000       1     1              3.3   \n",
            "28791          7.0        22.0           0.241       1     1             21.8   \n",
            "61316         13.0        17.0           0.433       1     1             16.5   \n",
            "50695          9.0        14.0           0.391       1     0             10.9   \n",
            "50701          8.0         9.0           0.471       1     1              9.1   \n",
            "3801           0.0         3.0           0.000       1     1              6.2   \n",
            "47547          7.0        30.0           0.189       1     1             21.4   \n",
            "32618         10.0         8.0           0.556       1     0             15.1   \n",
            "100755        13.0        24.0           0.351       1     1             21.2   \n",
            "65127          6.0         1.0           0.857       0     1              1.8   \n",
            "13609         16.0        12.0           0.571       0     0             15.6   \n",
            "3767          20.0        15.0           0.571       1     1             29.2   \n",
            "32             7.0        10.0           0.412       0     1             10.4   \n",
            "17451          7.0         7.0           0.500       0     1             13.3   \n",
            "76502         13.0         4.0           0.765       0     0             10.4   \n",
            "7726          26.0        24.0           0.520       1     0              0.0   \n",
            "65088         26.0        19.0           0.578       1     0              0.0   \n",
            "0             27.0        20.0           0.574       0     1              0.0   \n",
            "94409         20.0        16.0           0.556       1     0             26.9   \n",
            "97124         10.0         9.0           0.526       0     1              3.0   \n",
            "72713         12.0         5.0           0.706       0     1              7.5   \n",
            "104582         5.0        14.0           0.263       0     0              6.7   \n",
            "94423         10.0        13.0           0.435       1     0             18.6   \n",
            "84055         15.0        23.0           0.395       1     1              0.0   \n",
            "50692         23.0         4.0           0.852       0     0             11.7   \n",
            "21274         10.0         6.0           0.625       1     1             11.0   \n",
            "58151          9.0        11.0           0.450       1     1             16.2   \n",
            "76480         21.0        17.0           0.553       0     1              0.0   \n",
            "11531         13.0         7.0           0.650       0     1              4.7   \n",
            "3794           4.0         5.0           0.444       1     0             11.7   \n",
            "76482         27.0        11.0           0.711       1     1             21.9   \n",
            "40306         21.0        17.0           0.553       0     1              0.0   \n",
            "47557         17.0        10.0           0.630       0     0             15.9   \n",
            "13607         16.0        14.0           0.533       1     0             16.6   \n",
            "72690         14.0        26.0           0.350       0     0             15.5   \n",
            "25045          7.0         2.0           0.778       1     1              9.8   \n",
            "17462          3.0         4.0           0.429       1     0              5.4   \n",
            "11508         10.0        30.0           0.250       1     0              0.0   \n",
            "36294         13.0        16.0           0.448       1     1             18.4   \n",
            "\n",
            "        Win_Streak  \n",
            "61303        122.0  \n",
            "54367          0.0  \n",
            "13590          0.0  \n",
            "100757        93.0  \n",
            "90548         50.0  \n",
            "43792         82.0  \n",
            "21252        118.0  \n",
            "104583        31.0  \n",
            "13637         10.0  \n",
            "7773          20.0  \n",
            "54378        124.0  \n",
            "32638          9.0  \n",
            "28791        102.0  \n",
            "61316         75.0  \n",
            "50695         51.0  \n",
            "50701         42.0  \n",
            "3801          22.0  \n",
            "47547        101.0  \n",
            "32618         69.0  \n",
            "100755       100.0  \n",
            "65127          7.0  \n",
            "13609         70.0  \n",
            "3767         139.0  \n",
            "32            41.0  \n",
            "17451         55.0  \n",
            "76502         45.0  \n",
            "7726           0.0  \n",
            "65088          0.0  \n",
            "0              0.0  \n",
            "94409        124.0  \n",
            "97124         12.0  \n",
            "72713         35.0  \n",
            "104582        32.0  \n",
            "94423         84.0  \n",
            "84055        172.0  \n",
            "50692         55.0  \n",
            "21274         49.0  \n",
            "58151         76.0  \n",
            "76480        109.0  \n",
            "11531         22.0  \n",
            "3794          47.0  \n",
            "76482        102.0  \n",
            "40306        103.0  \n",
            "47557         73.0  \n",
            "13607         77.0  \n",
            "72690         68.0  \n",
            "25045         41.0  \n",
            "17462         23.0  \n",
            "11508         59.0  \n",
            "36294         85.0  \n",
            "*********************************shadi-2\n",
            "        SEASON_ID   TEAM_ID   Game_ID         W         L     W_PCT  \\\n",
            "94430         0.0  0.896552  0.206672 -0.396046 -0.615653  0.303935   \n",
            "97122         0.0  0.931034  0.264443 -1.195450  0.691147 -1.952117   \n",
            "84073         0.0  0.793103  0.266070  0.517560 -0.853253  1.327199   \n",
            "76474         0.0  0.724138  0.528885  1.316964  1.166347  0.104155   \n",
            "94401         0.0  0.896552  0.513426  2.002169  0.334747  0.810695   \n",
            "87869         0.0  0.827586  0.414972 -0.510246  1.997947 -1.386886   \n",
            "61330         0.0  0.586207  0.205858 -0.738648 -0.378053 -0.490312   \n",
            "104602        0.0  1.000000  0.054516 -1.309651 -1.447253  2.433299   \n",
            "17451         0.0  0.172414  0.221318 -0.396046 -0.496853  0.138264   \n",
            "84081         0.0  0.793103  0.196094 -0.167644 -1.090853  1.390544   \n",
            "72725         0.0  0.689655  0.090317 -1.309651 -1.090853 -1.221215   \n",
            "3797          0.0  0.034483  0.113914 -0.738648 -1.328453  1.736505   \n",
            "76504         0.0  0.724138  0.026851 -0.510246 -0.496853 -0.003044   \n",
            "21272         0.0  0.206897  0.241660 -0.281845 -0.615653  0.425753   \n",
            "17422         0.0  0.172414  0.515867  1.316964  1.166347  0.104155   \n",
            "68870         0.0  0.655172  0.545972  1.316964  1.166347  0.104155   \n",
            "13620         0.0  0.137931  0.027665 -0.510246 -0.140453 -0.387986   \n",
            "28784         0.0  0.275862  0.398698  1.202764 -0.021653  0.761968   \n",
            "47535         0.0  0.448276  0.550041  1.659567  1.047547  0.303935   \n",
            "28782         0.0  0.275862  0.422295  1.431165 -0.021653  0.854549   \n",
            "100757        0.0  0.965517  0.388934  0.517560  0.691147 -0.071261   \n",
            "58137         0.0  0.551724  0.369406  0.860162  0.334747  0.342917   \n",
            "13625         0.0  0.137931  0.195281 -0.852848 -0.378053 -0.699837   \n",
            "29            0.0  0.000000  0.032547 -0.396046 -0.140453 -0.246678   \n",
            "58149         0.0  0.551724  0.042311  0.289158 -0.496853  0.737604   \n",
            "47569         0.0  0.448276  0.189585 -0.510246 -0.734453  0.342917   \n",
            "90584         0.0  0.862069  0.119609 -1.423852 -0.734453 -2.439386   \n",
            "42            0.0  0.000000  0.122864 -1.081250 -0.972053 -0.349004   \n",
            "90556         0.0  0.862069  0.397884 -0.396046  1.522747 -1.148124   \n",
            "61339         0.0  0.586207  0.111473 -1.195450 -0.972053 -0.816782   \n",
            "76508         0.0  0.724138  0.183889 -0.624447 -0.853253  0.401389   \n",
            "104589        0.0  1.000000  0.017087 -0.852848 -0.378053 -0.699837   \n",
            "90580         0.0  0.862069  0.004068 -1.195450 -0.496853 -1.464849   \n",
            "50713         0.0  0.482759  0.100081 -1.195450 -1.090853 -0.490312   \n",
            "72690         0.0  0.689655  0.454841  0.060757  1.641547 -0.816782   \n",
            "94431         0.0  0.896552  0.017901 -0.510246 -0.615653  0.157755   \n",
            "40331         0.0  0.379310  0.221318 -0.624447 -0.615653 -0.003044   \n",
            "44            0.0  0.000000  0.097640 -1.195450 -1.090853 -0.490312   \n",
            "11508         0.0  0.103448  0.471928 -0.167644  2.354347 -1.191979   \n",
            "84052         0.0  0.793103  0.483320  2.573172 -0.615653  1.619560   \n",
            "90579         0.0  0.862069  0.184703 -1.081250 -0.496853 -1.109143   \n",
            "11516         0.0  0.103448  0.383238 -0.738648  1.997947 -1.606157   \n",
            "76476         0.0  0.724138  0.508544  1.202764  1.047547  0.109028   \n",
            "7766          0.0  0.068966  0.141579 -0.396046 -1.447253  2.433299   \n",
            "80159         0.0  0.758621  0.212368 -0.510246 -0.496853 -0.003044   \n",
            "21280         0.0  0.206897  0.157038 -0.738648 -1.090853  0.810695   \n",
            "17446         0.0  0.172414  0.044752  0.174958 -0.496853  0.659641   \n",
            "80137         0.0  0.758621  0.448332  0.745961  0.809947 -0.003044   \n",
            "90575         0.0  0.862069  0.212368 -1.081250 -0.021653 -1.464849   \n",
            "3767          0.0  0.034483  0.411717  1.659567 -0.259253  1.117674   \n",
            "\n",
            "        OPPONENT_TEAM_ID  OPPONENT_W  OPPONENT_L  OPPONENT_W_PCT  TARGET  \\\n",
            "94430           0.620690   -1.220989   -0.030222           0.143       1   \n",
            "97122           0.172414    0.304236   -0.496772           0.652       0   \n",
            "84073           0.827586   -0.634364    0.436327           0.304       1   \n",
            "76474           0.482759    0.186911    2.419163           0.298       1   \n",
            "94401           0.103448   -0.047739    2.419163           0.267       1   \n",
            "87869           0.517241    1.477485    0.086415           0.658       0   \n",
            "61330           0.275862   -0.165064   -0.846684           0.688       0   \n",
            "104602          0.275862   -1.455639   -1.313234           0.000       1   \n",
            "17451           0.379310   -0.634364   -0.613409           0.500       0   \n",
            "84081           0.172414   -0.634364   -0.613409           0.500       0   \n",
            "72725           0.724138   -1.338314   -1.196596           0.333       0   \n",
            "3797            1.000000   -1.220989   -0.963322           0.333       1   \n",
            "76504           0.310345   -0.282389   -0.613409           0.588       0   \n",
            "21272           0.862069   -0.986339    0.203053           0.222       1   \n",
            "17422           0.034483    2.298760    0.203053           0.696       0   \n",
            "68870           0.448276    1.594810    1.019514           0.553       0   \n",
            "13620           0.931034   -1.220989    0.203053           0.125       1   \n",
            "28784           0.344828    0.890861    0.319690           0.571       1   \n",
            "47535           0.862069   -0.282389    2.769075           0.217       1   \n",
            "28782           0.896552    1.360160    0.203053           0.632       1   \n",
            "100757          0.448276    0.538886    0.552965           0.500       1   \n",
            "58137           0.965517    0.304236    0.669602           0.455       0   \n",
            "13625           0.275862   -0.282389   -0.963322           0.714       0   \n",
            "29              0.068966    0.538886   -1.079959           0.850       1   \n",
            "58149           0.517241    0.069586   -0.496772           0.619       0   \n",
            "47569           0.655172   -0.399714   -0.846684           0.643       1   \n",
            "90584           0.206897   -1.103664   -1.079959           0.500       0   \n",
            "42              0.103448   -1.103664   -0.963322           0.429       1   \n",
            "90556           0.551724    1.008186    0.436327           0.568       1   \n",
            "61339           0.103448   -1.103664   -1.079959           0.500       0   \n",
            "76508           0.655172   -0.399714   -1.079959           0.750       1   \n",
            "104589          0.482759   -0.751689   -0.380135           0.400       0   \n",
            "90580           0.655172   -0.399714   -1.196596           0.818       0   \n",
            "50713           0.896552   -1.220989   -1.079959           0.400       1   \n",
            "72690           0.482759    0.186911    1.602701           0.350       0   \n",
            "94431           0.206897   -0.517039   -0.846684           0.615       0   \n",
            "40331           0.172414   -0.399714   -0.496772           0.529       1   \n",
            "44              0.931034   -1.220989   -1.196596           0.500       0   \n",
            "11508           0.862069   -0.282389    2.069251           0.250       1   \n",
            "84052           0.482759    0.186911    1.952614           0.326       1   \n",
            "90579           0.172414   -0.869014   -0.613409           0.417       1   \n",
            "11516           0.931034   -0.751689    1.602701           0.188       1   \n",
            "76476           0.206897    1.829460    0.436327           0.636       0   \n",
            "7766            0.103448   -1.103664   -0.730047           0.333       1   \n",
            "80159           0.862069   -1.103664   -0.030222           0.200       1   \n",
            "21280           0.379310   -1.103664   -0.846684           0.375       1   \n",
            "17446           0.896552    0.186911   -0.496772           0.636       1   \n",
            "80137           0.344828    0.890861    0.552965           0.541       1   \n",
            "90575           0.758621   -0.517039   -0.496772           0.500       0   \n",
            "3767            0.206897    0.890861    0.319690           0.571       1   \n",
            "\n",
            "        Home  Win_Pct_Last_10  Win_Streak  \n",
            "94430    0.0         0.394885   -0.046185  \n",
            "97122    0.0        -0.755367   -1.002404  \n",
            "84073    1.0         1.097144    0.396941  \n",
            "76474    1.0        -1.191252   -1.328918  \n",
            "94401    0.0        -1.191252    2.332701  \n",
            "87869    1.0         0.055863   -0.326054  \n",
            "61330    1.0        -0.198403   -0.489311  \n",
            "104602   1.0        -0.924878   -1.165661  \n",
            "17451    1.0         0.419101   -0.046185  \n",
            "84081    0.0         0.528072    0.093749  \n",
            "72725    1.0        -0.852230   -1.095694  \n",
            "3797     1.0        -0.077324   -0.465989  \n",
            "76504    1.0        -0.053108   -0.349377  \n",
            "21272    1.0         0.273806   -0.092830  \n",
            "17422    0.0        -1.191252    1.633029  \n",
            "68870    0.0        -1.191252   -1.328918  \n",
            "13620    1.0         0.007432   -0.326054  \n",
            "28784    0.0         2.041561    1.586384  \n",
            "47535    1.0        -1.191252   -1.328918  \n",
            "28782    1.0         2.235288    1.772963  \n",
            "100757   0.0         1.242439    0.840067  \n",
            "58137    1.0         1.472489    1.143258  \n",
            "13625    0.0        -0.295266   -0.605923  \n",
            "29       0.0         0.310130   -0.046185  \n",
            "58149    1.0         0.879202    0.560198  \n",
            "47569    0.0        -0.053108   -0.396022  \n",
            "90584    1.0        -0.936986   -1.188984  \n",
            "42       1.0        -0.597964   -0.909115  \n",
            "90556    1.0        -0.028892   -0.256087  \n",
            "61339    1.0        -0.634288   -0.909115  \n",
            "76508    0.0        -0.210511   -0.442666  \n",
            "104589   1.0        -0.476885   -0.652568  \n",
            "90580    0.0        -0.791691   -1.002404  \n",
            "50713    1.0        -0.706935   -0.955759  \n",
            "72690    0.0         0.685475    0.257006  \n",
            "94431    0.0         0.285914   -0.162797  \n",
            "40331    0.0        -0.041000   -0.396022  \n",
            "44       1.0        -0.719043   -1.002404  \n",
            "11508    0.0        -1.191252    0.047104  \n",
            "84052    0.0        -1.191252    2.892439  \n",
            "90579    0.0        -0.767475   -0.979082  \n",
            "11516    0.0        -0.162079   -0.512634  \n",
            "76476    1.0        -1.191252    1.423127  \n",
            "7766     1.0         0.406993   -0.046185  \n",
            "80159    0.0         0.092187   -0.209442  \n",
            "21280    0.0        -0.210511   -0.512634  \n",
            "17446    0.0         0.879202    0.490230  \n",
            "80137    1.0        -1.191252    0.910034  \n",
            "90575    1.0        -0.682719   -0.885792  \n",
            "3767     1.0         2.344259    1.912898  \n",
            "Data is ready!\n",
            "Train shape: (1015, 14), Validation shape: (217, 14), Test shape: (218, 14)\n"
          ]
        }
      ],
      "source": [
        "#preserve original data, work on copies\n",
        "games_copy = games.copy()\n",
        "#games_copy = games_copy.sample(n=100, random_state=42)################## TODO: REMOVE\n",
        "team_stats_copy = team_stats.copy()\n",
        "player_stats_copy = 0 #player_stats.copy()\n",
        "\n",
        "print(\"Preprocessing data...\")\n",
        "data = preprocess_data(games_copy, team_stats_copy, player_stats_copy)\n",
        "\n",
        "print(\"Preparing data for Tabular Transformer...\")\n",
        "X_train, X_val, X_test, y_train, y_val, y_test = prepare_data_for_transformer(data)\n",
        "\n",
        "print(\"Data is ready!\")\n",
        "print(f\"Train shape: {X_train.shape}, Validation shape: {X_val.shape}, Test shape: {X_test.shape}\")\n"
      ]
    },
    {
      "cell_type": "code",
      "execution_count": 8,
      "metadata": {
        "colab": {
          "base_uri": "https://localhost:8080/",
          "height": 1000,
          "referenced_widgets": [
            "c9e685556c3444d683127c9b5038fcb6",
            "200fbd97b6f542b0ade2dc3ea76e88b2",
            "54734a407f8e4337b3e147c38eb5fb3b",
            "10d5541254124bb99a55773c4d2c6878",
            "e7a148e8db754c51b230e4e0cac4f1fd",
            "e786b038d07547aa8ff524b47fb4d511",
            "7996900749144962af6190f93a92eaad",
            "23c4db99d0624bad8d7af0fcc4af8642",
            "5c9710c3e8494d74b7695104a05ba77b",
            "18cd504307cd4aa6bdf77abf16729e73",
            "46a7b30eaff14a7c9972ad19617a41bb",
            "d43aea2a51aa4230a68bbbf1554156fb",
            "8923c0787f994be6bb1e281dfb724528",
            "fe8c5f6d334f464d956ad7c0bfddd257",
            "be4535039f5e4eb9961fd4db4d876d64",
            "2141b41fc4d44196a26e05736974e372",
            "964e891a76c340e9a2f531dacbe0043e",
            "36be741f8e544716a00d18da07ed2f02",
            "d262887cc9cf4ae980d6f80328bd1855",
            "1bd6ce1b70284714a980efbdb77ae34e",
            "cfeeb50ca68e44eca744cbb3000251cd",
            "bae0fd66ec684d96a217f443b6ebc09d",
            "6878f267032446f9b0fe31959ab8a79e",
            "7368bda2df024de386c98a5650eb88ee",
            "3c0f56f4a3604002ab0e4ad93d555dad",
            "c56416c9ab41467aa548321a2a958692",
            "2e0a0ef02bf34ac186a95061e54a94ed",
            "3c64ddab7a1b42908956d2d0d5780dde",
            "66628c0ddc114b55a0722f699e2c8f20",
            "d4512c7b5e8f4584b7c95cc9633d74bf",
            "06e7ce72316349adb85de04c90aebd19",
            "82c0731732534540abf38cdaaa9d2a8f",
            "c4c10972ea074181bfc3fde367689f30",
            "15812e6819d640208f3481767e81c926",
            "32f4d34dda3d4f118f245d25f41f531f",
            "733edc92f747418aa7dc109636020ada",
            "b63f20363bd24c58a236c0a2261fce2f",
            "3959c1955b134351840aec0da0c88941",
            "d80a887e36904bd48d123d59da6b2135",
            "881a3c1671934768ac941c1f9a438f20",
            "cc48e37a65fa49d5bb1cbc920252fdae",
            "667d2d1865c34a8a81d9d2a31ec947b9"
          ]
        },
        "id": "yqUNhEntnI_3",
        "outputId": "2807f9d1-c08c-43f2-c2bd-dc2dfef520eb"
      },
      "outputs": [
        {
          "output_type": "stream",
          "name": "stdout",
          "text": [
            "Requirement already satisfied: optuna in /usr/local/lib/python3.11/dist-packages (4.2.0)\n",
            "Requirement already satisfied: pytorch-tabular in /usr/local/lib/python3.11/dist-packages (1.1.1)\n",
            "Requirement already satisfied: alembic>=1.5.0 in /usr/local/lib/python3.11/dist-packages (from optuna) (1.14.1)\n",
            "Requirement already satisfied: colorlog in /usr/local/lib/python3.11/dist-packages (from optuna) (6.9.0)\n",
            "Requirement already satisfied: numpy in /usr/local/lib/python3.11/dist-packages (from optuna) (1.26.4)\n",
            "Requirement already satisfied: packaging>=20.0 in /usr/local/lib/python3.11/dist-packages (from optuna) (24.2)\n",
            "Requirement already satisfied: sqlalchemy>=1.4.2 in /usr/local/lib/python3.11/dist-packages (from optuna) (2.0.37)\n",
            "Requirement already satisfied: tqdm in /usr/local/lib/python3.11/dist-packages (from optuna) (4.67.1)\n",
            "Requirement already satisfied: PyYAML in /usr/local/lib/python3.11/dist-packages (from optuna) (6.0.2)\n",
            "Requirement already satisfied: torch>=1.11.0 in /usr/local/lib/python3.11/dist-packages (from pytorch-tabular) (2.5.1+cu124)\n",
            "Requirement already satisfied: pandas>=1.1.5 in /usr/local/lib/python3.11/dist-packages (from pytorch-tabular) (2.2.2)\n",
            "Requirement already satisfied: scikit-learn>=1.3.0 in /usr/local/lib/python3.11/dist-packages (from pytorch-tabular) (1.6.1)\n",
            "Requirement already satisfied: pytorch-lightning<2.5.0,>=2.0.0 in /usr/local/lib/python3.11/dist-packages (from pytorch-tabular) (2.4.0)\n",
            "Requirement already satisfied: omegaconf>=2.3.0 in /usr/local/lib/python3.11/dist-packages (from pytorch-tabular) (2.3.0)\n",
            "Requirement already satisfied: torchmetrics<1.6.0,>=0.10.0 in /usr/local/lib/python3.11/dist-packages (from pytorch-tabular) (1.5.2)\n",
            "Requirement already satisfied: tensorboard!=2.5.0,>2.2.0 in /usr/local/lib/python3.11/dist-packages (from pytorch-tabular) (2.18.0)\n",
            "Requirement already satisfied: protobuf<5.29.0,>=3.20.0 in /usr/local/lib/python3.11/dist-packages (from pytorch-tabular) (4.25.6)\n",
            "Requirement already satisfied: pytorch-tabnet==4.1 in /usr/local/lib/python3.11/dist-packages (from pytorch-tabular) (4.1.0)\n",
            "Requirement already satisfied: matplotlib>3.1 in /usr/local/lib/python3.11/dist-packages (from pytorch-tabular) (3.10.0)\n",
            "Requirement already satisfied: ipywidgets in /usr/local/lib/python3.11/dist-packages (from pytorch-tabular) (7.7.1)\n",
            "Requirement already satisfied: einops<0.8.0,>=0.6.0 in /usr/local/lib/python3.11/dist-packages (from pytorch-tabular) (0.7.0)\n",
            "Requirement already satisfied: rich>=11.0.0 in /usr/local/lib/python3.11/dist-packages (from pytorch-tabular) (13.9.4)\n",
            "Requirement already satisfied: scipy>1.4 in /usr/local/lib/python3.11/dist-packages (from pytorch-tabnet==4.1->pytorch-tabular) (1.13.1)\n",
            "Requirement already satisfied: Mako in /usr/local/lib/python3.11/dist-packages (from alembic>=1.5.0->optuna) (1.3.8)\n",
            "Requirement already satisfied: typing-extensions>=4 in /usr/local/lib/python3.11/dist-packages (from alembic>=1.5.0->optuna) (4.12.2)\n",
            "Requirement already satisfied: contourpy>=1.0.1 in /usr/local/lib/python3.11/dist-packages (from matplotlib>3.1->pytorch-tabular) (1.3.1)\n",
            "Requirement already satisfied: cycler>=0.10 in /usr/local/lib/python3.11/dist-packages (from matplotlib>3.1->pytorch-tabular) (0.12.1)\n",
            "Requirement already satisfied: fonttools>=4.22.0 in /usr/local/lib/python3.11/dist-packages (from matplotlib>3.1->pytorch-tabular) (4.55.7)\n",
            "Requirement already satisfied: kiwisolver>=1.3.1 in /usr/local/lib/python3.11/dist-packages (from matplotlib>3.1->pytorch-tabular) (1.4.8)\n",
            "Requirement already satisfied: pillow>=8 in /usr/local/lib/python3.11/dist-packages (from matplotlib>3.1->pytorch-tabular) (11.1.0)\n",
            "Requirement already satisfied: pyparsing>=2.3.1 in /usr/local/lib/python3.11/dist-packages (from matplotlib>3.1->pytorch-tabular) (3.2.1)\n",
            "Requirement already satisfied: python-dateutil>=2.7 in /usr/local/lib/python3.11/dist-packages (from matplotlib>3.1->pytorch-tabular) (2.8.2)\n",
            "Requirement already satisfied: antlr4-python3-runtime==4.9.* in /usr/local/lib/python3.11/dist-packages (from omegaconf>=2.3.0->pytorch-tabular) (4.9.3)\n",
            "Requirement already satisfied: pytz>=2020.1 in /usr/local/lib/python3.11/dist-packages (from pandas>=1.1.5->pytorch-tabular) (2024.2)\n",
            "Requirement already satisfied: tzdata>=2022.7 in /usr/local/lib/python3.11/dist-packages (from pandas>=1.1.5->pytorch-tabular) (2025.1)\n",
            "Requirement already satisfied: fsspec>=2022.5.0 in /usr/local/lib/python3.11/dist-packages (from fsspec[http]>=2022.5.0->pytorch-lightning<2.5.0,>=2.0.0->pytorch-tabular) (2024.10.0)\n",
            "Requirement already satisfied: lightning-utilities>=0.10.0 in /usr/local/lib/python3.11/dist-packages (from pytorch-lightning<2.5.0,>=2.0.0->pytorch-tabular) (0.12.0)\n",
            "Requirement already satisfied: markdown-it-py>=2.2.0 in /usr/local/lib/python3.11/dist-packages (from rich>=11.0.0->pytorch-tabular) (3.0.0)\n",
            "Requirement already satisfied: pygments<3.0.0,>=2.13.0 in /usr/local/lib/python3.11/dist-packages (from rich>=11.0.0->pytorch-tabular) (2.18.0)\n",
            "Requirement already satisfied: joblib>=1.2.0 in /usr/local/lib/python3.11/dist-packages (from scikit-learn>=1.3.0->pytorch-tabular) (1.4.2)\n",
            "Requirement already satisfied: threadpoolctl>=3.1.0 in /usr/local/lib/python3.11/dist-packages (from scikit-learn>=1.3.0->pytorch-tabular) (3.5.0)\n",
            "Requirement already satisfied: greenlet!=0.4.17 in /usr/local/lib/python3.11/dist-packages (from sqlalchemy>=1.4.2->optuna) (3.1.1)\n",
            "Requirement already satisfied: absl-py>=0.4 in /usr/local/lib/python3.11/dist-packages (from tensorboard!=2.5.0,>2.2.0->pytorch-tabular) (1.4.0)\n",
            "Requirement already satisfied: grpcio>=1.48.2 in /usr/local/lib/python3.11/dist-packages (from tensorboard!=2.5.0,>2.2.0->pytorch-tabular) (1.70.0)\n",
            "Requirement already satisfied: markdown>=2.6.8 in /usr/local/lib/python3.11/dist-packages (from tensorboard!=2.5.0,>2.2.0->pytorch-tabular) (3.7)\n",
            "Requirement already satisfied: setuptools>=41.0.0 in /usr/local/lib/python3.11/dist-packages (from tensorboard!=2.5.0,>2.2.0->pytorch-tabular) (75.1.0)\n",
            "Requirement already satisfied: six>1.9 in /usr/local/lib/python3.11/dist-packages (from tensorboard!=2.5.0,>2.2.0->pytorch-tabular) (1.17.0)\n",
            "Requirement already satisfied: tensorboard-data-server<0.8.0,>=0.7.0 in /usr/local/lib/python3.11/dist-packages (from tensorboard!=2.5.0,>2.2.0->pytorch-tabular) (0.7.2)\n",
            "Requirement already satisfied: werkzeug>=1.0.1 in /usr/local/lib/python3.11/dist-packages (from tensorboard!=2.5.0,>2.2.0->pytorch-tabular) (3.1.3)\n",
            "Requirement already satisfied: filelock in /usr/local/lib/python3.11/dist-packages (from torch>=1.11.0->pytorch-tabular) (3.17.0)\n",
            "Requirement already satisfied: networkx in /usr/local/lib/python3.11/dist-packages (from torch>=1.11.0->pytorch-tabular) (3.4.2)\n",
            "Requirement already satisfied: jinja2 in /usr/local/lib/python3.11/dist-packages (from torch>=1.11.0->pytorch-tabular) (3.1.5)\n",
            "Requirement already satisfied: nvidia-cuda-nvrtc-cu12==12.4.127 in /usr/local/lib/python3.11/dist-packages (from torch>=1.11.0->pytorch-tabular) (12.4.127)\n",
            "Requirement already satisfied: nvidia-cuda-runtime-cu12==12.4.127 in /usr/local/lib/python3.11/dist-packages (from torch>=1.11.0->pytorch-tabular) (12.4.127)\n",
            "Requirement already satisfied: nvidia-cuda-cupti-cu12==12.4.127 in /usr/local/lib/python3.11/dist-packages (from torch>=1.11.0->pytorch-tabular) (12.4.127)\n",
            "Requirement already satisfied: nvidia-cudnn-cu12==9.1.0.70 in /usr/local/lib/python3.11/dist-packages (from torch>=1.11.0->pytorch-tabular) (9.1.0.70)\n",
            "Requirement already satisfied: nvidia-cublas-cu12==12.4.5.8 in /usr/local/lib/python3.11/dist-packages (from torch>=1.11.0->pytorch-tabular) (12.4.5.8)\n",
            "Requirement already satisfied: nvidia-cufft-cu12==11.2.1.3 in /usr/local/lib/python3.11/dist-packages (from torch>=1.11.0->pytorch-tabular) (11.2.1.3)\n",
            "Requirement already satisfied: nvidia-curand-cu12==10.3.5.147 in /usr/local/lib/python3.11/dist-packages (from torch>=1.11.0->pytorch-tabular) (10.3.5.147)\n",
            "Requirement already satisfied: nvidia-cusolver-cu12==11.6.1.9 in /usr/local/lib/python3.11/dist-packages (from torch>=1.11.0->pytorch-tabular) (11.6.1.9)\n",
            "Requirement already satisfied: nvidia-cusparse-cu12==12.3.1.170 in /usr/local/lib/python3.11/dist-packages (from torch>=1.11.0->pytorch-tabular) (12.3.1.170)\n",
            "Requirement already satisfied: nvidia-nccl-cu12==2.21.5 in /usr/local/lib/python3.11/dist-packages (from torch>=1.11.0->pytorch-tabular) (2.21.5)\n",
            "Requirement already satisfied: nvidia-nvtx-cu12==12.4.127 in /usr/local/lib/python3.11/dist-packages (from torch>=1.11.0->pytorch-tabular) (12.4.127)\n",
            "Requirement already satisfied: nvidia-nvjitlink-cu12==12.4.127 in /usr/local/lib/python3.11/dist-packages (from torch>=1.11.0->pytorch-tabular) (12.4.127)\n",
            "Requirement already satisfied: triton==3.1.0 in /usr/local/lib/python3.11/dist-packages (from torch>=1.11.0->pytorch-tabular) (3.1.0)\n",
            "Requirement already satisfied: sympy==1.13.1 in /usr/local/lib/python3.11/dist-packages (from torch>=1.11.0->pytorch-tabular) (1.13.1)\n",
            "Requirement already satisfied: mpmath<1.4,>=1.1.0 in /usr/local/lib/python3.11/dist-packages (from sympy==1.13.1->torch>=1.11.0->pytorch-tabular) (1.3.0)\n",
            "Requirement already satisfied: ipykernel>=4.5.1 in /usr/local/lib/python3.11/dist-packages (from ipywidgets->pytorch-tabular) (5.5.6)\n",
            "Requirement already satisfied: ipython-genutils~=0.2.0 in /usr/local/lib/python3.11/dist-packages (from ipywidgets->pytorch-tabular) (0.2.0)\n",
            "Requirement already satisfied: traitlets>=4.3.1 in /usr/local/lib/python3.11/dist-packages (from ipywidgets->pytorch-tabular) (5.7.1)\n",
            "Requirement already satisfied: widgetsnbextension~=3.6.0 in /usr/local/lib/python3.11/dist-packages (from ipywidgets->pytorch-tabular) (3.6.10)\n",
            "Requirement already satisfied: ipython>=4.0.0 in /usr/local/lib/python3.11/dist-packages (from ipywidgets->pytorch-tabular) (7.34.0)\n",
            "Requirement already satisfied: jupyterlab-widgets>=1.0.0 in /usr/local/lib/python3.11/dist-packages (from ipywidgets->pytorch-tabular) (3.0.13)\n",
            "Requirement already satisfied: aiohttp!=4.0.0a0,!=4.0.0a1 in /usr/local/lib/python3.11/dist-packages (from fsspec[http]>=2022.5.0->pytorch-lightning<2.5.0,>=2.0.0->pytorch-tabular) (3.11.11)\n",
            "Requirement already satisfied: jupyter-client in /usr/local/lib/python3.11/dist-packages (from ipykernel>=4.5.1->ipywidgets->pytorch-tabular) (6.1.12)\n",
            "Requirement already satisfied: tornado>=4.2 in /usr/local/lib/python3.11/dist-packages (from ipykernel>=4.5.1->ipywidgets->pytorch-tabular) (6.4.2)\n",
            "Requirement already satisfied: jedi>=0.16 in /usr/local/lib/python3.11/dist-packages (from ipython>=4.0.0->ipywidgets->pytorch-tabular) (0.19.2)\n",
            "Requirement already satisfied: decorator in /usr/local/lib/python3.11/dist-packages (from ipython>=4.0.0->ipywidgets->pytorch-tabular) (4.4.2)\n",
            "Requirement already satisfied: pickleshare in /usr/local/lib/python3.11/dist-packages (from ipython>=4.0.0->ipywidgets->pytorch-tabular) (0.7.5)\n",
            "Requirement already satisfied: prompt-toolkit!=3.0.0,!=3.0.1,<3.1.0,>=2.0.0 in /usr/local/lib/python3.11/dist-packages (from ipython>=4.0.0->ipywidgets->pytorch-tabular) (3.0.50)\n",
            "Requirement already satisfied: backcall in /usr/local/lib/python3.11/dist-packages (from ipython>=4.0.0->ipywidgets->pytorch-tabular) (0.2.0)\n",
            "Requirement already satisfied: matplotlib-inline in /usr/local/lib/python3.11/dist-packages (from ipython>=4.0.0->ipywidgets->pytorch-tabular) (0.1.7)\n",
            "Requirement already satisfied: pexpect>4.3 in /usr/local/lib/python3.11/dist-packages (from ipython>=4.0.0->ipywidgets->pytorch-tabular) (4.9.0)\n",
            "Requirement already satisfied: mdurl~=0.1 in /usr/local/lib/python3.11/dist-packages (from markdown-it-py>=2.2.0->rich>=11.0.0->pytorch-tabular) (0.1.2)\n",
            "Requirement already satisfied: MarkupSafe>=2.1.1 in /usr/local/lib/python3.11/dist-packages (from werkzeug>=1.0.1->tensorboard!=2.5.0,>2.2.0->pytorch-tabular) (3.0.2)\n",
            "Requirement already satisfied: notebook>=4.4.1 in /usr/local/lib/python3.11/dist-packages (from widgetsnbextension~=3.6.0->ipywidgets->pytorch-tabular) (6.5.5)\n",
            "Requirement already satisfied: aiohappyeyeballs>=2.3.0 in /usr/local/lib/python3.11/dist-packages (from aiohttp!=4.0.0a0,!=4.0.0a1->fsspec[http]>=2022.5.0->pytorch-lightning<2.5.0,>=2.0.0->pytorch-tabular) (2.4.4)\n",
            "Requirement already satisfied: aiosignal>=1.1.2 in /usr/local/lib/python3.11/dist-packages (from aiohttp!=4.0.0a0,!=4.0.0a1->fsspec[http]>=2022.5.0->pytorch-lightning<2.5.0,>=2.0.0->pytorch-tabular) (1.3.2)\n",
            "Requirement already satisfied: attrs>=17.3.0 in /usr/local/lib/python3.11/dist-packages (from aiohttp!=4.0.0a0,!=4.0.0a1->fsspec[http]>=2022.5.0->pytorch-lightning<2.5.0,>=2.0.0->pytorch-tabular) (25.1.0)\n",
            "Requirement already satisfied: frozenlist>=1.1.1 in /usr/local/lib/python3.11/dist-packages (from aiohttp!=4.0.0a0,!=4.0.0a1->fsspec[http]>=2022.5.0->pytorch-lightning<2.5.0,>=2.0.0->pytorch-tabular) (1.5.0)\n",
            "Requirement already satisfied: multidict<7.0,>=4.5 in /usr/local/lib/python3.11/dist-packages (from aiohttp!=4.0.0a0,!=4.0.0a1->fsspec[http]>=2022.5.0->pytorch-lightning<2.5.0,>=2.0.0->pytorch-tabular) (6.1.0)\n",
            "Requirement already satisfied: propcache>=0.2.0 in /usr/local/lib/python3.11/dist-packages (from aiohttp!=4.0.0a0,!=4.0.0a1->fsspec[http]>=2022.5.0->pytorch-lightning<2.5.0,>=2.0.0->pytorch-tabular) (0.2.1)\n",
            "Requirement already satisfied: yarl<2.0,>=1.17.0 in /usr/local/lib/python3.11/dist-packages (from aiohttp!=4.0.0a0,!=4.0.0a1->fsspec[http]>=2022.5.0->pytorch-lightning<2.5.0,>=2.0.0->pytorch-tabular) (1.18.3)\n",
            "Requirement already satisfied: parso<0.9.0,>=0.8.4 in /usr/local/lib/python3.11/dist-packages (from jedi>=0.16->ipython>=4.0.0->ipywidgets->pytorch-tabular) (0.8.4)\n",
            "Requirement already satisfied: pyzmq<25,>=17 in /usr/local/lib/python3.11/dist-packages (from notebook>=4.4.1->widgetsnbextension~=3.6.0->ipywidgets->pytorch-tabular) (24.0.1)\n",
            "Requirement already satisfied: argon2-cffi in /usr/local/lib/python3.11/dist-packages (from notebook>=4.4.1->widgetsnbextension~=3.6.0->ipywidgets->pytorch-tabular) (23.1.0)\n",
            "Requirement already satisfied: jupyter-core>=4.6.1 in /usr/local/lib/python3.11/dist-packages (from notebook>=4.4.1->widgetsnbextension~=3.6.0->ipywidgets->pytorch-tabular) (5.7.2)\n",
            "Requirement already satisfied: nbformat in /usr/local/lib/python3.11/dist-packages (from notebook>=4.4.1->widgetsnbextension~=3.6.0->ipywidgets->pytorch-tabular) (5.10.4)\n",
            "Requirement already satisfied: nbconvert>=5 in /usr/local/lib/python3.11/dist-packages (from notebook>=4.4.1->widgetsnbextension~=3.6.0->ipywidgets->pytorch-tabular) (7.16.6)\n",
            "Requirement already satisfied: nest-asyncio>=1.5 in /usr/local/lib/python3.11/dist-packages (from notebook>=4.4.1->widgetsnbextension~=3.6.0->ipywidgets->pytorch-tabular) (1.6.0)\n",
            "Requirement already satisfied: Send2Trash>=1.8.0 in /usr/local/lib/python3.11/dist-packages (from notebook>=4.4.1->widgetsnbextension~=3.6.0->ipywidgets->pytorch-tabular) (1.8.3)\n",
            "Requirement already satisfied: terminado>=0.8.3 in /usr/local/lib/python3.11/dist-packages (from notebook>=4.4.1->widgetsnbextension~=3.6.0->ipywidgets->pytorch-tabular) (0.18.1)\n",
            "Requirement already satisfied: prometheus-client in /usr/local/lib/python3.11/dist-packages (from notebook>=4.4.1->widgetsnbextension~=3.6.0->ipywidgets->pytorch-tabular) (0.21.1)\n",
            "Requirement already satisfied: nbclassic>=0.4.7 in /usr/local/lib/python3.11/dist-packages (from notebook>=4.4.1->widgetsnbextension~=3.6.0->ipywidgets->pytorch-tabular) (1.2.0)\n",
            "Requirement already satisfied: ptyprocess>=0.5 in /usr/local/lib/python3.11/dist-packages (from pexpect>4.3->ipython>=4.0.0->ipywidgets->pytorch-tabular) (0.7.0)\n",
            "Requirement already satisfied: wcwidth in /usr/local/lib/python3.11/dist-packages (from prompt-toolkit!=3.0.0,!=3.0.1,<3.1.0,>=2.0.0->ipython>=4.0.0->ipywidgets->pytorch-tabular) (0.2.13)\n",
            "Requirement already satisfied: platformdirs>=2.5 in /usr/local/lib/python3.11/dist-packages (from jupyter-core>=4.6.1->notebook>=4.4.1->widgetsnbextension~=3.6.0->ipywidgets->pytorch-tabular) (4.3.6)\n",
            "Requirement already satisfied: notebook-shim>=0.2.3 in /usr/local/lib/python3.11/dist-packages (from nbclassic>=0.4.7->notebook>=4.4.1->widgetsnbextension~=3.6.0->ipywidgets->pytorch-tabular) (0.2.4)\n",
            "Requirement already satisfied: beautifulsoup4 in /usr/local/lib/python3.11/dist-packages (from nbconvert>=5->notebook>=4.4.1->widgetsnbextension~=3.6.0->ipywidgets->pytorch-tabular) (4.12.3)\n",
            "Requirement already satisfied: bleach!=5.0.0 in /usr/local/lib/python3.11/dist-packages (from bleach[css]!=5.0.0->nbconvert>=5->notebook>=4.4.1->widgetsnbextension~=3.6.0->ipywidgets->pytorch-tabular) (6.2.0)\n",
            "Requirement already satisfied: defusedxml in /usr/local/lib/python3.11/dist-packages (from nbconvert>=5->notebook>=4.4.1->widgetsnbextension~=3.6.0->ipywidgets->pytorch-tabular) (0.7.1)\n",
            "Requirement already satisfied: jupyterlab-pygments in /usr/local/lib/python3.11/dist-packages (from nbconvert>=5->notebook>=4.4.1->widgetsnbextension~=3.6.0->ipywidgets->pytorch-tabular) (0.3.0)\n",
            "Requirement already satisfied: mistune<4,>=2.0.3 in /usr/local/lib/python3.11/dist-packages (from nbconvert>=5->notebook>=4.4.1->widgetsnbextension~=3.6.0->ipywidgets->pytorch-tabular) (3.1.1)\n",
            "Requirement already satisfied: nbclient>=0.5.0 in /usr/local/lib/python3.11/dist-packages (from nbconvert>=5->notebook>=4.4.1->widgetsnbextension~=3.6.0->ipywidgets->pytorch-tabular) (0.10.2)\n",
            "Requirement already satisfied: pandocfilters>=1.4.1 in /usr/local/lib/python3.11/dist-packages (from nbconvert>=5->notebook>=4.4.1->widgetsnbextension~=3.6.0->ipywidgets->pytorch-tabular) (1.5.1)\n",
            "Requirement already satisfied: fastjsonschema>=2.15 in /usr/local/lib/python3.11/dist-packages (from nbformat->notebook>=4.4.1->widgetsnbextension~=3.6.0->ipywidgets->pytorch-tabular) (2.21.1)\n",
            "Requirement already satisfied: jsonschema>=2.6 in /usr/local/lib/python3.11/dist-packages (from nbformat->notebook>=4.4.1->widgetsnbextension~=3.6.0->ipywidgets->pytorch-tabular) (4.23.0)\n",
            "Requirement already satisfied: idna>=2.0 in /usr/local/lib/python3.11/dist-packages (from yarl<2.0,>=1.17.0->aiohttp!=4.0.0a0,!=4.0.0a1->fsspec[http]>=2022.5.0->pytorch-lightning<2.5.0,>=2.0.0->pytorch-tabular) (3.10)\n",
            "Requirement already satisfied: argon2-cffi-bindings in /usr/local/lib/python3.11/dist-packages (from argon2-cffi->notebook>=4.4.1->widgetsnbextension~=3.6.0->ipywidgets->pytorch-tabular) (21.2.0)\n",
            "Requirement already satisfied: webencodings in /usr/local/lib/python3.11/dist-packages (from bleach!=5.0.0->bleach[css]!=5.0.0->nbconvert>=5->notebook>=4.4.1->widgetsnbextension~=3.6.0->ipywidgets->pytorch-tabular) (0.5.1)\n",
            "Requirement already satisfied: tinycss2<1.5,>=1.1.0 in /usr/local/lib/python3.11/dist-packages (from bleach[css]!=5.0.0->nbconvert>=5->notebook>=4.4.1->widgetsnbextension~=3.6.0->ipywidgets->pytorch-tabular) (1.4.0)\n",
            "Requirement already satisfied: jsonschema-specifications>=2023.03.6 in /usr/local/lib/python3.11/dist-packages (from jsonschema>=2.6->nbformat->notebook>=4.4.1->widgetsnbextension~=3.6.0->ipywidgets->pytorch-tabular) (2024.10.1)\n",
            "Requirement already satisfied: referencing>=0.28.4 in /usr/local/lib/python3.11/dist-packages (from jsonschema>=2.6->nbformat->notebook>=4.4.1->widgetsnbextension~=3.6.0->ipywidgets->pytorch-tabular) (0.36.2)\n",
            "Requirement already satisfied: rpds-py>=0.7.1 in /usr/local/lib/python3.11/dist-packages (from jsonschema>=2.6->nbformat->notebook>=4.4.1->widgetsnbextension~=3.6.0->ipywidgets->pytorch-tabular) (0.22.3)\n",
            "Requirement already satisfied: jupyter-server<3,>=1.8 in /usr/local/lib/python3.11/dist-packages (from notebook-shim>=0.2.3->nbclassic>=0.4.7->notebook>=4.4.1->widgetsnbextension~=3.6.0->ipywidgets->pytorch-tabular) (1.24.0)\n",
            "Requirement already satisfied: cffi>=1.0.1 in /usr/local/lib/python3.11/dist-packages (from argon2-cffi-bindings->argon2-cffi->notebook>=4.4.1->widgetsnbextension~=3.6.0->ipywidgets->pytorch-tabular) (1.17.1)\n",
            "Requirement already satisfied: soupsieve>1.2 in /usr/local/lib/python3.11/dist-packages (from beautifulsoup4->nbconvert>=5->notebook>=4.4.1->widgetsnbextension~=3.6.0->ipywidgets->pytorch-tabular) (2.6)\n",
            "Requirement already satisfied: pycparser in /usr/local/lib/python3.11/dist-packages (from cffi>=1.0.1->argon2-cffi-bindings->argon2-cffi->notebook>=4.4.1->widgetsnbextension~=3.6.0->ipywidgets->pytorch-tabular) (2.22)\n",
            "Requirement already satisfied: anyio<4,>=3.1.0 in /usr/local/lib/python3.11/dist-packages (from jupyter-server<3,>=1.8->notebook-shim>=0.2.3->nbclassic>=0.4.7->notebook>=4.4.1->widgetsnbextension~=3.6.0->ipywidgets->pytorch-tabular) (3.7.1)\n",
            "Requirement already satisfied: websocket-client in /usr/local/lib/python3.11/dist-packages (from jupyter-server<3,>=1.8->notebook-shim>=0.2.3->nbclassic>=0.4.7->notebook>=4.4.1->widgetsnbextension~=3.6.0->ipywidgets->pytorch-tabular) (1.8.0)\n",
            "Requirement already satisfied: sniffio>=1.1 in /usr/local/lib/python3.11/dist-packages (from anyio<4,>=3.1.0->jupyter-server<3,>=1.8->notebook-shim>=0.2.3->nbclassic>=0.4.7->notebook>=4.4.1->widgetsnbextension~=3.6.0->ipywidgets->pytorch-tabular) (1.3.1)\n"
          ]
        },
        {
          "output_type": "stream",
          "name": "stderr",
          "text": [
            "[I 2025-02-03 23:26:12,650] A new study created in memory with name: no-name-1cf69d1c-9ef9-462a-9729-d820b07b20c9\n",
            "<ipython-input-8-dc4fa9dcc6b5>:20: FutureWarning:\n",
            "\n",
            "suggest_loguniform has been deprecated in v3.0.0. This feature will be removed in v6.0.0. See https://github.com/optuna/optuna/releases/tag/v3.0.0. Use suggest_float(..., log=True) instead.\n",
            "\n",
            "<ipython-input-8-dc4fa9dcc6b5>:21: FutureWarning:\n",
            "\n",
            "suggest_uniform has been deprecated in v3.0.0. This feature will be removed in v6.0.0. See https://github.com/optuna/optuna/releases/tag/v3.0.0. Use suggest_float instead.\n",
            "\n",
            "INFO:pytorch_tabular.tabular_model:Experiment Tracking is turned off\n",
            "INFO:lightning_fabric.utilities.seed:Seed set to 42\n",
            "INFO:pytorch_tabular.tabular_model:Preparing the DataLoaders\n",
            "INFO:pytorch_tabular.tabular_datamodule:Setting up the datamodule for classification task\n",
            "INFO:pytorch_tabular.tabular_model:Preparing the Model: CategoryEmbeddingModel\n",
            "INFO:pytorch_tabular.tabular_model:Preparing the Trainer\n",
            "INFO:pytorch_lightning.utilities.rank_zero:GPU available: True (cuda), used: True\n",
            "INFO:pytorch_lightning.utilities.rank_zero:TPU available: False, using: 0 TPU cores\n",
            "INFO:pytorch_lightning.utilities.rank_zero:HPU available: False, using: 0 HPUs\n",
            "INFO:pytorch_tabular.tabular_model:Training Started\n",
            "/usr/local/lib/python3.11/dist-packages/pytorch_lightning/callbacks/model_checkpoint.py:654: UserWarning:\n",
            "\n",
            "Checkpoint directory /content/saved_models exists and is not empty.\n",
            "\n",
            "INFO:pytorch_lightning.accelerators.cuda:LOCAL_RANK: 0 - CUDA_VISIBLE_DEVICES: [0]\n"
          ]
        },
        {
          "output_type": "display_data",
          "data": {
            "text/plain": [
              "┏━━━┳━━━━━━━━━━━━━━━━━━┳━━━━━━━━━━━━━━━━━━━━━━━━━━━┳━━━━━━━━┳━━━━━━━┓\n",
              "┃\u001b[1;35m \u001b[0m\u001b[1;35m \u001b[0m\u001b[1;35m \u001b[0m┃\u001b[1;35m \u001b[0m\u001b[1;35mName            \u001b[0m\u001b[1;35m \u001b[0m┃\u001b[1;35m \u001b[0m\u001b[1;35mType                     \u001b[0m\u001b[1;35m \u001b[0m┃\u001b[1;35m \u001b[0m\u001b[1;35mParams\u001b[0m\u001b[1;35m \u001b[0m┃\u001b[1;35m \u001b[0m\u001b[1;35mMode \u001b[0m\u001b[1;35m \u001b[0m┃\n",
              "┡━━━╇━━━━━━━━━━━━━━━━━━╇━━━━━━━━━━━━━━━━━━━━━━━━━━━╇━━━━━━━━╇━━━━━━━┩\n",
              "│\u001b[2m \u001b[0m\u001b[2m0\u001b[0m\u001b[2m \u001b[0m│ _backbone        │ CategoryEmbeddingBackbone │  2.5 K │ train │\n",
              "│\u001b[2m \u001b[0m\u001b[2m1\u001b[0m\u001b[2m \u001b[0m│ _embedding_layer │ Embedding1dLayer          │     26 │ train │\n",
              "│\u001b[2m \u001b[0m\u001b[2m2\u001b[0m\u001b[2m \u001b[0m│ head             │ LinearHead                │    362 │ train │\n",
              "│\u001b[2m \u001b[0m\u001b[2m3\u001b[0m\u001b[2m \u001b[0m│ loss             │ CrossEntropyLoss          │      0 │ train │\n",
              "└───┴──────────────────┴───────────────────────────┴────────┴───────┘\n"
            ],
            "text/html": [
              "<pre style=\"white-space:pre;overflow-x:auto;line-height:normal;font-family:Menlo,'DejaVu Sans Mono',consolas,'Courier New',monospace\">┏━━━┳━━━━━━━━━━━━━━━━━━┳━━━━━━━━━━━━━━━━━━━━━━━━━━━┳━━━━━━━━┳━━━━━━━┓\n",
              "┃<span style=\"color: #800080; text-decoration-color: #800080; font-weight: bold\">   </span>┃<span style=\"color: #800080; text-decoration-color: #800080; font-weight: bold\"> Name             </span>┃<span style=\"color: #800080; text-decoration-color: #800080; font-weight: bold\"> Type                      </span>┃<span style=\"color: #800080; text-decoration-color: #800080; font-weight: bold\"> Params </span>┃<span style=\"color: #800080; text-decoration-color: #800080; font-weight: bold\"> Mode  </span>┃\n",
              "┡━━━╇━━━━━━━━━━━━━━━━━━╇━━━━━━━━━━━━━━━━━━━━━━━━━━━╇━━━━━━━━╇━━━━━━━┩\n",
              "│<span style=\"color: #7f7f7f; text-decoration-color: #7f7f7f\"> 0 </span>│ _backbone        │ CategoryEmbeddingBackbone │  2.5 K │ train │\n",
              "│<span style=\"color: #7f7f7f; text-decoration-color: #7f7f7f\"> 1 </span>│ _embedding_layer │ Embedding1dLayer          │     26 │ train │\n",
              "│<span style=\"color: #7f7f7f; text-decoration-color: #7f7f7f\"> 2 </span>│ head             │ LinearHead                │    362 │ train │\n",
              "│<span style=\"color: #7f7f7f; text-decoration-color: #7f7f7f\"> 3 </span>│ loss             │ CrossEntropyLoss          │      0 │ train │\n",
              "└───┴──────────────────┴───────────────────────────┴────────┴───────┘\n",
              "</pre>\n"
            ]
          },
          "metadata": {}
        },
        {
          "output_type": "display_data",
          "data": {
            "text/plain": [
              "\u001b[1mTrainable params\u001b[0m: 2.9 K                                                                                            \n",
              "\u001b[1mNon-trainable params\u001b[0m: 0                                                                                            \n",
              "\u001b[1mTotal params\u001b[0m: 2.9 K                                                                                                \n",
              "\u001b[1mTotal estimated model params size (MB)\u001b[0m: 0                                                                          \n",
              "\u001b[1mModules in train mode\u001b[0m: 13                                                                                          \n",
              "\u001b[1mModules in eval mode\u001b[0m: 0                                                                                            \n"
            ],
            "text/html": [
              "<pre style=\"white-space:pre;overflow-x:auto;line-height:normal;font-family:Menlo,'DejaVu Sans Mono',consolas,'Courier New',monospace\"><span style=\"font-weight: bold\">Trainable params</span>: 2.9 K                                                                                            \n",
              "<span style=\"font-weight: bold\">Non-trainable params</span>: 0                                                                                            \n",
              "<span style=\"font-weight: bold\">Total params</span>: 2.9 K                                                                                                \n",
              "<span style=\"font-weight: bold\">Total estimated model params size (MB)</span>: 0                                                                          \n",
              "<span style=\"font-weight: bold\">Modules in train mode</span>: 13                                                                                          \n",
              "<span style=\"font-weight: bold\">Modules in eval mode</span>: 0                                                                                            \n",
              "</pre>\n"
            ]
          },
          "metadata": {}
        },
        {
          "output_type": "display_data",
          "data": {
            "text/plain": [
              "Output()"
            ],
            "application/vnd.jupyter.widget-view+json": {
              "version_major": 2,
              "version_minor": 0,
              "model_id": "c9e685556c3444d683127c9b5038fcb6"
            }
          },
          "metadata": {}
        },
        {
          "output_type": "display_data",
          "data": {
            "text/plain": [
              "/usr/local/lib/python3.11/dist-packages/pytorch_lightning/loops/fit_loop.py:298: PossibleUserWarning:\n",
              "\n",
              "The number of training batches (8) is smaller than the logging interval Trainer(log_every_n_steps=50). Set a lower \n",
              "value for log_every_n_steps if you want to see logs for the training epoch.\n",
              "\n"
            ],
            "text/html": [
              "<pre style=\"white-space:pre;overflow-x:auto;line-height:normal;font-family:Menlo,'DejaVu Sans Mono',consolas,'Courier New',monospace\">/usr/local/lib/python3.11/dist-packages/pytorch_lightning/loops/fit_loop.py:298: PossibleUserWarning:\n",
              "\n",
              "The number of training batches (8) is smaller than the logging interval Trainer(log_every_n_steps=50). Set a lower \n",
              "value for log_every_n_steps if you want to see logs for the training epoch.\n",
              "\n",
              "</pre>\n"
            ]
          },
          "metadata": {}
        },
        {
          "output_type": "display_data",
          "data": {
            "text/plain": [],
            "text/html": [
              "<pre style=\"white-space:pre;overflow-x:auto;line-height:normal;font-family:Menlo,'DejaVu Sans Mono',consolas,'Courier New',monospace\"></pre>\n"
            ]
          },
          "metadata": {}
        },
        {
          "output_type": "stream",
          "name": "stderr",
          "text": [
            "INFO:pytorch_tabular.tabular_model:Training the model completed\n",
            "INFO:pytorch_tabular.tabular_model:Loading the best model\n",
            "/usr/local/lib/python3.11/dist-packages/pytorch_tabular/utils/python_utils.py:85: FutureWarning:\n",
            "\n",
            "You are using `torch.load` with `weights_only=False` (the current default value), which uses the default pickle module implicitly. It is possible to construct malicious pickle data which will execute arbitrary code during unpickling (See https://github.com/pytorch/pytorch/blob/main/SECURITY.md#untrusted-models for more details). In a future release, the default value for `weights_only` will be flipped to `True`. This limits the functions that could be executed during unpickling. Arbitrary objects will no longer be allowed to be loaded via this mode unless they are explicitly allowlisted by the user via `torch.serialization.add_safe_globals`. We recommend you start setting `weights_only=True` for any use case where you don't have full control of the loaded file. Please open an issue on GitHub for any issues related to this experimental feature.\n",
            "\n",
            "[I 2025-02-03 23:26:20,408] Trial 0 finished with value: 0.7142857142857143 and parameters: {'learning_rate': 0.005929527226109474, 'dropout': 0.19841485106125442, 'hidden_layers': 1, 'hidden_dim': 180, 'batch_size': 128}. Best is trial 0 with value: 0.7142857142857143.\n",
            "<ipython-input-8-dc4fa9dcc6b5>:20: FutureWarning:\n",
            "\n",
            "suggest_loguniform has been deprecated in v3.0.0. This feature will be removed in v6.0.0. See https://github.com/optuna/optuna/releases/tag/v3.0.0. Use suggest_float(..., log=True) instead.\n",
            "\n",
            "<ipython-input-8-dc4fa9dcc6b5>:21: FutureWarning:\n",
            "\n",
            "suggest_uniform has been deprecated in v3.0.0. This feature will be removed in v6.0.0. See https://github.com/optuna/optuna/releases/tag/v3.0.0. Use suggest_float instead.\n",
            "\n",
            "INFO:pytorch_tabular.tabular_model:Experiment Tracking is turned off\n",
            "INFO:lightning_fabric.utilities.seed:Seed set to 42\n",
            "INFO:pytorch_tabular.tabular_model:Preparing the DataLoaders\n",
            "INFO:pytorch_tabular.tabular_datamodule:Setting up the datamodule for classification task\n",
            "INFO:pytorch_tabular.tabular_model:Preparing the Model: CategoryEmbeddingModel\n"
          ]
        },
        {
          "output_type": "stream",
          "name": "stdout",
          "text": [
            "Index(['TARGET_0_probability', 'TARGET_1_probability', 'TARGET_prediction'], dtype='object')\n"
          ]
        },
        {
          "output_type": "stream",
          "name": "stderr",
          "text": [
            "INFO:pytorch_tabular.tabular_model:Preparing the Trainer\n",
            "INFO:pytorch_lightning.utilities.rank_zero:GPU available: True (cuda), used: True\n",
            "INFO:pytorch_lightning.utilities.rank_zero:TPU available: False, using: 0 TPU cores\n",
            "INFO:pytorch_lightning.utilities.rank_zero:HPU available: False, using: 0 HPUs\n",
            "INFO:pytorch_tabular.tabular_model:Training Started\n",
            "/usr/local/lib/python3.11/dist-packages/pytorch_lightning/callbacks/model_checkpoint.py:654: UserWarning:\n",
            "\n",
            "Checkpoint directory /content/saved_models exists and is not empty.\n",
            "\n",
            "INFO:pytorch_lightning.accelerators.cuda:LOCAL_RANK: 0 - CUDA_VISIBLE_DEVICES: [0]\n"
          ]
        },
        {
          "output_type": "display_data",
          "data": {
            "text/plain": [
              "┏━━━┳━━━━━━━━━━━━━━━━━━┳━━━━━━━━━━━━━━━━━━━━━━━━━━━┳━━━━━━━━┳━━━━━━━┓\n",
              "┃\u001b[1;35m \u001b[0m\u001b[1;35m \u001b[0m\u001b[1;35m \u001b[0m┃\u001b[1;35m \u001b[0m\u001b[1;35mName            \u001b[0m\u001b[1;35m \u001b[0m┃\u001b[1;35m \u001b[0m\u001b[1;35mType                     \u001b[0m\u001b[1;35m \u001b[0m┃\u001b[1;35m \u001b[0m\u001b[1;35mParams\u001b[0m\u001b[1;35m \u001b[0m┃\u001b[1;35m \u001b[0m\u001b[1;35mMode \u001b[0m\u001b[1;35m \u001b[0m┃\n",
              "┡━━━╇━━━━━━━━━━━━━━━━━━╇━━━━━━━━━━━━━━━━━━━━━━━━━━━╇━━━━━━━━╇━━━━━━━┩\n",
              "│\u001b[2m \u001b[0m\u001b[2m0\u001b[0m\u001b[2m \u001b[0m│ _backbone        │ CategoryEmbeddingBackbone │ 41.4 K │ train │\n",
              "│\u001b[2m \u001b[0m\u001b[2m1\u001b[0m\u001b[2m \u001b[0m│ _embedding_layer │ Embedding1dLayer          │     26 │ train │\n",
              "│\u001b[2m \u001b[0m\u001b[2m2\u001b[0m\u001b[2m \u001b[0m│ head             │ LinearHead                │    282 │ train │\n",
              "│\u001b[2m \u001b[0m\u001b[2m3\u001b[0m\u001b[2m \u001b[0m│ loss             │ CrossEntropyLoss          │      0 │ train │\n",
              "└───┴──────────────────┴───────────────────────────┴────────┴───────┘\n"
            ],
            "text/html": [
              "<pre style=\"white-space:pre;overflow-x:auto;line-height:normal;font-family:Menlo,'DejaVu Sans Mono',consolas,'Courier New',monospace\">┏━━━┳━━━━━━━━━━━━━━━━━━┳━━━━━━━━━━━━━━━━━━━━━━━━━━━┳━━━━━━━━┳━━━━━━━┓\n",
              "┃<span style=\"color: #800080; text-decoration-color: #800080; font-weight: bold\">   </span>┃<span style=\"color: #800080; text-decoration-color: #800080; font-weight: bold\"> Name             </span>┃<span style=\"color: #800080; text-decoration-color: #800080; font-weight: bold\"> Type                      </span>┃<span style=\"color: #800080; text-decoration-color: #800080; font-weight: bold\"> Params </span>┃<span style=\"color: #800080; text-decoration-color: #800080; font-weight: bold\"> Mode  </span>┃\n",
              "┡━━━╇━━━━━━━━━━━━━━━━━━╇━━━━━━━━━━━━━━━━━━━━━━━━━━━╇━━━━━━━━╇━━━━━━━┩\n",
              "│<span style=\"color: #7f7f7f; text-decoration-color: #7f7f7f\"> 0 </span>│ _backbone        │ CategoryEmbeddingBackbone │ 41.4 K │ train │\n",
              "│<span style=\"color: #7f7f7f; text-decoration-color: #7f7f7f\"> 1 </span>│ _embedding_layer │ Embedding1dLayer          │     26 │ train │\n",
              "│<span style=\"color: #7f7f7f; text-decoration-color: #7f7f7f\"> 2 </span>│ head             │ LinearHead                │    282 │ train │\n",
              "│<span style=\"color: #7f7f7f; text-decoration-color: #7f7f7f\"> 3 </span>│ loss             │ CrossEntropyLoss          │      0 │ train │\n",
              "└───┴──────────────────┴───────────────────────────┴────────┴───────┘\n",
              "</pre>\n"
            ]
          },
          "metadata": {}
        },
        {
          "output_type": "display_data",
          "data": {
            "text/plain": [
              "\u001b[1mTrainable params\u001b[0m: 41.7 K                                                                                           \n",
              "\u001b[1mNon-trainable params\u001b[0m: 0                                                                                            \n",
              "\u001b[1mTotal params\u001b[0m: 41.7 K                                                                                               \n",
              "\u001b[1mTotal estimated model params size (MB)\u001b[0m: 0                                                                          \n",
              "\u001b[1mModules in train mode\u001b[0m: 19                                                                                          \n",
              "\u001b[1mModules in eval mode\u001b[0m: 0                                                                                            \n"
            ],
            "text/html": [
              "<pre style=\"white-space:pre;overflow-x:auto;line-height:normal;font-family:Menlo,'DejaVu Sans Mono',consolas,'Courier New',monospace\"><span style=\"font-weight: bold\">Trainable params</span>: 41.7 K                                                                                           \n",
              "<span style=\"font-weight: bold\">Non-trainable params</span>: 0                                                                                            \n",
              "<span style=\"font-weight: bold\">Total params</span>: 41.7 K                                                                                               \n",
              "<span style=\"font-weight: bold\">Total estimated model params size (MB)</span>: 0                                                                          \n",
              "<span style=\"font-weight: bold\">Modules in train mode</span>: 19                                                                                          \n",
              "<span style=\"font-weight: bold\">Modules in eval mode</span>: 0                                                                                            \n",
              "</pre>\n"
            ]
          },
          "metadata": {}
        },
        {
          "output_type": "display_data",
          "data": {
            "text/plain": [
              "Output()"
            ],
            "application/vnd.jupyter.widget-view+json": {
              "version_major": 2,
              "version_minor": 0,
              "model_id": "54734a407f8e4337b3e147c38eb5fb3b"
            }
          },
          "metadata": {}
        },
        {
          "output_type": "display_data",
          "data": {
            "text/plain": [
              "/usr/local/lib/python3.11/dist-packages/pytorch_lightning/loops/fit_loop.py:298: PossibleUserWarning:\n",
              "\n",
              "The number of training batches (32) is smaller than the logging interval Trainer(log_every_n_steps=50). Set a lower\n",
              "value for log_every_n_steps if you want to see logs for the training epoch.\n",
              "\n"
            ],
            "text/html": [
              "<pre style=\"white-space:pre;overflow-x:auto;line-height:normal;font-family:Menlo,'DejaVu Sans Mono',consolas,'Courier New',monospace\">/usr/local/lib/python3.11/dist-packages/pytorch_lightning/loops/fit_loop.py:298: PossibleUserWarning:\n",
              "\n",
              "The number of training batches (32) is smaller than the logging interval Trainer(log_every_n_steps=50). Set a lower\n",
              "value for log_every_n_steps if you want to see logs for the training epoch.\n",
              "\n",
              "</pre>\n"
            ]
          },
          "metadata": {}
        },
        {
          "output_type": "display_data",
          "data": {
            "text/plain": [],
            "text/html": [
              "<pre style=\"white-space:pre;overflow-x:auto;line-height:normal;font-family:Menlo,'DejaVu Sans Mono',consolas,'Courier New',monospace\"></pre>\n"
            ]
          },
          "metadata": {}
        },
        {
          "output_type": "stream",
          "name": "stderr",
          "text": [
            "INFO:pytorch_tabular.tabular_model:Training the model completed\n",
            "INFO:pytorch_tabular.tabular_model:Loading the best model\n",
            "/usr/local/lib/python3.11/dist-packages/pytorch_tabular/utils/python_utils.py:85: FutureWarning:\n",
            "\n",
            "You are using `torch.load` with `weights_only=False` (the current default value), which uses the default pickle module implicitly. It is possible to construct malicious pickle data which will execute arbitrary code during unpickling (See https://github.com/pytorch/pytorch/blob/main/SECURITY.md#untrusted-models for more details). In a future release, the default value for `weights_only` will be flipped to `True`. This limits the functions that could be executed during unpickling. Arbitrary objects will no longer be allowed to be loaded via this mode unless they are explicitly allowlisted by the user via `torch.serialization.add_safe_globals`. We recommend you start setting `weights_only=True` for any use case where you don't have full control of the loaded file. Please open an issue on GitHub for any issues related to this experimental feature.\n",
            "\n",
            "[I 2025-02-03 23:26:32,675] Trial 1 finished with value: 0.7004608294930875 and parameters: {'learning_rate': 0.03962383726486247, 'dropout': 0.17592286867454057, 'hidden_layers': 3, 'hidden_dim': 140, 'batch_size': 32}. Best is trial 0 with value: 0.7142857142857143.\n",
            "<ipython-input-8-dc4fa9dcc6b5>:20: FutureWarning:\n",
            "\n",
            "suggest_loguniform has been deprecated in v3.0.0. This feature will be removed in v6.0.0. See https://github.com/optuna/optuna/releases/tag/v3.0.0. Use suggest_float(..., log=True) instead.\n",
            "\n",
            "<ipython-input-8-dc4fa9dcc6b5>:21: FutureWarning:\n",
            "\n",
            "suggest_uniform has been deprecated in v3.0.0. This feature will be removed in v6.0.0. See https://github.com/optuna/optuna/releases/tag/v3.0.0. Use suggest_float instead.\n",
            "\n",
            "INFO:pytorch_tabular.tabular_model:Experiment Tracking is turned off\n",
            "INFO:lightning_fabric.utilities.seed:Seed set to 42\n",
            "INFO:pytorch_tabular.tabular_model:Preparing the DataLoaders\n",
            "INFO:pytorch_tabular.tabular_datamodule:Setting up the datamodule for classification task\n",
            "INFO:pytorch_tabular.tabular_model:Preparing the Model: CategoryEmbeddingModel\n",
            "INFO:pytorch_tabular.tabular_model:Preparing the Trainer\n"
          ]
        },
        {
          "output_type": "stream",
          "name": "stdout",
          "text": [
            "Index(['TARGET_0_probability', 'TARGET_1_probability', 'TARGET_prediction'], dtype='object')\n"
          ]
        },
        {
          "output_type": "stream",
          "name": "stderr",
          "text": [
            "INFO:pytorch_lightning.utilities.rank_zero:GPU available: True (cuda), used: True\n",
            "INFO:pytorch_lightning.utilities.rank_zero:TPU available: False, using: 0 TPU cores\n",
            "INFO:pytorch_lightning.utilities.rank_zero:HPU available: False, using: 0 HPUs\n",
            "INFO:pytorch_tabular.tabular_model:Training Started\n",
            "/usr/local/lib/python3.11/dist-packages/pytorch_lightning/callbacks/model_checkpoint.py:654: UserWarning:\n",
            "\n",
            "Checkpoint directory /content/saved_models exists and is not empty.\n",
            "\n",
            "INFO:pytorch_lightning.accelerators.cuda:LOCAL_RANK: 0 - CUDA_VISIBLE_DEVICES: [0]\n"
          ]
        },
        {
          "output_type": "display_data",
          "data": {
            "text/plain": [
              "┏━━━┳━━━━━━━━━━━━━━━━━━┳━━━━━━━━━━━━━━━━━━━━━━━━━━━┳━━━━━━━━┳━━━━━━━┓\n",
              "┃\u001b[1;35m \u001b[0m\u001b[1;35m \u001b[0m\u001b[1;35m \u001b[0m┃\u001b[1;35m \u001b[0m\u001b[1;35mName            \u001b[0m\u001b[1;35m \u001b[0m┃\u001b[1;35m \u001b[0m\u001b[1;35mType                     \u001b[0m\u001b[1;35m \u001b[0m┃\u001b[1;35m \u001b[0m\u001b[1;35mParams\u001b[0m\u001b[1;35m \u001b[0m┃\u001b[1;35m \u001b[0m\u001b[1;35mMode \u001b[0m\u001b[1;35m \u001b[0m┃\n",
              "┡━━━╇━━━━━━━━━━━━━━━━━━╇━━━━━━━━━━━━━━━━━━━━━━━━━━━╇━━━━━━━━╇━━━━━━━┩\n",
              "│\u001b[2m \u001b[0m\u001b[2m0\u001b[0m\u001b[2m \u001b[0m│ _backbone        │ CategoryEmbeddingBackbone │  148 K │ train │\n",
              "│\u001b[2m \u001b[0m\u001b[2m1\u001b[0m\u001b[2m \u001b[0m│ _embedding_layer │ Embedding1dLayer          │     26 │ train │\n",
              "│\u001b[2m \u001b[0m\u001b[2m2\u001b[0m\u001b[2m \u001b[0m│ head             │ LinearHead                │    442 │ train │\n",
              "│\u001b[2m \u001b[0m\u001b[2m3\u001b[0m\u001b[2m \u001b[0m│ loss             │ CrossEntropyLoss          │      0 │ train │\n",
              "└───┴──────────────────┴───────────────────────────┴────────┴───────┘\n"
            ],
            "text/html": [
              "<pre style=\"white-space:pre;overflow-x:auto;line-height:normal;font-family:Menlo,'DejaVu Sans Mono',consolas,'Courier New',monospace\">┏━━━┳━━━━━━━━━━━━━━━━━━┳━━━━━━━━━━━━━━━━━━━━━━━━━━━┳━━━━━━━━┳━━━━━━━┓\n",
              "┃<span style=\"color: #800080; text-decoration-color: #800080; font-weight: bold\">   </span>┃<span style=\"color: #800080; text-decoration-color: #800080; font-weight: bold\"> Name             </span>┃<span style=\"color: #800080; text-decoration-color: #800080; font-weight: bold\"> Type                      </span>┃<span style=\"color: #800080; text-decoration-color: #800080; font-weight: bold\"> Params </span>┃<span style=\"color: #800080; text-decoration-color: #800080; font-weight: bold\"> Mode  </span>┃\n",
              "┡━━━╇━━━━━━━━━━━━━━━━━━╇━━━━━━━━━━━━━━━━━━━━━━━━━━━╇━━━━━━━━╇━━━━━━━┩\n",
              "│<span style=\"color: #7f7f7f; text-decoration-color: #7f7f7f\"> 0 </span>│ _backbone        │ CategoryEmbeddingBackbone │  148 K │ train │\n",
              "│<span style=\"color: #7f7f7f; text-decoration-color: #7f7f7f\"> 1 </span>│ _embedding_layer │ Embedding1dLayer          │     26 │ train │\n",
              "│<span style=\"color: #7f7f7f; text-decoration-color: #7f7f7f\"> 2 </span>│ head             │ LinearHead                │    442 │ train │\n",
              "│<span style=\"color: #7f7f7f; text-decoration-color: #7f7f7f\"> 3 </span>│ loss             │ CrossEntropyLoss          │      0 │ train │\n",
              "└───┴──────────────────┴───────────────────────────┴────────┴───────┘\n",
              "</pre>\n"
            ]
          },
          "metadata": {}
        },
        {
          "output_type": "display_data",
          "data": {
            "text/plain": [
              "\u001b[1mTrainable params\u001b[0m: 149 K                                                                                            \n",
              "\u001b[1mNon-trainable params\u001b[0m: 0                                                                                            \n",
              "\u001b[1mTotal params\u001b[0m: 149 K                                                                                                \n",
              "\u001b[1mTotal estimated model params size (MB)\u001b[0m: 0                                                                          \n",
              "\u001b[1mModules in train mode\u001b[0m: 22                                                                                          \n",
              "\u001b[1mModules in eval mode\u001b[0m: 0                                                                                            \n"
            ],
            "text/html": [
              "<pre style=\"white-space:pre;overflow-x:auto;line-height:normal;font-family:Menlo,'DejaVu Sans Mono',consolas,'Courier New',monospace\"><span style=\"font-weight: bold\">Trainable params</span>: 149 K                                                                                            \n",
              "<span style=\"font-weight: bold\">Non-trainable params</span>: 0                                                                                            \n",
              "<span style=\"font-weight: bold\">Total params</span>: 149 K                                                                                                \n",
              "<span style=\"font-weight: bold\">Total estimated model params size (MB)</span>: 0                                                                          \n",
              "<span style=\"font-weight: bold\">Modules in train mode</span>: 22                                                                                          \n",
              "<span style=\"font-weight: bold\">Modules in eval mode</span>: 0                                                                                            \n",
              "</pre>\n"
            ]
          },
          "metadata": {}
        },
        {
          "output_type": "display_data",
          "data": {
            "text/plain": [
              "Output()"
            ],
            "application/vnd.jupyter.widget-view+json": {
              "version_major": 2,
              "version_minor": 0,
              "model_id": "e7a148e8db754c51b230e4e0cac4f1fd"
            }
          },
          "metadata": {}
        },
        {
          "output_type": "display_data",
          "data": {
            "text/plain": [
              "/usr/local/lib/python3.11/dist-packages/pytorch_lightning/loops/fit_loop.py:298: PossibleUserWarning:\n",
              "\n",
              "The number of training batches (16) is smaller than the logging interval Trainer(log_every_n_steps=50). Set a lower\n",
              "value for log_every_n_steps if you want to see logs for the training epoch.\n",
              "\n"
            ],
            "text/html": [
              "<pre style=\"white-space:pre;overflow-x:auto;line-height:normal;font-family:Menlo,'DejaVu Sans Mono',consolas,'Courier New',monospace\">/usr/local/lib/python3.11/dist-packages/pytorch_lightning/loops/fit_loop.py:298: PossibleUserWarning:\n",
              "\n",
              "The number of training batches (16) is smaller than the logging interval Trainer(log_every_n_steps=50). Set a lower\n",
              "value for log_every_n_steps if you want to see logs for the training epoch.\n",
              "\n",
              "</pre>\n"
            ]
          },
          "metadata": {}
        },
        {
          "output_type": "display_data",
          "data": {
            "text/plain": [],
            "text/html": [
              "<pre style=\"white-space:pre;overflow-x:auto;line-height:normal;font-family:Menlo,'DejaVu Sans Mono',consolas,'Courier New',monospace\"></pre>\n"
            ]
          },
          "metadata": {}
        },
        {
          "output_type": "stream",
          "name": "stderr",
          "text": [
            "INFO:pytorch_tabular.tabular_model:Training the model completed\n",
            "INFO:pytorch_tabular.tabular_model:Loading the best model\n",
            "/usr/local/lib/python3.11/dist-packages/pytorch_tabular/utils/python_utils.py:85: FutureWarning:\n",
            "\n",
            "You are using `torch.load` with `weights_only=False` (the current default value), which uses the default pickle module implicitly. It is possible to construct malicious pickle data which will execute arbitrary code during unpickling (See https://github.com/pytorch/pytorch/blob/main/SECURITY.md#untrusted-models for more details). In a future release, the default value for `weights_only` will be flipped to `True`. This limits the functions that could be executed during unpickling. Arbitrary objects will no longer be allowed to be loaded via this mode unless they are explicitly allowlisted by the user via `torch.serialization.add_safe_globals`. We recommend you start setting `weights_only=True` for any use case where you don't have full control of the loaded file. Please open an issue on GitHub for any issues related to this experimental feature.\n",
            "\n",
            "[I 2025-02-03 23:26:35,513] Trial 2 finished with value: 0.7142857142857143 and parameters: {'learning_rate': 0.022755976113349917, 'dropout': 0.1572118285639185, 'hidden_layers': 4, 'hidden_dim': 220, 'batch_size': 64}. Best is trial 0 with value: 0.7142857142857143.\n",
            "<ipython-input-8-dc4fa9dcc6b5>:20: FutureWarning:\n",
            "\n",
            "suggest_loguniform has been deprecated in v3.0.0. This feature will be removed in v6.0.0. See https://github.com/optuna/optuna/releases/tag/v3.0.0. Use suggest_float(..., log=True) instead.\n",
            "\n",
            "<ipython-input-8-dc4fa9dcc6b5>:21: FutureWarning:\n",
            "\n",
            "suggest_uniform has been deprecated in v3.0.0. This feature will be removed in v6.0.0. See https://github.com/optuna/optuna/releases/tag/v3.0.0. Use suggest_float instead.\n",
            "\n",
            "INFO:pytorch_tabular.tabular_model:Experiment Tracking is turned off\n",
            "INFO:lightning_fabric.utilities.seed:Seed set to 42\n",
            "INFO:pytorch_tabular.tabular_model:Preparing the DataLoaders\n",
            "INFO:pytorch_tabular.tabular_datamodule:Setting up the datamodule for classification task\n",
            "INFO:pytorch_tabular.tabular_model:Preparing the Model: CategoryEmbeddingModel\n",
            "INFO:pytorch_tabular.tabular_model:Preparing the Trainer\n",
            "INFO:pytorch_lightning.utilities.rank_zero:GPU available: True (cuda), used: True\n"
          ]
        },
        {
          "output_type": "stream",
          "name": "stdout",
          "text": [
            "Index(['TARGET_0_probability', 'TARGET_1_probability', 'TARGET_prediction'], dtype='object')\n"
          ]
        },
        {
          "output_type": "stream",
          "name": "stderr",
          "text": [
            "INFO:pytorch_lightning.utilities.rank_zero:TPU available: False, using: 0 TPU cores\n",
            "INFO:pytorch_lightning.utilities.rank_zero:HPU available: False, using: 0 HPUs\n",
            "INFO:pytorch_tabular.tabular_model:Training Started\n",
            "/usr/local/lib/python3.11/dist-packages/pytorch_lightning/callbacks/model_checkpoint.py:654: UserWarning:\n",
            "\n",
            "Checkpoint directory /content/saved_models exists and is not empty.\n",
            "\n",
            "INFO:pytorch_lightning.accelerators.cuda:LOCAL_RANK: 0 - CUDA_VISIBLE_DEVICES: [0]\n"
          ]
        },
        {
          "output_type": "display_data",
          "data": {
            "text/plain": [
              "┏━━━┳━━━━━━━━━━━━━━━━━━┳━━━━━━━━━━━━━━━━━━━━━━━━━━━┳━━━━━━━━┳━━━━━━━┓\n",
              "┃\u001b[1;35m \u001b[0m\u001b[1;35m \u001b[0m\u001b[1;35m \u001b[0m┃\u001b[1;35m \u001b[0m\u001b[1;35mName            \u001b[0m\u001b[1;35m \u001b[0m┃\u001b[1;35m \u001b[0m\u001b[1;35mType                     \u001b[0m\u001b[1;35m \u001b[0m┃\u001b[1;35m \u001b[0m\u001b[1;35mParams\u001b[0m\u001b[1;35m \u001b[0m┃\u001b[1;35m \u001b[0m\u001b[1;35mMode \u001b[0m\u001b[1;35m \u001b[0m┃\n",
              "┡━━━╇━━━━━━━━━━━━━━━━━━╇━━━━━━━━━━━━━━━━━━━━━━━━━━━╇━━━━━━━━╇━━━━━━━┩\n",
              "│\u001b[2m \u001b[0m\u001b[2m0\u001b[0m\u001b[2m \u001b[0m│ _backbone        │ CategoryEmbeddingBackbone │  3.4 K │ train │\n",
              "│\u001b[2m \u001b[0m\u001b[2m1\u001b[0m\u001b[2m \u001b[0m│ _embedding_layer │ Embedding1dLayer          │     26 │ train │\n",
              "│\u001b[2m \u001b[0m\u001b[2m2\u001b[0m\u001b[2m \u001b[0m│ head             │ LinearHead                │    484 │ train │\n",
              "│\u001b[2m \u001b[0m\u001b[2m3\u001b[0m\u001b[2m \u001b[0m│ loss             │ CrossEntropyLoss          │      0 │ train │\n",
              "└───┴──────────────────┴───────────────────────────┴────────┴───────┘\n"
            ],
            "text/html": [
              "<pre style=\"white-space:pre;overflow-x:auto;line-height:normal;font-family:Menlo,'DejaVu Sans Mono',consolas,'Courier New',monospace\">┏━━━┳━━━━━━━━━━━━━━━━━━┳━━━━━━━━━━━━━━━━━━━━━━━━━━━┳━━━━━━━━┳━━━━━━━┓\n",
              "┃<span style=\"color: #800080; text-decoration-color: #800080; font-weight: bold\">   </span>┃<span style=\"color: #800080; text-decoration-color: #800080; font-weight: bold\"> Name             </span>┃<span style=\"color: #800080; text-decoration-color: #800080; font-weight: bold\"> Type                      </span>┃<span style=\"color: #800080; text-decoration-color: #800080; font-weight: bold\"> Params </span>┃<span style=\"color: #800080; text-decoration-color: #800080; font-weight: bold\"> Mode  </span>┃\n",
              "┡━━━╇━━━━━━━━━━━━━━━━━━╇━━━━━━━━━━━━━━━━━━━━━━━━━━━╇━━━━━━━━╇━━━━━━━┩\n",
              "│<span style=\"color: #7f7f7f; text-decoration-color: #7f7f7f\"> 0 </span>│ _backbone        │ CategoryEmbeddingBackbone │  3.4 K │ train │\n",
              "│<span style=\"color: #7f7f7f; text-decoration-color: #7f7f7f\"> 1 </span>│ _embedding_layer │ Embedding1dLayer          │     26 │ train │\n",
              "│<span style=\"color: #7f7f7f; text-decoration-color: #7f7f7f\"> 2 </span>│ head             │ LinearHead                │    484 │ train │\n",
              "│<span style=\"color: #7f7f7f; text-decoration-color: #7f7f7f\"> 3 </span>│ loss             │ CrossEntropyLoss          │      0 │ train │\n",
              "└───┴──────────────────┴───────────────────────────┴────────┴───────┘\n",
              "</pre>\n"
            ]
          },
          "metadata": {}
        },
        {
          "output_type": "display_data",
          "data": {
            "text/plain": [
              "\u001b[1mTrainable params\u001b[0m: 3.9 K                                                                                            \n",
              "\u001b[1mNon-trainable params\u001b[0m: 0                                                                                            \n",
              "\u001b[1mTotal params\u001b[0m: 3.9 K                                                                                                \n",
              "\u001b[1mTotal estimated model params size (MB)\u001b[0m: 0                                                                          \n",
              "\u001b[1mModules in train mode\u001b[0m: 13                                                                                          \n",
              "\u001b[1mModules in eval mode\u001b[0m: 0                                                                                            \n"
            ],
            "text/html": [
              "<pre style=\"white-space:pre;overflow-x:auto;line-height:normal;font-family:Menlo,'DejaVu Sans Mono',consolas,'Courier New',monospace\"><span style=\"font-weight: bold\">Trainable params</span>: 3.9 K                                                                                            \n",
              "<span style=\"font-weight: bold\">Non-trainable params</span>: 0                                                                                            \n",
              "<span style=\"font-weight: bold\">Total params</span>: 3.9 K                                                                                                \n",
              "<span style=\"font-weight: bold\">Total estimated model params size (MB)</span>: 0                                                                          \n",
              "<span style=\"font-weight: bold\">Modules in train mode</span>: 13                                                                                          \n",
              "<span style=\"font-weight: bold\">Modules in eval mode</span>: 0                                                                                            \n",
              "</pre>\n"
            ]
          },
          "metadata": {}
        },
        {
          "output_type": "display_data",
          "data": {
            "text/plain": [
              "Output()"
            ],
            "application/vnd.jupyter.widget-view+json": {
              "version_major": 2,
              "version_minor": 0,
              "model_id": "7996900749144962af6190f93a92eaad"
            }
          },
          "metadata": {}
        },
        {
          "output_type": "display_data",
          "data": {
            "text/plain": [
              "/usr/local/lib/python3.11/dist-packages/pytorch_lightning/loops/fit_loop.py:298: PossibleUserWarning:\n",
              "\n",
              "The number of training batches (8) is smaller than the logging interval Trainer(log_every_n_steps=50). Set a lower \n",
              "value for log_every_n_steps if you want to see logs for the training epoch.\n",
              "\n"
            ],
            "text/html": [
              "<pre style=\"white-space:pre;overflow-x:auto;line-height:normal;font-family:Menlo,'DejaVu Sans Mono',consolas,'Courier New',monospace\">/usr/local/lib/python3.11/dist-packages/pytorch_lightning/loops/fit_loop.py:298: PossibleUserWarning:\n",
              "\n",
              "The number of training batches (8) is smaller than the logging interval Trainer(log_every_n_steps=50). Set a lower \n",
              "value for log_every_n_steps if you want to see logs for the training epoch.\n",
              "\n",
              "</pre>\n"
            ]
          },
          "metadata": {}
        },
        {
          "output_type": "display_data",
          "data": {
            "text/plain": [],
            "text/html": [
              "<pre style=\"white-space:pre;overflow-x:auto;line-height:normal;font-family:Menlo,'DejaVu Sans Mono',consolas,'Courier New',monospace\"></pre>\n"
            ]
          },
          "metadata": {}
        },
        {
          "output_type": "stream",
          "name": "stderr",
          "text": [
            "INFO:pytorch_tabular.tabular_model:Training the model completed\n",
            "INFO:pytorch_tabular.tabular_model:Loading the best model\n",
            "/usr/local/lib/python3.11/dist-packages/pytorch_tabular/utils/python_utils.py:85: FutureWarning:\n",
            "\n",
            "You are using `torch.load` with `weights_only=False` (the current default value), which uses the default pickle module implicitly. It is possible to construct malicious pickle data which will execute arbitrary code during unpickling (See https://github.com/pytorch/pytorch/blob/main/SECURITY.md#untrusted-models for more details). In a future release, the default value for `weights_only` will be flipped to `True`. This limits the functions that could be executed during unpickling. Arbitrary objects will no longer be allowed to be loaded via this mode unless they are explicitly allowlisted by the user via `torch.serialization.add_safe_globals`. We recommend you start setting `weights_only=True` for any use case where you don't have full control of the loaded file. Please open an issue on GitHub for any issues related to this experimental feature.\n",
            "\n",
            "[I 2025-02-03 23:26:39,418] Trial 3 finished with value: 0.7096774193548387 and parameters: {'learning_rate': 0.00018800771003449807, 'dropout': 0.2819998368275028, 'hidden_layers': 1, 'hidden_dim': 241, 'batch_size': 128}. Best is trial 0 with value: 0.7142857142857143.\n",
            "<ipython-input-8-dc4fa9dcc6b5>:20: FutureWarning:\n",
            "\n",
            "suggest_loguniform has been deprecated in v3.0.0. This feature will be removed in v6.0.0. See https://github.com/optuna/optuna/releases/tag/v3.0.0. Use suggest_float(..., log=True) instead.\n",
            "\n",
            "<ipython-input-8-dc4fa9dcc6b5>:21: FutureWarning:\n",
            "\n",
            "suggest_uniform has been deprecated in v3.0.0. This feature will be removed in v6.0.0. See https://github.com/optuna/optuna/releases/tag/v3.0.0. Use suggest_float instead.\n",
            "\n",
            "INFO:pytorch_tabular.tabular_model:Experiment Tracking is turned off\n",
            "INFO:lightning_fabric.utilities.seed:Seed set to 42\n",
            "INFO:pytorch_tabular.tabular_model:Preparing the DataLoaders\n",
            "INFO:pytorch_tabular.tabular_datamodule:Setting up the datamodule for classification task\n",
            "INFO:pytorch_tabular.tabular_model:Preparing the Model: CategoryEmbeddingModel\n",
            "INFO:pytorch_tabular.tabular_model:Preparing the Trainer\n"
          ]
        },
        {
          "output_type": "stream",
          "name": "stdout",
          "text": [
            "Index(['TARGET_0_probability', 'TARGET_1_probability', 'TARGET_prediction'], dtype='object')\n"
          ]
        },
        {
          "output_type": "stream",
          "name": "stderr",
          "text": [
            "INFO:pytorch_lightning.utilities.rank_zero:GPU available: True (cuda), used: True\n",
            "INFO:pytorch_lightning.utilities.rank_zero:TPU available: False, using: 0 TPU cores\n",
            "INFO:pytorch_lightning.utilities.rank_zero:HPU available: False, using: 0 HPUs\n",
            "INFO:pytorch_tabular.tabular_model:Training Started\n",
            "/usr/local/lib/python3.11/dist-packages/pytorch_lightning/callbacks/model_checkpoint.py:654: UserWarning:\n",
            "\n",
            "Checkpoint directory /content/saved_models exists and is not empty.\n",
            "\n",
            "INFO:pytorch_lightning.accelerators.cuda:LOCAL_RANK: 0 - CUDA_VISIBLE_DEVICES: [0]\n"
          ]
        },
        {
          "output_type": "display_data",
          "data": {
            "text/plain": [
              "┏━━━┳━━━━━━━━━━━━━━━━━━┳━━━━━━━━━━━━━━━━━━━━━━━━━━━┳━━━━━━━━┳━━━━━━━┓\n",
              "┃\u001b[1;35m \u001b[0m\u001b[1;35m \u001b[0m\u001b[1;35m \u001b[0m┃\u001b[1;35m \u001b[0m\u001b[1;35mName            \u001b[0m\u001b[1;35m \u001b[0m┃\u001b[1;35m \u001b[0m\u001b[1;35mType                     \u001b[0m\u001b[1;35m \u001b[0m┃\u001b[1;35m \u001b[0m\u001b[1;35mParams\u001b[0m\u001b[1;35m \u001b[0m┃\u001b[1;35m \u001b[0m\u001b[1;35mMode \u001b[0m\u001b[1;35m \u001b[0m┃\n",
              "┡━━━╇━━━━━━━━━━━━━━━━━━╇━━━━━━━━━━━━━━━━━━━━━━━━━━━╇━━━━━━━━╇━━━━━━━┩\n",
              "│\u001b[2m \u001b[0m\u001b[2m0\u001b[0m\u001b[2m \u001b[0m│ _backbone        │ CategoryEmbeddingBackbone │ 15.8 K │ train │\n",
              "│\u001b[2m \u001b[0m\u001b[2m1\u001b[0m\u001b[2m \u001b[0m│ _embedding_layer │ Embedding1dLayer          │     26 │ train │\n",
              "│\u001b[2m \u001b[0m\u001b[2m2\u001b[0m\u001b[2m \u001b[0m│ head             │ LinearHead                │    172 │ train │\n",
              "│\u001b[2m \u001b[0m\u001b[2m3\u001b[0m\u001b[2m \u001b[0m│ loss             │ CrossEntropyLoss          │      0 │ train │\n",
              "└───┴──────────────────┴───────────────────────────┴────────┴───────┘\n"
            ],
            "text/html": [
              "<pre style=\"white-space:pre;overflow-x:auto;line-height:normal;font-family:Menlo,'DejaVu Sans Mono',consolas,'Courier New',monospace\">┏━━━┳━━━━━━━━━━━━━━━━━━┳━━━━━━━━━━━━━━━━━━━━━━━━━━━┳━━━━━━━━┳━━━━━━━┓\n",
              "┃<span style=\"color: #800080; text-decoration-color: #800080; font-weight: bold\">   </span>┃<span style=\"color: #800080; text-decoration-color: #800080; font-weight: bold\"> Name             </span>┃<span style=\"color: #800080; text-decoration-color: #800080; font-weight: bold\"> Type                      </span>┃<span style=\"color: #800080; text-decoration-color: #800080; font-weight: bold\"> Params </span>┃<span style=\"color: #800080; text-decoration-color: #800080; font-weight: bold\"> Mode  </span>┃\n",
              "┡━━━╇━━━━━━━━━━━━━━━━━━╇━━━━━━━━━━━━━━━━━━━━━━━━━━━╇━━━━━━━━╇━━━━━━━┩\n",
              "│<span style=\"color: #7f7f7f; text-decoration-color: #7f7f7f\"> 0 </span>│ _backbone        │ CategoryEmbeddingBackbone │ 15.8 K │ train │\n",
              "│<span style=\"color: #7f7f7f; text-decoration-color: #7f7f7f\"> 1 </span>│ _embedding_layer │ Embedding1dLayer          │     26 │ train │\n",
              "│<span style=\"color: #7f7f7f; text-decoration-color: #7f7f7f\"> 2 </span>│ head             │ LinearHead                │    172 │ train │\n",
              "│<span style=\"color: #7f7f7f; text-decoration-color: #7f7f7f\"> 3 </span>│ loss             │ CrossEntropyLoss          │      0 │ train │\n",
              "└───┴──────────────────┴───────────────────────────┴────────┴───────┘\n",
              "</pre>\n"
            ]
          },
          "metadata": {}
        },
        {
          "output_type": "display_data",
          "data": {
            "text/plain": [
              "\u001b[1mTrainable params\u001b[0m: 16.0 K                                                                                           \n",
              "\u001b[1mNon-trainable params\u001b[0m: 0                                                                                            \n",
              "\u001b[1mTotal params\u001b[0m: 16.0 K                                                                                               \n",
              "\u001b[1mTotal estimated model params size (MB)\u001b[0m: 0                                                                          \n",
              "\u001b[1mModules in train mode\u001b[0m: 19                                                                                          \n",
              "\u001b[1mModules in eval mode\u001b[0m: 0                                                                                            \n"
            ],
            "text/html": [
              "<pre style=\"white-space:pre;overflow-x:auto;line-height:normal;font-family:Menlo,'DejaVu Sans Mono',consolas,'Courier New',monospace\"><span style=\"font-weight: bold\">Trainable params</span>: 16.0 K                                                                                           \n",
              "<span style=\"font-weight: bold\">Non-trainable params</span>: 0                                                                                            \n",
              "<span style=\"font-weight: bold\">Total params</span>: 16.0 K                                                                                               \n",
              "<span style=\"font-weight: bold\">Total estimated model params size (MB)</span>: 0                                                                          \n",
              "<span style=\"font-weight: bold\">Modules in train mode</span>: 19                                                                                          \n",
              "<span style=\"font-weight: bold\">Modules in eval mode</span>: 0                                                                                            \n",
              "</pre>\n"
            ]
          },
          "metadata": {}
        },
        {
          "output_type": "display_data",
          "data": {
            "text/plain": [
              "Output()"
            ],
            "application/vnd.jupyter.widget-view+json": {
              "version_major": 2,
              "version_minor": 0,
              "model_id": "5c9710c3e8494d74b7695104a05ba77b"
            }
          },
          "metadata": {}
        },
        {
          "output_type": "display_data",
          "data": {
            "text/plain": [
              "/usr/local/lib/python3.11/dist-packages/pytorch_lightning/loops/fit_loop.py:298: PossibleUserWarning:\n",
              "\n",
              "The number of training batches (16) is smaller than the logging interval Trainer(log_every_n_steps=50). Set a lower\n",
              "value for log_every_n_steps if you want to see logs for the training epoch.\n",
              "\n"
            ],
            "text/html": [
              "<pre style=\"white-space:pre;overflow-x:auto;line-height:normal;font-family:Menlo,'DejaVu Sans Mono',consolas,'Courier New',monospace\">/usr/local/lib/python3.11/dist-packages/pytorch_lightning/loops/fit_loop.py:298: PossibleUserWarning:\n",
              "\n",
              "The number of training batches (16) is smaller than the logging interval Trainer(log_every_n_steps=50). Set a lower\n",
              "value for log_every_n_steps if you want to see logs for the training epoch.\n",
              "\n",
              "</pre>\n"
            ]
          },
          "metadata": {}
        },
        {
          "output_type": "display_data",
          "data": {
            "text/plain": [],
            "text/html": [
              "<pre style=\"white-space:pre;overflow-x:auto;line-height:normal;font-family:Menlo,'DejaVu Sans Mono',consolas,'Courier New',monospace\"></pre>\n"
            ]
          },
          "metadata": {}
        },
        {
          "output_type": "stream",
          "name": "stderr",
          "text": [
            "INFO:pytorch_tabular.tabular_model:Training the model completed\n",
            "INFO:pytorch_tabular.tabular_model:Loading the best model\n",
            "/usr/local/lib/python3.11/dist-packages/pytorch_tabular/utils/python_utils.py:85: FutureWarning:\n",
            "\n",
            "You are using `torch.load` with `weights_only=False` (the current default value), which uses the default pickle module implicitly. It is possible to construct malicious pickle data which will execute arbitrary code during unpickling (See https://github.com/pytorch/pytorch/blob/main/SECURITY.md#untrusted-models for more details). In a future release, the default value for `weights_only` will be flipped to `True`. This limits the functions that could be executed during unpickling. Arbitrary objects will no longer be allowed to be loaded via this mode unless they are explicitly allowlisted by the user via `torch.serialization.add_safe_globals`. We recommend you start setting `weights_only=True` for any use case where you don't have full control of the loaded file. Please open an issue on GitHub for any issues related to this experimental feature.\n",
            "\n",
            "[I 2025-02-03 23:26:42,737] Trial 4 finished with value: 0.7235023041474654 and parameters: {'learning_rate': 0.01620214411912248, 'dropout': 0.31467803326596233, 'hidden_layers': 3, 'hidden_dim': 85, 'batch_size': 64}. Best is trial 4 with value: 0.7235023041474654.\n",
            "<ipython-input-8-dc4fa9dcc6b5>:20: FutureWarning:\n",
            "\n",
            "suggest_loguniform has been deprecated in v3.0.0. This feature will be removed in v6.0.0. See https://github.com/optuna/optuna/releases/tag/v3.0.0. Use suggest_float(..., log=True) instead.\n",
            "\n",
            "<ipython-input-8-dc4fa9dcc6b5>:21: FutureWarning:\n",
            "\n",
            "suggest_uniform has been deprecated in v3.0.0. This feature will be removed in v6.0.0. See https://github.com/optuna/optuna/releases/tag/v3.0.0. Use suggest_float instead.\n",
            "\n",
            "INFO:pytorch_tabular.tabular_model:Experiment Tracking is turned off\n",
            "INFO:lightning_fabric.utilities.seed:Seed set to 42\n",
            "INFO:pytorch_tabular.tabular_model:Preparing the DataLoaders\n",
            "INFO:pytorch_tabular.tabular_datamodule:Setting up the datamodule for classification task\n",
            "INFO:pytorch_tabular.tabular_model:Preparing the Model: CategoryEmbeddingModel\n",
            "INFO:pytorch_tabular.tabular_model:Preparing the Trainer\n",
            "INFO:pytorch_lightning.utilities.rank_zero:GPU available: True (cuda), used: True\n",
            "INFO:pytorch_lightning.utilities.rank_zero:TPU available: False, using: 0 TPU cores\n"
          ]
        },
        {
          "output_type": "stream",
          "name": "stdout",
          "text": [
            "Index(['TARGET_0_probability', 'TARGET_1_probability', 'TARGET_prediction'], dtype='object')\n"
          ]
        },
        {
          "output_type": "stream",
          "name": "stderr",
          "text": [
            "INFO:pytorch_lightning.utilities.rank_zero:HPU available: False, using: 0 HPUs\n",
            "INFO:pytorch_tabular.tabular_model:Training Started\n",
            "/usr/local/lib/python3.11/dist-packages/pytorch_lightning/callbacks/model_checkpoint.py:654: UserWarning:\n",
            "\n",
            "Checkpoint directory /content/saved_models exists and is not empty.\n",
            "\n",
            "INFO:pytorch_lightning.accelerators.cuda:LOCAL_RANK: 0 - CUDA_VISIBLE_DEVICES: [0]\n"
          ]
        },
        {
          "output_type": "display_data",
          "data": {
            "text/plain": [
              "┏━━━┳━━━━━━━━━━━━━━━━━━┳━━━━━━━━━━━━━━━━━━━━━━━━━━━┳━━━━━━━━┳━━━━━━━┓\n",
              "┃\u001b[1;35m \u001b[0m\u001b[1;35m \u001b[0m\u001b[1;35m \u001b[0m┃\u001b[1;35m \u001b[0m\u001b[1;35mName            \u001b[0m\u001b[1;35m \u001b[0m┃\u001b[1;35m \u001b[0m\u001b[1;35mType                     \u001b[0m\u001b[1;35m \u001b[0m┃\u001b[1;35m \u001b[0m\u001b[1;35mParams\u001b[0m\u001b[1;35m \u001b[0m┃\u001b[1;35m \u001b[0m\u001b[1;35mMode \u001b[0m\u001b[1;35m \u001b[0m┃\n",
              "┡━━━╇━━━━━━━━━━━━━━━━━━╇━━━━━━━━━━━━━━━━━━━━━━━━━━━╇━━━━━━━━╇━━━━━━━┩\n",
              "│\u001b[2m \u001b[0m\u001b[2m0\u001b[0m\u001b[2m \u001b[0m│ _backbone        │ CategoryEmbeddingBackbone │  122 K │ train │\n",
              "│\u001b[2m \u001b[0m\u001b[2m1\u001b[0m\u001b[2m \u001b[0m│ _embedding_layer │ Embedding1dLayer          │     26 │ train │\n",
              "│\u001b[2m \u001b[0m\u001b[2m2\u001b[0m\u001b[2m \u001b[0m│ head             │ LinearHead                │    490 │ train │\n",
              "│\u001b[2m \u001b[0m\u001b[2m3\u001b[0m\u001b[2m \u001b[0m│ loss             │ CrossEntropyLoss          │      0 │ train │\n",
              "└───┴──────────────────┴───────────────────────────┴────────┴───────┘\n"
            ],
            "text/html": [
              "<pre style=\"white-space:pre;overflow-x:auto;line-height:normal;font-family:Menlo,'DejaVu Sans Mono',consolas,'Courier New',monospace\">┏━━━┳━━━━━━━━━━━━━━━━━━┳━━━━━━━━━━━━━━━━━━━━━━━━━━━┳━━━━━━━━┳━━━━━━━┓\n",
              "┃<span style=\"color: #800080; text-decoration-color: #800080; font-weight: bold\">   </span>┃<span style=\"color: #800080; text-decoration-color: #800080; font-weight: bold\"> Name             </span>┃<span style=\"color: #800080; text-decoration-color: #800080; font-weight: bold\"> Type                      </span>┃<span style=\"color: #800080; text-decoration-color: #800080; font-weight: bold\"> Params </span>┃<span style=\"color: #800080; text-decoration-color: #800080; font-weight: bold\"> Mode  </span>┃\n",
              "┡━━━╇━━━━━━━━━━━━━━━━━━╇━━━━━━━━━━━━━━━━━━━━━━━━━━━╇━━━━━━━━╇━━━━━━━┩\n",
              "│<span style=\"color: #7f7f7f; text-decoration-color: #7f7f7f\"> 0 </span>│ _backbone        │ CategoryEmbeddingBackbone │  122 K │ train │\n",
              "│<span style=\"color: #7f7f7f; text-decoration-color: #7f7f7f\"> 1 </span>│ _embedding_layer │ Embedding1dLayer          │     26 │ train │\n",
              "│<span style=\"color: #7f7f7f; text-decoration-color: #7f7f7f\"> 2 </span>│ head             │ LinearHead                │    490 │ train │\n",
              "│<span style=\"color: #7f7f7f; text-decoration-color: #7f7f7f\"> 3 </span>│ loss             │ CrossEntropyLoss          │      0 │ train │\n",
              "└───┴──────────────────┴───────────────────────────┴────────┴───────┘\n",
              "</pre>\n"
            ]
          },
          "metadata": {}
        },
        {
          "output_type": "display_data",
          "data": {
            "text/plain": [
              "\u001b[1mTrainable params\u001b[0m: 123 K                                                                                            \n",
              "\u001b[1mNon-trainable params\u001b[0m: 0                                                                                            \n",
              "\u001b[1mTotal params\u001b[0m: 123 K                                                                                                \n",
              "\u001b[1mTotal estimated model params size (MB)\u001b[0m: 0                                                                          \n",
              "\u001b[1mModules in train mode\u001b[0m: 19                                                                                          \n",
              "\u001b[1mModules in eval mode\u001b[0m: 0                                                                                            \n"
            ],
            "text/html": [
              "<pre style=\"white-space:pre;overflow-x:auto;line-height:normal;font-family:Menlo,'DejaVu Sans Mono',consolas,'Courier New',monospace\"><span style=\"font-weight: bold\">Trainable params</span>: 123 K                                                                                            \n",
              "<span style=\"font-weight: bold\">Non-trainable params</span>: 0                                                                                            \n",
              "<span style=\"font-weight: bold\">Total params</span>: 123 K                                                                                                \n",
              "<span style=\"font-weight: bold\">Total estimated model params size (MB)</span>: 0                                                                          \n",
              "<span style=\"font-weight: bold\">Modules in train mode</span>: 19                                                                                          \n",
              "<span style=\"font-weight: bold\">Modules in eval mode</span>: 0                                                                                            \n",
              "</pre>\n"
            ]
          },
          "metadata": {}
        },
        {
          "output_type": "display_data",
          "data": {
            "text/plain": [
              "Output()"
            ],
            "application/vnd.jupyter.widget-view+json": {
              "version_major": 2,
              "version_minor": 0,
              "model_id": "46a7b30eaff14a7c9972ad19617a41bb"
            }
          },
          "metadata": {}
        },
        {
          "output_type": "display_data",
          "data": {
            "text/plain": [
              "/usr/local/lib/python3.11/dist-packages/pytorch_lightning/loops/fit_loop.py:298: PossibleUserWarning:\n",
              "\n",
              "The number of training batches (8) is smaller than the logging interval Trainer(log_every_n_steps=50). Set a lower \n",
              "value for log_every_n_steps if you want to see logs for the training epoch.\n",
              "\n"
            ],
            "text/html": [
              "<pre style=\"white-space:pre;overflow-x:auto;line-height:normal;font-family:Menlo,'DejaVu Sans Mono',consolas,'Courier New',monospace\">/usr/local/lib/python3.11/dist-packages/pytorch_lightning/loops/fit_loop.py:298: PossibleUserWarning:\n",
              "\n",
              "The number of training batches (8) is smaller than the logging interval Trainer(log_every_n_steps=50). Set a lower \n",
              "value for log_every_n_steps if you want to see logs for the training epoch.\n",
              "\n",
              "</pre>\n"
            ]
          },
          "metadata": {}
        },
        {
          "output_type": "display_data",
          "data": {
            "text/plain": [],
            "text/html": [
              "<pre style=\"white-space:pre;overflow-x:auto;line-height:normal;font-family:Menlo,'DejaVu Sans Mono',consolas,'Courier New',monospace\"></pre>\n"
            ]
          },
          "metadata": {}
        },
        {
          "output_type": "stream",
          "name": "stderr",
          "text": [
            "INFO:pytorch_tabular.tabular_model:Training the model completed\n",
            "INFO:pytorch_tabular.tabular_model:Loading the best model\n",
            "/usr/local/lib/python3.11/dist-packages/pytorch_tabular/utils/python_utils.py:85: FutureWarning:\n",
            "\n",
            "You are using `torch.load` with `weights_only=False` (the current default value), which uses the default pickle module implicitly. It is possible to construct malicious pickle data which will execute arbitrary code during unpickling (See https://github.com/pytorch/pytorch/blob/main/SECURITY.md#untrusted-models for more details). In a future release, the default value for `weights_only` will be flipped to `True`. This limits the functions that could be executed during unpickling. Arbitrary objects will no longer be allowed to be loaded via this mode unless they are explicitly allowlisted by the user via `torch.serialization.add_safe_globals`. We recommend you start setting `weights_only=True` for any use case where you don't have full control of the loaded file. Please open an issue on GitHub for any issues related to this experimental feature.\n",
            "\n",
            "[I 2025-02-03 23:26:45,253] Trial 5 finished with value: 0.728110599078341 and parameters: {'learning_rate': 0.0016187188164923786, 'dropout': 0.22442780690812156, 'hidden_layers': 3, 'hidden_dim': 244, 'batch_size': 128}. Best is trial 5 with value: 0.728110599078341.\n",
            "<ipython-input-8-dc4fa9dcc6b5>:20: FutureWarning:\n",
            "\n",
            "suggest_loguniform has been deprecated in v3.0.0. This feature will be removed in v6.0.0. See https://github.com/optuna/optuna/releases/tag/v3.0.0. Use suggest_float(..., log=True) instead.\n",
            "\n",
            "<ipython-input-8-dc4fa9dcc6b5>:21: FutureWarning:\n",
            "\n",
            "suggest_uniform has been deprecated in v3.0.0. This feature will be removed in v6.0.0. See https://github.com/optuna/optuna/releases/tag/v3.0.0. Use suggest_float instead.\n",
            "\n",
            "INFO:pytorch_tabular.tabular_model:Experiment Tracking is turned off\n",
            "INFO:lightning_fabric.utilities.seed:Seed set to 42\n",
            "INFO:pytorch_tabular.tabular_model:Preparing the DataLoaders\n",
            "INFO:pytorch_tabular.tabular_datamodule:Setting up the datamodule for classification task\n",
            "INFO:pytorch_tabular.tabular_model:Preparing the Model: CategoryEmbeddingModel\n"
          ]
        },
        {
          "output_type": "stream",
          "name": "stdout",
          "text": [
            "Index(['TARGET_0_probability', 'TARGET_1_probability', 'TARGET_prediction'], dtype='object')\n"
          ]
        },
        {
          "output_type": "stream",
          "name": "stderr",
          "text": [
            "INFO:pytorch_tabular.tabular_model:Preparing the Trainer\n",
            "INFO:pytorch_lightning.utilities.rank_zero:GPU available: True (cuda), used: True\n",
            "INFO:pytorch_lightning.utilities.rank_zero:TPU available: False, using: 0 TPU cores\n",
            "INFO:pytorch_lightning.utilities.rank_zero:HPU available: False, using: 0 HPUs\n",
            "INFO:pytorch_tabular.tabular_model:Training Started\n",
            "/usr/local/lib/python3.11/dist-packages/pytorch_lightning/callbacks/model_checkpoint.py:654: UserWarning:\n",
            "\n",
            "Checkpoint directory /content/saved_models exists and is not empty.\n",
            "\n",
            "INFO:pytorch_lightning.accelerators.cuda:LOCAL_RANK: 0 - CUDA_VISIBLE_DEVICES: [0]\n"
          ]
        },
        {
          "output_type": "display_data",
          "data": {
            "text/plain": [
              "┏━━━┳━━━━━━━━━━━━━━━━━━┳━━━━━━━━━━━━━━━━━━━━━━━━━━━┳━━━━━━━━┳━━━━━━━┓\n",
              "┃\u001b[1;35m \u001b[0m\u001b[1;35m \u001b[0m\u001b[1;35m \u001b[0m┃\u001b[1;35m \u001b[0m\u001b[1;35mName            \u001b[0m\u001b[1;35m \u001b[0m┃\u001b[1;35m \u001b[0m\u001b[1;35mType                     \u001b[0m\u001b[1;35m \u001b[0m┃\u001b[1;35m \u001b[0m\u001b[1;35mParams\u001b[0m\u001b[1;35m \u001b[0m┃\u001b[1;35m \u001b[0m\u001b[1;35mMode \u001b[0m\u001b[1;35m \u001b[0m┃\n",
              "┡━━━╇━━━━━━━━━━━━━━━━━━╇━━━━━━━━━━━━━━━━━━━━━━━━━━━╇━━━━━━━━╇━━━━━━━┩\n",
              "│\u001b[2m \u001b[0m\u001b[2m0\u001b[0m\u001b[2m \u001b[0m│ _backbone        │ CategoryEmbeddingBackbone │  9.7 K │ train │\n",
              "│\u001b[2m \u001b[0m\u001b[2m1\u001b[0m\u001b[2m \u001b[0m│ _embedding_layer │ Embedding1dLayer          │     26 │ train │\n",
              "│\u001b[2m \u001b[0m\u001b[2m2\u001b[0m\u001b[2m \u001b[0m│ head             │ LinearHead                │    110 │ train │\n",
              "│\u001b[2m \u001b[0m\u001b[2m3\u001b[0m\u001b[2m \u001b[0m│ loss             │ CrossEntropyLoss          │      0 │ train │\n",
              "└───┴──────────────────┴───────────────────────────┴────────┴───────┘\n"
            ],
            "text/html": [
              "<pre style=\"white-space:pre;overflow-x:auto;line-height:normal;font-family:Menlo,'DejaVu Sans Mono',consolas,'Courier New',monospace\">┏━━━┳━━━━━━━━━━━━━━━━━━┳━━━━━━━━━━━━━━━━━━━━━━━━━━━┳━━━━━━━━┳━━━━━━━┓\n",
              "┃<span style=\"color: #800080; text-decoration-color: #800080; font-weight: bold\">   </span>┃<span style=\"color: #800080; text-decoration-color: #800080; font-weight: bold\"> Name             </span>┃<span style=\"color: #800080; text-decoration-color: #800080; font-weight: bold\"> Type                      </span>┃<span style=\"color: #800080; text-decoration-color: #800080; font-weight: bold\"> Params </span>┃<span style=\"color: #800080; text-decoration-color: #800080; font-weight: bold\"> Mode  </span>┃\n",
              "┡━━━╇━━━━━━━━━━━━━━━━━━╇━━━━━━━━━━━━━━━━━━━━━━━━━━━╇━━━━━━━━╇━━━━━━━┩\n",
              "│<span style=\"color: #7f7f7f; text-decoration-color: #7f7f7f\"> 0 </span>│ _backbone        │ CategoryEmbeddingBackbone │  9.7 K │ train │\n",
              "│<span style=\"color: #7f7f7f; text-decoration-color: #7f7f7f\"> 1 </span>│ _embedding_layer │ Embedding1dLayer          │     26 │ train │\n",
              "│<span style=\"color: #7f7f7f; text-decoration-color: #7f7f7f\"> 2 </span>│ head             │ LinearHead                │    110 │ train │\n",
              "│<span style=\"color: #7f7f7f; text-decoration-color: #7f7f7f\"> 3 </span>│ loss             │ CrossEntropyLoss          │      0 │ train │\n",
              "└───┴──────────────────┴───────────────────────────┴────────┴───────┘\n",
              "</pre>\n"
            ]
          },
          "metadata": {}
        },
        {
          "output_type": "display_data",
          "data": {
            "text/plain": [
              "\u001b[1mTrainable params\u001b[0m: 9.8 K                                                                                            \n",
              "\u001b[1mNon-trainable params\u001b[0m: 0                                                                                            \n",
              "\u001b[1mTotal params\u001b[0m: 9.8 K                                                                                                \n",
              "\u001b[1mTotal estimated model params size (MB)\u001b[0m: 0                                                                          \n",
              "\u001b[1mModules in train mode\u001b[0m: 22                                                                                          \n",
              "\u001b[1mModules in eval mode\u001b[0m: 0                                                                                            \n"
            ],
            "text/html": [
              "<pre style=\"white-space:pre;overflow-x:auto;line-height:normal;font-family:Menlo,'DejaVu Sans Mono',consolas,'Courier New',monospace\"><span style=\"font-weight: bold\">Trainable params</span>: 9.8 K                                                                                            \n",
              "<span style=\"font-weight: bold\">Non-trainable params</span>: 0                                                                                            \n",
              "<span style=\"font-weight: bold\">Total params</span>: 9.8 K                                                                                                \n",
              "<span style=\"font-weight: bold\">Total estimated model params size (MB)</span>: 0                                                                          \n",
              "<span style=\"font-weight: bold\">Modules in train mode</span>: 22                                                                                          \n",
              "<span style=\"font-weight: bold\">Modules in eval mode</span>: 0                                                                                            \n",
              "</pre>\n"
            ]
          },
          "metadata": {}
        },
        {
          "output_type": "display_data",
          "data": {
            "text/plain": [
              "Output()"
            ],
            "application/vnd.jupyter.widget-view+json": {
              "version_major": 2,
              "version_minor": 0,
              "model_id": "8923c0787f994be6bb1e281dfb724528"
            }
          },
          "metadata": {}
        },
        {
          "output_type": "display_data",
          "data": {
            "text/plain": [
              "/usr/local/lib/python3.11/dist-packages/pytorch_lightning/loops/fit_loop.py:298: PossibleUserWarning:\n",
              "\n",
              "The number of training batches (16) is smaller than the logging interval Trainer(log_every_n_steps=50). Set a lower\n",
              "value for log_every_n_steps if you want to see logs for the training epoch.\n",
              "\n"
            ],
            "text/html": [
              "<pre style=\"white-space:pre;overflow-x:auto;line-height:normal;font-family:Menlo,'DejaVu Sans Mono',consolas,'Courier New',monospace\">/usr/local/lib/python3.11/dist-packages/pytorch_lightning/loops/fit_loop.py:298: PossibleUserWarning:\n",
              "\n",
              "The number of training batches (16) is smaller than the logging interval Trainer(log_every_n_steps=50). Set a lower\n",
              "value for log_every_n_steps if you want to see logs for the training epoch.\n",
              "\n",
              "</pre>\n"
            ]
          },
          "metadata": {}
        },
        {
          "output_type": "display_data",
          "data": {
            "text/plain": [],
            "text/html": [
              "<pre style=\"white-space:pre;overflow-x:auto;line-height:normal;font-family:Menlo,'DejaVu Sans Mono',consolas,'Courier New',monospace\"></pre>\n"
            ]
          },
          "metadata": {}
        },
        {
          "output_type": "stream",
          "name": "stderr",
          "text": [
            "INFO:pytorch_tabular.tabular_model:Training the model completed\n",
            "INFO:pytorch_tabular.tabular_model:Loading the best model\n",
            "/usr/local/lib/python3.11/dist-packages/pytorch_tabular/utils/python_utils.py:85: FutureWarning:\n",
            "\n",
            "You are using `torch.load` with `weights_only=False` (the current default value), which uses the default pickle module implicitly. It is possible to construct malicious pickle data which will execute arbitrary code during unpickling (See https://github.com/pytorch/pytorch/blob/main/SECURITY.md#untrusted-models for more details). In a future release, the default value for `weights_only` will be flipped to `True`. This limits the functions that could be executed during unpickling. Arbitrary objects will no longer be allowed to be loaded via this mode unless they are explicitly allowlisted by the user via `torch.serialization.add_safe_globals`. We recommend you start setting `weights_only=True` for any use case where you don't have full control of the loaded file. Please open an issue on GitHub for any issues related to this experimental feature.\n",
            "\n",
            "[I 2025-02-03 23:27:01,087] Trial 6 finished with value: 0.6820276497695853 and parameters: {'learning_rate': 0.0029401396355094246, 'dropout': 0.13752929539008868, 'hidden_layers': 4, 'hidden_dim': 54, 'batch_size': 64}. Best is trial 5 with value: 0.728110599078341.\n",
            "<ipython-input-8-dc4fa9dcc6b5>:20: FutureWarning:\n",
            "\n",
            "suggest_loguniform has been deprecated in v3.0.0. This feature will be removed in v6.0.0. See https://github.com/optuna/optuna/releases/tag/v3.0.0. Use suggest_float(..., log=True) instead.\n",
            "\n",
            "<ipython-input-8-dc4fa9dcc6b5>:21: FutureWarning:\n",
            "\n",
            "suggest_uniform has been deprecated in v3.0.0. This feature will be removed in v6.0.0. See https://github.com/optuna/optuna/releases/tag/v3.0.0. Use suggest_float instead.\n",
            "\n",
            "INFO:pytorch_tabular.tabular_model:Experiment Tracking is turned off\n",
            "INFO:lightning_fabric.utilities.seed:Seed set to 42\n",
            "INFO:pytorch_tabular.tabular_model:Preparing the DataLoaders\n",
            "INFO:pytorch_tabular.tabular_datamodule:Setting up the datamodule for classification task\n",
            "INFO:pytorch_tabular.tabular_model:Preparing the Model: CategoryEmbeddingModel\n",
            "INFO:pytorch_tabular.tabular_model:Preparing the Trainer\n"
          ]
        },
        {
          "output_type": "stream",
          "name": "stdout",
          "text": [
            "Index(['TARGET_0_probability', 'TARGET_1_probability', 'TARGET_prediction'], dtype='object')\n"
          ]
        },
        {
          "output_type": "stream",
          "name": "stderr",
          "text": [
            "INFO:pytorch_lightning.utilities.rank_zero:GPU available: True (cuda), used: True\n",
            "INFO:pytorch_lightning.utilities.rank_zero:TPU available: False, using: 0 TPU cores\n",
            "INFO:pytorch_lightning.utilities.rank_zero:HPU available: False, using: 0 HPUs\n",
            "INFO:pytorch_tabular.tabular_model:Training Started\n",
            "/usr/local/lib/python3.11/dist-packages/pytorch_lightning/callbacks/model_checkpoint.py:654: UserWarning:\n",
            "\n",
            "Checkpoint directory /content/saved_models exists and is not empty.\n",
            "\n",
            "INFO:pytorch_lightning.accelerators.cuda:LOCAL_RANK: 0 - CUDA_VISIBLE_DEVICES: [0]\n"
          ]
        },
        {
          "output_type": "display_data",
          "data": {
            "text/plain": [
              "┏━━━┳━━━━━━━━━━━━━━━━━━┳━━━━━━━━━━━━━━━━━━━━━━━━━━━┳━━━━━━━━┳━━━━━━━┓\n",
              "┃\u001b[1;35m \u001b[0m\u001b[1;35m \u001b[0m\u001b[1;35m \u001b[0m┃\u001b[1;35m \u001b[0m\u001b[1;35mName            \u001b[0m\u001b[1;35m \u001b[0m┃\u001b[1;35m \u001b[0m\u001b[1;35mType                     \u001b[0m\u001b[1;35m \u001b[0m┃\u001b[1;35m \u001b[0m\u001b[1;35mParams\u001b[0m\u001b[1;35m \u001b[0m┃\u001b[1;35m \u001b[0m\u001b[1;35mMode \u001b[0m\u001b[1;35m \u001b[0m┃\n",
              "┡━━━╇━━━━━━━━━━━━━━━━━━╇━━━━━━━━━━━━━━━━━━━━━━━━━━━╇━━━━━━━━╇━━━━━━━┩\n",
              "│\u001b[2m \u001b[0m\u001b[2m0\u001b[0m\u001b[2m \u001b[0m│ _backbone        │ CategoryEmbeddingBackbone │  2.6 K │ train │\n",
              "│\u001b[2m \u001b[0m\u001b[2m1\u001b[0m\u001b[2m \u001b[0m│ _embedding_layer │ Embedding1dLayer          │     26 │ train │\n",
              "│\u001b[2m \u001b[0m\u001b[2m2\u001b[0m\u001b[2m \u001b[0m│ head             │ LinearHead                │    370 │ train │\n",
              "│\u001b[2m \u001b[0m\u001b[2m3\u001b[0m\u001b[2m \u001b[0m│ loss             │ CrossEntropyLoss          │      0 │ train │\n",
              "└───┴──────────────────┴───────────────────────────┴────────┴───────┘\n"
            ],
            "text/html": [
              "<pre style=\"white-space:pre;overflow-x:auto;line-height:normal;font-family:Menlo,'DejaVu Sans Mono',consolas,'Courier New',monospace\">┏━━━┳━━━━━━━━━━━━━━━━━━┳━━━━━━━━━━━━━━━━━━━━━━━━━━━┳━━━━━━━━┳━━━━━━━┓\n",
              "┃<span style=\"color: #800080; text-decoration-color: #800080; font-weight: bold\">   </span>┃<span style=\"color: #800080; text-decoration-color: #800080; font-weight: bold\"> Name             </span>┃<span style=\"color: #800080; text-decoration-color: #800080; font-weight: bold\"> Type                      </span>┃<span style=\"color: #800080; text-decoration-color: #800080; font-weight: bold\"> Params </span>┃<span style=\"color: #800080; text-decoration-color: #800080; font-weight: bold\"> Mode  </span>┃\n",
              "┡━━━╇━━━━━━━━━━━━━━━━━━╇━━━━━━━━━━━━━━━━━━━━━━━━━━━╇━━━━━━━━╇━━━━━━━┩\n",
              "│<span style=\"color: #7f7f7f; text-decoration-color: #7f7f7f\"> 0 </span>│ _backbone        │ CategoryEmbeddingBackbone │  2.6 K │ train │\n",
              "│<span style=\"color: #7f7f7f; text-decoration-color: #7f7f7f\"> 1 </span>│ _embedding_layer │ Embedding1dLayer          │     26 │ train │\n",
              "│<span style=\"color: #7f7f7f; text-decoration-color: #7f7f7f\"> 2 </span>│ head             │ LinearHead                │    370 │ train │\n",
              "│<span style=\"color: #7f7f7f; text-decoration-color: #7f7f7f\"> 3 </span>│ loss             │ CrossEntropyLoss          │      0 │ train │\n",
              "└───┴──────────────────┴───────────────────────────┴────────┴───────┘\n",
              "</pre>\n"
            ]
          },
          "metadata": {}
        },
        {
          "output_type": "display_data",
          "data": {
            "text/plain": [
              "\u001b[1mTrainable params\u001b[0m: 3.0 K                                                                                            \n",
              "\u001b[1mNon-trainable params\u001b[0m: 0                                                                                            \n",
              "\u001b[1mTotal params\u001b[0m: 3.0 K                                                                                                \n",
              "\u001b[1mTotal estimated model params size (MB)\u001b[0m: 0                                                                          \n",
              "\u001b[1mModules in train mode\u001b[0m: 13                                                                                          \n",
              "\u001b[1mModules in eval mode\u001b[0m: 0                                                                                            \n"
            ],
            "text/html": [
              "<pre style=\"white-space:pre;overflow-x:auto;line-height:normal;font-family:Menlo,'DejaVu Sans Mono',consolas,'Courier New',monospace\"><span style=\"font-weight: bold\">Trainable params</span>: 3.0 K                                                                                            \n",
              "<span style=\"font-weight: bold\">Non-trainable params</span>: 0                                                                                            \n",
              "<span style=\"font-weight: bold\">Total params</span>: 3.0 K                                                                                                \n",
              "<span style=\"font-weight: bold\">Total estimated model params size (MB)</span>: 0                                                                          \n",
              "<span style=\"font-weight: bold\">Modules in train mode</span>: 13                                                                                          \n",
              "<span style=\"font-weight: bold\">Modules in eval mode</span>: 0                                                                                            \n",
              "</pre>\n"
            ]
          },
          "metadata": {}
        },
        {
          "output_type": "display_data",
          "data": {
            "text/plain": [
              "Output()"
            ],
            "application/vnd.jupyter.widget-view+json": {
              "version_major": 2,
              "version_minor": 0,
              "model_id": "be4535039f5e4eb9961fd4db4d876d64"
            }
          },
          "metadata": {}
        },
        {
          "output_type": "display_data",
          "data": {
            "text/plain": [
              "/usr/local/lib/python3.11/dist-packages/pytorch_lightning/loops/fit_loop.py:298: PossibleUserWarning:\n",
              "\n",
              "The number of training batches (16) is smaller than the logging interval Trainer(log_every_n_steps=50). Set a lower\n",
              "value for log_every_n_steps if you want to see logs for the training epoch.\n",
              "\n"
            ],
            "text/html": [
              "<pre style=\"white-space:pre;overflow-x:auto;line-height:normal;font-family:Menlo,'DejaVu Sans Mono',consolas,'Courier New',monospace\">/usr/local/lib/python3.11/dist-packages/pytorch_lightning/loops/fit_loop.py:298: PossibleUserWarning:\n",
              "\n",
              "The number of training batches (16) is smaller than the logging interval Trainer(log_every_n_steps=50). Set a lower\n",
              "value for log_every_n_steps if you want to see logs for the training epoch.\n",
              "\n",
              "</pre>\n"
            ]
          },
          "metadata": {}
        },
        {
          "output_type": "display_data",
          "data": {
            "text/plain": [],
            "text/html": [
              "<pre style=\"white-space:pre;overflow-x:auto;line-height:normal;font-family:Menlo,'DejaVu Sans Mono',consolas,'Courier New',monospace\"></pre>\n"
            ]
          },
          "metadata": {}
        },
        {
          "output_type": "stream",
          "name": "stderr",
          "text": [
            "INFO:pytorch_tabular.tabular_model:Training the model completed\n",
            "INFO:pytorch_tabular.tabular_model:Loading the best model\n",
            "/usr/local/lib/python3.11/dist-packages/pytorch_tabular/utils/python_utils.py:85: FutureWarning:\n",
            "\n",
            "You are using `torch.load` with `weights_only=False` (the current default value), which uses the default pickle module implicitly. It is possible to construct malicious pickle data which will execute arbitrary code during unpickling (See https://github.com/pytorch/pytorch/blob/main/SECURITY.md#untrusted-models for more details). In a future release, the default value for `weights_only` will be flipped to `True`. This limits the functions that could be executed during unpickling. Arbitrary objects will no longer be allowed to be loaded via this mode unless they are explicitly allowlisted by the user via `torch.serialization.add_safe_globals`. We recommend you start setting `weights_only=True` for any use case where you don't have full control of the loaded file. Please open an issue on GitHub for any issues related to this experimental feature.\n",
            "\n",
            "[I 2025-02-03 23:27:06,395] Trial 7 finished with value: 0.6774193548387096 and parameters: {'learning_rate': 0.02971752250293722, 'dropout': 0.1344560496522799, 'hidden_layers': 1, 'hidden_dim': 184, 'batch_size': 64}. Best is trial 5 with value: 0.728110599078341.\n",
            "<ipython-input-8-dc4fa9dcc6b5>:20: FutureWarning:\n",
            "\n",
            "suggest_loguniform has been deprecated in v3.0.0. This feature will be removed in v6.0.0. See https://github.com/optuna/optuna/releases/tag/v3.0.0. Use suggest_float(..., log=True) instead.\n",
            "\n",
            "<ipython-input-8-dc4fa9dcc6b5>:21: FutureWarning:\n",
            "\n",
            "suggest_uniform has been deprecated in v3.0.0. This feature will be removed in v6.0.0. See https://github.com/optuna/optuna/releases/tag/v3.0.0. Use suggest_float instead.\n",
            "\n",
            "INFO:pytorch_tabular.tabular_model:Experiment Tracking is turned off\n",
            "INFO:lightning_fabric.utilities.seed:Seed set to 42\n",
            "INFO:pytorch_tabular.tabular_model:Preparing the DataLoaders\n",
            "INFO:pytorch_tabular.tabular_datamodule:Setting up the datamodule for classification task\n",
            "INFO:pytorch_tabular.tabular_model:Preparing the Model: CategoryEmbeddingModel\n",
            "INFO:pytorch_tabular.tabular_model:Preparing the Trainer\n"
          ]
        },
        {
          "output_type": "stream",
          "name": "stdout",
          "text": [
            "Index(['TARGET_0_probability', 'TARGET_1_probability', 'TARGET_prediction'], dtype='object')\n"
          ]
        },
        {
          "output_type": "stream",
          "name": "stderr",
          "text": [
            "INFO:pytorch_lightning.utilities.rank_zero:GPU available: True (cuda), used: True\n",
            "INFO:pytorch_lightning.utilities.rank_zero:TPU available: False, using: 0 TPU cores\n",
            "INFO:pytorch_lightning.utilities.rank_zero:HPU available: False, using: 0 HPUs\n",
            "INFO:pytorch_tabular.tabular_model:Training Started\n",
            "/usr/local/lib/python3.11/dist-packages/pytorch_lightning/callbacks/model_checkpoint.py:654: UserWarning:\n",
            "\n",
            "Checkpoint directory /content/saved_models exists and is not empty.\n",
            "\n",
            "INFO:pytorch_lightning.accelerators.cuda:LOCAL_RANK: 0 - CUDA_VISIBLE_DEVICES: [0]\n"
          ]
        },
        {
          "output_type": "display_data",
          "data": {
            "text/plain": [
              "┏━━━┳━━━━━━━━━━━━━━━━━━┳━━━━━━━━━━━━━━━━━━━━━━━━━━━┳━━━━━━━━┳━━━━━━━┓\n",
              "┃\u001b[1;35m \u001b[0m\u001b[1;35m \u001b[0m\u001b[1;35m \u001b[0m┃\u001b[1;35m \u001b[0m\u001b[1;35mName            \u001b[0m\u001b[1;35m \u001b[0m┃\u001b[1;35m \u001b[0m\u001b[1;35mType                     \u001b[0m\u001b[1;35m \u001b[0m┃\u001b[1;35m \u001b[0m\u001b[1;35mParams\u001b[0m\u001b[1;35m \u001b[0m┃\u001b[1;35m \u001b[0m\u001b[1;35mMode \u001b[0m\u001b[1;35m \u001b[0m┃\n",
              "┡━━━╇━━━━━━━━━━━━━━━━━━╇━━━━━━━━━━━━━━━━━━━━━━━━━━━╇━━━━━━━━╇━━━━━━━┩\n",
              "│\u001b[2m \u001b[0m\u001b[2m0\u001b[0m\u001b[2m \u001b[0m│ _backbone        │ CategoryEmbeddingBackbone │    448 │ train │\n",
              "│\u001b[2m \u001b[0m\u001b[2m1\u001b[0m\u001b[2m \u001b[0m│ _embedding_layer │ Embedding1dLayer          │     26 │ train │\n",
              "│\u001b[2m \u001b[0m\u001b[2m2\u001b[0m\u001b[2m \u001b[0m│ head             │ LinearHead                │     66 │ train │\n",
              "│\u001b[2m \u001b[0m\u001b[2m3\u001b[0m\u001b[2m \u001b[0m│ loss             │ CrossEntropyLoss          │      0 │ train │\n",
              "└───┴──────────────────┴───────────────────────────┴────────┴───────┘\n"
            ],
            "text/html": [
              "<pre style=\"white-space:pre;overflow-x:auto;line-height:normal;font-family:Menlo,'DejaVu Sans Mono',consolas,'Courier New',monospace\">┏━━━┳━━━━━━━━━━━━━━━━━━┳━━━━━━━━━━━━━━━━━━━━━━━━━━━┳━━━━━━━━┳━━━━━━━┓\n",
              "┃<span style=\"color: #800080; text-decoration-color: #800080; font-weight: bold\">   </span>┃<span style=\"color: #800080; text-decoration-color: #800080; font-weight: bold\"> Name             </span>┃<span style=\"color: #800080; text-decoration-color: #800080; font-weight: bold\"> Type                      </span>┃<span style=\"color: #800080; text-decoration-color: #800080; font-weight: bold\"> Params </span>┃<span style=\"color: #800080; text-decoration-color: #800080; font-weight: bold\"> Mode  </span>┃\n",
              "┡━━━╇━━━━━━━━━━━━━━━━━━╇━━━━━━━━━━━━━━━━━━━━━━━━━━━╇━━━━━━━━╇━━━━━━━┩\n",
              "│<span style=\"color: #7f7f7f; text-decoration-color: #7f7f7f\"> 0 </span>│ _backbone        │ CategoryEmbeddingBackbone │    448 │ train │\n",
              "│<span style=\"color: #7f7f7f; text-decoration-color: #7f7f7f\"> 1 </span>│ _embedding_layer │ Embedding1dLayer          │     26 │ train │\n",
              "│<span style=\"color: #7f7f7f; text-decoration-color: #7f7f7f\"> 2 </span>│ head             │ LinearHead                │     66 │ train │\n",
              "│<span style=\"color: #7f7f7f; text-decoration-color: #7f7f7f\"> 3 </span>│ loss             │ CrossEntropyLoss          │      0 │ train │\n",
              "└───┴──────────────────┴───────────────────────────┴────────┴───────┘\n",
              "</pre>\n"
            ]
          },
          "metadata": {}
        },
        {
          "output_type": "display_data",
          "data": {
            "text/plain": [
              "\u001b[1mTrainable params\u001b[0m: 540                                                                                              \n",
              "\u001b[1mNon-trainable params\u001b[0m: 0                                                                                            \n",
              "\u001b[1mTotal params\u001b[0m: 540                                                                                                  \n",
              "\u001b[1mTotal estimated model params size (MB)\u001b[0m: 0                                                                          \n",
              "\u001b[1mModules in train mode\u001b[0m: 13                                                                                          \n",
              "\u001b[1mModules in eval mode\u001b[0m: 0                                                                                            \n"
            ],
            "text/html": [
              "<pre style=\"white-space:pre;overflow-x:auto;line-height:normal;font-family:Menlo,'DejaVu Sans Mono',consolas,'Courier New',monospace\"><span style=\"font-weight: bold\">Trainable params</span>: 540                                                                                              \n",
              "<span style=\"font-weight: bold\">Non-trainable params</span>: 0                                                                                            \n",
              "<span style=\"font-weight: bold\">Total params</span>: 540                                                                                                  \n",
              "<span style=\"font-weight: bold\">Total estimated model params size (MB)</span>: 0                                                                          \n",
              "<span style=\"font-weight: bold\">Modules in train mode</span>: 13                                                                                          \n",
              "<span style=\"font-weight: bold\">Modules in eval mode</span>: 0                                                                                            \n",
              "</pre>\n"
            ]
          },
          "metadata": {}
        },
        {
          "output_type": "display_data",
          "data": {
            "text/plain": [
              "Output()"
            ],
            "application/vnd.jupyter.widget-view+json": {
              "version_major": 2,
              "version_minor": 0,
              "model_id": "964e891a76c340e9a2f531dacbe0043e"
            }
          },
          "metadata": {}
        },
        {
          "output_type": "display_data",
          "data": {
            "text/plain": [
              "/usr/local/lib/python3.11/dist-packages/pytorch_lightning/loops/fit_loop.py:298: PossibleUserWarning:\n",
              "\n",
              "The number of training batches (32) is smaller than the logging interval Trainer(log_every_n_steps=50). Set a lower\n",
              "value for log_every_n_steps if you want to see logs for the training epoch.\n",
              "\n"
            ],
            "text/html": [
              "<pre style=\"white-space:pre;overflow-x:auto;line-height:normal;font-family:Menlo,'DejaVu Sans Mono',consolas,'Courier New',monospace\">/usr/local/lib/python3.11/dist-packages/pytorch_lightning/loops/fit_loop.py:298: PossibleUserWarning:\n",
              "\n",
              "The number of training batches (32) is smaller than the logging interval Trainer(log_every_n_steps=50). Set a lower\n",
              "value for log_every_n_steps if you want to see logs for the training epoch.\n",
              "\n",
              "</pre>\n"
            ]
          },
          "metadata": {}
        },
        {
          "output_type": "display_data",
          "data": {
            "text/plain": [],
            "text/html": [
              "<pre style=\"white-space:pre;overflow-x:auto;line-height:normal;font-family:Menlo,'DejaVu Sans Mono',consolas,'Courier New',monospace\"></pre>\n"
            ]
          },
          "metadata": {}
        },
        {
          "output_type": "stream",
          "name": "stderr",
          "text": [
            "INFO:pytorch_tabular.tabular_model:Training the model completed\n",
            "INFO:pytorch_tabular.tabular_model:Loading the best model\n",
            "/usr/local/lib/python3.11/dist-packages/pytorch_tabular/utils/python_utils.py:85: FutureWarning:\n",
            "\n",
            "You are using `torch.load` with `weights_only=False` (the current default value), which uses the default pickle module implicitly. It is possible to construct malicious pickle data which will execute arbitrary code during unpickling (See https://github.com/pytorch/pytorch/blob/main/SECURITY.md#untrusted-models for more details). In a future release, the default value for `weights_only` will be flipped to `True`. This limits the functions that could be executed during unpickling. Arbitrary objects will no longer be allowed to be loaded via this mode unless they are explicitly allowlisted by the user via `torch.serialization.add_safe_globals`. We recommend you start setting `weights_only=True` for any use case where you don't have full control of the loaded file. Please open an issue on GitHub for any issues related to this experimental feature.\n",
            "\n",
            "[I 2025-02-03 23:27:24,191] Trial 8 finished with value: 0.695852534562212 and parameters: {'learning_rate': 0.004655577302594902, 'dropout': 0.4567693153952437, 'hidden_layers': 1, 'hidden_dim': 32, 'batch_size': 32}. Best is trial 5 with value: 0.728110599078341.\n",
            "<ipython-input-8-dc4fa9dcc6b5>:20: FutureWarning:\n",
            "\n",
            "suggest_loguniform has been deprecated in v3.0.0. This feature will be removed in v6.0.0. See https://github.com/optuna/optuna/releases/tag/v3.0.0. Use suggest_float(..., log=True) instead.\n",
            "\n",
            "<ipython-input-8-dc4fa9dcc6b5>:21: FutureWarning:\n",
            "\n",
            "suggest_uniform has been deprecated in v3.0.0. This feature will be removed in v6.0.0. See https://github.com/optuna/optuna/releases/tag/v3.0.0. Use suggest_float instead.\n",
            "\n",
            "INFO:pytorch_tabular.tabular_model:Experiment Tracking is turned off\n",
            "INFO:lightning_fabric.utilities.seed:Seed set to 42\n",
            "INFO:pytorch_tabular.tabular_model:Preparing the DataLoaders\n",
            "INFO:pytorch_tabular.tabular_datamodule:Setting up the datamodule for classification task\n",
            "INFO:pytorch_tabular.tabular_model:Preparing the Model: CategoryEmbeddingModel\n",
            "INFO:pytorch_tabular.tabular_model:Preparing the Trainer\n",
            "INFO:pytorch_lightning.utilities.rank_zero:GPU available: True (cuda), used: True\n",
            "INFO:pytorch_lightning.utilities.rank_zero:TPU available: False, using: 0 TPU cores\n"
          ]
        },
        {
          "output_type": "stream",
          "name": "stdout",
          "text": [
            "Index(['TARGET_0_probability', 'TARGET_1_probability', 'TARGET_prediction'], dtype='object')\n"
          ]
        },
        {
          "output_type": "stream",
          "name": "stderr",
          "text": [
            "INFO:pytorch_lightning.utilities.rank_zero:HPU available: False, using: 0 HPUs\n",
            "INFO:pytorch_tabular.tabular_model:Training Started\n",
            "/usr/local/lib/python3.11/dist-packages/pytorch_lightning/callbacks/model_checkpoint.py:654: UserWarning:\n",
            "\n",
            "Checkpoint directory /content/saved_models exists and is not empty.\n",
            "\n",
            "INFO:pytorch_lightning.accelerators.cuda:LOCAL_RANK: 0 - CUDA_VISIBLE_DEVICES: [0]\n"
          ]
        },
        {
          "output_type": "display_data",
          "data": {
            "text/plain": [
              "┏━━━┳━━━━━━━━━━━━━━━━━━┳━━━━━━━━━━━━━━━━━━━━━━━━━━━┳━━━━━━━━┳━━━━━━━┓\n",
              "┃\u001b[1;35m \u001b[0m\u001b[1;35m \u001b[0m\u001b[1;35m \u001b[0m┃\u001b[1;35m \u001b[0m\u001b[1;35mName            \u001b[0m\u001b[1;35m \u001b[0m┃\u001b[1;35m \u001b[0m\u001b[1;35mType                     \u001b[0m\u001b[1;35m \u001b[0m┃\u001b[1;35m \u001b[0m\u001b[1;35mParams\u001b[0m\u001b[1;35m \u001b[0m┃\u001b[1;35m \u001b[0m\u001b[1;35mMode \u001b[0m\u001b[1;35m \u001b[0m┃\n",
              "┡━━━╇━━━━━━━━━━━━━━━━━━╇━━━━━━━━━━━━━━━━━━━━━━━━━━━╇━━━━━━━━╇━━━━━━━┩\n",
              "│\u001b[2m \u001b[0m\u001b[2m0\u001b[0m\u001b[2m \u001b[0m│ _backbone        │ CategoryEmbeddingBackbone │ 24.1 K │ train │\n",
              "│\u001b[2m \u001b[0m\u001b[2m1\u001b[0m\u001b[2m \u001b[0m│ _embedding_layer │ Embedding1dLayer          │     26 │ train │\n",
              "│\u001b[2m \u001b[0m\u001b[2m2\u001b[0m\u001b[2m \u001b[0m│ head             │ LinearHead                │    298 │ train │\n",
              "│\u001b[2m \u001b[0m\u001b[2m3\u001b[0m\u001b[2m \u001b[0m│ loss             │ CrossEntropyLoss          │      0 │ train │\n",
              "└───┴──────────────────┴───────────────────────────┴────────┴───────┘\n"
            ],
            "text/html": [
              "<pre style=\"white-space:pre;overflow-x:auto;line-height:normal;font-family:Menlo,'DejaVu Sans Mono',consolas,'Courier New',monospace\">┏━━━┳━━━━━━━━━━━━━━━━━━┳━━━━━━━━━━━━━━━━━━━━━━━━━━━┳━━━━━━━━┳━━━━━━━┓\n",
              "┃<span style=\"color: #800080; text-decoration-color: #800080; font-weight: bold\">   </span>┃<span style=\"color: #800080; text-decoration-color: #800080; font-weight: bold\"> Name             </span>┃<span style=\"color: #800080; text-decoration-color: #800080; font-weight: bold\"> Type                      </span>┃<span style=\"color: #800080; text-decoration-color: #800080; font-weight: bold\"> Params </span>┃<span style=\"color: #800080; text-decoration-color: #800080; font-weight: bold\"> Mode  </span>┃\n",
              "┡━━━╇━━━━━━━━━━━━━━━━━━╇━━━━━━━━━━━━━━━━━━━━━━━━━━━╇━━━━━━━━╇━━━━━━━┩\n",
              "│<span style=\"color: #7f7f7f; text-decoration-color: #7f7f7f\"> 0 </span>│ _backbone        │ CategoryEmbeddingBackbone │ 24.1 K │ train │\n",
              "│<span style=\"color: #7f7f7f; text-decoration-color: #7f7f7f\"> 1 </span>│ _embedding_layer │ Embedding1dLayer          │     26 │ train │\n",
              "│<span style=\"color: #7f7f7f; text-decoration-color: #7f7f7f\"> 2 </span>│ head             │ LinearHead                │    298 │ train │\n",
              "│<span style=\"color: #7f7f7f; text-decoration-color: #7f7f7f\"> 3 </span>│ loss             │ CrossEntropyLoss          │      0 │ train │\n",
              "└───┴──────────────────┴───────────────────────────┴────────┴───────┘\n",
              "</pre>\n"
            ]
          },
          "metadata": {}
        },
        {
          "output_type": "display_data",
          "data": {
            "text/plain": [
              "\u001b[1mTrainable params\u001b[0m: 24.4 K                                                                                           \n",
              "\u001b[1mNon-trainable params\u001b[0m: 0                                                                                            \n",
              "\u001b[1mTotal params\u001b[0m: 24.4 K                                                                                               \n",
              "\u001b[1mTotal estimated model params size (MB)\u001b[0m: 0                                                                          \n",
              "\u001b[1mModules in train mode\u001b[0m: 16                                                                                          \n",
              "\u001b[1mModules in eval mode\u001b[0m: 0                                                                                            \n"
            ],
            "text/html": [
              "<pre style=\"white-space:pre;overflow-x:auto;line-height:normal;font-family:Menlo,'DejaVu Sans Mono',consolas,'Courier New',monospace\"><span style=\"font-weight: bold\">Trainable params</span>: 24.4 K                                                                                           \n",
              "<span style=\"font-weight: bold\">Non-trainable params</span>: 0                                                                                            \n",
              "<span style=\"font-weight: bold\">Total params</span>: 24.4 K                                                                                               \n",
              "<span style=\"font-weight: bold\">Total estimated model params size (MB)</span>: 0                                                                          \n",
              "<span style=\"font-weight: bold\">Modules in train mode</span>: 16                                                                                          \n",
              "<span style=\"font-weight: bold\">Modules in eval mode</span>: 0                                                                                            \n",
              "</pre>\n"
            ]
          },
          "metadata": {}
        },
        {
          "output_type": "display_data",
          "data": {
            "text/plain": [
              "Output()"
            ],
            "application/vnd.jupyter.widget-view+json": {
              "version_major": 2,
              "version_minor": 0,
              "model_id": "d262887cc9cf4ae980d6f80328bd1855"
            }
          },
          "metadata": {}
        },
        {
          "output_type": "display_data",
          "data": {
            "text/plain": [
              "/usr/local/lib/python3.11/dist-packages/pytorch_lightning/loops/fit_loop.py:298: PossibleUserWarning:\n",
              "\n",
              "The number of training batches (16) is smaller than the logging interval Trainer(log_every_n_steps=50). Set a lower\n",
              "value for log_every_n_steps if you want to see logs for the training epoch.\n",
              "\n"
            ],
            "text/html": [
              "<pre style=\"white-space:pre;overflow-x:auto;line-height:normal;font-family:Menlo,'DejaVu Sans Mono',consolas,'Courier New',monospace\">/usr/local/lib/python3.11/dist-packages/pytorch_lightning/loops/fit_loop.py:298: PossibleUserWarning:\n",
              "\n",
              "The number of training batches (16) is smaller than the logging interval Trainer(log_every_n_steps=50). Set a lower\n",
              "value for log_every_n_steps if you want to see logs for the training epoch.\n",
              "\n",
              "</pre>\n"
            ]
          },
          "metadata": {}
        },
        {
          "output_type": "display_data",
          "data": {
            "text/plain": [],
            "text/html": [
              "<pre style=\"white-space:pre;overflow-x:auto;line-height:normal;font-family:Menlo,'DejaVu Sans Mono',consolas,'Courier New',monospace\"></pre>\n"
            ]
          },
          "metadata": {}
        },
        {
          "output_type": "stream",
          "name": "stderr",
          "text": [
            "INFO:pytorch_tabular.tabular_model:Training the model completed\n",
            "INFO:pytorch_tabular.tabular_model:Loading the best model\n",
            "/usr/local/lib/python3.11/dist-packages/pytorch_tabular/utils/python_utils.py:85: FutureWarning:\n",
            "\n",
            "You are using `torch.load` with `weights_only=False` (the current default value), which uses the default pickle module implicitly. It is possible to construct malicious pickle data which will execute arbitrary code during unpickling (See https://github.com/pytorch/pytorch/blob/main/SECURITY.md#untrusted-models for more details). In a future release, the default value for `weights_only` will be flipped to `True`. This limits the functions that could be executed during unpickling. Arbitrary objects will no longer be allowed to be loaded via this mode unless they are explicitly allowlisted by the user via `torch.serialization.add_safe_globals`. We recommend you start setting `weights_only=True` for any use case where you don't have full control of the loaded file. Please open an issue on GitHub for any issues related to this experimental feature.\n",
            "\n",
            "[I 2025-02-03 23:27:32,360] Trial 9 finished with value: 0.6866359447004609 and parameters: {'learning_rate': 0.06331115211570743, 'dropout': 0.31492244229160843, 'hidden_layers': 2, 'hidden_dim': 148, 'batch_size': 64}. Best is trial 5 with value: 0.728110599078341.\n",
            "<ipython-input-8-dc4fa9dcc6b5>:20: FutureWarning:\n",
            "\n",
            "suggest_loguniform has been deprecated in v3.0.0. This feature will be removed in v6.0.0. See https://github.com/optuna/optuna/releases/tag/v3.0.0. Use suggest_float(..., log=True) instead.\n",
            "\n",
            "<ipython-input-8-dc4fa9dcc6b5>:21: FutureWarning:\n",
            "\n",
            "suggest_uniform has been deprecated in v3.0.0. This feature will be removed in v6.0.0. See https://github.com/optuna/optuna/releases/tag/v3.0.0. Use suggest_float instead.\n",
            "\n",
            "INFO:pytorch_tabular.tabular_model:Experiment Tracking is turned off\n",
            "INFO:lightning_fabric.utilities.seed:Seed set to 42\n",
            "INFO:pytorch_tabular.tabular_model:Preparing the DataLoaders\n",
            "INFO:pytorch_tabular.tabular_datamodule:Setting up the datamodule for classification task\n",
            "INFO:pytorch_tabular.tabular_model:Preparing the Model: CategoryEmbeddingModel\n",
            "INFO:pytorch_tabular.tabular_model:Preparing the Trainer\n"
          ]
        },
        {
          "output_type": "stream",
          "name": "stdout",
          "text": [
            "Index(['TARGET_0_probability', 'TARGET_1_probability', 'TARGET_prediction'], dtype='object')\n"
          ]
        },
        {
          "output_type": "stream",
          "name": "stderr",
          "text": [
            "INFO:pytorch_lightning.utilities.rank_zero:GPU available: True (cuda), used: True\n",
            "INFO:pytorch_lightning.utilities.rank_zero:TPU available: False, using: 0 TPU cores\n",
            "INFO:pytorch_lightning.utilities.rank_zero:HPU available: False, using: 0 HPUs\n",
            "INFO:pytorch_tabular.tabular_model:Training Started\n",
            "/usr/local/lib/python3.11/dist-packages/pytorch_lightning/callbacks/model_checkpoint.py:654: UserWarning:\n",
            "\n",
            "Checkpoint directory /content/saved_models exists and is not empty.\n",
            "\n",
            "INFO:pytorch_lightning.accelerators.cuda:LOCAL_RANK: 0 - CUDA_VISIBLE_DEVICES: [0]\n"
          ]
        },
        {
          "output_type": "display_data",
          "data": {
            "text/plain": [
              "┏━━━┳━━━━━━━━━━━━━━━━━━┳━━━━━━━━━━━━━━━━━━━━━━━━━━━┳━━━━━━━━┳━━━━━━━┓\n",
              "┃\u001b[1;35m \u001b[0m\u001b[1;35m \u001b[0m\u001b[1;35m \u001b[0m┃\u001b[1;35m \u001b[0m\u001b[1;35mName            \u001b[0m\u001b[1;35m \u001b[0m┃\u001b[1;35m \u001b[0m\u001b[1;35mType                     \u001b[0m\u001b[1;35m \u001b[0m┃\u001b[1;35m \u001b[0m\u001b[1;35mParams\u001b[0m\u001b[1;35m \u001b[0m┃\u001b[1;35m \u001b[0m\u001b[1;35mMode \u001b[0m\u001b[1;35m \u001b[0m┃\n",
              "┡━━━╇━━━━━━━━━━━━━━━━━━╇━━━━━━━━━━━━━━━━━━━━━━━━━━━╇━━━━━━━━╇━━━━━━━┩\n",
              "│\u001b[2m \u001b[0m\u001b[2m0\u001b[0m\u001b[2m \u001b[0m│ _backbone        │ CategoryEmbeddingBackbone │ 66.8 K │ train │\n",
              "│\u001b[2m \u001b[0m\u001b[2m1\u001b[0m\u001b[2m \u001b[0m│ _embedding_layer │ Embedding1dLayer          │     26 │ train │\n",
              "│\u001b[2m \u001b[0m\u001b[2m2\u001b[0m\u001b[2m \u001b[0m│ head             │ LinearHead                │    504 │ train │\n",
              "│\u001b[2m \u001b[0m\u001b[2m3\u001b[0m\u001b[2m \u001b[0m│ loss             │ CrossEntropyLoss          │      0 │ train │\n",
              "└───┴──────────────────┴───────────────────────────┴────────┴───────┘\n"
            ],
            "text/html": [
              "<pre style=\"white-space:pre;overflow-x:auto;line-height:normal;font-family:Menlo,'DejaVu Sans Mono',consolas,'Courier New',monospace\">┏━━━┳━━━━━━━━━━━━━━━━━━┳━━━━━━━━━━━━━━━━━━━━━━━━━━━┳━━━━━━━━┳━━━━━━━┓\n",
              "┃<span style=\"color: #800080; text-decoration-color: #800080; font-weight: bold\">   </span>┃<span style=\"color: #800080; text-decoration-color: #800080; font-weight: bold\"> Name             </span>┃<span style=\"color: #800080; text-decoration-color: #800080; font-weight: bold\"> Type                      </span>┃<span style=\"color: #800080; text-decoration-color: #800080; font-weight: bold\"> Params </span>┃<span style=\"color: #800080; text-decoration-color: #800080; font-weight: bold\"> Mode  </span>┃\n",
              "┡━━━╇━━━━━━━━━━━━━━━━━━╇━━━━━━━━━━━━━━━━━━━━━━━━━━━╇━━━━━━━━╇━━━━━━━┩\n",
              "│<span style=\"color: #7f7f7f; text-decoration-color: #7f7f7f\"> 0 </span>│ _backbone        │ CategoryEmbeddingBackbone │ 66.8 K │ train │\n",
              "│<span style=\"color: #7f7f7f; text-decoration-color: #7f7f7f\"> 1 </span>│ _embedding_layer │ Embedding1dLayer          │     26 │ train │\n",
              "│<span style=\"color: #7f7f7f; text-decoration-color: #7f7f7f\"> 2 </span>│ head             │ LinearHead                │    504 │ train │\n",
              "│<span style=\"color: #7f7f7f; text-decoration-color: #7f7f7f\"> 3 </span>│ loss             │ CrossEntropyLoss          │      0 │ train │\n",
              "└───┴──────────────────┴───────────────────────────┴────────┴───────┘\n",
              "</pre>\n"
            ]
          },
          "metadata": {}
        },
        {
          "output_type": "display_data",
          "data": {
            "text/plain": [
              "\u001b[1mTrainable params\u001b[0m: 67.3 K                                                                                           \n",
              "\u001b[1mNon-trainable params\u001b[0m: 0                                                                                            \n",
              "\u001b[1mTotal params\u001b[0m: 67.3 K                                                                                               \n",
              "\u001b[1mTotal estimated model params size (MB)\u001b[0m: 0                                                                          \n",
              "\u001b[1mModules in train mode\u001b[0m: 16                                                                                          \n",
              "\u001b[1mModules in eval mode\u001b[0m: 0                                                                                            \n"
            ],
            "text/html": [
              "<pre style=\"white-space:pre;overflow-x:auto;line-height:normal;font-family:Menlo,'DejaVu Sans Mono',consolas,'Courier New',monospace\"><span style=\"font-weight: bold\">Trainable params</span>: 67.3 K                                                                                           \n",
              "<span style=\"font-weight: bold\">Non-trainable params</span>: 0                                                                                            \n",
              "<span style=\"font-weight: bold\">Total params</span>: 67.3 K                                                                                               \n",
              "<span style=\"font-weight: bold\">Total estimated model params size (MB)</span>: 0                                                                          \n",
              "<span style=\"font-weight: bold\">Modules in train mode</span>: 16                                                                                          \n",
              "<span style=\"font-weight: bold\">Modules in eval mode</span>: 0                                                                                            \n",
              "</pre>\n"
            ]
          },
          "metadata": {}
        },
        {
          "output_type": "display_data",
          "data": {
            "text/plain": [
              "Output()"
            ],
            "application/vnd.jupyter.widget-view+json": {
              "version_major": 2,
              "version_minor": 0,
              "model_id": "cfeeb50ca68e44eca744cbb3000251cd"
            }
          },
          "metadata": {}
        },
        {
          "output_type": "display_data",
          "data": {
            "text/plain": [
              "/usr/local/lib/python3.11/dist-packages/pytorch_lightning/loops/fit_loop.py:298: PossibleUserWarning:\n",
              "\n",
              "The number of training batches (8) is smaller than the logging interval Trainer(log_every_n_steps=50). Set a lower \n",
              "value for log_every_n_steps if you want to see logs for the training epoch.\n",
              "\n"
            ],
            "text/html": [
              "<pre style=\"white-space:pre;overflow-x:auto;line-height:normal;font-family:Menlo,'DejaVu Sans Mono',consolas,'Courier New',monospace\">/usr/local/lib/python3.11/dist-packages/pytorch_lightning/loops/fit_loop.py:298: PossibleUserWarning:\n",
              "\n",
              "The number of training batches (8) is smaller than the logging interval Trainer(log_every_n_steps=50). Set a lower \n",
              "value for log_every_n_steps if you want to see logs for the training epoch.\n",
              "\n",
              "</pre>\n"
            ]
          },
          "metadata": {}
        },
        {
          "output_type": "display_data",
          "data": {
            "text/plain": [],
            "text/html": [
              "<pre style=\"white-space:pre;overflow-x:auto;line-height:normal;font-family:Menlo,'DejaVu Sans Mono',consolas,'Courier New',monospace\"></pre>\n"
            ]
          },
          "metadata": {}
        },
        {
          "output_type": "stream",
          "name": "stderr",
          "text": [
            "INFO:pytorch_tabular.tabular_model:Training the model completed\n",
            "INFO:pytorch_tabular.tabular_model:Loading the best model\n",
            "/usr/local/lib/python3.11/dist-packages/pytorch_tabular/utils/python_utils.py:85: FutureWarning:\n",
            "\n",
            "You are using `torch.load` with `weights_only=False` (the current default value), which uses the default pickle module implicitly. It is possible to construct malicious pickle data which will execute arbitrary code during unpickling (See https://github.com/pytorch/pytorch/blob/main/SECURITY.md#untrusted-models for more details). In a future release, the default value for `weights_only` will be flipped to `True`. This limits the functions that could be executed during unpickling. Arbitrary objects will no longer be allowed to be loaded via this mode unless they are explicitly allowlisted by the user via `torch.serialization.add_safe_globals`. We recommend you start setting `weights_only=True` for any use case where you don't have full control of the loaded file. Please open an issue on GitHub for any issues related to this experimental feature.\n",
            "\n",
            "[I 2025-02-03 23:27:35,151] Trial 10 finished with value: 0.7235023041474654 and parameters: {'learning_rate': 0.000569346575485699, 'dropout': 0.41818138805707705, 'hidden_layers': 2, 'hidden_dim': 251, 'batch_size': 128}. Best is trial 5 with value: 0.728110599078341.\n",
            "<ipython-input-8-dc4fa9dcc6b5>:20: FutureWarning:\n",
            "\n",
            "suggest_loguniform has been deprecated in v3.0.0. This feature will be removed in v6.0.0. See https://github.com/optuna/optuna/releases/tag/v3.0.0. Use suggest_float(..., log=True) instead.\n",
            "\n",
            "<ipython-input-8-dc4fa9dcc6b5>:21: FutureWarning:\n",
            "\n",
            "suggest_uniform has been deprecated in v3.0.0. This feature will be removed in v6.0.0. See https://github.com/optuna/optuna/releases/tag/v3.0.0. Use suggest_float instead.\n",
            "\n",
            "INFO:pytorch_tabular.tabular_model:Experiment Tracking is turned off\n",
            "INFO:lightning_fabric.utilities.seed:Seed set to 42\n",
            "INFO:pytorch_tabular.tabular_model:Preparing the DataLoaders\n",
            "INFO:pytorch_tabular.tabular_datamodule:Setting up the datamodule for classification task\n",
            "INFO:pytorch_tabular.tabular_model:Preparing the Model: CategoryEmbeddingModel\n",
            "INFO:pytorch_tabular.tabular_model:Preparing the Trainer\n",
            "INFO:pytorch_lightning.utilities.rank_zero:GPU available: True (cuda), used: True\n",
            "INFO:pytorch_lightning.utilities.rank_zero:TPU available: False, using: 0 TPU cores\n",
            "INFO:pytorch_lightning.utilities.rank_zero:HPU available: False, using: 0 HPUs\n",
            "INFO:pytorch_tabular.tabular_model:Training Started\n",
            "/usr/local/lib/python3.11/dist-packages/pytorch_lightning/callbacks/model_checkpoint.py:654: UserWarning:\n",
            "\n",
            "Checkpoint directory /content/saved_models exists and is not empty.\n",
            "\n",
            "INFO:pytorch_lightning.accelerators.cuda:LOCAL_RANK: 0 - CUDA_VISIBLE_DEVICES: [0]\n"
          ]
        },
        {
          "output_type": "stream",
          "name": "stdout",
          "text": [
            "Index(['TARGET_0_probability', 'TARGET_1_probability', 'TARGET_prediction'], dtype='object')\n"
          ]
        },
        {
          "output_type": "display_data",
          "data": {
            "text/plain": [
              "┏━━━┳━━━━━━━━━━━━━━━━━━┳━━━━━━━━━━━━━━━━━━━━━━━━━━━┳━━━━━━━━┳━━━━━━━┓\n",
              "┃\u001b[1;35m \u001b[0m\u001b[1;35m \u001b[0m\u001b[1;35m \u001b[0m┃\u001b[1;35m \u001b[0m\u001b[1;35mName            \u001b[0m\u001b[1;35m \u001b[0m┃\u001b[1;35m \u001b[0m\u001b[1;35mType                     \u001b[0m\u001b[1;35m \u001b[0m┃\u001b[1;35m \u001b[0m\u001b[1;35mParams\u001b[0m\u001b[1;35m \u001b[0m┃\u001b[1;35m \u001b[0m\u001b[1;35mMode \u001b[0m\u001b[1;35m \u001b[0m┃\n",
              "┡━━━╇━━━━━━━━━━━━━━━━━━╇━━━━━━━━━━━━━━━━━━━━━━━━━━━╇━━━━━━━━╇━━━━━━━┩\n",
              "│\u001b[2m \u001b[0m\u001b[2m0\u001b[0m\u001b[2m \u001b[0m│ _backbone        │ CategoryEmbeddingBackbone │ 17.3 K │ train │\n",
              "│\u001b[2m \u001b[0m\u001b[2m1\u001b[0m\u001b[2m \u001b[0m│ _embedding_layer │ Embedding1dLayer          │     26 │ train │\n",
              "│\u001b[2m \u001b[0m\u001b[2m2\u001b[0m\u001b[2m \u001b[0m│ head             │ LinearHead                │    180 │ train │\n",
              "│\u001b[2m \u001b[0m\u001b[2m3\u001b[0m\u001b[2m \u001b[0m│ loss             │ CrossEntropyLoss          │      0 │ train │\n",
              "└───┴──────────────────┴───────────────────────────┴────────┴───────┘\n"
            ],
            "text/html": [
              "<pre style=\"white-space:pre;overflow-x:auto;line-height:normal;font-family:Menlo,'DejaVu Sans Mono',consolas,'Courier New',monospace\">┏━━━┳━━━━━━━━━━━━━━━━━━┳━━━━━━━━━━━━━━━━━━━━━━━━━━━┳━━━━━━━━┳━━━━━━━┓\n",
              "┃<span style=\"color: #800080; text-decoration-color: #800080; font-weight: bold\">   </span>┃<span style=\"color: #800080; text-decoration-color: #800080; font-weight: bold\"> Name             </span>┃<span style=\"color: #800080; text-decoration-color: #800080; font-weight: bold\"> Type                      </span>┃<span style=\"color: #800080; text-decoration-color: #800080; font-weight: bold\"> Params </span>┃<span style=\"color: #800080; text-decoration-color: #800080; font-weight: bold\"> Mode  </span>┃\n",
              "┡━━━╇━━━━━━━━━━━━━━━━━━╇━━━━━━━━━━━━━━━━━━━━━━━━━━━╇━━━━━━━━╇━━━━━━━┩\n",
              "│<span style=\"color: #7f7f7f; text-decoration-color: #7f7f7f\"> 0 </span>│ _backbone        │ CategoryEmbeddingBackbone │ 17.3 K │ train │\n",
              "│<span style=\"color: #7f7f7f; text-decoration-color: #7f7f7f\"> 1 </span>│ _embedding_layer │ Embedding1dLayer          │     26 │ train │\n",
              "│<span style=\"color: #7f7f7f; text-decoration-color: #7f7f7f\"> 2 </span>│ head             │ LinearHead                │    180 │ train │\n",
              "│<span style=\"color: #7f7f7f; text-decoration-color: #7f7f7f\"> 3 </span>│ loss             │ CrossEntropyLoss          │      0 │ train │\n",
              "└───┴──────────────────┴───────────────────────────┴────────┴───────┘\n",
              "</pre>\n"
            ]
          },
          "metadata": {}
        },
        {
          "output_type": "display_data",
          "data": {
            "text/plain": [
              "\u001b[1mTrainable params\u001b[0m: 17.5 K                                                                                           \n",
              "\u001b[1mNon-trainable params\u001b[0m: 0                                                                                            \n",
              "\u001b[1mTotal params\u001b[0m: 17.5 K                                                                                               \n",
              "\u001b[1mTotal estimated model params size (MB)\u001b[0m: 0                                                                          \n",
              "\u001b[1mModules in train mode\u001b[0m: 19                                                                                          \n",
              "\u001b[1mModules in eval mode\u001b[0m: 0                                                                                            \n"
            ],
            "text/html": [
              "<pre style=\"white-space:pre;overflow-x:auto;line-height:normal;font-family:Menlo,'DejaVu Sans Mono',consolas,'Courier New',monospace\"><span style=\"font-weight: bold\">Trainable params</span>: 17.5 K                                                                                           \n",
              "<span style=\"font-weight: bold\">Non-trainable params</span>: 0                                                                                            \n",
              "<span style=\"font-weight: bold\">Total params</span>: 17.5 K                                                                                               \n",
              "<span style=\"font-weight: bold\">Total estimated model params size (MB)</span>: 0                                                                          \n",
              "<span style=\"font-weight: bold\">Modules in train mode</span>: 19                                                                                          \n",
              "<span style=\"font-weight: bold\">Modules in eval mode</span>: 0                                                                                            \n",
              "</pre>\n"
            ]
          },
          "metadata": {}
        },
        {
          "output_type": "display_data",
          "data": {
            "text/plain": [
              "Output()"
            ],
            "application/vnd.jupyter.widget-view+json": {
              "version_major": 2,
              "version_minor": 0,
              "model_id": "6878f267032446f9b0fe31959ab8a79e"
            }
          },
          "metadata": {}
        },
        {
          "output_type": "display_data",
          "data": {
            "text/plain": [
              "/usr/local/lib/python3.11/dist-packages/pytorch_lightning/loops/fit_loop.py:298: PossibleUserWarning:\n",
              "\n",
              "The number of training batches (8) is smaller than the logging interval Trainer(log_every_n_steps=50). Set a lower \n",
              "value for log_every_n_steps if you want to see logs for the training epoch.\n",
              "\n"
            ],
            "text/html": [
              "<pre style=\"white-space:pre;overflow-x:auto;line-height:normal;font-family:Menlo,'DejaVu Sans Mono',consolas,'Courier New',monospace\">/usr/local/lib/python3.11/dist-packages/pytorch_lightning/loops/fit_loop.py:298: PossibleUserWarning:\n",
              "\n",
              "The number of training batches (8) is smaller than the logging interval Trainer(log_every_n_steps=50). Set a lower \n",
              "value for log_every_n_steps if you want to see logs for the training epoch.\n",
              "\n",
              "</pre>\n"
            ]
          },
          "metadata": {}
        },
        {
          "output_type": "display_data",
          "data": {
            "text/plain": [],
            "text/html": [
              "<pre style=\"white-space:pre;overflow-x:auto;line-height:normal;font-family:Menlo,'DejaVu Sans Mono',consolas,'Courier New',monospace\"></pre>\n"
            ]
          },
          "metadata": {}
        },
        {
          "output_type": "stream",
          "name": "stderr",
          "text": [
            "INFO:pytorch_tabular.tabular_model:Training the model completed\n",
            "INFO:pytorch_tabular.tabular_model:Loading the best model\n",
            "/usr/local/lib/python3.11/dist-packages/pytorch_tabular/utils/python_utils.py:85: FutureWarning:\n",
            "\n",
            "You are using `torch.load` with `weights_only=False` (the current default value), which uses the default pickle module implicitly. It is possible to construct malicious pickle data which will execute arbitrary code during unpickling (See https://github.com/pytorch/pytorch/blob/main/SECURITY.md#untrusted-models for more details). In a future release, the default value for `weights_only` will be flipped to `True`. This limits the functions that could be executed during unpickling. Arbitrary objects will no longer be allowed to be loaded via this mode unless they are explicitly allowlisted by the user via `torch.serialization.add_safe_globals`. We recommend you start setting `weights_only=True` for any use case where you don't have full control of the loaded file. Please open an issue on GitHub for any issues related to this experimental feature.\n",
            "\n",
            "[I 2025-02-03 23:27:39,337] Trial 11 finished with value: 0.6774193548387096 and parameters: {'learning_rate': 0.001197776927632019, 'dropout': 0.2798128682711001, 'hidden_layers': 3, 'hidden_dim': 89, 'batch_size': 128}. Best is trial 5 with value: 0.728110599078341.\n",
            "<ipython-input-8-dc4fa9dcc6b5>:20: FutureWarning:\n",
            "\n",
            "suggest_loguniform has been deprecated in v3.0.0. This feature will be removed in v6.0.0. See https://github.com/optuna/optuna/releases/tag/v3.0.0. Use suggest_float(..., log=True) instead.\n",
            "\n",
            "<ipython-input-8-dc4fa9dcc6b5>:21: FutureWarning:\n",
            "\n",
            "suggest_uniform has been deprecated in v3.0.0. This feature will be removed in v6.0.0. See https://github.com/optuna/optuna/releases/tag/v3.0.0. Use suggest_float instead.\n",
            "\n",
            "INFO:pytorch_tabular.tabular_model:Experiment Tracking is turned off\n",
            "INFO:lightning_fabric.utilities.seed:Seed set to 42\n",
            "INFO:pytorch_tabular.tabular_model:Preparing the DataLoaders\n",
            "INFO:pytorch_tabular.tabular_datamodule:Setting up the datamodule for classification task\n",
            "INFO:pytorch_tabular.tabular_model:Preparing the Model: CategoryEmbeddingModel\n",
            "INFO:pytorch_tabular.tabular_model:Preparing the Trainer\n"
          ]
        },
        {
          "output_type": "stream",
          "name": "stdout",
          "text": [
            "Index(['TARGET_0_probability', 'TARGET_1_probability', 'TARGET_prediction'], dtype='object')\n"
          ]
        },
        {
          "output_type": "stream",
          "name": "stderr",
          "text": [
            "INFO:pytorch_lightning.utilities.rank_zero:GPU available: True (cuda), used: True\n",
            "INFO:pytorch_lightning.utilities.rank_zero:TPU available: False, using: 0 TPU cores\n",
            "INFO:pytorch_lightning.utilities.rank_zero:HPU available: False, using: 0 HPUs\n",
            "INFO:pytorch_tabular.tabular_model:Training Started\n",
            "/usr/local/lib/python3.11/dist-packages/pytorch_lightning/callbacks/model_checkpoint.py:654: UserWarning:\n",
            "\n",
            "Checkpoint directory /content/saved_models exists and is not empty.\n",
            "\n",
            "INFO:pytorch_lightning.accelerators.cuda:LOCAL_RANK: 0 - CUDA_VISIBLE_DEVICES: [0]\n"
          ]
        },
        {
          "output_type": "display_data",
          "data": {
            "text/plain": [
              "┏━━━┳━━━━━━━━━━━━━━━━━━┳━━━━━━━━━━━━━━━━━━━━━━━━━━━┳━━━━━━━━┳━━━━━━━┓\n",
              "┃\u001b[1;35m \u001b[0m\u001b[1;35m \u001b[0m\u001b[1;35m \u001b[0m┃\u001b[1;35m \u001b[0m\u001b[1;35mName            \u001b[0m\u001b[1;35m \u001b[0m┃\u001b[1;35m \u001b[0m\u001b[1;35mType                     \u001b[0m\u001b[1;35m \u001b[0m┃\u001b[1;35m \u001b[0m\u001b[1;35mParams\u001b[0m\u001b[1;35m \u001b[0m┃\u001b[1;35m \u001b[0m\u001b[1;35mMode \u001b[0m\u001b[1;35m \u001b[0m┃\n",
              "┡━━━╇━━━━━━━━━━━━━━━━━━╇━━━━━━━━━━━━━━━━━━━━━━━━━━━╇━━━━━━━━╇━━━━━━━┩\n",
              "│\u001b[2m \u001b[0m\u001b[2m0\u001b[0m\u001b[2m \u001b[0m│ _backbone        │ CategoryEmbeddingBackbone │ 21.6 K │ train │\n",
              "│\u001b[2m \u001b[0m\u001b[2m1\u001b[0m\u001b[2m \u001b[0m│ _embedding_layer │ Embedding1dLayer          │     26 │ train │\n",
              "│\u001b[2m \u001b[0m\u001b[2m2\u001b[0m\u001b[2m \u001b[0m│ head             │ LinearHead                │    202 │ train │\n",
              "│\u001b[2m \u001b[0m\u001b[2m3\u001b[0m\u001b[2m \u001b[0m│ loss             │ CrossEntropyLoss          │      0 │ train │\n",
              "└───┴──────────────────┴───────────────────────────┴────────┴───────┘\n"
            ],
            "text/html": [
              "<pre style=\"white-space:pre;overflow-x:auto;line-height:normal;font-family:Menlo,'DejaVu Sans Mono',consolas,'Courier New',monospace\">┏━━━┳━━━━━━━━━━━━━━━━━━┳━━━━━━━━━━━━━━━━━━━━━━━━━━━┳━━━━━━━━┳━━━━━━━┓\n",
              "┃<span style=\"color: #800080; text-decoration-color: #800080; font-weight: bold\">   </span>┃<span style=\"color: #800080; text-decoration-color: #800080; font-weight: bold\"> Name             </span>┃<span style=\"color: #800080; text-decoration-color: #800080; font-weight: bold\"> Type                      </span>┃<span style=\"color: #800080; text-decoration-color: #800080; font-weight: bold\"> Params </span>┃<span style=\"color: #800080; text-decoration-color: #800080; font-weight: bold\"> Mode  </span>┃\n",
              "┡━━━╇━━━━━━━━━━━━━━━━━━╇━━━━━━━━━━━━━━━━━━━━━━━━━━━╇━━━━━━━━╇━━━━━━━┩\n",
              "│<span style=\"color: #7f7f7f; text-decoration-color: #7f7f7f\"> 0 </span>│ _backbone        │ CategoryEmbeddingBackbone │ 21.6 K │ train │\n",
              "│<span style=\"color: #7f7f7f; text-decoration-color: #7f7f7f\"> 1 </span>│ _embedding_layer │ Embedding1dLayer          │     26 │ train │\n",
              "│<span style=\"color: #7f7f7f; text-decoration-color: #7f7f7f\"> 2 </span>│ head             │ LinearHead                │    202 │ train │\n",
              "│<span style=\"color: #7f7f7f; text-decoration-color: #7f7f7f\"> 3 </span>│ loss             │ CrossEntropyLoss          │      0 │ train │\n",
              "└───┴──────────────────┴───────────────────────────┴────────┴───────┘\n",
              "</pre>\n"
            ]
          },
          "metadata": {}
        },
        {
          "output_type": "display_data",
          "data": {
            "text/plain": [
              "\u001b[1mTrainable params\u001b[0m: 21.8 K                                                                                           \n",
              "\u001b[1mNon-trainable params\u001b[0m: 0                                                                                            \n",
              "\u001b[1mTotal params\u001b[0m: 21.8 K                                                                                               \n",
              "\u001b[1mTotal estimated model params size (MB)\u001b[0m: 0                                                                          \n",
              "\u001b[1mModules in train mode\u001b[0m: 19                                                                                          \n",
              "\u001b[1mModules in eval mode\u001b[0m: 0                                                                                            \n"
            ],
            "text/html": [
              "<pre style=\"white-space:pre;overflow-x:auto;line-height:normal;font-family:Menlo,'DejaVu Sans Mono',consolas,'Courier New',monospace\"><span style=\"font-weight: bold\">Trainable params</span>: 21.8 K                                                                                           \n",
              "<span style=\"font-weight: bold\">Non-trainable params</span>: 0                                                                                            \n",
              "<span style=\"font-weight: bold\">Total params</span>: 21.8 K                                                                                               \n",
              "<span style=\"font-weight: bold\">Total estimated model params size (MB)</span>: 0                                                                          \n",
              "<span style=\"font-weight: bold\">Modules in train mode</span>: 19                                                                                          \n",
              "<span style=\"font-weight: bold\">Modules in eval mode</span>: 0                                                                                            \n",
              "</pre>\n"
            ]
          },
          "metadata": {}
        },
        {
          "output_type": "display_data",
          "data": {
            "text/plain": [
              "Output()"
            ],
            "application/vnd.jupyter.widget-view+json": {
              "version_major": 2,
              "version_minor": 0,
              "model_id": "3c0f56f4a3604002ab0e4ad93d555dad"
            }
          },
          "metadata": {}
        },
        {
          "output_type": "display_data",
          "data": {
            "text/plain": [
              "/usr/local/lib/python3.11/dist-packages/pytorch_lightning/loops/fit_loop.py:298: PossibleUserWarning:\n",
              "\n",
              "The number of training batches (16) is smaller than the logging interval Trainer(log_every_n_steps=50). Set a lower\n",
              "value for log_every_n_steps if you want to see logs for the training epoch.\n",
              "\n"
            ],
            "text/html": [
              "<pre style=\"white-space:pre;overflow-x:auto;line-height:normal;font-family:Menlo,'DejaVu Sans Mono',consolas,'Courier New',monospace\">/usr/local/lib/python3.11/dist-packages/pytorch_lightning/loops/fit_loop.py:298: PossibleUserWarning:\n",
              "\n",
              "The number of training batches (16) is smaller than the logging interval Trainer(log_every_n_steps=50). Set a lower\n",
              "value for log_every_n_steps if you want to see logs for the training epoch.\n",
              "\n",
              "</pre>\n"
            ]
          },
          "metadata": {}
        },
        {
          "output_type": "display_data",
          "data": {
            "text/plain": [],
            "text/html": [
              "<pre style=\"white-space:pre;overflow-x:auto;line-height:normal;font-family:Menlo,'DejaVu Sans Mono',consolas,'Courier New',monospace\"></pre>\n"
            ]
          },
          "metadata": {}
        },
        {
          "output_type": "stream",
          "name": "stderr",
          "text": [
            "INFO:pytorch_tabular.tabular_model:Training the model completed\n",
            "INFO:pytorch_tabular.tabular_model:Loading the best model\n",
            "/usr/local/lib/python3.11/dist-packages/pytorch_tabular/utils/python_utils.py:85: FutureWarning:\n",
            "\n",
            "You are using `torch.load` with `weights_only=False` (the current default value), which uses the default pickle module implicitly. It is possible to construct malicious pickle data which will execute arbitrary code during unpickling (See https://github.com/pytorch/pytorch/blob/main/SECURITY.md#untrusted-models for more details). In a future release, the default value for `weights_only` will be flipped to `True`. This limits the functions that could be executed during unpickling. Arbitrary objects will no longer be allowed to be loaded via this mode unless they are explicitly allowlisted by the user via `torch.serialization.add_safe_globals`. We recommend you start setting `weights_only=True` for any use case where you don't have full control of the loaded file. Please open an issue on GitHub for any issues related to this experimental feature.\n",
            "\n",
            "[I 2025-02-03 23:27:45,342] Trial 12 finished with value: 0.695852534562212 and parameters: {'learning_rate': 0.010543604984675345, 'dropout': 0.3616803068650877, 'hidden_layers': 3, 'hidden_dim': 100, 'batch_size': 64}. Best is trial 5 with value: 0.728110599078341.\n",
            "<ipython-input-8-dc4fa9dcc6b5>:20: FutureWarning:\n",
            "\n",
            "suggest_loguniform has been deprecated in v3.0.0. This feature will be removed in v6.0.0. See https://github.com/optuna/optuna/releases/tag/v3.0.0. Use suggest_float(..., log=True) instead.\n",
            "\n",
            "<ipython-input-8-dc4fa9dcc6b5>:21: FutureWarning:\n",
            "\n",
            "suggest_uniform has been deprecated in v3.0.0. This feature will be removed in v6.0.0. See https://github.com/optuna/optuna/releases/tag/v3.0.0. Use suggest_float instead.\n",
            "\n",
            "INFO:pytorch_tabular.tabular_model:Experiment Tracking is turned off\n",
            "INFO:lightning_fabric.utilities.seed:Seed set to 42\n",
            "INFO:pytorch_tabular.tabular_model:Preparing the DataLoaders\n",
            "INFO:pytorch_tabular.tabular_datamodule:Setting up the datamodule for classification task\n",
            "INFO:pytorch_tabular.tabular_model:Preparing the Model: CategoryEmbeddingModel\n",
            "INFO:pytorch_tabular.tabular_model:Preparing the Trainer\n"
          ]
        },
        {
          "output_type": "stream",
          "name": "stdout",
          "text": [
            "Index(['TARGET_0_probability', 'TARGET_1_probability', 'TARGET_prediction'], dtype='object')\n"
          ]
        },
        {
          "output_type": "stream",
          "name": "stderr",
          "text": [
            "INFO:pytorch_lightning.utilities.rank_zero:GPU available: True (cuda), used: True\n",
            "INFO:pytorch_lightning.utilities.rank_zero:TPU available: False, using: 0 TPU cores\n",
            "INFO:pytorch_lightning.utilities.rank_zero:HPU available: False, using: 0 HPUs\n",
            "INFO:pytorch_tabular.tabular_model:Training Started\n",
            "/usr/local/lib/python3.11/dist-packages/pytorch_lightning/callbacks/model_checkpoint.py:654: UserWarning:\n",
            "\n",
            "Checkpoint directory /content/saved_models exists and is not empty.\n",
            "\n",
            "INFO:pytorch_lightning.accelerators.cuda:LOCAL_RANK: 0 - CUDA_VISIBLE_DEVICES: [0]\n"
          ]
        },
        {
          "output_type": "display_data",
          "data": {
            "text/plain": [
              "┏━━━┳━━━━━━━━━━━━━━━━━━┳━━━━━━━━━━━━━━━━━━━━━━━━━━━┳━━━━━━━━┳━━━━━━━┓\n",
              "┃\u001b[1;35m \u001b[0m\u001b[1;35m \u001b[0m\u001b[1;35m \u001b[0m┃\u001b[1;35m \u001b[0m\u001b[1;35mName            \u001b[0m\u001b[1;35m \u001b[0m┃\u001b[1;35m \u001b[0m\u001b[1;35mType                     \u001b[0m\u001b[1;35m \u001b[0m┃\u001b[1;35m \u001b[0m\u001b[1;35mParams\u001b[0m\u001b[1;35m \u001b[0m┃\u001b[1;35m \u001b[0m\u001b[1;35mMode \u001b[0m\u001b[1;35m \u001b[0m┃\n",
              "┡━━━╇━━━━━━━━━━━━━━━━━━╇━━━━━━━━━━━━━━━━━━━━━━━━━━━╇━━━━━━━━╇━━━━━━━┩\n",
              "│\u001b[2m \u001b[0m\u001b[2m0\u001b[0m\u001b[2m \u001b[0m│ _backbone        │ CategoryEmbeddingBackbone │ 19.2 K │ train │\n",
              "│\u001b[2m \u001b[0m\u001b[2m1\u001b[0m\u001b[2m \u001b[0m│ _embedding_layer │ Embedding1dLayer          │     26 │ train │\n",
              "│\u001b[2m \u001b[0m\u001b[2m2\u001b[0m\u001b[2m \u001b[0m│ head             │ LinearHead                │    190 │ train │\n",
              "│\u001b[2m \u001b[0m\u001b[2m3\u001b[0m\u001b[2m \u001b[0m│ loss             │ CrossEntropyLoss          │      0 │ train │\n",
              "└───┴──────────────────┴───────────────────────────┴────────┴───────┘\n"
            ],
            "text/html": [
              "<pre style=\"white-space:pre;overflow-x:auto;line-height:normal;font-family:Menlo,'DejaVu Sans Mono',consolas,'Courier New',monospace\">┏━━━┳━━━━━━━━━━━━━━━━━━┳━━━━━━━━━━━━━━━━━━━━━━━━━━━┳━━━━━━━━┳━━━━━━━┓\n",
              "┃<span style=\"color: #800080; text-decoration-color: #800080; font-weight: bold\">   </span>┃<span style=\"color: #800080; text-decoration-color: #800080; font-weight: bold\"> Name             </span>┃<span style=\"color: #800080; text-decoration-color: #800080; font-weight: bold\"> Type                      </span>┃<span style=\"color: #800080; text-decoration-color: #800080; font-weight: bold\"> Params </span>┃<span style=\"color: #800080; text-decoration-color: #800080; font-weight: bold\"> Mode  </span>┃\n",
              "┡━━━╇━━━━━━━━━━━━━━━━━━╇━━━━━━━━━━━━━━━━━━━━━━━━━━━╇━━━━━━━━╇━━━━━━━┩\n",
              "│<span style=\"color: #7f7f7f; text-decoration-color: #7f7f7f\"> 0 </span>│ _backbone        │ CategoryEmbeddingBackbone │ 19.2 K │ train │\n",
              "│<span style=\"color: #7f7f7f; text-decoration-color: #7f7f7f\"> 1 </span>│ _embedding_layer │ Embedding1dLayer          │     26 │ train │\n",
              "│<span style=\"color: #7f7f7f; text-decoration-color: #7f7f7f\"> 2 </span>│ head             │ LinearHead                │    190 │ train │\n",
              "│<span style=\"color: #7f7f7f; text-decoration-color: #7f7f7f\"> 3 </span>│ loss             │ CrossEntropyLoss          │      0 │ train │\n",
              "└───┴──────────────────┴───────────────────────────┴────────┴───────┘\n",
              "</pre>\n"
            ]
          },
          "metadata": {}
        },
        {
          "output_type": "display_data",
          "data": {
            "text/plain": [
              "\u001b[1mTrainable params\u001b[0m: 19.4 K                                                                                           \n",
              "\u001b[1mNon-trainable params\u001b[0m: 0                                                                                            \n",
              "\u001b[1mTotal params\u001b[0m: 19.4 K                                                                                               \n",
              "\u001b[1mTotal estimated model params size (MB)\u001b[0m: 0                                                                          \n",
              "\u001b[1mModules in train mode\u001b[0m: 19                                                                                          \n",
              "\u001b[1mModules in eval mode\u001b[0m: 0                                                                                            \n"
            ],
            "text/html": [
              "<pre style=\"white-space:pre;overflow-x:auto;line-height:normal;font-family:Menlo,'DejaVu Sans Mono',consolas,'Courier New',monospace\"><span style=\"font-weight: bold\">Trainable params</span>: 19.4 K                                                                                           \n",
              "<span style=\"font-weight: bold\">Non-trainable params</span>: 0                                                                                            \n",
              "<span style=\"font-weight: bold\">Total params</span>: 19.4 K                                                                                               \n",
              "<span style=\"font-weight: bold\">Total estimated model params size (MB)</span>: 0                                                                          \n",
              "<span style=\"font-weight: bold\">Modules in train mode</span>: 19                                                                                          \n",
              "<span style=\"font-weight: bold\">Modules in eval mode</span>: 0                                                                                            \n",
              "</pre>\n"
            ]
          },
          "metadata": {}
        },
        {
          "output_type": "display_data",
          "data": {
            "text/plain": [
              "Output()"
            ],
            "application/vnd.jupyter.widget-view+json": {
              "version_major": 2,
              "version_minor": 0,
              "model_id": "2e0a0ef02bf34ac186a95061e54a94ed"
            }
          },
          "metadata": {}
        },
        {
          "output_type": "display_data",
          "data": {
            "text/plain": [
              "/usr/local/lib/python3.11/dist-packages/pytorch_lightning/loops/fit_loop.py:298: PossibleUserWarning:\n",
              "\n",
              "The number of training batches (8) is smaller than the logging interval Trainer(log_every_n_steps=50). Set a lower \n",
              "value for log_every_n_steps if you want to see logs for the training epoch.\n",
              "\n"
            ],
            "text/html": [
              "<pre style=\"white-space:pre;overflow-x:auto;line-height:normal;font-family:Menlo,'DejaVu Sans Mono',consolas,'Courier New',monospace\">/usr/local/lib/python3.11/dist-packages/pytorch_lightning/loops/fit_loop.py:298: PossibleUserWarning:\n",
              "\n",
              "The number of training batches (8) is smaller than the logging interval Trainer(log_every_n_steps=50). Set a lower \n",
              "value for log_every_n_steps if you want to see logs for the training epoch.\n",
              "\n",
              "</pre>\n"
            ]
          },
          "metadata": {}
        },
        {
          "output_type": "display_data",
          "data": {
            "text/plain": [],
            "text/html": [
              "<pre style=\"white-space:pre;overflow-x:auto;line-height:normal;font-family:Menlo,'DejaVu Sans Mono',consolas,'Courier New',monospace\"></pre>\n"
            ]
          },
          "metadata": {}
        },
        {
          "output_type": "stream",
          "name": "stderr",
          "text": [
            "INFO:pytorch_tabular.tabular_model:Training the model completed\n",
            "INFO:pytorch_tabular.tabular_model:Loading the best model\n",
            "/usr/local/lib/python3.11/dist-packages/pytorch_tabular/utils/python_utils.py:85: FutureWarning:\n",
            "\n",
            "You are using `torch.load` with `weights_only=False` (the current default value), which uses the default pickle module implicitly. It is possible to construct malicious pickle data which will execute arbitrary code during unpickling (See https://github.com/pytorch/pytorch/blob/main/SECURITY.md#untrusted-models for more details). In a future release, the default value for `weights_only` will be flipped to `True`. This limits the functions that could be executed during unpickling. Arbitrary objects will no longer be allowed to be loaded via this mode unless they are explicitly allowlisted by the user via `torch.serialization.add_safe_globals`. We recommend you start setting `weights_only=True` for any use case where you don't have full control of the loaded file. Please open an issue on GitHub for any issues related to this experimental feature.\n",
            "\n",
            "[I 2025-02-03 23:27:48,853] Trial 13 finished with value: 0.695852534562212 and parameters: {'learning_rate': 0.0010033845812817703, 'dropout': 0.2175053369833825, 'hidden_layers': 3, 'hidden_dim': 94, 'batch_size': 128}. Best is trial 5 with value: 0.728110599078341.\n",
            "<ipython-input-8-dc4fa9dcc6b5>:20: FutureWarning:\n",
            "\n",
            "suggest_loguniform has been deprecated in v3.0.0. This feature will be removed in v6.0.0. See https://github.com/optuna/optuna/releases/tag/v3.0.0. Use suggest_float(..., log=True) instead.\n",
            "\n",
            "<ipython-input-8-dc4fa9dcc6b5>:21: FutureWarning:\n",
            "\n",
            "suggest_uniform has been deprecated in v3.0.0. This feature will be removed in v6.0.0. See https://github.com/optuna/optuna/releases/tag/v3.0.0. Use suggest_float instead.\n",
            "\n",
            "INFO:pytorch_tabular.tabular_model:Experiment Tracking is turned off\n",
            "INFO:lightning_fabric.utilities.seed:Seed set to 42\n",
            "INFO:pytorch_tabular.tabular_model:Preparing the DataLoaders\n",
            "INFO:pytorch_tabular.tabular_datamodule:Setting up the datamodule for classification task\n"
          ]
        },
        {
          "output_type": "stream",
          "name": "stdout",
          "text": [
            "Index(['TARGET_0_probability', 'TARGET_1_probability', 'TARGET_prediction'], dtype='object')\n"
          ]
        },
        {
          "output_type": "stream",
          "name": "stderr",
          "text": [
            "INFO:pytorch_tabular.tabular_model:Preparing the Model: CategoryEmbeddingModel\n",
            "INFO:pytorch_tabular.tabular_model:Preparing the Trainer\n",
            "INFO:pytorch_lightning.utilities.rank_zero:GPU available: True (cuda), used: True\n",
            "INFO:pytorch_lightning.utilities.rank_zero:TPU available: False, using: 0 TPU cores\n",
            "INFO:pytorch_lightning.utilities.rank_zero:HPU available: False, using: 0 HPUs\n",
            "INFO:pytorch_tabular.tabular_model:Training Started\n",
            "/usr/local/lib/python3.11/dist-packages/pytorch_lightning/callbacks/model_checkpoint.py:654: UserWarning:\n",
            "\n",
            "Checkpoint directory /content/saved_models exists and is not empty.\n",
            "\n",
            "INFO:pytorch_lightning.accelerators.cuda:LOCAL_RANK: 0 - CUDA_VISIBLE_DEVICES: [0]\n"
          ]
        },
        {
          "output_type": "display_data",
          "data": {
            "text/plain": [
              "┏━━━┳━━━━━━━━━━━━━━━━━━┳━━━━━━━━━━━━━━━━━━━━━━━━━━━┳━━━━━━━━┳━━━━━━━┓\n",
              "┃\u001b[1;35m \u001b[0m\u001b[1;35m \u001b[0m\u001b[1;35m \u001b[0m┃\u001b[1;35m \u001b[0m\u001b[1;35mName            \u001b[0m\u001b[1;35m \u001b[0m┃\u001b[1;35m \u001b[0m\u001b[1;35mType                     \u001b[0m\u001b[1;35m \u001b[0m┃\u001b[1;35m \u001b[0m\u001b[1;35mParams\u001b[0m\u001b[1;35m \u001b[0m┃\u001b[1;35m \u001b[0m\u001b[1;35mMode \u001b[0m\u001b[1;35m \u001b[0m┃\n",
              "┡━━━╇━━━━━━━━━━━━━━━━━━╇━━━━━━━━━━━━━━━━━━━━━━━━━━━╇━━━━━━━━╇━━━━━━━┩\n",
              "│\u001b[2m \u001b[0m\u001b[2m0\u001b[0m\u001b[2m \u001b[0m│ _backbone        │ CategoryEmbeddingBackbone │ 50.5 K │ train │\n",
              "│\u001b[2m \u001b[0m\u001b[2m1\u001b[0m\u001b[2m \u001b[0m│ _embedding_layer │ Embedding1dLayer          │     26 │ train │\n",
              "│\u001b[2m \u001b[0m\u001b[2m2\u001b[0m\u001b[2m \u001b[0m│ head             │ LinearHead                │    256 │ train │\n",
              "│\u001b[2m \u001b[0m\u001b[2m3\u001b[0m\u001b[2m \u001b[0m│ loss             │ CrossEntropyLoss          │      0 │ train │\n",
              "└───┴──────────────────┴───────────────────────────┴────────┴───────┘\n"
            ],
            "text/html": [
              "<pre style=\"white-space:pre;overflow-x:auto;line-height:normal;font-family:Menlo,'DejaVu Sans Mono',consolas,'Courier New',monospace\">┏━━━┳━━━━━━━━━━━━━━━━━━┳━━━━━━━━━━━━━━━━━━━━━━━━━━━┳━━━━━━━━┳━━━━━━━┓\n",
              "┃<span style=\"color: #800080; text-decoration-color: #800080; font-weight: bold\">   </span>┃<span style=\"color: #800080; text-decoration-color: #800080; font-weight: bold\"> Name             </span>┃<span style=\"color: #800080; text-decoration-color: #800080; font-weight: bold\"> Type                      </span>┃<span style=\"color: #800080; text-decoration-color: #800080; font-weight: bold\"> Params </span>┃<span style=\"color: #800080; text-decoration-color: #800080; font-weight: bold\"> Mode  </span>┃\n",
              "┡━━━╇━━━━━━━━━━━━━━━━━━╇━━━━━━━━━━━━━━━━━━━━━━━━━━━╇━━━━━━━━╇━━━━━━━┩\n",
              "│<span style=\"color: #7f7f7f; text-decoration-color: #7f7f7f\"> 0 </span>│ _backbone        │ CategoryEmbeddingBackbone │ 50.5 K │ train │\n",
              "│<span style=\"color: #7f7f7f; text-decoration-color: #7f7f7f\"> 1 </span>│ _embedding_layer │ Embedding1dLayer          │     26 │ train │\n",
              "│<span style=\"color: #7f7f7f; text-decoration-color: #7f7f7f\"> 2 </span>│ head             │ LinearHead                │    256 │ train │\n",
              "│<span style=\"color: #7f7f7f; text-decoration-color: #7f7f7f\"> 3 </span>│ loss             │ CrossEntropyLoss          │      0 │ train │\n",
              "└───┴──────────────────┴───────────────────────────┴────────┴───────┘\n",
              "</pre>\n"
            ]
          },
          "metadata": {}
        },
        {
          "output_type": "display_data",
          "data": {
            "text/plain": [
              "\u001b[1mTrainable params\u001b[0m: 50.8 K                                                                                           \n",
              "\u001b[1mNon-trainable params\u001b[0m: 0                                                                                            \n",
              "\u001b[1mTotal params\u001b[0m: 50.8 K                                                                                               \n",
              "\u001b[1mTotal estimated model params size (MB)\u001b[0m: 0                                                                          \n",
              "\u001b[1mModules in train mode\u001b[0m: 22                                                                                          \n",
              "\u001b[1mModules in eval mode\u001b[0m: 0                                                                                            \n"
            ],
            "text/html": [
              "<pre style=\"white-space:pre;overflow-x:auto;line-height:normal;font-family:Menlo,'DejaVu Sans Mono',consolas,'Courier New',monospace\"><span style=\"font-weight: bold\">Trainable params</span>: 50.8 K                                                                                           \n",
              "<span style=\"font-weight: bold\">Non-trainable params</span>: 0                                                                                            \n",
              "<span style=\"font-weight: bold\">Total params</span>: 50.8 K                                                                                               \n",
              "<span style=\"font-weight: bold\">Total estimated model params size (MB)</span>: 0                                                                          \n",
              "<span style=\"font-weight: bold\">Modules in train mode</span>: 22                                                                                          \n",
              "<span style=\"font-weight: bold\">Modules in eval mode</span>: 0                                                                                            \n",
              "</pre>\n"
            ]
          },
          "metadata": {}
        },
        {
          "output_type": "display_data",
          "data": {
            "text/plain": [
              "Output()"
            ],
            "application/vnd.jupyter.widget-view+json": {
              "version_major": 2,
              "version_minor": 0,
              "model_id": "66628c0ddc114b55a0722f699e2c8f20"
            }
          },
          "metadata": {}
        },
        {
          "output_type": "display_data",
          "data": {
            "text/plain": [
              "/usr/local/lib/python3.11/dist-packages/pytorch_lightning/loops/fit_loop.py:298: PossibleUserWarning:\n",
              "\n",
              "The number of training batches (32) is smaller than the logging interval Trainer(log_every_n_steps=50). Set a lower\n",
              "value for log_every_n_steps if you want to see logs for the training epoch.\n",
              "\n"
            ],
            "text/html": [
              "<pre style=\"white-space:pre;overflow-x:auto;line-height:normal;font-family:Menlo,'DejaVu Sans Mono',consolas,'Courier New',monospace\">/usr/local/lib/python3.11/dist-packages/pytorch_lightning/loops/fit_loop.py:298: PossibleUserWarning:\n",
              "\n",
              "The number of training batches (32) is smaller than the logging interval Trainer(log_every_n_steps=50). Set a lower\n",
              "value for log_every_n_steps if you want to see logs for the training epoch.\n",
              "\n",
              "</pre>\n"
            ]
          },
          "metadata": {}
        },
        {
          "output_type": "display_data",
          "data": {
            "text/plain": [],
            "text/html": [
              "<pre style=\"white-space:pre;overflow-x:auto;line-height:normal;font-family:Menlo,'DejaVu Sans Mono',consolas,'Courier New',monospace\"></pre>\n"
            ]
          },
          "metadata": {}
        },
        {
          "output_type": "stream",
          "name": "stderr",
          "text": [
            "INFO:pytorch_tabular.tabular_model:Training the model completed\n",
            "INFO:pytorch_tabular.tabular_model:Loading the best model\n",
            "/usr/local/lib/python3.11/dist-packages/pytorch_tabular/utils/python_utils.py:85: FutureWarning:\n",
            "\n",
            "You are using `torch.load` with `weights_only=False` (the current default value), which uses the default pickle module implicitly. It is possible to construct malicious pickle data which will execute arbitrary code during unpickling (See https://github.com/pytorch/pytorch/blob/main/SECURITY.md#untrusted-models for more details). In a future release, the default value for `weights_only` will be flipped to `True`. This limits the functions that could be executed during unpickling. Arbitrary objects will no longer be allowed to be loaded via this mode unless they are explicitly allowlisted by the user via `torch.serialization.add_safe_globals`. We recommend you start setting `weights_only=True` for any use case where you don't have full control of the loaded file. Please open an issue on GitHub for any issues related to this experimental feature.\n",
            "\n",
            "[I 2025-02-03 23:27:56,925] Trial 14 finished with value: 0.7096774193548387 and parameters: {'learning_rate': 0.014395999793107588, 'dropout': 0.24404055296230914, 'hidden_layers': 4, 'hidden_dim': 127, 'batch_size': 32}. Best is trial 5 with value: 0.728110599078341.\n",
            "<ipython-input-8-dc4fa9dcc6b5>:20: FutureWarning:\n",
            "\n",
            "suggest_loguniform has been deprecated in v3.0.0. This feature will be removed in v6.0.0. See https://github.com/optuna/optuna/releases/tag/v3.0.0. Use suggest_float(..., log=True) instead.\n",
            "\n",
            "<ipython-input-8-dc4fa9dcc6b5>:21: FutureWarning:\n",
            "\n",
            "suggest_uniform has been deprecated in v3.0.0. This feature will be removed in v6.0.0. See https://github.com/optuna/optuna/releases/tag/v3.0.0. Use suggest_float instead.\n",
            "\n",
            "INFO:pytorch_tabular.tabular_model:Experiment Tracking is turned off\n",
            "INFO:lightning_fabric.utilities.seed:Seed set to 42\n",
            "INFO:pytorch_tabular.tabular_model:Preparing the DataLoaders\n",
            "INFO:pytorch_tabular.tabular_datamodule:Setting up the datamodule for classification task\n",
            "INFO:pytorch_tabular.tabular_model:Preparing the Model: CategoryEmbeddingModel\n",
            "INFO:pytorch_tabular.tabular_model:Preparing the Trainer\n",
            "INFO:pytorch_lightning.utilities.rank_zero:GPU available: True (cuda), used: True\n",
            "INFO:pytorch_lightning.utilities.rank_zero:TPU available: False, using: 0 TPU cores\n",
            "INFO:pytorch_lightning.utilities.rank_zero:HPU available: False, using: 0 HPUs\n",
            "INFO:pytorch_tabular.tabular_model:Training Started\n",
            "/usr/local/lib/python3.11/dist-packages/pytorch_lightning/callbacks/model_checkpoint.py:654: UserWarning:\n",
            "\n",
            "Checkpoint directory /content/saved_models exists and is not empty.\n",
            "\n",
            "INFO:pytorch_lightning.accelerators.cuda:LOCAL_RANK: 0 - CUDA_VISIBLE_DEVICES: [0]\n"
          ]
        },
        {
          "output_type": "stream",
          "name": "stdout",
          "text": [
            "Index(['TARGET_0_probability', 'TARGET_1_probability', 'TARGET_prediction'], dtype='object')\n"
          ]
        },
        {
          "output_type": "display_data",
          "data": {
            "text/plain": [
              "┏━━━┳━━━━━━━━━━━━━━━━━━┳━━━━━━━━━━━━━━━━━━━━━━━━━━━┳━━━━━━━━┳━━━━━━━┓\n",
              "┃\u001b[1;35m \u001b[0m\u001b[1;35m \u001b[0m\u001b[1;35m \u001b[0m┃\u001b[1;35m \u001b[0m\u001b[1;35mName            \u001b[0m\u001b[1;35m \u001b[0m┃\u001b[1;35m \u001b[0m\u001b[1;35mType                     \u001b[0m\u001b[1;35m \u001b[0m┃\u001b[1;35m \u001b[0m\u001b[1;35mParams\u001b[0m\u001b[1;35m \u001b[0m┃\u001b[1;35m \u001b[0m\u001b[1;35mMode \u001b[0m\u001b[1;35m \u001b[0m┃\n",
              "┡━━━╇━━━━━━━━━━━━━━━━━━╇━━━━━━━━━━━━━━━━━━━━━━━━━━━╇━━━━━━━━╇━━━━━━━┩\n",
              "│\u001b[2m \u001b[0m\u001b[2m0\u001b[0m\u001b[2m \u001b[0m│ _backbone        │ CategoryEmbeddingBackbone │ 44.7 K │ train │\n",
              "│\u001b[2m \u001b[0m\u001b[2m1\u001b[0m\u001b[2m \u001b[0m│ _embedding_layer │ Embedding1dLayer          │     26 │ train │\n",
              "│\u001b[2m \u001b[0m\u001b[2m2\u001b[0m\u001b[2m \u001b[0m│ head             │ LinearHead                │    410 │ train │\n",
              "│\u001b[2m \u001b[0m\u001b[2m3\u001b[0m\u001b[2m \u001b[0m│ loss             │ CrossEntropyLoss          │      0 │ train │\n",
              "└───┴──────────────────┴───────────────────────────┴────────┴───────┘\n"
            ],
            "text/html": [
              "<pre style=\"white-space:pre;overflow-x:auto;line-height:normal;font-family:Menlo,'DejaVu Sans Mono',consolas,'Courier New',monospace\">┏━━━┳━━━━━━━━━━━━━━━━━━┳━━━━━━━━━━━━━━━━━━━━━━━━━━━┳━━━━━━━━┳━━━━━━━┓\n",
              "┃<span style=\"color: #800080; text-decoration-color: #800080; font-weight: bold\">   </span>┃<span style=\"color: #800080; text-decoration-color: #800080; font-weight: bold\"> Name             </span>┃<span style=\"color: #800080; text-decoration-color: #800080; font-weight: bold\"> Type                      </span>┃<span style=\"color: #800080; text-decoration-color: #800080; font-weight: bold\"> Params </span>┃<span style=\"color: #800080; text-decoration-color: #800080; font-weight: bold\"> Mode  </span>┃\n",
              "┡━━━╇━━━━━━━━━━━━━━━━━━╇━━━━━━━━━━━━━━━━━━━━━━━━━━━╇━━━━━━━━╇━━━━━━━┩\n",
              "│<span style=\"color: #7f7f7f; text-decoration-color: #7f7f7f\"> 0 </span>│ _backbone        │ CategoryEmbeddingBackbone │ 44.7 K │ train │\n",
              "│<span style=\"color: #7f7f7f; text-decoration-color: #7f7f7f\"> 1 </span>│ _embedding_layer │ Embedding1dLayer          │     26 │ train │\n",
              "│<span style=\"color: #7f7f7f; text-decoration-color: #7f7f7f\"> 2 </span>│ head             │ LinearHead                │    410 │ train │\n",
              "│<span style=\"color: #7f7f7f; text-decoration-color: #7f7f7f\"> 3 </span>│ loss             │ CrossEntropyLoss          │      0 │ train │\n",
              "└───┴──────────────────┴───────────────────────────┴────────┴───────┘\n",
              "</pre>\n"
            ]
          },
          "metadata": {}
        },
        {
          "output_type": "display_data",
          "data": {
            "text/plain": [
              "\u001b[1mTrainable params\u001b[0m: 45.1 K                                                                                           \n",
              "\u001b[1mNon-trainable params\u001b[0m: 0                                                                                            \n",
              "\u001b[1mTotal params\u001b[0m: 45.1 K                                                                                               \n",
              "\u001b[1mTotal estimated model params size (MB)\u001b[0m: 0                                                                          \n",
              "\u001b[1mModules in train mode\u001b[0m: 16                                                                                          \n",
              "\u001b[1mModules in eval mode\u001b[0m: 0                                                                                            \n"
            ],
            "text/html": [
              "<pre style=\"white-space:pre;overflow-x:auto;line-height:normal;font-family:Menlo,'DejaVu Sans Mono',consolas,'Courier New',monospace\"><span style=\"font-weight: bold\">Trainable params</span>: 45.1 K                                                                                           \n",
              "<span style=\"font-weight: bold\">Non-trainable params</span>: 0                                                                                            \n",
              "<span style=\"font-weight: bold\">Total params</span>: 45.1 K                                                                                               \n",
              "<span style=\"font-weight: bold\">Total estimated model params size (MB)</span>: 0                                                                          \n",
              "<span style=\"font-weight: bold\">Modules in train mode</span>: 16                                                                                          \n",
              "<span style=\"font-weight: bold\">Modules in eval mode</span>: 0                                                                                            \n",
              "</pre>\n"
            ]
          },
          "metadata": {}
        },
        {
          "output_type": "display_data",
          "data": {
            "text/plain": [
              "Output()"
            ],
            "application/vnd.jupyter.widget-view+json": {
              "version_major": 2,
              "version_minor": 0,
              "model_id": "06e7ce72316349adb85de04c90aebd19"
            }
          },
          "metadata": {}
        },
        {
          "output_type": "display_data",
          "data": {
            "text/plain": [
              "/usr/local/lib/python3.11/dist-packages/pytorch_lightning/loops/fit_loop.py:298: PossibleUserWarning:\n",
              "\n",
              "The number of training batches (16) is smaller than the logging interval Trainer(log_every_n_steps=50). Set a lower\n",
              "value for log_every_n_steps if you want to see logs for the training epoch.\n",
              "\n"
            ],
            "text/html": [
              "<pre style=\"white-space:pre;overflow-x:auto;line-height:normal;font-family:Menlo,'DejaVu Sans Mono',consolas,'Courier New',monospace\">/usr/local/lib/python3.11/dist-packages/pytorch_lightning/loops/fit_loop.py:298: PossibleUserWarning:\n",
              "\n",
              "The number of training batches (16) is smaller than the logging interval Trainer(log_every_n_steps=50). Set a lower\n",
              "value for log_every_n_steps if you want to see logs for the training epoch.\n",
              "\n",
              "</pre>\n"
            ]
          },
          "metadata": {}
        },
        {
          "output_type": "display_data",
          "data": {
            "text/plain": [],
            "text/html": [
              "<pre style=\"white-space:pre;overflow-x:auto;line-height:normal;font-family:Menlo,'DejaVu Sans Mono',consolas,'Courier New',monospace\"></pre>\n"
            ]
          },
          "metadata": {}
        },
        {
          "output_type": "stream",
          "name": "stderr",
          "text": [
            "INFO:pytorch_tabular.tabular_model:Training the model completed\n",
            "INFO:pytorch_tabular.tabular_model:Loading the best model\n",
            "/usr/local/lib/python3.11/dist-packages/pytorch_tabular/utils/python_utils.py:85: FutureWarning:\n",
            "\n",
            "You are using `torch.load` with `weights_only=False` (the current default value), which uses the default pickle module implicitly. It is possible to construct malicious pickle data which will execute arbitrary code during unpickling (See https://github.com/pytorch/pytorch/blob/main/SECURITY.md#untrusted-models for more details). In a future release, the default value for `weights_only` will be flipped to `True`. This limits the functions that could be executed during unpickling. Arbitrary objects will no longer be allowed to be loaded via this mode unless they are explicitly allowlisted by the user via `torch.serialization.add_safe_globals`. We recommend you start setting `weights_only=True` for any use case where you don't have full control of the loaded file. Please open an issue on GitHub for any issues related to this experimental feature.\n",
            "\n",
            "[I 2025-02-03 23:28:01,262] Trial 15 finished with value: 0.7188940092165899 and parameters: {'learning_rate': 0.0030694105917615485, 'dropout': 0.36559640458668313, 'hidden_layers': 2, 'hidden_dim': 204, 'batch_size': 64}. Best is trial 5 with value: 0.728110599078341.\n",
            "<ipython-input-8-dc4fa9dcc6b5>:20: FutureWarning:\n",
            "\n",
            "suggest_loguniform has been deprecated in v3.0.0. This feature will be removed in v6.0.0. See https://github.com/optuna/optuna/releases/tag/v3.0.0. Use suggest_float(..., log=True) instead.\n",
            "\n",
            "<ipython-input-8-dc4fa9dcc6b5>:21: FutureWarning:\n",
            "\n",
            "suggest_uniform has been deprecated in v3.0.0. This feature will be removed in v6.0.0. See https://github.com/optuna/optuna/releases/tag/v3.0.0. Use suggest_float instead.\n",
            "\n",
            "INFO:pytorch_tabular.tabular_model:Experiment Tracking is turned off\n",
            "INFO:lightning_fabric.utilities.seed:Seed set to 42\n",
            "INFO:pytorch_tabular.tabular_model:Preparing the DataLoaders\n",
            "INFO:pytorch_tabular.tabular_datamodule:Setting up the datamodule for classification task\n",
            "INFO:pytorch_tabular.tabular_model:Preparing the Model: CategoryEmbeddingModel\n",
            "INFO:pytorch_tabular.tabular_model:Preparing the Trainer\n"
          ]
        },
        {
          "output_type": "stream",
          "name": "stdout",
          "text": [
            "Index(['TARGET_0_probability', 'TARGET_1_probability', 'TARGET_prediction'], dtype='object')\n"
          ]
        },
        {
          "output_type": "stream",
          "name": "stderr",
          "text": [
            "INFO:pytorch_lightning.utilities.rank_zero:GPU available: True (cuda), used: True\n",
            "INFO:pytorch_lightning.utilities.rank_zero:TPU available: False, using: 0 TPU cores\n",
            "INFO:pytorch_lightning.utilities.rank_zero:HPU available: False, using: 0 HPUs\n",
            "INFO:pytorch_tabular.tabular_model:Training Started\n",
            "/usr/local/lib/python3.11/dist-packages/pytorch_lightning/callbacks/model_checkpoint.py:654: UserWarning:\n",
            "\n",
            "Checkpoint directory /content/saved_models exists and is not empty.\n",
            "\n",
            "INFO:pytorch_lightning.accelerators.cuda:LOCAL_RANK: 0 - CUDA_VISIBLE_DEVICES: [0]\n"
          ]
        },
        {
          "output_type": "display_data",
          "data": {
            "text/plain": [
              "┏━━━┳━━━━━━━━━━━━━━━━━━┳━━━━━━━━━━━━━━━━━━━━━━━━━━━┳━━━━━━━━┳━━━━━━━┓\n",
              "┃\u001b[1;35m \u001b[0m\u001b[1;35m \u001b[0m\u001b[1;35m \u001b[0m┃\u001b[1;35m \u001b[0m\u001b[1;35mName            \u001b[0m\u001b[1;35m \u001b[0m┃\u001b[1;35m \u001b[0m\u001b[1;35mType                     \u001b[0m\u001b[1;35m \u001b[0m┃\u001b[1;35m \u001b[0m\u001b[1;35mParams\u001b[0m\u001b[1;35m \u001b[0m┃\u001b[1;35m \u001b[0m\u001b[1;35mMode \u001b[0m\u001b[1;35m \u001b[0m┃\n",
              "┡━━━╇━━━━━━━━━━━━━━━━━━╇━━━━━━━━━━━━━━━━━━━━━━━━━━━╇━━━━━━━━╇━━━━━━━┩\n",
              "│\u001b[2m \u001b[0m\u001b[2m0\u001b[0m\u001b[2m \u001b[0m│ _backbone        │ CategoryEmbeddingBackbone │  6.9 K │ train │\n",
              "│\u001b[2m \u001b[0m\u001b[2m1\u001b[0m\u001b[2m \u001b[0m│ _embedding_layer │ Embedding1dLayer          │     26 │ train │\n",
              "│\u001b[2m \u001b[0m\u001b[2m2\u001b[0m\u001b[2m \u001b[0m│ head             │ LinearHead                │    112 │ train │\n",
              "│\u001b[2m \u001b[0m\u001b[2m3\u001b[0m\u001b[2m \u001b[0m│ loss             │ CrossEntropyLoss          │      0 │ train │\n",
              "└───┴──────────────────┴───────────────────────────┴────────┴───────┘\n"
            ],
            "text/html": [
              "<pre style=\"white-space:pre;overflow-x:auto;line-height:normal;font-family:Menlo,'DejaVu Sans Mono',consolas,'Courier New',monospace\">┏━━━┳━━━━━━━━━━━━━━━━━━┳━━━━━━━━━━━━━━━━━━━━━━━━━━━┳━━━━━━━━┳━━━━━━━┓\n",
              "┃<span style=\"color: #800080; text-decoration-color: #800080; font-weight: bold\">   </span>┃<span style=\"color: #800080; text-decoration-color: #800080; font-weight: bold\"> Name             </span>┃<span style=\"color: #800080; text-decoration-color: #800080; font-weight: bold\"> Type                      </span>┃<span style=\"color: #800080; text-decoration-color: #800080; font-weight: bold\"> Params </span>┃<span style=\"color: #800080; text-decoration-color: #800080; font-weight: bold\"> Mode  </span>┃\n",
              "┡━━━╇━━━━━━━━━━━━━━━━━━╇━━━━━━━━━━━━━━━━━━━━━━━━━━━╇━━━━━━━━╇━━━━━━━┩\n",
              "│<span style=\"color: #7f7f7f; text-decoration-color: #7f7f7f\"> 0 </span>│ _backbone        │ CategoryEmbeddingBackbone │  6.9 K │ train │\n",
              "│<span style=\"color: #7f7f7f; text-decoration-color: #7f7f7f\"> 1 </span>│ _embedding_layer │ Embedding1dLayer          │     26 │ train │\n",
              "│<span style=\"color: #7f7f7f; text-decoration-color: #7f7f7f\"> 2 </span>│ head             │ LinearHead                │    112 │ train │\n",
              "│<span style=\"color: #7f7f7f; text-decoration-color: #7f7f7f\"> 3 </span>│ loss             │ CrossEntropyLoss          │      0 │ train │\n",
              "└───┴──────────────────┴───────────────────────────┴────────┴───────┘\n",
              "</pre>\n"
            ]
          },
          "metadata": {}
        },
        {
          "output_type": "display_data",
          "data": {
            "text/plain": [
              "\u001b[1mTrainable params\u001b[0m: 7.1 K                                                                                            \n",
              "\u001b[1mNon-trainable params\u001b[0m: 0                                                                                            \n",
              "\u001b[1mTotal params\u001b[0m: 7.1 K                                                                                                \n",
              "\u001b[1mTotal estimated model params size (MB)\u001b[0m: 0                                                                          \n",
              "\u001b[1mModules in train mode\u001b[0m: 19                                                                                          \n",
              "\u001b[1mModules in eval mode\u001b[0m: 0                                                                                            \n"
            ],
            "text/html": [
              "<pre style=\"white-space:pre;overflow-x:auto;line-height:normal;font-family:Menlo,'DejaVu Sans Mono',consolas,'Courier New',monospace\"><span style=\"font-weight: bold\">Trainable params</span>: 7.1 K                                                                                            \n",
              "<span style=\"font-weight: bold\">Non-trainable params</span>: 0                                                                                            \n",
              "<span style=\"font-weight: bold\">Total params</span>: 7.1 K                                                                                                \n",
              "<span style=\"font-weight: bold\">Total estimated model params size (MB)</span>: 0                                                                          \n",
              "<span style=\"font-weight: bold\">Modules in train mode</span>: 19                                                                                          \n",
              "<span style=\"font-weight: bold\">Modules in eval mode</span>: 0                                                                                            \n",
              "</pre>\n"
            ]
          },
          "metadata": {}
        },
        {
          "output_type": "display_data",
          "data": {
            "text/plain": [
              "Output()"
            ],
            "application/vnd.jupyter.widget-view+json": {
              "version_major": 2,
              "version_minor": 0,
              "model_id": "c4c10972ea074181bfc3fde367689f30"
            }
          },
          "metadata": {}
        },
        {
          "output_type": "display_data",
          "data": {
            "text/plain": [
              "/usr/local/lib/python3.11/dist-packages/pytorch_lightning/loops/fit_loop.py:298: PossibleUserWarning:\n",
              "\n",
              "The number of training batches (8) is smaller than the logging interval Trainer(log_every_n_steps=50). Set a lower \n",
              "value for log_every_n_steps if you want to see logs for the training epoch.\n",
              "\n"
            ],
            "text/html": [
              "<pre style=\"white-space:pre;overflow-x:auto;line-height:normal;font-family:Menlo,'DejaVu Sans Mono',consolas,'Courier New',monospace\">/usr/local/lib/python3.11/dist-packages/pytorch_lightning/loops/fit_loop.py:298: PossibleUserWarning:\n",
              "\n",
              "The number of training batches (8) is smaller than the logging interval Trainer(log_every_n_steps=50). Set a lower \n",
              "value for log_every_n_steps if you want to see logs for the training epoch.\n",
              "\n",
              "</pre>\n"
            ]
          },
          "metadata": {}
        },
        {
          "output_type": "display_data",
          "data": {
            "text/plain": [],
            "text/html": [
              "<pre style=\"white-space:pre;overflow-x:auto;line-height:normal;font-family:Menlo,'DejaVu Sans Mono',consolas,'Courier New',monospace\"></pre>\n"
            ]
          },
          "metadata": {}
        },
        {
          "output_type": "stream",
          "name": "stderr",
          "text": [
            "INFO:pytorch_tabular.tabular_model:Training the model completed\n",
            "INFO:pytorch_tabular.tabular_model:Loading the best model\n",
            "/usr/local/lib/python3.11/dist-packages/pytorch_tabular/utils/python_utils.py:85: FutureWarning:\n",
            "\n",
            "You are using `torch.load` with `weights_only=False` (the current default value), which uses the default pickle module implicitly. It is possible to construct malicious pickle data which will execute arbitrary code during unpickling (See https://github.com/pytorch/pytorch/blob/main/SECURITY.md#untrusted-models for more details). In a future release, the default value for `weights_only` will be flipped to `True`. This limits the functions that could be executed during unpickling. Arbitrary objects will no longer be allowed to be loaded via this mode unless they are explicitly allowlisted by the user via `torch.serialization.add_safe_globals`. We recommend you start setting `weights_only=True` for any use case where you don't have full control of the loaded file. Please open an issue on GitHub for any issues related to this experimental feature.\n",
            "\n",
            "[I 2025-02-03 23:28:08,149] Trial 16 finished with value: 0.7004608294930875 and parameters: {'learning_rate': 0.09256594151082458, 'dropout': 0.3447229993848289, 'hidden_layers': 3, 'hidden_dim': 55, 'batch_size': 128}. Best is trial 5 with value: 0.728110599078341.\n",
            "<ipython-input-8-dc4fa9dcc6b5>:20: FutureWarning:\n",
            "\n",
            "suggest_loguniform has been deprecated in v3.0.0. This feature will be removed in v6.0.0. See https://github.com/optuna/optuna/releases/tag/v3.0.0. Use suggest_float(..., log=True) instead.\n",
            "\n",
            "<ipython-input-8-dc4fa9dcc6b5>:21: FutureWarning:\n",
            "\n",
            "suggest_uniform has been deprecated in v3.0.0. This feature will be removed in v6.0.0. See https://github.com/optuna/optuna/releases/tag/v3.0.0. Use suggest_float instead.\n",
            "\n",
            "INFO:pytorch_tabular.tabular_model:Experiment Tracking is turned off\n",
            "INFO:lightning_fabric.utilities.seed:Seed set to 42\n",
            "INFO:pytorch_tabular.tabular_model:Preparing the DataLoaders\n",
            "INFO:pytorch_tabular.tabular_datamodule:Setting up the datamodule for classification task\n",
            "INFO:pytorch_tabular.tabular_model:Preparing the Model: CategoryEmbeddingModel\n",
            "INFO:pytorch_tabular.tabular_model:Preparing the Trainer\n"
          ]
        },
        {
          "output_type": "stream",
          "name": "stdout",
          "text": [
            "Index(['TARGET_0_probability', 'TARGET_1_probability', 'TARGET_prediction'], dtype='object')\n"
          ]
        },
        {
          "output_type": "stream",
          "name": "stderr",
          "text": [
            "INFO:pytorch_lightning.utilities.rank_zero:GPU available: True (cuda), used: True\n",
            "INFO:pytorch_lightning.utilities.rank_zero:TPU available: False, using: 0 TPU cores\n",
            "INFO:pytorch_lightning.utilities.rank_zero:HPU available: False, using: 0 HPUs\n",
            "INFO:pytorch_tabular.tabular_model:Training Started\n",
            "/usr/local/lib/python3.11/dist-packages/pytorch_lightning/callbacks/model_checkpoint.py:654: UserWarning:\n",
            "\n",
            "Checkpoint directory /content/saved_models exists and is not empty.\n",
            "\n",
            "INFO:pytorch_lightning.accelerators.cuda:LOCAL_RANK: 0 - CUDA_VISIBLE_DEVICES: [0]\n"
          ]
        },
        {
          "output_type": "display_data",
          "data": {
            "text/plain": [
              "┏━━━┳━━━━━━━━━━━━━━━━━━┳━━━━━━━━━━━━━━━━━━━━━━━━━━━┳━━━━━━━━┳━━━━━━━┓\n",
              "┃\u001b[1;35m \u001b[0m\u001b[1;35m \u001b[0m\u001b[1;35m \u001b[0m┃\u001b[1;35m \u001b[0m\u001b[1;35mName            \u001b[0m\u001b[1;35m \u001b[0m┃\u001b[1;35m \u001b[0m\u001b[1;35mType                     \u001b[0m\u001b[1;35m \u001b[0m┃\u001b[1;35m \u001b[0m\u001b[1;35mParams\u001b[0m\u001b[1;35m \u001b[0m┃\u001b[1;35m \u001b[0m\u001b[1;35mMode \u001b[0m\u001b[1;35m \u001b[0m┃\n",
              "┡━━━╇━━━━━━━━━━━━━━━━━━╇━━━━━━━━━━━━━━━━━━━━━━━━━━━╇━━━━━━━━╇━━━━━━━┩\n",
              "│\u001b[2m \u001b[0m\u001b[2m0\u001b[0m\u001b[2m \u001b[0m│ _backbone        │ CategoryEmbeddingBackbone │ 30.0 K │ train │\n",
              "│\u001b[2m \u001b[0m\u001b[2m1\u001b[0m\u001b[2m \u001b[0m│ _embedding_layer │ Embedding1dLayer          │     26 │ train │\n",
              "│\u001b[2m \u001b[0m\u001b[2m2\u001b[0m\u001b[2m \u001b[0m│ head             │ LinearHead                │    334 │ train │\n",
              "│\u001b[2m \u001b[0m\u001b[2m3\u001b[0m\u001b[2m \u001b[0m│ loss             │ CrossEntropyLoss          │      0 │ train │\n",
              "└───┴──────────────────┴───────────────────────────┴────────┴───────┘\n"
            ],
            "text/html": [
              "<pre style=\"white-space:pre;overflow-x:auto;line-height:normal;font-family:Menlo,'DejaVu Sans Mono',consolas,'Courier New',monospace\">┏━━━┳━━━━━━━━━━━━━━━━━━┳━━━━━━━━━━━━━━━━━━━━━━━━━━━┳━━━━━━━━┳━━━━━━━┓\n",
              "┃<span style=\"color: #800080; text-decoration-color: #800080; font-weight: bold\">   </span>┃<span style=\"color: #800080; text-decoration-color: #800080; font-weight: bold\"> Name             </span>┃<span style=\"color: #800080; text-decoration-color: #800080; font-weight: bold\"> Type                      </span>┃<span style=\"color: #800080; text-decoration-color: #800080; font-weight: bold\"> Params </span>┃<span style=\"color: #800080; text-decoration-color: #800080; font-weight: bold\"> Mode  </span>┃\n",
              "┡━━━╇━━━━━━━━━━━━━━━━━━╇━━━━━━━━━━━━━━━━━━━━━━━━━━━╇━━━━━━━━╇━━━━━━━┩\n",
              "│<span style=\"color: #7f7f7f; text-decoration-color: #7f7f7f\"> 0 </span>│ _backbone        │ CategoryEmbeddingBackbone │ 30.0 K │ train │\n",
              "│<span style=\"color: #7f7f7f; text-decoration-color: #7f7f7f\"> 1 </span>│ _embedding_layer │ Embedding1dLayer          │     26 │ train │\n",
              "│<span style=\"color: #7f7f7f; text-decoration-color: #7f7f7f\"> 2 </span>│ head             │ LinearHead                │    334 │ train │\n",
              "│<span style=\"color: #7f7f7f; text-decoration-color: #7f7f7f\"> 3 </span>│ loss             │ CrossEntropyLoss          │      0 │ train │\n",
              "└───┴──────────────────┴───────────────────────────┴────────┴───────┘\n",
              "</pre>\n"
            ]
          },
          "metadata": {}
        },
        {
          "output_type": "display_data",
          "data": {
            "text/plain": [
              "\u001b[1mTrainable params\u001b[0m: 30.4 K                                                                                           \n",
              "\u001b[1mNon-trainable params\u001b[0m: 0                                                                                            \n",
              "\u001b[1mTotal params\u001b[0m: 30.4 K                                                                                               \n",
              "\u001b[1mTotal estimated model params size (MB)\u001b[0m: 0                                                                          \n",
              "\u001b[1mModules in train mode\u001b[0m: 16                                                                                          \n",
              "\u001b[1mModules in eval mode\u001b[0m: 0                                                                                            \n"
            ],
            "text/html": [
              "<pre style=\"white-space:pre;overflow-x:auto;line-height:normal;font-family:Menlo,'DejaVu Sans Mono',consolas,'Courier New',monospace\"><span style=\"font-weight: bold\">Trainable params</span>: 30.4 K                                                                                           \n",
              "<span style=\"font-weight: bold\">Non-trainable params</span>: 0                                                                                            \n",
              "<span style=\"font-weight: bold\">Total params</span>: 30.4 K                                                                                               \n",
              "<span style=\"font-weight: bold\">Total estimated model params size (MB)</span>: 0                                                                          \n",
              "<span style=\"font-weight: bold\">Modules in train mode</span>: 16                                                                                          \n",
              "<span style=\"font-weight: bold\">Modules in eval mode</span>: 0                                                                                            \n",
              "</pre>\n"
            ]
          },
          "metadata": {}
        },
        {
          "output_type": "display_data",
          "data": {
            "text/plain": [
              "Output()"
            ],
            "application/vnd.jupyter.widget-view+json": {
              "version_major": 2,
              "version_minor": 0,
              "model_id": "32f4d34dda3d4f118f245d25f41f531f"
            }
          },
          "metadata": {}
        },
        {
          "output_type": "display_data",
          "data": {
            "text/plain": [
              "/usr/local/lib/python3.11/dist-packages/pytorch_lightning/loops/fit_loop.py:298: PossibleUserWarning:\n",
              "\n",
              "The number of training batches (8) is smaller than the logging interval Trainer(log_every_n_steps=50). Set a lower \n",
              "value for log_every_n_steps if you want to see logs for the training epoch.\n",
              "\n"
            ],
            "text/html": [
              "<pre style=\"white-space:pre;overflow-x:auto;line-height:normal;font-family:Menlo,'DejaVu Sans Mono',consolas,'Courier New',monospace\">/usr/local/lib/python3.11/dist-packages/pytorch_lightning/loops/fit_loop.py:298: PossibleUserWarning:\n",
              "\n",
              "The number of training batches (8) is smaller than the logging interval Trainer(log_every_n_steps=50). Set a lower \n",
              "value for log_every_n_steps if you want to see logs for the training epoch.\n",
              "\n",
              "</pre>\n"
            ]
          },
          "metadata": {}
        },
        {
          "output_type": "display_data",
          "data": {
            "text/plain": [],
            "text/html": [
              "<pre style=\"white-space:pre;overflow-x:auto;line-height:normal;font-family:Menlo,'DejaVu Sans Mono',consolas,'Courier New',monospace\"></pre>\n"
            ]
          },
          "metadata": {}
        },
        {
          "output_type": "stream",
          "name": "stderr",
          "text": [
            "INFO:pytorch_tabular.tabular_model:Training the model completed\n",
            "INFO:pytorch_tabular.tabular_model:Loading the best model\n",
            "/usr/local/lib/python3.11/dist-packages/pytorch_tabular/utils/python_utils.py:85: FutureWarning:\n",
            "\n",
            "You are using `torch.load` with `weights_only=False` (the current default value), which uses the default pickle module implicitly. It is possible to construct malicious pickle data which will execute arbitrary code during unpickling (See https://github.com/pytorch/pytorch/blob/main/SECURITY.md#untrusted-models for more details). In a future release, the default value for `weights_only` will be flipped to `True`. This limits the functions that could be executed during unpickling. Arbitrary objects will no longer be allowed to be loaded via this mode unless they are explicitly allowlisted by the user via `torch.serialization.add_safe_globals`. We recommend you start setting `weights_only=True` for any use case where you don't have full control of the loaded file. Please open an issue on GitHub for any issues related to this experimental feature.\n",
            "\n",
            "[I 2025-02-03 23:28:11,646] Trial 17 finished with value: 0.7235023041474654 and parameters: {'learning_rate': 0.00016798011689193632, 'dropout': 0.23525723410410404, 'hidden_layers': 2, 'hidden_dim': 166, 'batch_size': 128}. Best is trial 5 with value: 0.728110599078341.\n",
            "<ipython-input-8-dc4fa9dcc6b5>:20: FutureWarning:\n",
            "\n",
            "suggest_loguniform has been deprecated in v3.0.0. This feature will be removed in v6.0.0. See https://github.com/optuna/optuna/releases/tag/v3.0.0. Use suggest_float(..., log=True) instead.\n",
            "\n",
            "<ipython-input-8-dc4fa9dcc6b5>:21: FutureWarning:\n",
            "\n",
            "suggest_uniform has been deprecated in v3.0.0. This feature will be removed in v6.0.0. See https://github.com/optuna/optuna/releases/tag/v3.0.0. Use suggest_float instead.\n",
            "\n",
            "INFO:pytorch_tabular.tabular_model:Experiment Tracking is turned off\n",
            "INFO:lightning_fabric.utilities.seed:Seed set to 42\n",
            "INFO:pytorch_tabular.tabular_model:Preparing the DataLoaders\n",
            "INFO:pytorch_tabular.tabular_datamodule:Setting up the datamodule for classification task\n",
            "INFO:pytorch_tabular.tabular_model:Preparing the Model: CategoryEmbeddingModel\n",
            "INFO:pytorch_tabular.tabular_model:Preparing the Trainer\n",
            "INFO:pytorch_lightning.utilities.rank_zero:GPU available: True (cuda), used: True\n",
            "INFO:pytorch_lightning.utilities.rank_zero:TPU available: False, using: 0 TPU cores\n",
            "INFO:pytorch_lightning.utilities.rank_zero:HPU available: False, using: 0 HPUs\n",
            "INFO:pytorch_tabular.tabular_model:Training Started\n"
          ]
        },
        {
          "output_type": "stream",
          "name": "stdout",
          "text": [
            "Index(['TARGET_0_probability', 'TARGET_1_probability', 'TARGET_prediction'], dtype='object')\n"
          ]
        },
        {
          "output_type": "stream",
          "name": "stderr",
          "text": [
            "/usr/local/lib/python3.11/dist-packages/pytorch_lightning/callbacks/model_checkpoint.py:654: UserWarning:\n",
            "\n",
            "Checkpoint directory /content/saved_models exists and is not empty.\n",
            "\n",
            "INFO:pytorch_lightning.accelerators.cuda:LOCAL_RANK: 0 - CUDA_VISIBLE_DEVICES: [0]\n"
          ]
        },
        {
          "output_type": "display_data",
          "data": {
            "text/plain": [
              "┏━━━┳━━━━━━━━━━━━━━━━━━┳━━━━━━━━━━━━━━━━━━━━━━━━━━━┳━━━━━━━━┳━━━━━━━┓\n",
              "┃\u001b[1;35m \u001b[0m\u001b[1;35m \u001b[0m\u001b[1;35m \u001b[0m┃\u001b[1;35m \u001b[0m\u001b[1;35mName            \u001b[0m\u001b[1;35m \u001b[0m┃\u001b[1;35m \u001b[0m\u001b[1;35mType                     \u001b[0m\u001b[1;35m \u001b[0m┃\u001b[1;35m \u001b[0m\u001b[1;35mParams\u001b[0m\u001b[1;35m \u001b[0m┃\u001b[1;35m \u001b[0m\u001b[1;35mMode \u001b[0m\u001b[1;35m \u001b[0m┃\n",
              "┡━━━╇━━━━━━━━━━━━━━━━━━╇━━━━━━━━━━━━━━━━━━━━━━━━━━━╇━━━━━━━━╇━━━━━━━┩\n",
              "│\u001b[2m \u001b[0m\u001b[2m0\u001b[0m\u001b[2m \u001b[0m│ _backbone        │ CategoryEmbeddingBackbone │ 43.1 K │ train │\n",
              "│\u001b[2m \u001b[0m\u001b[2m1\u001b[0m\u001b[2m \u001b[0m│ _embedding_layer │ Embedding1dLayer          │     26 │ train │\n",
              "│\u001b[2m \u001b[0m\u001b[2m2\u001b[0m\u001b[2m \u001b[0m│ head             │ LinearHead                │    236 │ train │\n",
              "│\u001b[2m \u001b[0m\u001b[2m3\u001b[0m\u001b[2m \u001b[0m│ loss             │ CrossEntropyLoss          │      0 │ train │\n",
              "└───┴──────────────────┴───────────────────────────┴────────┴───────┘\n"
            ],
            "text/html": [
              "<pre style=\"white-space:pre;overflow-x:auto;line-height:normal;font-family:Menlo,'DejaVu Sans Mono',consolas,'Courier New',monospace\">┏━━━┳━━━━━━━━━━━━━━━━━━┳━━━━━━━━━━━━━━━━━━━━━━━━━━━┳━━━━━━━━┳━━━━━━━┓\n",
              "┃<span style=\"color: #800080; text-decoration-color: #800080; font-weight: bold\">   </span>┃<span style=\"color: #800080; text-decoration-color: #800080; font-weight: bold\"> Name             </span>┃<span style=\"color: #800080; text-decoration-color: #800080; font-weight: bold\"> Type                      </span>┃<span style=\"color: #800080; text-decoration-color: #800080; font-weight: bold\"> Params </span>┃<span style=\"color: #800080; text-decoration-color: #800080; font-weight: bold\"> Mode  </span>┃\n",
              "┡━━━╇━━━━━━━━━━━━━━━━━━╇━━━━━━━━━━━━━━━━━━━━━━━━━━━╇━━━━━━━━╇━━━━━━━┩\n",
              "│<span style=\"color: #7f7f7f; text-decoration-color: #7f7f7f\"> 0 </span>│ _backbone        │ CategoryEmbeddingBackbone │ 43.1 K │ train │\n",
              "│<span style=\"color: #7f7f7f; text-decoration-color: #7f7f7f\"> 1 </span>│ _embedding_layer │ Embedding1dLayer          │     26 │ train │\n",
              "│<span style=\"color: #7f7f7f; text-decoration-color: #7f7f7f\"> 2 </span>│ head             │ LinearHead                │    236 │ train │\n",
              "│<span style=\"color: #7f7f7f; text-decoration-color: #7f7f7f\"> 3 </span>│ loss             │ CrossEntropyLoss          │      0 │ train │\n",
              "└───┴──────────────────┴───────────────────────────┴────────┴───────┘\n",
              "</pre>\n"
            ]
          },
          "metadata": {}
        },
        {
          "output_type": "display_data",
          "data": {
            "text/plain": [
              "\u001b[1mTrainable params\u001b[0m: 43.3 K                                                                                           \n",
              "\u001b[1mNon-trainable params\u001b[0m: 0                                                                                            \n",
              "\u001b[1mTotal params\u001b[0m: 43.3 K                                                                                               \n",
              "\u001b[1mTotal estimated model params size (MB)\u001b[0m: 0                                                                          \n",
              "\u001b[1mModules in train mode\u001b[0m: 22                                                                                          \n",
              "\u001b[1mModules in eval mode\u001b[0m: 0                                                                                            \n"
            ],
            "text/html": [
              "<pre style=\"white-space:pre;overflow-x:auto;line-height:normal;font-family:Menlo,'DejaVu Sans Mono',consolas,'Courier New',monospace\"><span style=\"font-weight: bold\">Trainable params</span>: 43.3 K                                                                                           \n",
              "<span style=\"font-weight: bold\">Non-trainable params</span>: 0                                                                                            \n",
              "<span style=\"font-weight: bold\">Total params</span>: 43.3 K                                                                                               \n",
              "<span style=\"font-weight: bold\">Total estimated model params size (MB)</span>: 0                                                                          \n",
              "<span style=\"font-weight: bold\">Modules in train mode</span>: 22                                                                                          \n",
              "<span style=\"font-weight: bold\">Modules in eval mode</span>: 0                                                                                            \n",
              "</pre>\n"
            ]
          },
          "metadata": {}
        },
        {
          "output_type": "display_data",
          "data": {
            "text/plain": [
              "Output()"
            ],
            "application/vnd.jupyter.widget-view+json": {
              "version_major": 2,
              "version_minor": 0,
              "model_id": "b63f20363bd24c58a236c0a2261fce2f"
            }
          },
          "metadata": {}
        },
        {
          "output_type": "display_data",
          "data": {
            "text/plain": [
              "/usr/local/lib/python3.11/dist-packages/pytorch_lightning/loops/fit_loop.py:298: PossibleUserWarning:\n",
              "\n",
              "The number of training batches (16) is smaller than the logging interval Trainer(log_every_n_steps=50). Set a lower\n",
              "value for log_every_n_steps if you want to see logs for the training epoch.\n",
              "\n"
            ],
            "text/html": [
              "<pre style=\"white-space:pre;overflow-x:auto;line-height:normal;font-family:Menlo,'DejaVu Sans Mono',consolas,'Courier New',monospace\">/usr/local/lib/python3.11/dist-packages/pytorch_lightning/loops/fit_loop.py:298: PossibleUserWarning:\n",
              "\n",
              "The number of training batches (16) is smaller than the logging interval Trainer(log_every_n_steps=50). Set a lower\n",
              "value for log_every_n_steps if you want to see logs for the training epoch.\n",
              "\n",
              "</pre>\n"
            ]
          },
          "metadata": {}
        },
        {
          "output_type": "display_data",
          "data": {
            "text/plain": [],
            "text/html": [
              "<pre style=\"white-space:pre;overflow-x:auto;line-height:normal;font-family:Menlo,'DejaVu Sans Mono',consolas,'Courier New',monospace\"></pre>\n"
            ]
          },
          "metadata": {}
        },
        {
          "output_type": "stream",
          "name": "stderr",
          "text": [
            "INFO:pytorch_tabular.tabular_model:Training the model completed\n",
            "INFO:pytorch_tabular.tabular_model:Loading the best model\n",
            "/usr/local/lib/python3.11/dist-packages/pytorch_tabular/utils/python_utils.py:85: FutureWarning:\n",
            "\n",
            "You are using `torch.load` with `weights_only=False` (the current default value), which uses the default pickle module implicitly. It is possible to construct malicious pickle data which will execute arbitrary code during unpickling (See https://github.com/pytorch/pytorch/blob/main/SECURITY.md#untrusted-models for more details). In a future release, the default value for `weights_only` will be flipped to `True`. This limits the functions that could be executed during unpickling. Arbitrary objects will no longer be allowed to be loaded via this mode unless they are explicitly allowlisted by the user via `torch.serialization.add_safe_globals`. We recommend you start setting `weights_only=True` for any use case where you don't have full control of the loaded file. Please open an issue on GitHub for any issues related to this experimental feature.\n",
            "\n",
            "[I 2025-02-03 23:28:16,146] Trial 18 finished with value: 0.6774193548387096 and parameters: {'learning_rate': 0.0005413599164324505, 'dropout': 0.41285059408731606, 'hidden_layers': 4, 'hidden_dim': 117, 'batch_size': 64}. Best is trial 5 with value: 0.728110599078341.\n",
            "<ipython-input-8-dc4fa9dcc6b5>:20: FutureWarning:\n",
            "\n",
            "suggest_loguniform has been deprecated in v3.0.0. This feature will be removed in v6.0.0. See https://github.com/optuna/optuna/releases/tag/v3.0.0. Use suggest_float(..., log=True) instead.\n",
            "\n",
            "<ipython-input-8-dc4fa9dcc6b5>:21: FutureWarning:\n",
            "\n",
            "suggest_uniform has been deprecated in v3.0.0. This feature will be removed in v6.0.0. See https://github.com/optuna/optuna/releases/tag/v3.0.0. Use suggest_float instead.\n",
            "\n",
            "INFO:pytorch_tabular.tabular_model:Experiment Tracking is turned off\n",
            "INFO:lightning_fabric.utilities.seed:Seed set to 42\n",
            "INFO:pytorch_tabular.tabular_model:Preparing the DataLoaders\n",
            "INFO:pytorch_tabular.tabular_datamodule:Setting up the datamodule for classification task\n",
            "INFO:pytorch_tabular.tabular_model:Preparing the Model: CategoryEmbeddingModel\n",
            "INFO:pytorch_tabular.tabular_model:Preparing the Trainer\n",
            "INFO:pytorch_lightning.utilities.rank_zero:GPU available: True (cuda), used: True\n",
            "INFO:pytorch_lightning.utilities.rank_zero:TPU available: False, using: 0 TPU cores\n",
            "INFO:pytorch_lightning.utilities.rank_zero:HPU available: False, using: 0 HPUs\n",
            "INFO:pytorch_tabular.tabular_model:Training Started\n"
          ]
        },
        {
          "output_type": "stream",
          "name": "stdout",
          "text": [
            "Index(['TARGET_0_probability', 'TARGET_1_probability', 'TARGET_prediction'], dtype='object')\n"
          ]
        },
        {
          "output_type": "stream",
          "name": "stderr",
          "text": [
            "/usr/local/lib/python3.11/dist-packages/pytorch_lightning/callbacks/model_checkpoint.py:654: UserWarning:\n",
            "\n",
            "Checkpoint directory /content/saved_models exists and is not empty.\n",
            "\n",
            "INFO:pytorch_lightning.accelerators.cuda:LOCAL_RANK: 0 - CUDA_VISIBLE_DEVICES: [0]\n"
          ]
        },
        {
          "output_type": "display_data",
          "data": {
            "text/plain": [
              "┏━━━┳━━━━━━━━━━━━━━━━━━┳━━━━━━━━━━━━━━━━━━━━━━━━━━━┳━━━━━━━━┳━━━━━━━┓\n",
              "┃\u001b[1;35m \u001b[0m\u001b[1;35m \u001b[0m\u001b[1;35m \u001b[0m┃\u001b[1;35m \u001b[0m\u001b[1;35mName            \u001b[0m\u001b[1;35m \u001b[0m┃\u001b[1;35m \u001b[0m\u001b[1;35mType                     \u001b[0m\u001b[1;35m \u001b[0m┃\u001b[1;35m \u001b[0m\u001b[1;35mParams\u001b[0m\u001b[1;35m \u001b[0m┃\u001b[1;35m \u001b[0m\u001b[1;35mMode \u001b[0m\u001b[1;35m \u001b[0m┃\n",
              "┡━━━╇━━━━━━━━━━━━━━━━━━╇━━━━━━━━━━━━━━━━━━━━━━━━━━━╇━━━━━━━━╇━━━━━━━┩\n",
              "│\u001b[2m \u001b[0m\u001b[2m0\u001b[0m\u001b[2m \u001b[0m│ _backbone        │ CategoryEmbeddingBackbone │ 10.1 K │ train │\n",
              "│\u001b[2m \u001b[0m\u001b[2m1\u001b[0m\u001b[2m \u001b[0m│ _embedding_layer │ Embedding1dLayer          │     26 │ train │\n",
              "│\u001b[2m \u001b[0m\u001b[2m2\u001b[0m\u001b[2m \u001b[0m│ head             │ LinearHead                │    136 │ train │\n",
              "│\u001b[2m \u001b[0m\u001b[2m3\u001b[0m\u001b[2m \u001b[0m│ loss             │ CrossEntropyLoss          │      0 │ train │\n",
              "└───┴──────────────────┴───────────────────────────┴────────┴───────┘\n"
            ],
            "text/html": [
              "<pre style=\"white-space:pre;overflow-x:auto;line-height:normal;font-family:Menlo,'DejaVu Sans Mono',consolas,'Courier New',monospace\">┏━━━┳━━━━━━━━━━━━━━━━━━┳━━━━━━━━━━━━━━━━━━━━━━━━━━━┳━━━━━━━━┳━━━━━━━┓\n",
              "┃<span style=\"color: #800080; text-decoration-color: #800080; font-weight: bold\">   </span>┃<span style=\"color: #800080; text-decoration-color: #800080; font-weight: bold\"> Name             </span>┃<span style=\"color: #800080; text-decoration-color: #800080; font-weight: bold\"> Type                      </span>┃<span style=\"color: #800080; text-decoration-color: #800080; font-weight: bold\"> Params </span>┃<span style=\"color: #800080; text-decoration-color: #800080; font-weight: bold\"> Mode  </span>┃\n",
              "┡━━━╇━━━━━━━━━━━━━━━━━━╇━━━━━━━━━━━━━━━━━━━━━━━━━━━╇━━━━━━━━╇━━━━━━━┩\n",
              "│<span style=\"color: #7f7f7f; text-decoration-color: #7f7f7f\"> 0 </span>│ _backbone        │ CategoryEmbeddingBackbone │ 10.1 K │ train │\n",
              "│<span style=\"color: #7f7f7f; text-decoration-color: #7f7f7f\"> 1 </span>│ _embedding_layer │ Embedding1dLayer          │     26 │ train │\n",
              "│<span style=\"color: #7f7f7f; text-decoration-color: #7f7f7f\"> 2 </span>│ head             │ LinearHead                │    136 │ train │\n",
              "│<span style=\"color: #7f7f7f; text-decoration-color: #7f7f7f\"> 3 </span>│ loss             │ CrossEntropyLoss          │      0 │ train │\n",
              "└───┴──────────────────┴───────────────────────────┴────────┴───────┘\n",
              "</pre>\n"
            ]
          },
          "metadata": {}
        },
        {
          "output_type": "display_data",
          "data": {
            "text/plain": [
              "\u001b[1mTrainable params\u001b[0m: 10.2 K                                                                                           \n",
              "\u001b[1mNon-trainable params\u001b[0m: 0                                                                                            \n",
              "\u001b[1mTotal params\u001b[0m: 10.2 K                                                                                               \n",
              "\u001b[1mTotal estimated model params size (MB)\u001b[0m: 0                                                                          \n",
              "\u001b[1mModules in train mode\u001b[0m: 19                                                                                          \n",
              "\u001b[1mModules in eval mode\u001b[0m: 0                                                                                            \n"
            ],
            "text/html": [
              "<pre style=\"white-space:pre;overflow-x:auto;line-height:normal;font-family:Menlo,'DejaVu Sans Mono',consolas,'Courier New',monospace\"><span style=\"font-weight: bold\">Trainable params</span>: 10.2 K                                                                                           \n",
              "<span style=\"font-weight: bold\">Non-trainable params</span>: 0                                                                                            \n",
              "<span style=\"font-weight: bold\">Total params</span>: 10.2 K                                                                                               \n",
              "<span style=\"font-weight: bold\">Total estimated model params size (MB)</span>: 0                                                                          \n",
              "<span style=\"font-weight: bold\">Modules in train mode</span>: 19                                                                                          \n",
              "<span style=\"font-weight: bold\">Modules in eval mode</span>: 0                                                                                            \n",
              "</pre>\n"
            ]
          },
          "metadata": {}
        },
        {
          "output_type": "display_data",
          "data": {
            "text/plain": [
              "Output()"
            ],
            "application/vnd.jupyter.widget-view+json": {
              "version_major": 2,
              "version_minor": 0,
              "model_id": "d80a887e36904bd48d123d59da6b2135"
            }
          },
          "metadata": {}
        },
        {
          "output_type": "display_data",
          "data": {
            "text/plain": [
              "/usr/local/lib/python3.11/dist-packages/pytorch_lightning/loops/fit_loop.py:298: PossibleUserWarning:\n",
              "\n",
              "The number of training batches (32) is smaller than the logging interval Trainer(log_every_n_steps=50). Set a lower\n",
              "value for log_every_n_steps if you want to see logs for the training epoch.\n",
              "\n"
            ],
            "text/html": [
              "<pre style=\"white-space:pre;overflow-x:auto;line-height:normal;font-family:Menlo,'DejaVu Sans Mono',consolas,'Courier New',monospace\">/usr/local/lib/python3.11/dist-packages/pytorch_lightning/loops/fit_loop.py:298: PossibleUserWarning:\n",
              "\n",
              "The number of training batches (32) is smaller than the logging interval Trainer(log_every_n_steps=50). Set a lower\n",
              "value for log_every_n_steps if you want to see logs for the training epoch.\n",
              "\n",
              "</pre>\n"
            ]
          },
          "metadata": {}
        },
        {
          "output_type": "display_data",
          "data": {
            "text/plain": [],
            "text/html": [
              "<pre style=\"white-space:pre;overflow-x:auto;line-height:normal;font-family:Menlo,'DejaVu Sans Mono',consolas,'Courier New',monospace\"></pre>\n"
            ]
          },
          "metadata": {}
        },
        {
          "output_type": "stream",
          "name": "stderr",
          "text": [
            "INFO:pytorch_tabular.tabular_model:Training the model completed\n",
            "INFO:pytorch_tabular.tabular_model:Loading the best model\n",
            "/usr/local/lib/python3.11/dist-packages/pytorch_tabular/utils/python_utils.py:85: FutureWarning:\n",
            "\n",
            "You are using `torch.load` with `weights_only=False` (the current default value), which uses the default pickle module implicitly. It is possible to construct malicious pickle data which will execute arbitrary code during unpickling (See https://github.com/pytorch/pytorch/blob/main/SECURITY.md#untrusted-models for more details). In a future release, the default value for `weights_only` will be flipped to `True`. This limits the functions that could be executed during unpickling. Arbitrary objects will no longer be allowed to be loaded via this mode unless they are explicitly allowlisted by the user via `torch.serialization.add_safe_globals`. We recommend you start setting `weights_only=True` for any use case where you don't have full control of the loaded file. Please open an issue on GitHub for any issues related to this experimental feature.\n",
            "\n",
            "[I 2025-02-03 23:28:30,653] Trial 19 finished with value: 0.7050691244239631 and parameters: {'learning_rate': 0.0017426567908211418, 'dropout': 0.2608287021665271, 'hidden_layers': 3, 'hidden_dim': 67, 'batch_size': 32}. Best is trial 5 with value: 0.728110599078341.\n",
            "INFO:pytorch_tabular.tabular_model:Experiment Tracking is turned off\n",
            "INFO:lightning_fabric.utilities.seed:Seed set to 42\n",
            "INFO:pytorch_tabular.tabular_model:Preparing the DataLoaders\n",
            "INFO:pytorch_tabular.tabular_datamodule:Setting up the datamodule for classification task\n",
            "INFO:pytorch_tabular.tabular_model:Preparing the Model: CategoryEmbeddingModel\n",
            "INFO:pytorch_tabular.tabular_model:Preparing the Trainer\n",
            "INFO:pytorch_lightning.utilities.rank_zero:GPU available: True (cuda), used: True\n",
            "INFO:pytorch_lightning.utilities.rank_zero:TPU available: False, using: 0 TPU cores\n",
            "INFO:pytorch_lightning.utilities.rank_zero:HPU available: False, using: 0 HPUs\n",
            "INFO:pytorch_tabular.tabular_model:Training Started\n",
            "/usr/local/lib/python3.11/dist-packages/pytorch_lightning/callbacks/model_checkpoint.py:654: UserWarning:\n",
            "\n",
            "Checkpoint directory /content/saved_models exists and is not empty.\n",
            "\n",
            "INFO:pytorch_lightning.accelerators.cuda:LOCAL_RANK: 0 - CUDA_VISIBLE_DEVICES: [0]\n"
          ]
        },
        {
          "output_type": "stream",
          "name": "stdout",
          "text": [
            "Index(['TARGET_0_probability', 'TARGET_1_probability', 'TARGET_prediction'], dtype='object')\n",
            "Best Parameters: {'learning_rate': 0.0016187188164923786, 'dropout': 0.22442780690812156, 'hidden_layers': 3, 'hidden_dim': 244, 'batch_size': 128}\n"
          ]
        },
        {
          "output_type": "display_data",
          "data": {
            "text/plain": [
              "┏━━━┳━━━━━━━━━━━━━━━━━━┳━━━━━━━━━━━━━━━━━━━━━━━━━━━┳━━━━━━━━┳━━━━━━━┓\n",
              "┃\u001b[1;35m \u001b[0m\u001b[1;35m \u001b[0m\u001b[1;35m \u001b[0m┃\u001b[1;35m \u001b[0m\u001b[1;35mName            \u001b[0m\u001b[1;35m \u001b[0m┃\u001b[1;35m \u001b[0m\u001b[1;35mType                     \u001b[0m\u001b[1;35m \u001b[0m┃\u001b[1;35m \u001b[0m\u001b[1;35mParams\u001b[0m\u001b[1;35m \u001b[0m┃\u001b[1;35m \u001b[0m\u001b[1;35mMode \u001b[0m\u001b[1;35m \u001b[0m┃\n",
              "┡━━━╇━━━━━━━━━━━━━━━━━━╇━━━━━━━━━━━━━━━━━━━━━━━━━━━╇━━━━━━━━╇━━━━━━━┩\n",
              "│\u001b[2m \u001b[0m\u001b[2m0\u001b[0m\u001b[2m \u001b[0m│ _backbone        │ CategoryEmbeddingBackbone │  122 K │ train │\n",
              "│\u001b[2m \u001b[0m\u001b[2m1\u001b[0m\u001b[2m \u001b[0m│ _embedding_layer │ Embedding1dLayer          │     26 │ train │\n",
              "│\u001b[2m \u001b[0m\u001b[2m2\u001b[0m\u001b[2m \u001b[0m│ head             │ LinearHead                │    490 │ train │\n",
              "│\u001b[2m \u001b[0m\u001b[2m3\u001b[0m\u001b[2m \u001b[0m│ loss             │ CrossEntropyLoss          │      0 │ train │\n",
              "└───┴──────────────────┴───────────────────────────┴────────┴───────┘\n"
            ],
            "text/html": [
              "<pre style=\"white-space:pre;overflow-x:auto;line-height:normal;font-family:Menlo,'DejaVu Sans Mono',consolas,'Courier New',monospace\">┏━━━┳━━━━━━━━━━━━━━━━━━┳━━━━━━━━━━━━━━━━━━━━━━━━━━━┳━━━━━━━━┳━━━━━━━┓\n",
              "┃<span style=\"color: #800080; text-decoration-color: #800080; font-weight: bold\">   </span>┃<span style=\"color: #800080; text-decoration-color: #800080; font-weight: bold\"> Name             </span>┃<span style=\"color: #800080; text-decoration-color: #800080; font-weight: bold\"> Type                      </span>┃<span style=\"color: #800080; text-decoration-color: #800080; font-weight: bold\"> Params </span>┃<span style=\"color: #800080; text-decoration-color: #800080; font-weight: bold\"> Mode  </span>┃\n",
              "┡━━━╇━━━━━━━━━━━━━━━━━━╇━━━━━━━━━━━━━━━━━━━━━━━━━━━╇━━━━━━━━╇━━━━━━━┩\n",
              "│<span style=\"color: #7f7f7f; text-decoration-color: #7f7f7f\"> 0 </span>│ _backbone        │ CategoryEmbeddingBackbone │  122 K │ train │\n",
              "│<span style=\"color: #7f7f7f; text-decoration-color: #7f7f7f\"> 1 </span>│ _embedding_layer │ Embedding1dLayer          │     26 │ train │\n",
              "│<span style=\"color: #7f7f7f; text-decoration-color: #7f7f7f\"> 2 </span>│ head             │ LinearHead                │    490 │ train │\n",
              "│<span style=\"color: #7f7f7f; text-decoration-color: #7f7f7f\"> 3 </span>│ loss             │ CrossEntropyLoss          │      0 │ train │\n",
              "└───┴──────────────────┴───────────────────────────┴────────┴───────┘\n",
              "</pre>\n"
            ]
          },
          "metadata": {}
        },
        {
          "output_type": "display_data",
          "data": {
            "text/plain": [
              "\u001b[1mTrainable params\u001b[0m: 123 K                                                                                            \n",
              "\u001b[1mNon-trainable params\u001b[0m: 0                                                                                            \n",
              "\u001b[1mTotal params\u001b[0m: 123 K                                                                                                \n",
              "\u001b[1mTotal estimated model params size (MB)\u001b[0m: 0                                                                          \n",
              "\u001b[1mModules in train mode\u001b[0m: 19                                                                                          \n",
              "\u001b[1mModules in eval mode\u001b[0m: 0                                                                                            \n"
            ],
            "text/html": [
              "<pre style=\"white-space:pre;overflow-x:auto;line-height:normal;font-family:Menlo,'DejaVu Sans Mono',consolas,'Courier New',monospace\"><span style=\"font-weight: bold\">Trainable params</span>: 123 K                                                                                            \n",
              "<span style=\"font-weight: bold\">Non-trainable params</span>: 0                                                                                            \n",
              "<span style=\"font-weight: bold\">Total params</span>: 123 K                                                                                                \n",
              "<span style=\"font-weight: bold\">Total estimated model params size (MB)</span>: 0                                                                          \n",
              "<span style=\"font-weight: bold\">Modules in train mode</span>: 19                                                                                          \n",
              "<span style=\"font-weight: bold\">Modules in eval mode</span>: 0                                                                                            \n",
              "</pre>\n"
            ]
          },
          "metadata": {}
        },
        {
          "output_type": "display_data",
          "data": {
            "text/plain": [
              "Output()"
            ],
            "application/vnd.jupyter.widget-view+json": {
              "version_major": 2,
              "version_minor": 0,
              "model_id": "cc48e37a65fa49d5bb1cbc920252fdae"
            }
          },
          "metadata": {}
        },
        {
          "output_type": "display_data",
          "data": {
            "text/plain": [
              "/usr/local/lib/python3.11/dist-packages/pytorch_lightning/loops/fit_loop.py:298: PossibleUserWarning:\n",
              "\n",
              "The number of training batches (8) is smaller than the logging interval Trainer(log_every_n_steps=50). Set a lower \n",
              "value for log_every_n_steps if you want to see logs for the training epoch.\n",
              "\n"
            ],
            "text/html": [
              "<pre style=\"white-space:pre;overflow-x:auto;line-height:normal;font-family:Menlo,'DejaVu Sans Mono',consolas,'Courier New',monospace\">/usr/local/lib/python3.11/dist-packages/pytorch_lightning/loops/fit_loop.py:298: PossibleUserWarning:\n",
              "\n",
              "The number of training batches (8) is smaller than the logging interval Trainer(log_every_n_steps=50). Set a lower \n",
              "value for log_every_n_steps if you want to see logs for the training epoch.\n",
              "\n",
              "</pre>\n"
            ]
          },
          "metadata": {}
        },
        {
          "output_type": "display_data",
          "data": {
            "text/plain": [],
            "text/html": [
              "<pre style=\"white-space:pre;overflow-x:auto;line-height:normal;font-family:Menlo,'DejaVu Sans Mono',consolas,'Courier New',monospace\"></pre>\n"
            ]
          },
          "metadata": {}
        },
        {
          "output_type": "stream",
          "name": "stderr",
          "text": [
            "INFO:pytorch_tabular.tabular_model:Training the model completed\n",
            "INFO:pytorch_tabular.tabular_model:Loading the best model\n",
            "/usr/local/lib/python3.11/dist-packages/pytorch_tabular/utils/python_utils.py:85: FutureWarning:\n",
            "\n",
            "You are using `torch.load` with `weights_only=False` (the current default value), which uses the default pickle module implicitly. It is possible to construct malicious pickle data which will execute arbitrary code during unpickling (See https://github.com/pytorch/pytorch/blob/main/SECURITY.md#untrusted-models for more details). In a future release, the default value for `weights_only` will be flipped to `True`. This limits the functions that could be executed during unpickling. Arbitrary objects will no longer be allowed to be loaded via this mode unless they are explicitly allowlisted by the user via `torch.serialization.add_safe_globals`. We recommend you start setting `weights_only=True` for any use case where you don't have full control of the loaded file. Please open an issue on GitHub for any issues related to this experimental feature.\n",
            "\n"
          ]
        },
        {
          "output_type": "stream",
          "name": "stdout",
          "text": [
            "Final Test Accuracy: 0.6743119266055045\n"
          ]
        },
        {
          "output_type": "display_data",
          "data": {
            "text/plain": [
              "<Figure size 640x480 with 2 Axes>"
            ],
            "image/png": "[encoded data removed]"
          },
          "metadata": {}
        },
        {
          "output_type": "display_data",
          "data": {
            "text/plain": [
              "<Figure size 640x480 with 1 Axes>"
            ],
            "image/png": "[encoded data removed]"
          },
          "metadata": {}
        },
        {
          "output_type": "display_data",
          "data": {
            "text/plain": [
              "<Figure size 640x480 with 1 Axes>"
            ],
            "image/png": "[encoded data removed]"
          },
          "metadata": {}
        },
        {
          "output_type": "display_data",
          "data": {
            "text/html": [
              "<html>\n",
              "<head><meta charset=\"utf-8\" /></head>\n",
              "<body>\n",
              "    <div>            <script src=\"https://cdnjs.cloudflare.com/ajax/libs/mathjax/2.7.5/MathJax.js?config=TeX-AMS-MML_SVG\"></script><script type=\"text/javascript\">if (window.MathJax && window.MathJax.Hub && window.MathJax.Hub.Config) {window.MathJax.Hub.Config({SVG: {font: \"STIX-Web\"}});}</script>                <script type=\"text/javascript\">window.PlotlyConfig = {MathJaxConfig: 'local'};</script>\n",
              "        <script charset=\"utf-8\" src=\"https://cdn.plot.ly/plotly-2.35.2.min.js\"></script>                <div id=\"4bbf1ec3-a8a8-4bf4-ba72-a827189f1dd7\" class=\"plotly-graph-div\" style=\"height:525px; width:100%;\"></div>            <script type=\"text/javascript\">                                    window.PLOTLYENV=window.PLOTLYENV || {};                                    if (document.getElementById(\"4bbf1ec3-a8a8-4bf4-ba72-a827189f1dd7\")) {                    Plotly.newPlot(                        \"4bbf1ec3-a8a8-4bf4-ba72-a827189f1dd7\",                        [{\"cliponaxis\":false,\"hovertemplate\":[\"hidden_layers (IntDistribution): 0.01622820032078728\\u003cextra\\u003e\\u003c\\u002fextra\\u003e\",\"batch_size (CategoricalDistribution): 0.09831937689036332\\u003cextra\\u003e\\u003c\\u002fextra\\u003e\",\"learning_rate (FloatDistribution): 0.13621813888103762\\u003cextra\\u003e\\u003c\\u002fextra\\u003e\",\"dropout (FloatDistribution): 0.26495069141947347\\u003cextra\\u003e\\u003c\\u002fextra\\u003e\",\"hidden_dim (IntDistribution): 0.48428359248833835\\u003cextra\\u003e\\u003c\\u002fextra\\u003e\"],\"name\":\"Objective Value\",\"orientation\":\"h\",\"text\":[\"0.02\",\"0.10\",\"0.14\",\"0.26\",\"0.48\"],\"textposition\":\"outside\",\"x\":[0.01622820032078728,0.09831937689036332,0.13621813888103762,0.26495069141947347,0.48428359248833835],\"y\":[\"hidden_layers\",\"batch_size\",\"learning_rate\",\"dropout\",\"hidden_dim\"],\"type\":\"bar\"}],                        {\"title\":{\"text\":\"Hyperparameter Importances\"},\"xaxis\":{\"title\":{\"text\":\"Hyperparameter Importance\"}},\"yaxis\":{\"title\":{\"text\":\"Hyperparameter\"}},\"template\":{\"data\":{\"histogram2dcontour\":[{\"type\":\"histogram2dcontour\",\"colorbar\":{\"outlinewidth\":0,\"ticks\":\"\"},\"colorscale\":[[0.0,\"#0d0887\"],[0.1111111111111111,\"#46039f\"],[0.2222222222222222,\"#7201a8\"],[0.3333333333333333,\"#9c179e\"],[0.4444444444444444,\"#bd3786\"],[0.5555555555555556,\"#d8576b\"],[0.6666666666666666,\"#ed7953\"],[0.7777777777777778,\"#fb9f3a\"],[0.8888888888888888,\"#fdca26\"],[1.0,\"#f0f921\"]]}],\"choropleth\":[{\"type\":\"choropleth\",\"colorbar\":{\"outlinewidth\":0,\"ticks\":\"\"}}],\"histogram2d\":[{\"type\":\"histogram2d\",\"colorbar\":{\"outlinewidth\":0,\"ticks\":\"\"},\"colorscale\":[[0.0,\"#0d0887\"],[0.1111111111111111,\"#46039f\"],[0.2222222222222222,\"#7201a8\"],[0.3333333333333333,\"#9c179e\"],[0.4444444444444444,\"#bd3786\"],[0.5555555555555556,\"#d8576b\"],[0.6666666666666666,\"#ed7953\"],[0.7777777777777778,\"#fb9f3a\"],[0.8888888888888888,\"#fdca26\"],[1.0,\"#f0f921\"]]}],\"heatmap\":[{\"type\":\"heatmap\",\"colorbar\":{\"outlinewidth\":0,\"ticks\":\"\"},\"colorscale\":[[0.0,\"#0d0887\"],[0.1111111111111111,\"#46039f\"],[0.2222222222222222,\"#7201a8\"],[0.3333333333333333,\"#9c179e\"],[0.4444444444444444,\"#bd3786\"],[0.5555555555555556,\"#d8576b\"],[0.6666666666666666,\"#ed7953\"],[0.7777777777777778,\"#fb9f3a\"],[0.8888888888888888,\"#fdca26\"],[1.0,\"#f0f921\"]]}],\"heatmapgl\":[{\"type\":\"heatmapgl\",\"colorbar\":{\"outlinewidth\":0,\"ticks\":\"\"},\"colorscale\":[[0.0,\"#0d0887\"],[0.1111111111111111,\"#46039f\"],[0.2222222222222222,\"#7201a8\"],[0.3333333333333333,\"#9c179e\"],[0.4444444444444444,\"#bd3786\"],[0.5555555555555556,\"#d8576b\"],[0.6666666666666666,\"#ed7953\"],[0.7777777777777778,\"#fb9f3a\"],[0.8888888888888888,\"#fdca26\"],[1.0,\"#f0f921\"]]}],\"contourcarpet\":[{\"type\":\"contourcarpet\",\"colorbar\":{\"outlinewidth\":0,\"ticks\":\"\"}}],\"contour\":[{\"type\":\"contour\",\"colorbar\":{\"outlinewidth\":0,\"ticks\":\"\"},\"colorscale\":[[0.0,\"#0d0887\"],[0.1111111111111111,\"#46039f\"],[0.2222222222222222,\"#7201a8\"],[0.3333333333333333,\"#9c179e\"],[0.4444444444444444,\"#bd3786\"],[0.5555555555555556,\"#d8576b\"],[0.6666666666666666,\"#ed7953\"],[0.7777777777777778,\"#fb9f3a\"],[0.8888888888888888,\"#fdca26\"],[1.0,\"#f0f921\"]]}],\"surface\":[{\"type\":\"surface\",\"colorbar\":{\"outlinewidth\":0,\"ticks\":\"\"},\"colorscale\":[[0.0,\"#0d0887\"],[0.1111111111111111,\"#46039f\"],[0.2222222222222222,\"#7201a8\"],[0.3333333333333333,\"#9c179e\"],[0.4444444444444444,\"#bd3786\"],[0.5555555555555556,\"#d8576b\"],[0.6666666666666666,\"#ed7953\"],[0.7777777777777778,\"#fb9f3a\"],[0.8888888888888888,\"#fdca26\"],[1.0,\"#f0f921\"]]}],\"mesh3d\":[{\"type\":\"mesh3d\",\"colorbar\":{\"outlinewidth\":0,\"ticks\":\"\"}}],\"scatter\":[{\"fillpattern\":{\"fillmode\":\"overlay\",\"size\":10,\"solidity\":0.2},\"type\":\"scatter\"}],\"parcoords\":[{\"type\":\"parcoords\",\"line\":{\"colorbar\":{\"outlinewidth\":0,\"ticks\":\"\"}}}],\"scatterpolargl\":[{\"type\":\"scatterpolargl\",\"marker\":{\"colorbar\":{\"outlinewidth\":0,\"ticks\":\"\"}}}],\"bar\":[{\"error_x\":{\"color\":\"#2a3f5f\"},\"error_y\":{\"color\":\"#2a3f5f\"},\"marker\":{\"line\":{\"color\":\"#E5ECF6\",\"width\":0.5},\"pattern\":{\"fillmode\":\"overlay\",\"size\":10,\"solidity\":0.2}},\"type\":\"bar\"}],\"scattergeo\":[{\"type\":\"scattergeo\",\"marker\":{\"colorbar\":{\"outlinewidth\":0,\"ticks\":\"\"}}}],\"scatterpolar\":[{\"type\":\"scatterpolar\",\"marker\":{\"colorbar\":{\"outlinewidth\":0,\"ticks\":\"\"}}}],\"histogram\":[{\"marker\":{\"pattern\":{\"fillmode\":\"overlay\",\"size\":10,\"solidity\":0.2}},\"type\":\"histogram\"}],\"scattergl\":[{\"type\":\"scattergl\",\"marker\":{\"colorbar\":{\"outlinewidth\":0,\"ticks\":\"\"}}}],\"scatter3d\":[{\"type\":\"scatter3d\",\"line\":{\"colorbar\":{\"outlinewidth\":0,\"ticks\":\"\"}},\"marker\":{\"colorbar\":{\"outlinewidth\":0,\"ticks\":\"\"}}}],\"scattermapbox\":[{\"type\":\"scattermapbox\",\"marker\":{\"colorbar\":{\"outlinewidth\":0,\"ticks\":\"\"}}}],\"scatterternary\":[{\"type\":\"scatterternary\",\"marker\":{\"colorbar\":{\"outlinewidth\":0,\"ticks\":\"\"}}}],\"scattercarpet\":[{\"type\":\"scattercarpet\",\"marker\":{\"colorbar\":{\"outlinewidth\":0,\"ticks\":\"\"}}}],\"carpet\":[{\"aaxis\":{\"endlinecolor\":\"#2a3f5f\",\"gridcolor\":\"white\",\"linecolor\":\"white\",\"minorgridcolor\":\"white\",\"startlinecolor\":\"#2a3f5f\"},\"baxis\":{\"endlinecolor\":\"#2a3f5f\",\"gridcolor\":\"white\",\"linecolor\":\"white\",\"minorgridcolor\":\"white\",\"startlinecolor\":\"#2a3f5f\"},\"type\":\"carpet\"}],\"table\":[{\"cells\":{\"fill\":{\"color\":\"#EBF0F8\"},\"line\":{\"color\":\"white\"}},\"header\":{\"fill\":{\"color\":\"#C8D4E3\"},\"line\":{\"color\":\"white\"}},\"type\":\"table\"}],\"barpolar\":[{\"marker\":{\"line\":{\"color\":\"#E5ECF6\",\"width\":0.5},\"pattern\":{\"fillmode\":\"overlay\",\"size\":10,\"solidity\":0.2}},\"type\":\"barpolar\"}],\"pie\":[{\"automargin\":true,\"type\":\"pie\"}]},\"layout\":{\"autotypenumbers\":\"strict\",\"colorway\":[\"#636efa\",\"#EF553B\",\"#00cc96\",\"#ab63fa\",\"#FFA15A\",\"#19d3f3\",\"#FF6692\",\"#B6E880\",\"#FF97FF\",\"#FECB52\"],\"font\":{\"color\":\"#2a3f5f\"},\"hovermode\":\"closest\",\"hoverlabel\":{\"align\":\"left\"},\"paper_bgcolor\":\"white\",\"plot_bgcolor\":\"#E5ECF6\",\"polar\":{\"bgcolor\":\"#E5ECF6\",\"angularaxis\":{\"gridcolor\":\"white\",\"linecolor\":\"white\",\"ticks\":\"\"},\"radialaxis\":{\"gridcolor\":\"white\",\"linecolor\":\"white\",\"ticks\":\"\"}},\"ternary\":{\"bgcolor\":\"#E5ECF6\",\"aaxis\":{\"gridcolor\":\"white\",\"linecolor\":\"white\",\"ticks\":\"\"},\"baxis\":{\"gridcolor\":\"white\",\"linecolor\":\"white\",\"ticks\":\"\"},\"caxis\":{\"gridcolor\":\"white\",\"linecolor\":\"white\",\"ticks\":\"\"}},\"coloraxis\":{\"colorbar\":{\"outlinewidth\":0,\"ticks\":\"\"}},\"colorscale\":{\"sequential\":[[0.0,\"#0d0887\"],[0.1111111111111111,\"#46039f\"],[0.2222222222222222,\"#7201a8\"],[0.3333333333333333,\"#9c179e\"],[0.4444444444444444,\"#bd3786\"],[0.5555555555555556,\"#d8576b\"],[0.6666666666666666,\"#ed7953\"],[0.7777777777777778,\"#fb9f3a\"],[0.8888888888888888,\"#fdca26\"],[1.0,\"#f0f921\"]],\"sequentialminus\":[[0.0,\"#0d0887\"],[0.1111111111111111,\"#46039f\"],[0.2222222222222222,\"#7201a8\"],[0.3333333333333333,\"#9c179e\"],[0.4444444444444444,\"#bd3786\"],[0.5555555555555556,\"#d8576b\"],[0.6666666666666666,\"#ed7953\"],[0.7777777777777778,\"#fb9f3a\"],[0.8888888888888888,\"#fdca26\"],[1.0,\"#f0f921\"]],\"diverging\":[[0,\"#8e0152\"],[0.1,\"#c51b7d\"],[0.2,\"#de77ae\"],[0.3,\"#f1b6da\"],[0.4,\"#fde0ef\"],[0.5,\"#f7f7f7\"],[0.6,\"#e6f5d0\"],[0.7,\"#b8e186\"],[0.8,\"#7fbc41\"],[0.9,\"#4d9221\"],[1,\"#276419\"]]},\"xaxis\":{\"gridcolor\":\"white\",\"linecolor\":\"white\",\"ticks\":\"\",\"title\":{\"standoff\":15},\"zerolinecolor\":\"white\",\"automargin\":true,\"zerolinewidth\":2},\"yaxis\":{\"gridcolor\":\"white\",\"linecolor\":\"white\",\"ticks\":\"\",\"title\":{\"standoff\":15},\"zerolinecolor\":\"white\",\"automargin\":true,\"zerolinewidth\":2},\"scene\":{\"xaxis\":{\"backgroundcolor\":\"#E5ECF6\",\"gridcolor\":\"white\",\"linecolor\":\"white\",\"showbackground\":true,\"ticks\":\"\",\"zerolinecolor\":\"white\",\"gridwidth\":2},\"yaxis\":{\"backgroundcolor\":\"#E5ECF6\",\"gridcolor\":\"white\",\"linecolor\":\"white\",\"showbackground\":true,\"ticks\":\"\",\"zerolinecolor\":\"white\",\"gridwidth\":2},\"zaxis\":{\"backgroundcolor\":\"#E5ECF6\",\"gridcolor\":\"white\",\"linecolor\":\"white\",\"showbackground\":true,\"ticks\":\"\",\"zerolinecolor\":\"white\",\"gridwidth\":2}},\"shapedefaults\":{\"line\":{\"color\":\"#2a3f5f\"}},\"annotationdefaults\":{\"arrowcolor\":\"#2a3f5f\",\"arrowhead\":0,\"arrowwidth\":1},\"geo\":{\"bgcolor\":\"white\",\"landcolor\":\"#E5ECF6\",\"subunitcolor\":\"white\",\"showland\":true,\"showlakes\":true,\"lakecolor\":\"white\"},\"title\":{\"x\":0.05},\"mapbox\":{\"style\":\"light\"}}}},                        {\"responsive\": true}                    ).then(function(){\n",
              "                            \n",
              "var gd = document.getElementById('4bbf1ec3-a8a8-4bf4-ba72-a827189f1dd7');\n",
              "var x = new MutationObserver(function (mutations, observer) {{\n",
              "        var display = window.getComputedStyle(gd).display;\n",
              "        if (!display || display === 'none') {{\n",
              "            console.log([gd, 'removed!']);\n",
              "            Plotly.purge(gd);\n",
              "            observer.disconnect();\n",
              "        }}\n",
              "}});\n",
              "\n",
              "// Listen for the removal of the full notebook cells\n",
              "var notebookContainer = gd.closest('#notebook-container');\n",
              "if (notebookContainer) {{\n",
              "    x.observe(notebookContainer, {childList: true});\n",
              "}}\n",
              "\n",
              "// Listen for the clearing of the current output cell\n",
              "var outputEl = gd.closest('.output');\n",
              "if (outputEl) {{\n",
              "    x.observe(outputEl, {childList: true});\n",
              "}}\n",
              "\n",
              "                        })                };                            </script>        </div>\n",
              "</body>\n",
              "</html>"
            ]
          },
          "metadata": {}
        },
        {
          "output_type": "display_data",
          "data": {
            "text/html": [
              "<html>\n",
              "<head><meta charset=\"utf-8\" /></head>\n",
              "<body>\n",
              "    <div>            <script src=\"https://cdnjs.cloudflare.com/ajax/libs/mathjax/2.7.5/MathJax.js?config=TeX-AMS-MML_SVG\"></script><script type=\"text/javascript\">if (window.MathJax && window.MathJax.Hub && window.MathJax.Hub.Config) {window.MathJax.Hub.Config({SVG: {font: \"STIX-Web\"}});}</script>                <script type=\"text/javascript\">window.PlotlyConfig = {MathJaxConfig: 'local'};</script>\n",
              "        <script charset=\"utf-8\" src=\"https://cdn.plot.ly/plotly-2.35.2.min.js\"></script>                <div id=\"e393e20c-53a6-4941-8d91-3c17be5a4230\" class=\"plotly-graph-div\" style=\"height:525px; width:100%;\"></div>            <script type=\"text/javascript\">                                    window.PLOTLYENV=window.PLOTLYENV || {};                                    if (document.getElementById(\"e393e20c-53a6-4941-8d91-3c17be5a4230\")) {                    Plotly.newPlot(                        \"e393e20c-53a6-4941-8d91-3c17be5a4230\",                        [{\"dimensions\":[{\"label\":\"Objective Value\",\"range\":[0.6774193548387096,0.728110599078341],\"values\":[0.7004608294930875,0.695852534562212,0.7096774193548387,0.7050691244239631,0.7142857142857143,0.7235023041474654,0.6820276497695853,0.6774193548387096,0.6866359447004609,0.695852534562212,0.7188940092165899,0.6774193548387096,0.7142857142857143,0.7096774193548387,0.728110599078341,0.7235023041474654,0.6774193548387096,0.695852534562212,0.7004608294930875,0.7235023041474654]},{\"label\":\"batch_size\",\"range\":[0,2],\"ticktext\":[\"32\",\"64\",\"128\"],\"tickvals\":[0,1,2],\"values\":[0,0,0,0,1,1,1,1,1,1,1,1,2,2,2,2,2,2,2,2]},{\"label\":\"dropout\",\"range\":[0.1344560496522799,0.4567693153952437],\"values\":[0.17592286867454057,0.4567693153952437,0.24404055296230914,0.2608287021665271,0.1572118285639185,0.31467803326596233,0.13752929539008868,0.1344560496522799,0.31492244229160843,0.3616803068650877,0.36559640458668313,0.41285059408731606,0.19841485106125442,0.2819998368275028,0.22442780690812156,0.41818138805707705,0.2798128682711001,0.2175053369833825,0.3447229993848289,0.23525723410410404]},{\"label\":\"hidden_dim\",\"range\":[32,251],\"values\":[140,32,127,67,220,85,54,184,148,100,204,117,180,241,244,251,89,94,55,166]},{\"label\":\"hidden_layers\",\"range\":[1,4],\"values\":[3,1,4,3,4,3,4,1,2,3,2,4,1,1,3,2,3,3,3,2]},{\"label\":\"learning_rate\",\"range\":[-3.774742120864297,-1.0335487771921017],\"ticktext\":[\"0.000168\",\"0.001\",\"0.01\",\"0.0926\"],\"tickvals\":[-3.774742120864297,-3,-2,-1.0335487771921017],\"values\":[-1.40204346866979,-2.3320264578006156,-1.8417581682605986,-2.758788137003219,-1.6429045307772563,-1.790427509069302,-2.53163204323031,-1.5269873997618197,-1.1985197832572123,-1.9770108732536062,-2.512945012575301,-3.266513903564872,-2.2269799324834696,-3.725824340327922,-2.7908285848793724,-3.244623287207155,-2.9216240568375555,-2.998532576933636,-1.0335487771921017,-3.774742120864297]}],\"labelangle\":30,\"labelside\":\"bottom\",\"line\":{\"color\":[0.7004608294930875,0.695852534562212,0.7096774193548387,0.7050691244239631,0.7142857142857143,0.7235023041474654,0.6820276497695853,0.6774193548387096,0.6866359447004609,0.695852534562212,0.7188940092165899,0.6774193548387096,0.7142857142857143,0.7096774193548387,0.728110599078341,0.7235023041474654,0.6774193548387096,0.695852534562212,0.7004608294930875,0.7235023041474654],\"colorbar\":{\"title\":{\"text\":\"Objective Value\"}},\"colorscale\":[[0.0,\"rgb(247,251,255)\"],[0.125,\"rgb(222,235,247)\"],[0.25,\"rgb(198,219,239)\"],[0.375,\"rgb(158,202,225)\"],[0.5,\"rgb(107,174,214)\"],[0.625,\"rgb(66,146,198)\"],[0.75,\"rgb(33,113,181)\"],[0.875,\"rgb(8,81,156)\"],[1.0,\"rgb(8,48,107)\"]],\"reversescale\":false,\"showscale\":true},\"type\":\"parcoords\"}],                        {\"title\":{\"text\":\"Parallel Coordinate Plot\"},\"template\":{\"data\":{\"histogram2dcontour\":[{\"type\":\"histogram2dcontour\",\"colorbar\":{\"outlinewidth\":0,\"ticks\":\"\"},\"colorscale\":[[0.0,\"#0d0887\"],[0.1111111111111111,\"#46039f\"],[0.2222222222222222,\"#7201a8\"],[0.3333333333333333,\"#9c179e\"],[0.4444444444444444,\"#bd3786\"],[0.5555555555555556,\"#d8576b\"],[0.6666666666666666,\"#ed7953\"],[0.7777777777777778,\"#fb9f3a\"],[0.8888888888888888,\"#fdca26\"],[1.0,\"#f0f921\"]]}],\"choropleth\":[{\"type\":\"choropleth\",\"colorbar\":{\"outlinewidth\":0,\"ticks\":\"\"}}],\"histogram2d\":[{\"type\":\"histogram2d\",\"colorbar\":{\"outlinewidth\":0,\"ticks\":\"\"},\"colorscale\":[[0.0,\"#0d0887\"],[0.1111111111111111,\"#46039f\"],[0.2222222222222222,\"#7201a8\"],[0.3333333333333333,\"#9c179e\"],[0.4444444444444444,\"#bd3786\"],[0.5555555555555556,\"#d8576b\"],[0.6666666666666666,\"#ed7953\"],[0.7777777777777778,\"#fb9f3a\"],[0.8888888888888888,\"#fdca26\"],[1.0,\"#f0f921\"]]}],\"heatmap\":[{\"type\":\"heatmap\",\"colorbar\":{\"outlinewidth\":0,\"ticks\":\"\"},\"colorscale\":[[0.0,\"#0d0887\"],[0.1111111111111111,\"#46039f\"],[0.2222222222222222,\"#7201a8\"],[0.3333333333333333,\"#9c179e\"],[0.4444444444444444,\"#bd3786\"],[0.5555555555555556,\"#d8576b\"],[0.6666666666666666,\"#ed7953\"],[0.7777777777777778,\"#fb9f3a\"],[0.8888888888888888,\"#fdca26\"],[1.0,\"#f0f921\"]]}],\"heatmapgl\":[{\"type\":\"heatmapgl\",\"colorbar\":{\"outlinewidth\":0,\"ticks\":\"\"},\"colorscale\":[[0.0,\"#0d0887\"],[0.1111111111111111,\"#46039f\"],[0.2222222222222222,\"#7201a8\"],[0.3333333333333333,\"#9c179e\"],[0.4444444444444444,\"#bd3786\"],[0.5555555555555556,\"#d8576b\"],[0.6666666666666666,\"#ed7953\"],[0.7777777777777778,\"#fb9f3a\"],[0.8888888888888888,\"#fdca26\"],[1.0,\"#f0f921\"]]}],\"contourcarpet\":[{\"type\":\"contourcarpet\",\"colorbar\":{\"outlinewidth\":0,\"ticks\":\"\"}}],\"contour\":[{\"type\":\"contour\",\"colorbar\":{\"outlinewidth\":0,\"ticks\":\"\"},\"colorscale\":[[0.0,\"#0d0887\"],[0.1111111111111111,\"#46039f\"],[0.2222222222222222,\"#7201a8\"],[0.3333333333333333,\"#9c179e\"],[0.4444444444444444,\"#bd3786\"],[0.5555555555555556,\"#d8576b\"],[0.6666666666666666,\"#ed7953\"],[0.7777777777777778,\"#fb9f3a\"],[0.8888888888888888,\"#fdca26\"],[1.0,\"#f0f921\"]]}],\"surface\":[{\"type\":\"surface\",\"colorbar\":{\"outlinewidth\":0,\"ticks\":\"\"},\"colorscale\":[[0.0,\"#0d0887\"],[0.1111111111111111,\"#46039f\"],[0.2222222222222222,\"#7201a8\"],[0.3333333333333333,\"#9c179e\"],[0.4444444444444444,\"#bd3786\"],[0.5555555555555556,\"#d8576b\"],[0.6666666666666666,\"#ed7953\"],[0.7777777777777778,\"#fb9f3a\"],[0.8888888888888888,\"#fdca26\"],[1.0,\"#f0f921\"]]}],\"mesh3d\":[{\"type\":\"mesh3d\",\"colorbar\":{\"outlinewidth\":0,\"ticks\":\"\"}}],\"scatter\":[{\"fillpattern\":{\"fillmode\":\"overlay\",\"size\":10,\"solidity\":0.2},\"type\":\"scatter\"}],\"parcoords\":[{\"type\":\"parcoords\",\"line\":{\"colorbar\":{\"outlinewidth\":0,\"ticks\":\"\"}}}],\"scatterpolargl\":[{\"type\":\"scatterpolargl\",\"marker\":{\"colorbar\":{\"outlinewidth\":0,\"ticks\":\"\"}}}],\"bar\":[{\"error_x\":{\"color\":\"#2a3f5f\"},\"error_y\":{\"color\":\"#2a3f5f\"},\"marker\":{\"line\":{\"color\":\"#E5ECF6\",\"width\":0.5},\"pattern\":{\"fillmode\":\"overlay\",\"size\":10,\"solidity\":0.2}},\"type\":\"bar\"}],\"scattergeo\":[{\"type\":\"scattergeo\",\"marker\":{\"colorbar\":{\"outlinewidth\":0,\"ticks\":\"\"}}}],\"scatterpolar\":[{\"type\":\"scatterpolar\",\"marker\":{\"colorbar\":{\"outlinewidth\":0,\"ticks\":\"\"}}}],\"histogram\":[{\"marker\":{\"pattern\":{\"fillmode\":\"overlay\",\"size\":10,\"solidity\":0.2}},\"type\":\"histogram\"}],\"scattergl\":[{\"type\":\"scattergl\",\"marker\":{\"colorbar\":{\"outlinewidth\":0,\"ticks\":\"\"}}}],\"scatter3d\":[{\"type\":\"scatter3d\",\"line\":{\"colorbar\":{\"outlinewidth\":0,\"ticks\":\"\"}},\"marker\":{\"colorbar\":{\"outlinewidth\":0,\"ticks\":\"\"}}}],\"scattermapbox\":[{\"type\":\"scattermapbox\",\"marker\":{\"colorbar\":{\"outlinewidth\":0,\"ticks\":\"\"}}}],\"scatterternary\":[{\"type\":\"scatterternary\",\"marker\":{\"colorbar\":{\"outlinewidth\":0,\"ticks\":\"\"}}}],\"scattercarpet\":[{\"type\":\"scattercarpet\",\"marker\":{\"colorbar\":{\"outlinewidth\":0,\"ticks\":\"\"}}}],\"carpet\":[{\"aaxis\":{\"endlinecolor\":\"#2a3f5f\",\"gridcolor\":\"white\",\"linecolor\":\"white\",\"minorgridcolor\":\"white\",\"startlinecolor\":\"#2a3f5f\"},\"baxis\":{\"endlinecolor\":\"#2a3f5f\",\"gridcolor\":\"white\",\"linecolor\":\"white\",\"minorgridcolor\":\"white\",\"startlinecolor\":\"#2a3f5f\"},\"type\":\"carpet\"}],\"table\":[{\"cells\":{\"fill\":{\"color\":\"#EBF0F8\"},\"line\":{\"color\":\"white\"}},\"header\":{\"fill\":{\"color\":\"#C8D4E3\"},\"line\":{\"color\":\"white\"}},\"type\":\"table\"}],\"barpolar\":[{\"marker\":{\"line\":{\"color\":\"#E5ECF6\",\"width\":0.5},\"pattern\":{\"fillmode\":\"overlay\",\"size\":10,\"solidity\":0.2}},\"type\":\"barpolar\"}],\"pie\":[{\"automargin\":true,\"type\":\"pie\"}]},\"layout\":{\"autotypenumbers\":\"strict\",\"colorway\":[\"#636efa\",\"#EF553B\",\"#00cc96\",\"#ab63fa\",\"#FFA15A\",\"#19d3f3\",\"#FF6692\",\"#B6E880\",\"#FF97FF\",\"#FECB52\"],\"font\":{\"color\":\"#2a3f5f\"},\"hovermode\":\"closest\",\"hoverlabel\":{\"align\":\"left\"},\"paper_bgcolor\":\"white\",\"plot_bgcolor\":\"#E5ECF6\",\"polar\":{\"bgcolor\":\"#E5ECF6\",\"angularaxis\":{\"gridcolor\":\"white\",\"linecolor\":\"white\",\"ticks\":\"\"},\"radialaxis\":{\"gridcolor\":\"white\",\"linecolor\":\"white\",\"ticks\":\"\"}},\"ternary\":{\"bgcolor\":\"#E5ECF6\",\"aaxis\":{\"gridcolor\":\"white\",\"linecolor\":\"white\",\"ticks\":\"\"},\"baxis\":{\"gridcolor\":\"white\",\"linecolor\":\"white\",\"ticks\":\"\"},\"caxis\":{\"gridcolor\":\"white\",\"linecolor\":\"white\",\"ticks\":\"\"}},\"coloraxis\":{\"colorbar\":{\"outlinewidth\":0,\"ticks\":\"\"}},\"colorscale\":{\"sequential\":[[0.0,\"#0d0887\"],[0.1111111111111111,\"#46039f\"],[0.2222222222222222,\"#7201a8\"],[0.3333333333333333,\"#9c179e\"],[0.4444444444444444,\"#bd3786\"],[0.5555555555555556,\"#d8576b\"],[0.6666666666666666,\"#ed7953\"],[0.7777777777777778,\"#fb9f3a\"],[0.8888888888888888,\"#fdca26\"],[1.0,\"#f0f921\"]],\"sequentialminus\":[[0.0,\"#0d0887\"],[0.1111111111111111,\"#46039f\"],[0.2222222222222222,\"#7201a8\"],[0.3333333333333333,\"#9c179e\"],[0.4444444444444444,\"#bd3786\"],[0.5555555555555556,\"#d8576b\"],[0.6666666666666666,\"#ed7953\"],[0.7777777777777778,\"#fb9f3a\"],[0.8888888888888888,\"#fdca26\"],[1.0,\"#f0f921\"]],\"diverging\":[[0,\"#8e0152\"],[0.1,\"#c51b7d\"],[0.2,\"#de77ae\"],[0.3,\"#f1b6da\"],[0.4,\"#fde0ef\"],[0.5,\"#f7f7f7\"],[0.6,\"#e6f5d0\"],[0.7,\"#b8e186\"],[0.8,\"#7fbc41\"],[0.9,\"#4d9221\"],[1,\"#276419\"]]},\"xaxis\":{\"gridcolor\":\"white\",\"linecolor\":\"white\",\"ticks\":\"\",\"title\":{\"standoff\":15},\"zerolinecolor\":\"white\",\"automargin\":true,\"zerolinewidth\":2},\"yaxis\":{\"gridcolor\":\"white\",\"linecolor\":\"white\",\"ticks\":\"\",\"title\":{\"standoff\":15},\"zerolinecolor\":\"white\",\"automargin\":true,\"zerolinewidth\":2},\"scene\":{\"xaxis\":{\"backgroundcolor\":\"#E5ECF6\",\"gridcolor\":\"white\",\"linecolor\":\"white\",\"showbackground\":true,\"ticks\":\"\",\"zerolinecolor\":\"white\",\"gridwidth\":2},\"yaxis\":{\"backgroundcolor\":\"#E5ECF6\",\"gridcolor\":\"white\",\"linecolor\":\"white\",\"showbackground\":true,\"ticks\":\"\",\"zerolinecolor\":\"white\",\"gridwidth\":2},\"zaxis\":{\"backgroundcolor\":\"#E5ECF6\",\"gridcolor\":\"white\",\"linecolor\":\"white\",\"showbackground\":true,\"ticks\":\"\",\"zerolinecolor\":\"white\",\"gridwidth\":2}},\"shapedefaults\":{\"line\":{\"color\":\"#2a3f5f\"}},\"annotationdefaults\":{\"arrowcolor\":\"#2a3f5f\",\"arrowhead\":0,\"arrowwidth\":1},\"geo\":{\"bgcolor\":\"white\",\"landcolor\":\"#E5ECF6\",\"subunitcolor\":\"white\",\"showland\":true,\"showlakes\":true,\"lakecolor\":\"white\"},\"title\":{\"x\":0.05},\"mapbox\":{\"style\":\"light\"}}}},                        {\"responsive\": true}                    ).then(function(){\n",
              "                            \n",
              "var gd = document.getElementById('e393e20c-53a6-4941-8d91-3c17be5a4230');\n",
              "var x = new MutationObserver(function (mutations, observer) {{\n",
              "        var display = window.getComputedStyle(gd).display;\n",
              "        if (!display || display === 'none') {{\n",
              "            console.log([gd, 'removed!']);\n",
              "            Plotly.purge(gd);\n",
              "            observer.disconnect();\n",
              "        }}\n",
              "}});\n",
              "\n",
              "// Listen for the removal of the full notebook cells\n",
              "var notebookContainer = gd.closest('#notebook-container');\n",
              "if (notebookContainer) {{\n",
              "    x.observe(notebookContainer, {childList: true});\n",
              "}}\n",
              "\n",
              "// Listen for the clearing of the current output cell\n",
              "var outputEl = gd.closest('.output');\n",
              "if (outputEl) {{\n",
              "    x.observe(outputEl, {childList: true});\n",
              "}}\n",
              "\n",
              "                        })                };                            </script>        </div>\n",
              "</body>\n",
              "</html>"
            ]
          },
          "metadata": {}
        },
        {
          "output_type": "stream",
          "name": "stdout",
          "text": [
            "Final Test Accuracy: 0.6743119266055045\n"
          ]
        }
      ],
      "source": [
        "# Uncomment to install necessary libraries\n",
        "!pip install optuna pytorch-tabular\n",
        "\n",
        "import optuna\n",
        "from pytorch_tabular import TabularModel\n",
        "from pytorch_tabular.models import CategoryEmbeddingModelConfig\n",
        "from pytorch_tabular.config import DataConfig, TrainerConfig, OptimizerConfig\n",
        "from sklearn.metrics import accuracy_score\n",
        "\n",
        "import optuna.visualization as vis\n",
        "from sklearn.metrics import confusion_matrix\n",
        "import seaborn as sns\n",
        "import matplotlib.pyplot as plt\n",
        "\n",
        "\n",
        "\n",
        "# Step 1: Define the Objective Function\n",
        "def objective(trial):\n",
        "    # Hyperparameters to optimize\n",
        "    learning_rate = trial.suggest_loguniform('learning_rate', 1e-4, 1e-1)\n",
        "    dropout = trial.suggest_uniform('dropout', 0.1, 0.5)\n",
        "    hidden_layers = trial.suggest_int('hidden_layers', 1, 4)\n",
        "    hidden_dim = trial.suggest_int('hidden_dim', 32, 256)\n",
        "    batch_size = trial.suggest_categorical('batch_size', [32, 64, 128])\n",
        "\n",
        "    # Data Configuration\n",
        "    data_config = DataConfig(\n",
        "        target=['TARGET'],\n",
        "        continuous_cols=[col for col in data.columns if col != 'TARGET'],\n",
        "        categorical_cols=[],\n",
        "    )\n",
        "\n",
        "    # Model Configuration\n",
        "    model_config = CategoryEmbeddingModelConfig(\n",
        "        task=\"classification\",\n",
        "        layers=\"-\".join([str(hidden_dim)] * hidden_layers),\n",
        "        activation=\"ReLU\",\n",
        "        dropout=dropout,\n",
        "    )\n",
        "\n",
        "    # Trainer Configuration\n",
        "    trainer_config = TrainerConfig(\n",
        "        auto_lr_find=False,\n",
        "        batch_size=batch_size,\n",
        "        max_epochs=40,#originally was 20\n",
        "    )\n",
        "\n",
        "    # Optimizer Configuration\n",
        "    optimizer_config = OptimizerConfig(\n",
        "        optimizer=\"Adam\",\n",
        "    )\n",
        "\n",
        "    # Initialize the Tabular Model\n",
        "    tabular_model = TabularModel(\n",
        "        data_config=data_config,\n",
        "        model_config=model_config,\n",
        "        optimizer_config=optimizer_config,\n",
        "        trainer_config=trainer_config\n",
        "    )\n",
        "\n",
        "    # Train the model\n",
        "    tabular_model.fit(train=X_train, validation=X_val)\n",
        "\n",
        "    # Predict and evaluate\n",
        "    preds = tabular_model.predict(X_val)\n",
        "    print(preds.columns)\n",
        "    accuracy = accuracy_score(y_val, preds['TARGET_prediction'])\n",
        "\n",
        "    return accuracy\n",
        "\n",
        "# Step 2: Create Study and Optimize\n",
        "study = optuna.create_study(direction=\"maximize\")\n",
        "study.optimize(objective, n_trials=20)#was 50 originally\n",
        "\n",
        "# Step 3: Train Final Model with Best Parameters\n",
        "best_params = study.best_params\n",
        "print(\"Best Parameters:\", best_params)\n",
        "\n",
        "data_config = DataConfig(\n",
        "        target=['TARGET'],\n",
        "        continuous_cols=[col for col in data.columns if col != 'TARGET'],\n",
        "        categorical_cols=[],\n",
        "    )\n",
        "\n",
        "final_model_config = CategoryEmbeddingModelConfig(\n",
        "    task=\"classification\",\n",
        "    layers=\"-\".join([str(best_params['hidden_dim'])] * best_params['hidden_layers']),\n",
        "    activation=\"ReLU\",\n",
        "    dropout=best_params['dropout'],\n",
        ")\n",
        "\n",
        "final_trainer_config = TrainerConfig(\n",
        "    auto_lr_find=False,\n",
        "    batch_size=best_params['batch_size'],\n",
        "    max_epochs=300,\n",
        ")\n",
        "\n",
        "final_optimizer_config = OptimizerConfig(\n",
        "    optimizer=\"Adam\",\n",
        "    #learning_rate=best_params['learning_rate']\n",
        ")\n",
        "\n",
        "final_model = TabularModel(\n",
        "    data_config=data_config,\n",
        "    model_config=final_model_config,\n",
        "    optimizer_config=final_optimizer_config,\n",
        "    trainer_config=final_trainer_config\n",
        ")\n",
        "\n",
        "final_model.fit(train=X_train, validation=X_val)\n",
        "\n",
        "# Step 4: Evaluate on Test Set\n",
        "final_preds = final_model.predict(X_test)\n",
        "final_accuracy = accuracy_score(y_test, final_preds['TARGET_prediction'])\n",
        "print(f\"Final Test Accuracy: {final_accuracy}\")\n",
        "\n",
        "\n",
        "# plot confusion matrix\n",
        "final_preds = final_model.predict(X_test)\n",
        "y_pred = final_preds['TARGET_prediction']\n",
        "cm = confusion_matrix(y_test, y_pred)\n",
        "sns.heatmap(cm, annot=True, fmt='d', cmap='Blues', xticklabels=['Class 0', 'Class 1'], yticklabels=['Class 0', 'Class 1'])\n",
        "plt.xlabel('Predicted')\n",
        "plt.ylabel('True')\n",
        "plt.title('Confusion Matrix')\n",
        "plt.show()\n",
        "\n",
        "# plot predicted probabilities distribution\n",
        "y_pred_proba = final_model.predict(X_test)['TARGET_0_probability']\n",
        "plt.figure()\n",
        "sns.histplot(y_pred_proba, bins=30, kde=True)\n",
        "plt.xlabel('Predicted Probability')\n",
        "plt.ylabel('Frequency')\n",
        "plt.title('Distribution of Predicted Probabilities')\n",
        "plt.show()\n",
        "\n",
        "# Plot validation accuracy over trials\n",
        "trials = study.trials_dataframe()\n",
        "plt.figure()\n",
        "plt.plot(trials['number'], trials['value'], marker='o')\n",
        "plt.xlabel('Trial Number')\n",
        "plt.ylabel('Validation Accuracy')\n",
        "plt.title('Validation Accuracy Over Optuna Trials')\n",
        "plt.show()\n",
        "\n",
        "# Plot parameter importance\n",
        "fig = vis.plot_param_importances(study)\n",
        "fig.show()\n",
        "\n",
        "# Plot parallel coordinate plot\n",
        "fig = vis.plot_parallel_coordinate(study)\n",
        "fig.show()\n",
        "\n",
        "\n",
        "print(f\"Final Test Accuracy: {final_accuracy}\")\n"
      ]
    }
  ],
  "metadata": {
    "colab": {
      "provenance": [],
      "gpuType": "T4"
    },
    "kernelspec": {
      "display_name": "Python 3",
      "name": "python3"
    },
    "language_info": {
      "name": "python",
      "version": "3.8.20"
    },
    "widgets": {
      "application/vnd.jupyter.widget-state+json": {
        "c9e685556c3444d683127c9b5038fcb6": {
          "model_module": "@jupyter-widgets/output",
          "model_name": "OutputModel",
          "model_module_version": "1.0.0",
          "state": {
            "_dom_classes": [],
            "_model_module": "@jupyter-widgets/output",
            "_model_module_version": "1.0.0",
            "_model_name": "OutputModel",
            "_view_count": null,
            "_view_module": "@jupyter-widgets/output",
            "_view_module_version": "1.0.0",
            "_view_name": "OutputView",
            "layout": "IPY_MODEL_200fbd97b6f542b0ade2dc3ea76e88b2",
            "msg_id": "",
            "outputs": [
              {
                "output_type": "display_data",
                "data": {
                  "text/plain": "Epoch 18/39 \u001b[38;2;98;6;224m━━━━━━━━━━━━━━━━━━━━━━━━━━━━━━━━━━\u001b[0m \u001b[37m8/8\u001b[0m \u001b[38;5;245m0:00:00 • 0:00:00\u001b[0m \u001b[38;5;249m28.64it/s\u001b[0m \u001b[37mv_num: 146.000 train_loss: 0.604    \u001b[0m\n                                                                               \u001b[37mvalid_loss: 0.555 valid_accuracy:   \u001b[0m\n                                                                               \u001b[37m0.696 train_accuracy: 0.699         \u001b[0m\n",
                  "text/html": "<pre style=\"white-space:pre;overflow-x:auto;line-height:normal;font-family:Menlo,'DejaVu Sans Mono',consolas,'Courier New',monospace\">Epoch 18/39 <span style=\"color: #6206e0; text-decoration-color: #6206e0\">━━━━━━━━━━━━━━━━━━━━━━━━━━━━━━━━━━</span> <span style=\"color: #c0c0c0; text-decoration-color: #c0c0c0\">8/8</span> <span style=\"color: #8a8a8a; text-decoration-color: #8a8a8a\">0:00:00 • 0:00:00</span> <span style=\"color: #b2b2b2; text-decoration-color: #b2b2b2\">28.64it/s</span> <span style=\"color: #c0c0c0; text-decoration-color: #c0c0c0\">v_num: 146.000 train_loss: 0.604    </span>\n                                                                               <span style=\"color: #c0c0c0; text-decoration-color: #c0c0c0\">valid_loss: 0.555 valid_accuracy:   </span>\n                                                                               <span style=\"color: #c0c0c0; text-decoration-color: #c0c0c0\">0.696 train_accuracy: 0.699         </span>\n</pre>\n"
                },
                "metadata": {}
              }
            ]
          }
        },
        "200fbd97b6f542b0ade2dc3ea76e88b2": {
          "model_module": "@jupyter-widgets/base",
          "model_name": "LayoutModel",
          "model_module_version": "1.2.0",
          "state": {
            "_model_module": "@jupyter-widgets/base",
            "_model_module_version": "1.2.0",
            "_model_name": "LayoutModel",
            "_view_count": null,
            "_view_module": "@jupyter-widgets/base",
            "_view_module_version": "1.2.0",
            "_view_name": "LayoutView",
            "align_content": null,
            "align_items": null,
            "align_self": null,
            "border": null,
            "bottom": null,
            "display": null,
            "flex": null,
            "flex_flow": null,
            "grid_area": null,
            "grid_auto_columns": null,
            "grid_auto_flow": null,
            "grid_auto_rows": null,
            "grid_column": null,
            "grid_gap": null,
            "grid_row": null,
            "grid_template_areas": null,
            "grid_template_columns": null,
            "grid_template_rows": null,
            "height": null,
            "justify_content": null,
            "justify_items": null,
            "left": null,
            "margin": null,
            "max_height": null,
            "max_width": null,
            "min_height": null,
            "min_width": null,
            "object_fit": null,
            "object_position": null,
            "order": null,
            "overflow": null,
            "overflow_x": null,
            "overflow_y": null,
            "padding": null,
            "right": null,
            "top": null,
            "visibility": null,
            "width": null
          }
        },
        "54734a407f8e4337b3e147c38eb5fb3b": {
          "model_module": "@jupyter-widgets/output",
          "model_name": "OutputModel",
          "model_module_version": "1.0.0",
          "state": {
            "_dom_classes": [],
            "_model_module": "@jupyter-widgets/output",
            "_model_module_version": "1.0.0",
            "_model_name": "OutputModel",
            "_view_count": null,
            "_view_module": "@jupyter-widgets/output",
            "_view_module_version": "1.0.0",
            "_view_name": "OutputView",
            "layout": "IPY_MODEL_10d5541254124bb99a55773c4d2c6878",
            "msg_id": "",
            "outputs": [
              {
                "output_type": "display_data",
                "data": {
                  "text/plain": "Epoch 12/39 \u001b[38;2;98;6;224m━━━━━━━━━━━━━━━━━━━━━━━━━━━━━━━━━━\u001b[0m \u001b[37m32/32\u001b[0m \u001b[38;5;245m0:00:00 • 0:00:00\u001b[0m \u001b[38;5;249m44.70it/s\u001b[0m \u001b[37mv_num: 147.000 train_loss: 0.523  \u001b[0m\n                                                                                 \u001b[37mvalid_loss: 0.561 valid_accuracy: \u001b[0m\n                                                                                 \u001b[37m0.682 train_accuracy: 0.716       \u001b[0m\n",
                  "text/html": "<pre style=\"white-space:pre;overflow-x:auto;line-height:normal;font-family:Menlo,'DejaVu Sans Mono',consolas,'Courier New',monospace\">Epoch 12/39 <span style=\"color: #6206e0; text-decoration-color: #6206e0\">━━━━━━━━━━━━━━━━━━━━━━━━━━━━━━━━━━</span> <span style=\"color: #c0c0c0; text-decoration-color: #c0c0c0\">32/32</span> <span style=\"color: #8a8a8a; text-decoration-color: #8a8a8a\">0:00:00 • 0:00:00</span> <span style=\"color: #b2b2b2; text-decoration-color: #b2b2b2\">44.70it/s</span> <span style=\"color: #c0c0c0; text-decoration-color: #c0c0c0\">v_num: 147.000 train_loss: 0.523  </span>\n                                                                                 <span style=\"color: #c0c0c0; text-decoration-color: #c0c0c0\">valid_loss: 0.561 valid_accuracy: </span>\n                                                                                 <span style=\"color: #c0c0c0; text-decoration-color: #c0c0c0\">0.682 train_accuracy: 0.716       </span>\n</pre>\n"
                },
                "metadata": {}
              }
            ]
          }
        },
        "10d5541254124bb99a55773c4d2c6878": {
          "model_module": "@jupyter-widgets/base",
          "model_name": "LayoutModel",
          "model_module_version": "1.2.0",
          "state": {
            "_model_module": "@jupyter-widgets/base",
            "_model_module_version": "1.2.0",
            "_model_name": "LayoutModel",
            "_view_count": null,
            "_view_module": "@jupyter-widgets/base",
            "_view_module_version": "1.2.0",
            "_view_name": "LayoutView",
            "align_content": null,
            "align_items": null,
            "align_self": null,
            "border": null,
            "bottom": null,
            "display": null,
            "flex": null,
            "flex_flow": null,
            "grid_area": null,
            "grid_auto_columns": null,
            "grid_auto_flow": null,
            "grid_auto_rows": null,
            "grid_column": null,
            "grid_gap": null,
            "grid_row": null,
            "grid_template_areas": null,
            "grid_template_columns": null,
            "grid_template_rows": null,
            "height": null,
            "justify_content": null,
            "justify_items": null,
            "left": null,
            "margin": null,
            "max_height": null,
            "max_width": null,
            "min_height": null,
            "min_width": null,
            "object_fit": null,
            "object_position": null,
            "order": null,
            "overflow": null,
            "overflow_x": null,
            "overflow_y": null,
            "padding": null,
            "right": null,
            "top": null,
            "visibility": null,
            "width": null
          }
        },
        "e7a148e8db754c51b230e4e0cac4f1fd": {
          "model_module": "@jupyter-widgets/output",
          "model_name": "OutputModel",
          "model_module_version": "1.0.0",
          "state": {
            "_dom_classes": [],
            "_model_module": "@jupyter-widgets/output",
            "_model_module_version": "1.0.0",
            "_model_name": "OutputModel",
            "_view_count": null,
            "_view_module": "@jupyter-widgets/output",
            "_view_module_version": "1.0.0",
            "_view_name": "OutputView",
            "layout": "IPY_MODEL_e786b038d07547aa8ff524b47fb4d511",
            "msg_id": "",
            "outputs": [
              {
                "output_type": "display_data",
                "data": {
                  "text/plain": "Epoch 4/39 \u001b[38;2;98;6;224m━━━━━━━━━━━━━━━━━━━━━━━━━━━━━━━━━━\u001b[0m \u001b[37m16/16\u001b[0m \u001b[38;5;245m0:00:00 • 0:00:00\u001b[0m \u001b[38;5;249m45.13it/s\u001b[0m \u001b[37mv_num: 148.000 train_loss: 0.540   \u001b[0m\n                                                                                \u001b[37mvalid_loss: 0.562 valid_accuracy:  \u001b[0m\n                                                                                \u001b[37m0.668 train_accuracy: 0.678        \u001b[0m\n",
                  "text/html": "<pre style=\"white-space:pre;overflow-x:auto;line-height:normal;font-family:Menlo,'DejaVu Sans Mono',consolas,'Courier New',monospace\">Epoch 4/39 <span style=\"color: #6206e0; text-decoration-color: #6206e0\">━━━━━━━━━━━━━━━━━━━━━━━━━━━━━━━━━━</span> <span style=\"color: #c0c0c0; text-decoration-color: #c0c0c0\">16/16</span> <span style=\"color: #8a8a8a; text-decoration-color: #8a8a8a\">0:00:00 • 0:00:00</span> <span style=\"color: #b2b2b2; text-decoration-color: #b2b2b2\">45.13it/s</span> <span style=\"color: #c0c0c0; text-decoration-color: #c0c0c0\">v_num: 148.000 train_loss: 0.540   </span>\n                                                                                <span style=\"color: #c0c0c0; text-decoration-color: #c0c0c0\">valid_loss: 0.562 valid_accuracy:  </span>\n                                                                                <span style=\"color: #c0c0c0; text-decoration-color: #c0c0c0\">0.668 train_accuracy: 0.678        </span>\n</pre>\n"
                },
                "metadata": {}
              }
            ]
          }
        },
        "e786b038d07547aa8ff524b47fb4d511": {
          "model_module": "@jupyter-widgets/base",
          "model_name": "LayoutModel",
          "model_module_version": "1.2.0",
          "state": {
            "_model_module": "@jupyter-widgets/base",
            "_model_module_version": "1.2.0",
            "_model_name": "LayoutModel",
            "_view_count": null,
            "_view_module": "@jupyter-widgets/base",
            "_view_module_version": "1.2.0",
            "_view_name": "LayoutView",
            "align_content": null,
            "align_items": null,
            "align_self": null,
            "border": null,
            "bottom": null,
            "display": null,
            "flex": null,
            "flex_flow": null,
            "grid_area": null,
            "grid_auto_columns": null,
            "grid_auto_flow": null,
            "grid_auto_rows": null,
            "grid_column": null,
            "grid_gap": null,
            "grid_row": null,
            "grid_template_areas": null,
            "grid_template_columns": null,
            "grid_template_rows": null,
            "height": null,
            "justify_content": null,
            "justify_items": null,
            "left": null,
            "margin": null,
            "max_height": null,
            "max_width": null,
            "min_height": null,
            "min_width": null,
            "object_fit": null,
            "object_position": null,
            "order": null,
            "overflow": null,
            "overflow_x": null,
            "overflow_y": null,
            "padding": null,
            "right": null,
            "top": null,
            "visibility": null,
            "width": null
          }
        },
        "7996900749144962af6190f93a92eaad": {
          "model_module": "@jupyter-widgets/output",
          "model_name": "OutputModel",
          "model_module_version": "1.0.0",
          "state": {
            "_dom_classes": [],
            "_model_module": "@jupyter-widgets/output",
            "_model_module_version": "1.0.0",
            "_model_name": "OutputModel",
            "_view_count": null,
            "_view_module": "@jupyter-widgets/output",
            "_view_module_version": "1.0.0",
            "_view_name": "OutputView",
            "layout": "IPY_MODEL_23c4db99d0624bad8d7af0fcc4af8642",
            "msg_id": "",
            "outputs": [
              {
                "output_type": "display_data",
                "data": {
                  "text/plain": "Epoch 12/39 \u001b[38;2;98;6;224m━━━━━━━━━━━━━━━━━━━━━━━━━━━━━━━━━━\u001b[0m \u001b[37m8/8\u001b[0m \u001b[38;5;245m0:00:00 • 0:00:00\u001b[0m \u001b[38;5;249m44.85it/s\u001b[0m \u001b[37mv_num: 149.000 train_loss: 0.676    \u001b[0m\n                                                                               \u001b[37mvalid_loss: 0.524 valid_accuracy:   \u001b[0m\n                                                                               \u001b[37m0.700 train_accuracy: 0.675         \u001b[0m\n",
                  "text/html": "<pre style=\"white-space:pre;overflow-x:auto;line-height:normal;font-family:Menlo,'DejaVu Sans Mono',consolas,'Courier New',monospace\">Epoch 12/39 <span style=\"color: #6206e0; text-decoration-color: #6206e0\">━━━━━━━━━━━━━━━━━━━━━━━━━━━━━━━━━━</span> <span style=\"color: #c0c0c0; text-decoration-color: #c0c0c0\">8/8</span> <span style=\"color: #8a8a8a; text-decoration-color: #8a8a8a\">0:00:00 • 0:00:00</span> <span style=\"color: #b2b2b2; text-decoration-color: #b2b2b2\">44.85it/s</span> <span style=\"color: #c0c0c0; text-decoration-color: #c0c0c0\">v_num: 149.000 train_loss: 0.676    </span>\n                                                                               <span style=\"color: #c0c0c0; text-decoration-color: #c0c0c0\">valid_loss: 0.524 valid_accuracy:   </span>\n                                                                               <span style=\"color: #c0c0c0; text-decoration-color: #c0c0c0\">0.700 train_accuracy: 0.675         </span>\n</pre>\n"
                },
                "metadata": {}
              }
            ]
          }
        },
        "23c4db99d0624bad8d7af0fcc4af8642": {
          "model_module": "@jupyter-widgets/base",
          "model_name": "LayoutModel",
          "model_module_version": "1.2.0",
          "state": {
            "_model_module": "@jupyter-widgets/base",
            "_model_module_version": "1.2.0",
            "_model_name": "LayoutModel",
            "_view_count": null,
            "_view_module": "@jupyter-widgets/base",
            "_view_module_version": "1.2.0",
            "_view_name": "LayoutView",
            "align_content": null,
            "align_items": null,
            "align_self": null,
            "border": null,
            "bottom": null,
            "display": null,
            "flex": null,
            "flex_flow": null,
            "grid_area": null,
            "grid_auto_columns": null,
            "grid_auto_flow": null,
            "grid_auto_rows": null,
            "grid_column": null,
            "grid_gap": null,
            "grid_row": null,
            "grid_template_areas": null,
            "grid_template_columns": null,
            "grid_template_rows": null,
            "height": null,
            "justify_content": null,
            "justify_items": null,
            "left": null,
            "margin": null,
            "max_height": null,
            "max_width": null,
            "min_height": null,
            "min_width": null,
            "object_fit": null,
            "object_position": null,
            "order": null,
            "overflow": null,
            "overflow_x": null,
            "overflow_y": null,
            "padding": null,
            "right": null,
            "top": null,
            "visibility": null,
            "width": null
          }
        },
        "5c9710c3e8494d74b7695104a05ba77b": {
          "model_module": "@jupyter-widgets/output",
          "model_name": "OutputModel",
          "model_module_version": "1.0.0",
          "state": {
            "_dom_classes": [],
            "_model_module": "@jupyter-widgets/output",
            "_model_module_version": "1.0.0",
            "_model_name": "OutputModel",
            "_view_count": null,
            "_view_module": "@jupyter-widgets/output",
            "_view_module_version": "1.0.0",
            "_view_name": "OutputView",
            "layout": "IPY_MODEL_18cd504307cd4aa6bdf77abf16729e73",
            "msg_id": "",
            "outputs": [
              {
                "output_type": "display_data",
                "data": {
                  "text/plain": "Epoch 5/39 \u001b[38;2;98;6;224m━━━━━━━━━━━━━━━━━━━━━━━━━━━━━━━━━━\u001b[0m \u001b[37m16/16\u001b[0m \u001b[38;5;245m0:00:00 • 0:00:00\u001b[0m \u001b[38;5;249m46.85it/s\u001b[0m \u001b[37mv_num: 150.000 train_loss: 0.506   \u001b[0m\n                                                                                \u001b[37mvalid_loss: 0.554 valid_accuracy:  \u001b[0m\n                                                                                \u001b[37m0.724 train_accuracy: 0.630        \u001b[0m\n",
                  "text/html": "<pre style=\"white-space:pre;overflow-x:auto;line-height:normal;font-family:Menlo,'DejaVu Sans Mono',consolas,'Courier New',monospace\">Epoch 5/39 <span style=\"color: #6206e0; text-decoration-color: #6206e0\">━━━━━━━━━━━━━━━━━━━━━━━━━━━━━━━━━━</span> <span style=\"color: #c0c0c0; text-decoration-color: #c0c0c0\">16/16</span> <span style=\"color: #8a8a8a; text-decoration-color: #8a8a8a\">0:00:00 • 0:00:00</span> <span style=\"color: #b2b2b2; text-decoration-color: #b2b2b2\">46.85it/s</span> <span style=\"color: #c0c0c0; text-decoration-color: #c0c0c0\">v_num: 150.000 train_loss: 0.506   </span>\n                                                                                <span style=\"color: #c0c0c0; text-decoration-color: #c0c0c0\">valid_loss: 0.554 valid_accuracy:  </span>\n                                                                                <span style=\"color: #c0c0c0; text-decoration-color: #c0c0c0\">0.724 train_accuracy: 0.630        </span>\n</pre>\n"
                },
                "metadata": {}
              }
            ]
          }
        },
        "18cd504307cd4aa6bdf77abf16729e73": {
          "model_module": "@jupyter-widgets/base",
          "model_name": "LayoutModel",
          "model_module_version": "1.2.0",
          "state": {
            "_model_module": "@jupyter-widgets/base",
            "_model_module_version": "1.2.0",
            "_model_name": "LayoutModel",
            "_view_count": null,
            "_view_module": "@jupyter-widgets/base",
            "_view_module_version": "1.2.0",
            "_view_name": "LayoutView",
            "align_content": null,
            "align_items": null,
            "align_self": null,
            "border": null,
            "bottom": null,
            "display": null,
            "flex": null,
            "flex_flow": null,
            "grid_area": null,
            "grid_auto_columns": null,
            "grid_auto_flow": null,
            "grid_auto_rows": null,
            "grid_column": null,
            "grid_gap": null,
            "grid_row": null,
            "grid_template_areas": null,
            "grid_template_columns": null,
            "grid_template_rows": null,
            "height": null,
            "justify_content": null,
            "justify_items": null,
            "left": null,
            "margin": null,
            "max_height": null,
            "max_width": null,
            "min_height": null,
            "min_width": null,
            "object_fit": null,
            "object_position": null,
            "order": null,
            "overflow": null,
            "overflow_x": null,
            "overflow_y": null,
            "padding": null,
            "right": null,
            "top": null,
            "visibility": null,
            "width": null
          }
        },
        "46a7b30eaff14a7c9972ad19617a41bb": {
          "model_module": "@jupyter-widgets/output",
          "model_name": "OutputModel",
          "model_module_version": "1.0.0",
          "state": {
            "_dom_classes": [],
            "_model_module": "@jupyter-widgets/output",
            "_model_module_version": "1.0.0",
            "_model_name": "OutputModel",
            "_view_count": null,
            "_view_module": "@jupyter-widgets/output",
            "_view_module_version": "1.0.0",
            "_view_name": "OutputView",
            "layout": "IPY_MODEL_d43aea2a51aa4230a68bbbf1554156fb",
            "msg_id": "",
            "outputs": [
              {
                "output_type": "display_data",
                "data": {
                  "text/plain": "Epoch 6/39 \u001b[38;2;98;6;224m━━━━━━━━━━━━━━━━━━━━━━━━━━━━━━━━━━━\u001b[0m \u001b[37m8/8\u001b[0m \u001b[38;5;245m0:00:00 • 0:00:00\u001b[0m \u001b[38;5;249m35.88it/s\u001b[0m \u001b[37mv_num: 151.000 train_loss: 0.528    \u001b[0m\n                                                                               \u001b[37mvalid_loss: 0.537 valid_accuracy:   \u001b[0m\n                                                                               \u001b[37m0.696 train_accuracy: 0.683         \u001b[0m\n",
                  "text/html": "<pre style=\"white-space:pre;overflow-x:auto;line-height:normal;font-family:Menlo,'DejaVu Sans Mono',consolas,'Courier New',monospace\">Epoch 6/39 <span style=\"color: #6206e0; text-decoration-color: #6206e0\">━━━━━━━━━━━━━━━━━━━━━━━━━━━━━━━━━━━</span> <span style=\"color: #c0c0c0; text-decoration-color: #c0c0c0\">8/8</span> <span style=\"color: #8a8a8a; text-decoration-color: #8a8a8a\">0:00:00 • 0:00:00</span> <span style=\"color: #b2b2b2; text-decoration-color: #b2b2b2\">35.88it/s</span> <span style=\"color: #c0c0c0; text-decoration-color: #c0c0c0\">v_num: 151.000 train_loss: 0.528    </span>\n                                                                               <span style=\"color: #c0c0c0; text-decoration-color: #c0c0c0\">valid_loss: 0.537 valid_accuracy:   </span>\n                                                                               <span style=\"color: #c0c0c0; text-decoration-color: #c0c0c0\">0.696 train_accuracy: 0.683         </span>\n</pre>\n"
                },
                "metadata": {}
              }
            ]
          }
        },
        "d43aea2a51aa4230a68bbbf1554156fb": {
          "model_module": "@jupyter-widgets/base",
          "model_name": "LayoutModel",
          "model_module_version": "1.2.0",
          "state": {
            "_model_module": "@jupyter-widgets/base",
            "_model_module_version": "1.2.0",
            "_model_name": "LayoutModel",
            "_view_count": null,
            "_view_module": "@jupyter-widgets/base",
            "_view_module_version": "1.2.0",
            "_view_name": "LayoutView",
            "align_content": null,
            "align_items": null,
            "align_self": null,
            "border": null,
            "bottom": null,
            "display": null,
            "flex": null,
            "flex_flow": null,
            "grid_area": null,
            "grid_auto_columns": null,
            "grid_auto_flow": null,
            "grid_auto_rows": null,
            "grid_column": null,
            "grid_gap": null,
            "grid_row": null,
            "grid_template_areas": null,
            "grid_template_columns": null,
            "grid_template_rows": null,
            "height": null,
            "justify_content": null,
            "justify_items": null,
            "left": null,
            "margin": null,
            "max_height": null,
            "max_width": null,
            "min_height": null,
            "min_width": null,
            "object_fit": null,
            "object_position": null,
            "order": null,
            "overflow": null,
            "overflow_x": null,
            "overflow_y": null,
            "padding": null,
            "right": null,
            "top": null,
            "visibility": null,
            "width": null
          }
        },
        "8923c0787f994be6bb1e281dfb724528": {
          "model_module": "@jupyter-widgets/output",
          "model_name": "OutputModel",
          "model_module_version": "1.0.0",
          "state": {
            "_dom_classes": [],
            "_model_module": "@jupyter-widgets/output",
            "_model_module_version": "1.0.0",
            "_model_name": "OutputModel",
            "_view_count": null,
            "_view_module": "@jupyter-widgets/output",
            "_view_module_version": "1.0.0",
            "_view_name": "OutputView",
            "layout": "IPY_MODEL_fe8c5f6d334f464d956ad7c0bfddd257",
            "msg_id": "",
            "outputs": [
              {
                "output_type": "display_data",
                "data": {
                  "text/plain": "Epoch 28/39 \u001b[38;2;98;6;224m━━━━━━━━━━━━━━━━━━━━━━━━━━━━━━━━━━\u001b[0m \u001b[37m16/16\u001b[0m \u001b[38;5;245m0:00:00 • 0:00:00\u001b[0m \u001b[38;5;249m43.81it/s\u001b[0m \u001b[37mv_num: 152.000 train_loss: 0.539  \u001b[0m\n                                                                                 \u001b[37mvalid_loss: 0.537 valid_accuracy: \u001b[0m\n                                                                                 \u001b[37m0.691 train_accuracy: 0.712       \u001b[0m\n",
                  "text/html": "<pre style=\"white-space:pre;overflow-x:auto;line-height:normal;font-family:Menlo,'DejaVu Sans Mono',consolas,'Courier New',monospace\">Epoch 28/39 <span style=\"color: #6206e0; text-decoration-color: #6206e0\">━━━━━━━━━━━━━━━━━━━━━━━━━━━━━━━━━━</span> <span style=\"color: #c0c0c0; text-decoration-color: #c0c0c0\">16/16</span> <span style=\"color: #8a8a8a; text-decoration-color: #8a8a8a\">0:00:00 • 0:00:00</span> <span style=\"color: #b2b2b2; text-decoration-color: #b2b2b2\">43.81it/s</span> <span style=\"color: #c0c0c0; text-decoration-color: #c0c0c0\">v_num: 152.000 train_loss: 0.539  </span>\n                                                                                 <span style=\"color: #c0c0c0; text-decoration-color: #c0c0c0\">valid_loss: 0.537 valid_accuracy: </span>\n                                                                                 <span style=\"color: #c0c0c0; text-decoration-color: #c0c0c0\">0.691 train_accuracy: 0.712       </span>\n</pre>\n"
                },
                "metadata": {}
              }
            ]
          }
        },
        "fe8c5f6d334f464d956ad7c0bfddd257": {
          "model_module": "@jupyter-widgets/base",
          "model_name": "LayoutModel",
          "model_module_version": "1.2.0",
          "state": {
            "_model_module": "@jupyter-widgets/base",
            "_model_module_version": "1.2.0",
            "_model_name": "LayoutModel",
            "_view_count": null,
            "_view_module": "@jupyter-widgets/base",
            "_view_module_version": "1.2.0",
            "_view_name": "LayoutView",
            "align_content": null,
            "align_items": null,
            "align_self": null,
            "border": null,
            "bottom": null,
            "display": null,
            "flex": null,
            "flex_flow": null,
            "grid_area": null,
            "grid_auto_columns": null,
            "grid_auto_flow": null,
            "grid_auto_rows": null,
            "grid_column": null,
            "grid_gap": null,
            "grid_row": null,
            "grid_template_areas": null,
            "grid_template_columns": null,
            "grid_template_rows": null,
            "height": null,
            "justify_content": null,
            "justify_items": null,
            "left": null,
            "margin": null,
            "max_height": null,
            "max_width": null,
            "min_height": null,
            "min_width": null,
            "object_fit": null,
            "object_position": null,
            "order": null,
            "overflow": null,
            "overflow_x": null,
            "overflow_y": null,
            "padding": null,
            "right": null,
            "top": null,
            "visibility": null,
            "width": null
          }
        },
        "be4535039f5e4eb9961fd4db4d876d64": {
          "model_module": "@jupyter-widgets/output",
          "model_name": "OutputModel",
          "model_module_version": "1.0.0",
          "state": {
            "_dom_classes": [],
            "_model_module": "@jupyter-widgets/output",
            "_model_module_version": "1.0.0",
            "_model_name": "OutputModel",
            "_view_count": null,
            "_view_module": "@jupyter-widgets/output",
            "_view_module_version": "1.0.0",
            "_view_name": "OutputView",
            "layout": "IPY_MODEL_2141b41fc4d44196a26e05736974e372",
            "msg_id": "",
            "outputs": [
              {
                "output_type": "display_data",
                "data": {
                  "text/plain": "Epoch 9/39 \u001b[38;2;98;6;224m━━━━━━━━━━━━━━━━━━━━━━━━━━━━━━━━━━\u001b[0m \u001b[37m16/16\u001b[0m \u001b[38;5;245m0:00:00 • 0:00:00\u001b[0m \u001b[38;5;249m37.72it/s\u001b[0m \u001b[37mv_num: 153.000 train_loss: 0.519   \u001b[0m\n                                                                                \u001b[37mvalid_loss: 0.548 valid_accuracy:  \u001b[0m\n                                                                                \u001b[37m0.700 train_accuracy: 0.696        \u001b[0m\n",
                  "text/html": "<pre style=\"white-space:pre;overflow-x:auto;line-height:normal;font-family:Menlo,'DejaVu Sans Mono',consolas,'Courier New',monospace\">Epoch 9/39 <span style=\"color: #6206e0; text-decoration-color: #6206e0\">━━━━━━━━━━━━━━━━━━━━━━━━━━━━━━━━━━</span> <span style=\"color: #c0c0c0; text-decoration-color: #c0c0c0\">16/16</span> <span style=\"color: #8a8a8a; text-decoration-color: #8a8a8a\">0:00:00 • 0:00:00</span> <span style=\"color: #b2b2b2; text-decoration-color: #b2b2b2\">37.72it/s</span> <span style=\"color: #c0c0c0; text-decoration-color: #c0c0c0\">v_num: 153.000 train_loss: 0.519   </span>\n                                                                                <span style=\"color: #c0c0c0; text-decoration-color: #c0c0c0\">valid_loss: 0.548 valid_accuracy:  </span>\n                                                                                <span style=\"color: #c0c0c0; text-decoration-color: #c0c0c0\">0.700 train_accuracy: 0.696        </span>\n</pre>\n"
                },
                "metadata": {}
              }
            ]
          }
        },
        "2141b41fc4d44196a26e05736974e372": {
          "model_module": "@jupyter-widgets/base",
          "model_name": "LayoutModel",
          "model_module_version": "1.2.0",
          "state": {
            "_model_module": "@jupyter-widgets/base",
            "_model_module_version": "1.2.0",
            "_model_name": "LayoutModel",
            "_view_count": null,
            "_view_module": "@jupyter-widgets/base",
            "_view_module_version": "1.2.0",
            "_view_name": "LayoutView",
            "align_content": null,
            "align_items": null,
            "align_self": null,
            "border": null,
            "bottom": null,
            "display": null,
            "flex": null,
            "flex_flow": null,
            "grid_area": null,
            "grid_auto_columns": null,
            "grid_auto_flow": null,
            "grid_auto_rows": null,
            "grid_column": null,
            "grid_gap": null,
            "grid_row": null,
            "grid_template_areas": null,
            "grid_template_columns": null,
            "grid_template_rows": null,
            "height": null,
            "justify_content": null,
            "justify_items": null,
            "left": null,
            "margin": null,
            "max_height": null,
            "max_width": null,
            "min_height": null,
            "min_width": null,
            "object_fit": null,
            "object_position": null,
            "order": null,
            "overflow": null,
            "overflow_x": null,
            "overflow_y": null,
            "padding": null,
            "right": null,
            "top": null,
            "visibility": null,
            "width": null
          }
        },
        "964e891a76c340e9a2f531dacbe0043e": {
          "model_module": "@jupyter-widgets/output",
          "model_name": "OutputModel",
          "model_module_version": "1.0.0",
          "state": {
            "_dom_classes": [],
            "_model_module": "@jupyter-widgets/output",
            "_model_module_version": "1.0.0",
            "_model_name": "OutputModel",
            "_view_count": null,
            "_view_module": "@jupyter-widgets/output",
            "_view_module_version": "1.0.0",
            "_view_name": "OutputView",
            "layout": "IPY_MODEL_36be741f8e544716a00d18da07ed2f02",
            "msg_id": "",
            "outputs": [
              {
                "output_type": "display_data",
                "data": {
                  "text/plain": "Epoch 18/39 \u001b[38;2;98;6;224m━━━━━━━━━━━━━━━━━━━━━━━━━━━━━━━━━━\u001b[0m \u001b[37m32/32\u001b[0m \u001b[38;5;245m0:00:00 • 0:00:00\u001b[0m \u001b[38;5;249m45.61it/s\u001b[0m \u001b[37mv_num: 154.000 train_loss: 0.540  \u001b[0m\n                                                                                 \u001b[37mvalid_loss: 0.532 valid_accuracy: \u001b[0m\n                                                                                 \u001b[37m0.728 train_accuracy: 0.676       \u001b[0m\n",
                  "text/html": "<pre style=\"white-space:pre;overflow-x:auto;line-height:normal;font-family:Menlo,'DejaVu Sans Mono',consolas,'Courier New',monospace\">Epoch 18/39 <span style=\"color: #6206e0; text-decoration-color: #6206e0\">━━━━━━━━━━━━━━━━━━━━━━━━━━━━━━━━━━</span> <span style=\"color: #c0c0c0; text-decoration-color: #c0c0c0\">32/32</span> <span style=\"color: #8a8a8a; text-decoration-color: #8a8a8a\">0:00:00 • 0:00:00</span> <span style=\"color: #b2b2b2; text-decoration-color: #b2b2b2\">45.61it/s</span> <span style=\"color: #c0c0c0; text-decoration-color: #c0c0c0\">v_num: 154.000 train_loss: 0.540  </span>\n                                                                                 <span style=\"color: #c0c0c0; text-decoration-color: #c0c0c0\">valid_loss: 0.532 valid_accuracy: </span>\n                                                                                 <span style=\"color: #c0c0c0; text-decoration-color: #c0c0c0\">0.728 train_accuracy: 0.676       </span>\n</pre>\n"
                },
                "metadata": {}
              }
            ]
          }
        },
        "36be741f8e544716a00d18da07ed2f02": {
          "model_module": "@jupyter-widgets/base",
          "model_name": "LayoutModel",
          "model_module_version": "1.2.0",
          "state": {
            "_model_module": "@jupyter-widgets/base",
            "_model_module_version": "1.2.0",
            "_model_name": "LayoutModel",
            "_view_count": null,
            "_view_module": "@jupyter-widgets/base",
            "_view_module_version": "1.2.0",
            "_view_name": "LayoutView",
            "align_content": null,
            "align_items": null,
            "align_self": null,
            "border": null,
            "bottom": null,
            "display": null,
            "flex": null,
            "flex_flow": null,
            "grid_area": null,
            "grid_auto_columns": null,
            "grid_auto_flow": null,
            "grid_auto_rows": null,
            "grid_column": null,
            "grid_gap": null,
            "grid_row": null,
            "grid_template_areas": null,
            "grid_template_columns": null,
            "grid_template_rows": null,
            "height": null,
            "justify_content": null,
            "justify_items": null,
            "left": null,
            "margin": null,
            "max_height": null,
            "max_width": null,
            "min_height": null,
            "min_width": null,
            "object_fit": null,
            "object_position": null,
            "order": null,
            "overflow": null,
            "overflow_x": null,
            "overflow_y": null,
            "padding": null,
            "right": null,
            "top": null,
            "visibility": null,
            "width": null
          }
        },
        "d262887cc9cf4ae980d6f80328bd1855": {
          "model_module": "@jupyter-widgets/output",
          "model_name": "OutputModel",
          "model_module_version": "1.0.0",
          "state": {
            "_dom_classes": [],
            "_model_module": "@jupyter-widgets/output",
            "_model_module_version": "1.0.0",
            "_model_name": "OutputModel",
            "_view_count": null,
            "_view_module": "@jupyter-widgets/output",
            "_view_module_version": "1.0.0",
            "_view_name": "OutputView",
            "layout": "IPY_MODEL_1bd6ce1b70284714a980efbdb77ae34e",
            "msg_id": "",
            "outputs": [
              {
                "output_type": "display_data",
                "data": {
                  "text/plain": "Epoch 10/39 \u001b[38;2;98;6;224m━━━━━━━━━━━━━━━━━━━━━━━━━━━━━━━━━━\u001b[0m \u001b[37m16/16\u001b[0m \u001b[38;5;245m0:00:00 • 0:00:00\u001b[0m \u001b[38;5;249m45.42it/s\u001b[0m \u001b[37mv_num: 155.000 train_loss: 0.675  \u001b[0m\n                                                                                 \u001b[37mvalid_loss: 0.556 valid_accuracy: \u001b[0m\n                                                                                 \u001b[37m0.682 train_accuracy: 0.683       \u001b[0m\n",
                  "text/html": "<pre style=\"white-space:pre;overflow-x:auto;line-height:normal;font-family:Menlo,'DejaVu Sans Mono',consolas,'Courier New',monospace\">Epoch 10/39 <span style=\"color: #6206e0; text-decoration-color: #6206e0\">━━━━━━━━━━━━━━━━━━━━━━━━━━━━━━━━━━</span> <span style=\"color: #c0c0c0; text-decoration-color: #c0c0c0\">16/16</span> <span style=\"color: #8a8a8a; text-decoration-color: #8a8a8a\">0:00:00 • 0:00:00</span> <span style=\"color: #b2b2b2; text-decoration-color: #b2b2b2\">45.42it/s</span> <span style=\"color: #c0c0c0; text-decoration-color: #c0c0c0\">v_num: 155.000 train_loss: 0.675  </span>\n                                                                                 <span style=\"color: #c0c0c0; text-decoration-color: #c0c0c0\">valid_loss: 0.556 valid_accuracy: </span>\n                                                                                 <span style=\"color: #c0c0c0; text-decoration-color: #c0c0c0\">0.682 train_accuracy: 0.683       </span>\n</pre>\n"
                },
                "metadata": {}
              }
            ]
          }
        },
        "1bd6ce1b70284714a980efbdb77ae34e": {
          "model_module": "@jupyter-widgets/base",
          "model_name": "LayoutModel",
          "model_module_version": "1.2.0",
          "state": {
            "_model_module": "@jupyter-widgets/base",
            "_model_module_version": "1.2.0",
            "_model_name": "LayoutModel",
            "_view_count": null,
            "_view_module": "@jupyter-widgets/base",
            "_view_module_version": "1.2.0",
            "_view_name": "LayoutView",
            "align_content": null,
            "align_items": null,
            "align_self": null,
            "border": null,
            "bottom": null,
            "display": null,
            "flex": null,
            "flex_flow": null,
            "grid_area": null,
            "grid_auto_columns": null,
            "grid_auto_flow": null,
            "grid_auto_rows": null,
            "grid_column": null,
            "grid_gap": null,
            "grid_row": null,
            "grid_template_areas": null,
            "grid_template_columns": null,
            "grid_template_rows": null,
            "height": null,
            "justify_content": null,
            "justify_items": null,
            "left": null,
            "margin": null,
            "max_height": null,
            "max_width": null,
            "min_height": null,
            "min_width": null,
            "object_fit": null,
            "object_position": null,
            "order": null,
            "overflow": null,
            "overflow_x": null,
            "overflow_y": null,
            "padding": null,
            "right": null,
            "top": null,
            "visibility": null,
            "width": null
          }
        },
        "cfeeb50ca68e44eca744cbb3000251cd": {
          "model_module": "@jupyter-widgets/output",
          "model_name": "OutputModel",
          "model_module_version": "1.0.0",
          "state": {
            "_dom_classes": [],
            "_model_module": "@jupyter-widgets/output",
            "_model_module_version": "1.0.0",
            "_model_name": "OutputModel",
            "_view_count": null,
            "_view_module": "@jupyter-widgets/output",
            "_view_module_version": "1.0.0",
            "_view_name": "OutputView",
            "layout": "IPY_MODEL_bae0fd66ec684d96a217f443b6ebc09d",
            "msg_id": "",
            "outputs": [
              {
                "output_type": "display_data",
                "data": {
                  "text/plain": "Epoch 7/39 \u001b[38;2;98;6;224m━━━━━━━━━━━━━━━━━━━━━━━━━━━━━━━━━━━\u001b[0m \u001b[37m8/8\u001b[0m \u001b[38;5;245m0:00:00 • 0:00:00\u001b[0m \u001b[38;5;249m42.73it/s\u001b[0m \u001b[37mv_num: 156.000 train_loss: 0.640    \u001b[0m\n                                                                               \u001b[37mvalid_loss: 0.547 valid_accuracy:   \u001b[0m\n                                                                               \u001b[37m0.691 train_accuracy: 0.696         \u001b[0m\n",
                  "text/html": "<pre style=\"white-space:pre;overflow-x:auto;line-height:normal;font-family:Menlo,'DejaVu Sans Mono',consolas,'Courier New',monospace\">Epoch 7/39 <span style=\"color: #6206e0; text-decoration-color: #6206e0\">━━━━━━━━━━━━━━━━━━━━━━━━━━━━━━━━━━━</span> <span style=\"color: #c0c0c0; text-decoration-color: #c0c0c0\">8/8</span> <span style=\"color: #8a8a8a; text-decoration-color: #8a8a8a\">0:00:00 • 0:00:00</span> <span style=\"color: #b2b2b2; text-decoration-color: #b2b2b2\">42.73it/s</span> <span style=\"color: #c0c0c0; text-decoration-color: #c0c0c0\">v_num: 156.000 train_loss: 0.640    </span>\n                                                                               <span style=\"color: #c0c0c0; text-decoration-color: #c0c0c0\">valid_loss: 0.547 valid_accuracy:   </span>\n                                                                               <span style=\"color: #c0c0c0; text-decoration-color: #c0c0c0\">0.691 train_accuracy: 0.696         </span>\n</pre>\n"
                },
                "metadata": {}
              }
            ]
          }
        },
        "bae0fd66ec684d96a217f443b6ebc09d": {
          "model_module": "@jupyter-widgets/base",
          "model_name": "LayoutModel",
          "model_module_version": "1.2.0",
          "state": {
            "_model_module": "@jupyter-widgets/base",
            "_model_module_version": "1.2.0",
            "_model_name": "LayoutModel",
            "_view_count": null,
            "_view_module": "@jupyter-widgets/base",
            "_view_module_version": "1.2.0",
            "_view_name": "LayoutView",
            "align_content": null,
            "align_items": null,
            "align_self": null,
            "border": null,
            "bottom": null,
            "display": null,
            "flex": null,
            "flex_flow": null,
            "grid_area": null,
            "grid_auto_columns": null,
            "grid_auto_flow": null,
            "grid_auto_rows": null,
            "grid_column": null,
            "grid_gap": null,
            "grid_row": null,
            "grid_template_areas": null,
            "grid_template_columns": null,
            "grid_template_rows": null,
            "height": null,
            "justify_content": null,
            "justify_items": null,
            "left": null,
            "margin": null,
            "max_height": null,
            "max_width": null,
            "min_height": null,
            "min_width": null,
            "object_fit": null,
            "object_position": null,
            "order": null,
            "overflow": null,
            "overflow_x": null,
            "overflow_y": null,
            "padding": null,
            "right": null,
            "top": null,
            "visibility": null,
            "width": null
          }
        },
        "6878f267032446f9b0fe31959ab8a79e": {
          "model_module": "@jupyter-widgets/output",
          "model_name": "OutputModel",
          "model_module_version": "1.0.0",
          "state": {
            "_dom_classes": [],
            "_model_module": "@jupyter-widgets/output",
            "_model_module_version": "1.0.0",
            "_model_name": "OutputModel",
            "_view_count": null,
            "_view_module": "@jupyter-widgets/output",
            "_view_module_version": "1.0.0",
            "_view_name": "OutputView",
            "layout": "IPY_MODEL_7368bda2df024de386c98a5650eb88ee",
            "msg_id": "",
            "outputs": [
              {
                "output_type": "display_data",
                "data": {
                  "text/plain": "Epoch 10/39 \u001b[38;2;98;6;224m━━━━━━━━━━━━━━━━━━━━━━━━━━━━━━━━━━\u001b[0m \u001b[37m8/8\u001b[0m \u001b[38;5;245m0:00:00 • 0:00:00\u001b[0m \u001b[38;5;249m35.92it/s\u001b[0m \u001b[37mv_num: 157.000 train_loss: 0.662    \u001b[0m\n                                                                               \u001b[37mvalid_loss: 0.551 valid_accuracy:   \u001b[0m\n                                                                               \u001b[37m0.664 train_accuracy: 0.671         \u001b[0m\n",
                  "text/html": "<pre style=\"white-space:pre;overflow-x:auto;line-height:normal;font-family:Menlo,'DejaVu Sans Mono',consolas,'Courier New',monospace\">Epoch 10/39 <span style=\"color: #6206e0; text-decoration-color: #6206e0\">━━━━━━━━━━━━━━━━━━━━━━━━━━━━━━━━━━</span> <span style=\"color: #c0c0c0; text-decoration-color: #c0c0c0\">8/8</span> <span style=\"color: #8a8a8a; text-decoration-color: #8a8a8a\">0:00:00 • 0:00:00</span> <span style=\"color: #b2b2b2; text-decoration-color: #b2b2b2\">35.92it/s</span> <span style=\"color: #c0c0c0; text-decoration-color: #c0c0c0\">v_num: 157.000 train_loss: 0.662    </span>\n                                                                               <span style=\"color: #c0c0c0; text-decoration-color: #c0c0c0\">valid_loss: 0.551 valid_accuracy:   </span>\n                                                                               <span style=\"color: #c0c0c0; text-decoration-color: #c0c0c0\">0.664 train_accuracy: 0.671         </span>\n</pre>\n"
                },
                "metadata": {}
              }
            ]
          }
        },
        "7368bda2df024de386c98a5650eb88ee": {
          "model_module": "@jupyter-widgets/base",
          "model_name": "LayoutModel",
          "model_module_version": "1.2.0",
          "state": {
            "_model_module": "@jupyter-widgets/base",
            "_model_module_version": "1.2.0",
            "_model_name": "LayoutModel",
            "_view_count": null,
            "_view_module": "@jupyter-widgets/base",
            "_view_module_version": "1.2.0",
            "_view_name": "LayoutView",
            "align_content": null,
            "align_items": null,
            "align_self": null,
            "border": null,
            "bottom": null,
            "display": null,
            "flex": null,
            "flex_flow": null,
            "grid_area": null,
            "grid_auto_columns": null,
            "grid_auto_flow": null,
            "grid_auto_rows": null,
            "grid_column": null,
            "grid_gap": null,
            "grid_row": null,
            "grid_template_areas": null,
            "grid_template_columns": null,
            "grid_template_rows": null,
            "height": null,
            "justify_content": null,
            "justify_items": null,
            "left": null,
            "margin": null,
            "max_height": null,
            "max_width": null,
            "min_height": null,
            "min_width": null,
            "object_fit": null,
            "object_position": null,
            "order": null,
            "overflow": null,
            "overflow_x": null,
            "overflow_y": null,
            "padding": null,
            "right": null,
            "top": null,
            "visibility": null,
            "width": null
          }
        },
        "3c0f56f4a3604002ab0e4ad93d555dad": {
          "model_module": "@jupyter-widgets/output",
          "model_name": "OutputModel",
          "model_module_version": "1.0.0",
          "state": {
            "_dom_classes": [],
            "_model_module": "@jupyter-widgets/output",
            "_model_module_version": "1.0.0",
            "_model_name": "OutputModel",
            "_view_count": null,
            "_view_module": "@jupyter-widgets/output",
            "_view_module_version": "1.0.0",
            "_view_name": "OutputView",
            "layout": "IPY_MODEL_c56416c9ab41467aa548321a2a958692",
            "msg_id": "",
            "outputs": [
              {
                "output_type": "display_data",
                "data": {
                  "text/plain": "Epoch 9/39 \u001b[38;2;98;6;224m━━━━━━━━━━━━━━━━━━━━━━━━━━━━━━━━━━\u001b[0m \u001b[37m16/16\u001b[0m \u001b[38;5;245m0:00:00 • 0:00:00\u001b[0m \u001b[38;5;249m43.82it/s\u001b[0m \u001b[37mv_num: 158.000 train_loss: 0.662   \u001b[0m\n                                                                                \u001b[37mvalid_loss: 0.551 valid_accuracy:  \u001b[0m\n                                                                                \u001b[37m0.710 train_accuracy: 0.657        \u001b[0m\n",
                  "text/html": "<pre style=\"white-space:pre;overflow-x:auto;line-height:normal;font-family:Menlo,'DejaVu Sans Mono',consolas,'Courier New',monospace\">Epoch 9/39 <span style=\"color: #6206e0; text-decoration-color: #6206e0\">━━━━━━━━━━━━━━━━━━━━━━━━━━━━━━━━━━</span> <span style=\"color: #c0c0c0; text-decoration-color: #c0c0c0\">16/16</span> <span style=\"color: #8a8a8a; text-decoration-color: #8a8a8a\">0:00:00 • 0:00:00</span> <span style=\"color: #b2b2b2; text-decoration-color: #b2b2b2\">43.82it/s</span> <span style=\"color: #c0c0c0; text-decoration-color: #c0c0c0\">v_num: 158.000 train_loss: 0.662   </span>\n                                                                                <span style=\"color: #c0c0c0; text-decoration-color: #c0c0c0\">valid_loss: 0.551 valid_accuracy:  </span>\n                                                                                <span style=\"color: #c0c0c0; text-decoration-color: #c0c0c0\">0.710 train_accuracy: 0.657        </span>\n</pre>\n"
                },
                "metadata": {}
              }
            ]
          }
        },
        "c56416c9ab41467aa548321a2a958692": {
          "model_module": "@jupyter-widgets/base",
          "model_name": "LayoutModel",
          "model_module_version": "1.2.0",
          "state": {
            "_model_module": "@jupyter-widgets/base",
            "_model_module_version": "1.2.0",
            "_model_name": "LayoutModel",
            "_view_count": null,
            "_view_module": "@jupyter-widgets/base",
            "_view_module_version": "1.2.0",
            "_view_name": "LayoutView",
            "align_content": null,
            "align_items": null,
            "align_self": null,
            "border": null,
            "bottom": null,
            "display": null,
            "flex": null,
            "flex_flow": null,
            "grid_area": null,
            "grid_auto_columns": null,
            "grid_auto_flow": null,
            "grid_auto_rows": null,
            "grid_column": null,
            "grid_gap": null,
            "grid_row": null,
            "grid_template_areas": null,
            "grid_template_columns": null,
            "grid_template_rows": null,
            "height": null,
            "justify_content": null,
            "justify_items": null,
            "left": null,
            "margin": null,
            "max_height": null,
            "max_width": null,
            "min_height": null,
            "min_width": null,
            "object_fit": null,
            "object_position": null,
            "order": null,
            "overflow": null,
            "overflow_x": null,
            "overflow_y": null,
            "padding": null,
            "right": null,
            "top": null,
            "visibility": null,
            "width": null
          }
        },
        "2e0a0ef02bf34ac186a95061e54a94ed": {
          "model_module": "@jupyter-widgets/output",
          "model_name": "OutputModel",
          "model_module_version": "1.0.0",
          "state": {
            "_dom_classes": [],
            "_model_module": "@jupyter-widgets/output",
            "_model_module_version": "1.0.0",
            "_model_name": "OutputModel",
            "_view_count": null,
            "_view_module": "@jupyter-widgets/output",
            "_view_module_version": "1.0.0",
            "_view_name": "OutputView",
            "layout": "IPY_MODEL_3c64ddab7a1b42908956d2d0d5780dde",
            "msg_id": "",
            "outputs": [
              {
                "output_type": "display_data",
                "data": {
                  "text/plain": "Epoch 9/39 \u001b[38;2;98;6;224m━━━━━━━━━━━━━━━━━━━━━━━━━━━━━━━━━━━\u001b[0m \u001b[37m8/8\u001b[0m \u001b[38;5;245m0:00:00 • 0:00:00\u001b[0m \u001b[38;5;249m26.18it/s\u001b[0m \u001b[37mv_num: 159.000 train_loss: 0.580    \u001b[0m\n                                                                               \u001b[37mvalid_loss: 0.539 valid_accuracy:   \u001b[0m\n                                                                               \u001b[37m0.691 train_accuracy: 0.688         \u001b[0m\n",
                  "text/html": "<pre style=\"white-space:pre;overflow-x:auto;line-height:normal;font-family:Menlo,'DejaVu Sans Mono',consolas,'Courier New',monospace\">Epoch 9/39 <span style=\"color: #6206e0; text-decoration-color: #6206e0\">━━━━━━━━━━━━━━━━━━━━━━━━━━━━━━━━━━━</span> <span style=\"color: #c0c0c0; text-decoration-color: #c0c0c0\">8/8</span> <span style=\"color: #8a8a8a; text-decoration-color: #8a8a8a\">0:00:00 • 0:00:00</span> <span style=\"color: #b2b2b2; text-decoration-color: #b2b2b2\">26.18it/s</span> <span style=\"color: #c0c0c0; text-decoration-color: #c0c0c0\">v_num: 159.000 train_loss: 0.580    </span>\n                                                                               <span style=\"color: #c0c0c0; text-decoration-color: #c0c0c0\">valid_loss: 0.539 valid_accuracy:   </span>\n                                                                               <span style=\"color: #c0c0c0; text-decoration-color: #c0c0c0\">0.691 train_accuracy: 0.688         </span>\n</pre>\n"
                },
                "metadata": {}
              }
            ]
          }
        },
        "3c64ddab7a1b42908956d2d0d5780dde": {
          "model_module": "@jupyter-widgets/base",
          "model_name": "LayoutModel",
          "model_module_version": "1.2.0",
          "state": {
            "_model_module": "@jupyter-widgets/base",
            "_model_module_version": "1.2.0",
            "_model_name": "LayoutModel",
            "_view_count": null,
            "_view_module": "@jupyter-widgets/base",
            "_view_module_version": "1.2.0",
            "_view_name": "LayoutView",
            "align_content": null,
            "align_items": null,
            "align_self": null,
            "border": null,
            "bottom": null,
            "display": null,
            "flex": null,
            "flex_flow": null,
            "grid_area": null,
            "grid_auto_columns": null,
            "grid_auto_flow": null,
            "grid_auto_rows": null,
            "grid_column": null,
            "grid_gap": null,
            "grid_row": null,
            "grid_template_areas": null,
            "grid_template_columns": null,
            "grid_template_rows": null,
            "height": null,
            "justify_content": null,
            "justify_items": null,
            "left": null,
            "margin": null,
            "max_height": null,
            "max_width": null,
            "min_height": null,
            "min_width": null,
            "object_fit": null,
            "object_position": null,
            "order": null,
            "overflow": null,
            "overflow_x": null,
            "overflow_y": null,
            "padding": null,
            "right": null,
            "top": null,
            "visibility": null,
            "width": null
          }
        },
        "66628c0ddc114b55a0722f699e2c8f20": {
          "model_module": "@jupyter-widgets/output",
          "model_name": "OutputModel",
          "model_module_version": "1.0.0",
          "state": {
            "_dom_classes": [],
            "_model_module": "@jupyter-widgets/output",
            "_model_module_version": "1.0.0",
            "_model_name": "OutputModel",
            "_view_count": null,
            "_view_module": "@jupyter-widgets/output",
            "_view_module_version": "1.0.0",
            "_view_name": "OutputView",
            "layout": "IPY_MODEL_d4512c7b5e8f4584b7c95cc9633d74bf",
            "msg_id": "",
            "outputs": [
              {
                "output_type": "display_data",
                "data": {
                  "text/plain": "Epoch 7/39 \u001b[38;2;98;6;224m━━━━━━━━━━━━━━━━━━━━━━━━━━━━━━━━━━\u001b[0m \u001b[37m32/32\u001b[0m \u001b[38;5;245m0:00:00 • 0:00:00\u001b[0m \u001b[38;5;249m44.06it/s\u001b[0m \u001b[37mv_num: 160.000 train_loss: 0.522   \u001b[0m\n                                                                                \u001b[37mvalid_loss: 0.535 valid_accuracy:  \u001b[0m\n                                                                                \u001b[37m0.705 train_accuracy: 0.688        \u001b[0m\n",
                  "text/html": "<pre style=\"white-space:pre;overflow-x:auto;line-height:normal;font-family:Menlo,'DejaVu Sans Mono',consolas,'Courier New',monospace\">Epoch 7/39 <span style=\"color: #6206e0; text-decoration-color: #6206e0\">━━━━━━━━━━━━━━━━━━━━━━━━━━━━━━━━━━</span> <span style=\"color: #c0c0c0; text-decoration-color: #c0c0c0\">32/32</span> <span style=\"color: #8a8a8a; text-decoration-color: #8a8a8a\">0:00:00 • 0:00:00</span> <span style=\"color: #b2b2b2; text-decoration-color: #b2b2b2\">44.06it/s</span> <span style=\"color: #c0c0c0; text-decoration-color: #c0c0c0\">v_num: 160.000 train_loss: 0.522   </span>\n                                                                                <span style=\"color: #c0c0c0; text-decoration-color: #c0c0c0\">valid_loss: 0.535 valid_accuracy:  </span>\n                                                                                <span style=\"color: #c0c0c0; text-decoration-color: #c0c0c0\">0.705 train_accuracy: 0.688        </span>\n</pre>\n"
                },
                "metadata": {}
              }
            ]
          }
        },
        "d4512c7b5e8f4584b7c95cc9633d74bf": {
          "model_module": "@jupyter-widgets/base",
          "model_name": "LayoutModel",
          "model_module_version": "1.2.0",
          "state": {
            "_model_module": "@jupyter-widgets/base",
            "_model_module_version": "1.2.0",
            "_model_name": "LayoutModel",
            "_view_count": null,
            "_view_module": "@jupyter-widgets/base",
            "_view_module_version": "1.2.0",
            "_view_name": "LayoutView",
            "align_content": null,
            "align_items": null,
            "align_self": null,
            "border": null,
            "bottom": null,
            "display": null,
            "flex": null,
            "flex_flow": null,
            "grid_area": null,
            "grid_auto_columns": null,
            "grid_auto_flow": null,
            "grid_auto_rows": null,
            "grid_column": null,
            "grid_gap": null,
            "grid_row": null,
            "grid_template_areas": null,
            "grid_template_columns": null,
            "grid_template_rows": null,
            "height": null,
            "justify_content": null,
            "justify_items": null,
            "left": null,
            "margin": null,
            "max_height": null,
            "max_width": null,
            "min_height": null,
            "min_width": null,
            "object_fit": null,
            "object_position": null,
            "order": null,
            "overflow": null,
            "overflow_x": null,
            "overflow_y": null,
            "padding": null,
            "right": null,
            "top": null,
            "visibility": null,
            "width": null
          }
        },
        "06e7ce72316349adb85de04c90aebd19": {
          "model_module": "@jupyter-widgets/output",
          "model_name": "OutputModel",
          "model_module_version": "1.0.0",
          "state": {
            "_dom_classes": [],
            "_model_module": "@jupyter-widgets/output",
            "_model_module_version": "1.0.0",
            "_model_name": "OutputModel",
            "_view_count": null,
            "_view_module": "@jupyter-widgets/output",
            "_view_module_version": "1.0.0",
            "_view_name": "OutputView",
            "layout": "IPY_MODEL_82c0731732534540abf38cdaaa9d2a8f",
            "msg_id": "",
            "outputs": [
              {
                "output_type": "display_data",
                "data": {
                  "text/plain": "Epoch 5/39 \u001b[38;2;98;6;224m━━━━━━━━━━━━━━━━━━━━━━━━━━━━━━━━━━\u001b[0m \u001b[37m16/16\u001b[0m \u001b[38;5;245m0:00:00 • 0:00:00\u001b[0m \u001b[38;5;249m33.09it/s\u001b[0m \u001b[37mv_num: 161.000 train_loss: 0.528   \u001b[0m\n                                                                                \u001b[37mvalid_loss: 0.567 valid_accuracy:  \u001b[0m\n                                                                                \u001b[37m0.714 train_accuracy: 0.652        \u001b[0m\n",
                  "text/html": "<pre style=\"white-space:pre;overflow-x:auto;line-height:normal;font-family:Menlo,'DejaVu Sans Mono',consolas,'Courier New',monospace\">Epoch 5/39 <span style=\"color: #6206e0; text-decoration-color: #6206e0\">━━━━━━━━━━━━━━━━━━━━━━━━━━━━━━━━━━</span> <span style=\"color: #c0c0c0; text-decoration-color: #c0c0c0\">16/16</span> <span style=\"color: #8a8a8a; text-decoration-color: #8a8a8a\">0:00:00 • 0:00:00</span> <span style=\"color: #b2b2b2; text-decoration-color: #b2b2b2\">33.09it/s</span> <span style=\"color: #c0c0c0; text-decoration-color: #c0c0c0\">v_num: 161.000 train_loss: 0.528   </span>\n                                                                                <span style=\"color: #c0c0c0; text-decoration-color: #c0c0c0\">valid_loss: 0.567 valid_accuracy:  </span>\n                                                                                <span style=\"color: #c0c0c0; text-decoration-color: #c0c0c0\">0.714 train_accuracy: 0.652        </span>\n</pre>\n"
                },
                "metadata": {}
              }
            ]
          }
        },
        "82c0731732534540abf38cdaaa9d2a8f": {
          "model_module": "@jupyter-widgets/base",
          "model_name": "LayoutModel",
          "model_module_version": "1.2.0",
          "state": {
            "_model_module": "@jupyter-widgets/base",
            "_model_module_version": "1.2.0",
            "_model_name": "LayoutModel",
            "_view_count": null,
            "_view_module": "@jupyter-widgets/base",
            "_view_module_version": "1.2.0",
            "_view_name": "LayoutView",
            "align_content": null,
            "align_items": null,
            "align_self": null,
            "border": null,
            "bottom": null,
            "display": null,
            "flex": null,
            "flex_flow": null,
            "grid_area": null,
            "grid_auto_columns": null,
            "grid_auto_flow": null,
            "grid_auto_rows": null,
            "grid_column": null,
            "grid_gap": null,
            "grid_row": null,
            "grid_template_areas": null,
            "grid_template_columns": null,
            "grid_template_rows": null,
            "height": null,
            "justify_content": null,
            "justify_items": null,
            "left": null,
            "margin": null,
            "max_height": null,
            "max_width": null,
            "min_height": null,
            "min_width": null,
            "object_fit": null,
            "object_position": null,
            "order": null,
            "overflow": null,
            "overflow_x": null,
            "overflow_y": null,
            "padding": null,
            "right": null,
            "top": null,
            "visibility": null,
            "width": null
          }
        },
        "c4c10972ea074181bfc3fde367689f30": {
          "model_module": "@jupyter-widgets/output",
          "model_name": "OutputModel",
          "model_module_version": "1.0.0",
          "state": {
            "_dom_classes": [],
            "_model_module": "@jupyter-widgets/output",
            "_model_module_version": "1.0.0",
            "_model_name": "OutputModel",
            "_view_count": null,
            "_view_module": "@jupyter-widgets/output",
            "_view_module_version": "1.0.0",
            "_view_name": "OutputView",
            "layout": "IPY_MODEL_15812e6819d640208f3481767e81c926",
            "msg_id": "",
            "outputs": [
              {
                "output_type": "display_data",
                "data": {
                  "text/plain": "Epoch 19/39 \u001b[38;2;98;6;224m━━━━━━━━━━━━━━━━━━━━━━━━━━━━━━━━━━\u001b[0m \u001b[37m8/8\u001b[0m \u001b[38;5;245m0:00:00 • 0:00:00\u001b[0m \u001b[38;5;249m32.88it/s\u001b[0m \u001b[37mv_num: 162.000 train_loss: 0.674    \u001b[0m\n                                                                               \u001b[37mvalid_loss: 0.559 valid_accuracy:   \u001b[0m\n                                                                               \u001b[37m0.700 train_accuracy: 0.633         \u001b[0m\n",
                  "text/html": "<pre style=\"white-space:pre;overflow-x:auto;line-height:normal;font-family:Menlo,'DejaVu Sans Mono',consolas,'Courier New',monospace\">Epoch 19/39 <span style=\"color: #6206e0; text-decoration-color: #6206e0\">━━━━━━━━━━━━━━━━━━━━━━━━━━━━━━━━━━</span> <span style=\"color: #c0c0c0; text-decoration-color: #c0c0c0\">8/8</span> <span style=\"color: #8a8a8a; text-decoration-color: #8a8a8a\">0:00:00 • 0:00:00</span> <span style=\"color: #b2b2b2; text-decoration-color: #b2b2b2\">32.88it/s</span> <span style=\"color: #c0c0c0; text-decoration-color: #c0c0c0\">v_num: 162.000 train_loss: 0.674    </span>\n                                                                               <span style=\"color: #c0c0c0; text-decoration-color: #c0c0c0\">valid_loss: 0.559 valid_accuracy:   </span>\n                                                                               <span style=\"color: #c0c0c0; text-decoration-color: #c0c0c0\">0.700 train_accuracy: 0.633         </span>\n</pre>\n"
                },
                "metadata": {}
              }
            ]
          }
        },
        "15812e6819d640208f3481767e81c926": {
          "model_module": "@jupyter-widgets/base",
          "model_name": "LayoutModel",
          "model_module_version": "1.2.0",
          "state": {
            "_model_module": "@jupyter-widgets/base",
            "_model_module_version": "1.2.0",
            "_model_name": "LayoutModel",
            "_view_count": null,
            "_view_module": "@jupyter-widgets/base",
            "_view_module_version": "1.2.0",
            "_view_name": "LayoutView",
            "align_content": null,
            "align_items": null,
            "align_self": null,
            "border": null,
            "bottom": null,
            "display": null,
            "flex": null,
            "flex_flow": null,
            "grid_area": null,
            "grid_auto_columns": null,
            "grid_auto_flow": null,
            "grid_auto_rows": null,
            "grid_column": null,
            "grid_gap": null,
            "grid_row": null,
            "grid_template_areas": null,
            "grid_template_columns": null,
            "grid_template_rows": null,
            "height": null,
            "justify_content": null,
            "justify_items": null,
            "left": null,
            "margin": null,
            "max_height": null,
            "max_width": null,
            "min_height": null,
            "min_width": null,
            "object_fit": null,
            "object_position": null,
            "order": null,
            "overflow": null,
            "overflow_x": null,
            "overflow_y": null,
            "padding": null,
            "right": null,
            "top": null,
            "visibility": null,
            "width": null
          }
        },
        "32f4d34dda3d4f118f245d25f41f531f": {
          "model_module": "@jupyter-widgets/output",
          "model_name": "OutputModel",
          "model_module_version": "1.0.0",
          "state": {
            "_dom_classes": [],
            "_model_module": "@jupyter-widgets/output",
            "_model_module_version": "1.0.0",
            "_model_name": "OutputModel",
            "_view_count": null,
            "_view_module": "@jupyter-widgets/output",
            "_view_module_version": "1.0.0",
            "_view_name": "OutputView",
            "layout": "IPY_MODEL_733edc92f747418aa7dc109636020ada",
            "msg_id": "",
            "outputs": [
              {
                "output_type": "display_data",
                "data": {
                  "text/plain": "Epoch 10/39 \u001b[38;2;98;6;224m━━━━━━━━━━━━━━━━━━━━━━━━━━━━━━━━━━\u001b[0m \u001b[37m8/8\u001b[0m \u001b[38;5;245m0:00:00 • 0:00:00\u001b[0m \u001b[38;5;249m40.68it/s\u001b[0m \u001b[37mv_num: 163.000 train_loss: 0.601    \u001b[0m\n                                                                               \u001b[37mvalid_loss: 0.536 valid_accuracy:   \u001b[0m\n                                                                               \u001b[37m0.724 train_accuracy: 0.691         \u001b[0m\n",
                  "text/html": "<pre style=\"white-space:pre;overflow-x:auto;line-height:normal;font-family:Menlo,'DejaVu Sans Mono',consolas,'Courier New',monospace\">Epoch 10/39 <span style=\"color: #6206e0; text-decoration-color: #6206e0\">━━━━━━━━━━━━━━━━━━━━━━━━━━━━━━━━━━</span> <span style=\"color: #c0c0c0; text-decoration-color: #c0c0c0\">8/8</span> <span style=\"color: #8a8a8a; text-decoration-color: #8a8a8a\">0:00:00 • 0:00:00</span> <span style=\"color: #b2b2b2; text-decoration-color: #b2b2b2\">40.68it/s</span> <span style=\"color: #c0c0c0; text-decoration-color: #c0c0c0\">v_num: 163.000 train_loss: 0.601    </span>\n                                                                               <span style=\"color: #c0c0c0; text-decoration-color: #c0c0c0\">valid_loss: 0.536 valid_accuracy:   </span>\n                                                                               <span style=\"color: #c0c0c0; text-decoration-color: #c0c0c0\">0.724 train_accuracy: 0.691         </span>\n</pre>\n"
                },
                "metadata": {}
              }
            ]
          }
        },
        "733edc92f747418aa7dc109636020ada": {
          "model_module": "@jupyter-widgets/base",
          "model_name": "LayoutModel",
          "model_module_version": "1.2.0",
          "state": {
            "_model_module": "@jupyter-widgets/base",
            "_model_module_version": "1.2.0",
            "_model_name": "LayoutModel",
            "_view_count": null,
            "_view_module": "@jupyter-widgets/base",
            "_view_module_version": "1.2.0",
            "_view_name": "LayoutView",
            "align_content": null,
            "align_items": null,
            "align_self": null,
            "border": null,
            "bottom": null,
            "display": null,
            "flex": null,
            "flex_flow": null,
            "grid_area": null,
            "grid_auto_columns": null,
            "grid_auto_flow": null,
            "grid_auto_rows": null,
            "grid_column": null,
            "grid_gap": null,
            "grid_row": null,
            "grid_template_areas": null,
            "grid_template_columns": null,
            "grid_template_rows": null,
            "height": null,
            "justify_content": null,
            "justify_items": null,
            "left": null,
            "margin": null,
            "max_height": null,
            "max_width": null,
            "min_height": null,
            "min_width": null,
            "object_fit": null,
            "object_position": null,
            "order": null,
            "overflow": null,
            "overflow_x": null,
            "overflow_y": null,
            "padding": null,
            "right": null,
            "top": null,
            "visibility": null,
            "width": null
          }
        },
        "b63f20363bd24c58a236c0a2261fce2f": {
          "model_module": "@jupyter-widgets/output",
          "model_name": "OutputModel",
          "model_module_version": "1.0.0",
          "state": {
            "_dom_classes": [],
            "_model_module": "@jupyter-widgets/output",
            "_model_module_version": "1.0.0",
            "_model_name": "OutputModel",
            "_view_count": null,
            "_view_module": "@jupyter-widgets/output",
            "_view_module_version": "1.0.0",
            "_view_name": "OutputView",
            "layout": "IPY_MODEL_3959c1955b134351840aec0da0c88941",
            "msg_id": "",
            "outputs": [
              {
                "output_type": "display_data",
                "data": {
                  "text/plain": "Epoch 7/39 \u001b[38;2;98;6;224m━━━━━━━━━━━━━━━━━━━━━━━━━━━━━━━━━━\u001b[0m \u001b[37m16/16\u001b[0m \u001b[38;5;245m0:00:00 • 0:00:00\u001b[0m \u001b[38;5;249m42.32it/s\u001b[0m \u001b[37mv_num: 164.000 train_loss: 0.754   \u001b[0m\n                                                                                \u001b[37mvalid_loss: 0.557 valid_accuracy:  \u001b[0m\n                                                                                \u001b[37m0.691 train_accuracy: 0.592        \u001b[0m\n",
                  "text/html": "<pre style=\"white-space:pre;overflow-x:auto;line-height:normal;font-family:Menlo,'DejaVu Sans Mono',consolas,'Courier New',monospace\">Epoch 7/39 <span style=\"color: #6206e0; text-decoration-color: #6206e0\">━━━━━━━━━━━━━━━━━━━━━━━━━━━━━━━━━━</span> <span style=\"color: #c0c0c0; text-decoration-color: #c0c0c0\">16/16</span> <span style=\"color: #8a8a8a; text-decoration-color: #8a8a8a\">0:00:00 • 0:00:00</span> <span style=\"color: #b2b2b2; text-decoration-color: #b2b2b2\">42.32it/s</span> <span style=\"color: #c0c0c0; text-decoration-color: #c0c0c0\">v_num: 164.000 train_loss: 0.754   </span>\n                                                                                <span style=\"color: #c0c0c0; text-decoration-color: #c0c0c0\">valid_loss: 0.557 valid_accuracy:  </span>\n                                                                                <span style=\"color: #c0c0c0; text-decoration-color: #c0c0c0\">0.691 train_accuracy: 0.592        </span>\n</pre>\n"
                },
                "metadata": {}
              }
            ]
          }
        },
        "3959c1955b134351840aec0da0c88941": {
          "model_module": "@jupyter-widgets/base",
          "model_name": "LayoutModel",
          "model_module_version": "1.2.0",
          "state": {
            "_model_module": "@jupyter-widgets/base",
            "_model_module_version": "1.2.0",
            "_model_name": "LayoutModel",
            "_view_count": null,
            "_view_module": "@jupyter-widgets/base",
            "_view_module_version": "1.2.0",
            "_view_name": "LayoutView",
            "align_content": null,
            "align_items": null,
            "align_self": null,
            "border": null,
            "bottom": null,
            "display": null,
            "flex": null,
            "flex_flow": null,
            "grid_area": null,
            "grid_auto_columns": null,
            "grid_auto_flow": null,
            "grid_auto_rows": null,
            "grid_column": null,
            "grid_gap": null,
            "grid_row": null,
            "grid_template_areas": null,
            "grid_template_columns": null,
            "grid_template_rows": null,
            "height": null,
            "justify_content": null,
            "justify_items": null,
            "left": null,
            "margin": null,
            "max_height": null,
            "max_width": null,
            "min_height": null,
            "min_width": null,
            "object_fit": null,
            "object_position": null,
            "order": null,
            "overflow": null,
            "overflow_x": null,
            "overflow_y": null,
            "padding": null,
            "right": null,
            "top": null,
            "visibility": null,
            "width": null
          }
        },
        "d80a887e36904bd48d123d59da6b2135": {
          "model_module": "@jupyter-widgets/output",
          "model_name": "OutputModel",
          "model_module_version": "1.0.0",
          "state": {
            "_dom_classes": [],
            "_model_module": "@jupyter-widgets/output",
            "_model_module_version": "1.0.0",
            "_model_name": "OutputModel",
            "_view_count": null,
            "_view_module": "@jupyter-widgets/output",
            "_view_module_version": "1.0.0",
            "_view_name": "OutputView",
            "layout": "IPY_MODEL_881a3c1671934768ac941c1f9a438f20",
            "msg_id": "",
            "outputs": [
              {
                "output_type": "display_data",
                "data": {
                  "text/plain": "Epoch 13/39 \u001b[38;2;98;6;224m━━━━━━━━━━━━━━━━━━━━━━━━━━━━━━━━━━\u001b[0m \u001b[37m32/32\u001b[0m \u001b[38;5;245m0:00:00 • 0:00:00\u001b[0m \u001b[38;5;249m42.57it/s\u001b[0m \u001b[37mv_num: 165.000 train_loss: 0.358  \u001b[0m\n                                                                                 \u001b[37mvalid_loss: 0.540 valid_accuracy: \u001b[0m\n                                                                                 \u001b[37m0.705 train_accuracy: 0.698       \u001b[0m\n",
                  "text/html": "<pre style=\"white-space:pre;overflow-x:auto;line-height:normal;font-family:Menlo,'DejaVu Sans Mono',consolas,'Courier New',monospace\">Epoch 13/39 <span style=\"color: #6206e0; text-decoration-color: #6206e0\">━━━━━━━━━━━━━━━━━━━━━━━━━━━━━━━━━━</span> <span style=\"color: #c0c0c0; text-decoration-color: #c0c0c0\">32/32</span> <span style=\"color: #8a8a8a; text-decoration-color: #8a8a8a\">0:00:00 • 0:00:00</span> <span style=\"color: #b2b2b2; text-decoration-color: #b2b2b2\">42.57it/s</span> <span style=\"color: #c0c0c0; text-decoration-color: #c0c0c0\">v_num: 165.000 train_loss: 0.358  </span>\n                                                                                 <span style=\"color: #c0c0c0; text-decoration-color: #c0c0c0\">valid_loss: 0.540 valid_accuracy: </span>\n                                                                                 <span style=\"color: #c0c0c0; text-decoration-color: #c0c0c0\">0.705 train_accuracy: 0.698       </span>\n</pre>\n"
                },
                "metadata": {}
              }
            ]
          }
        },
        "881a3c1671934768ac941c1f9a438f20": {
          "model_module": "@jupyter-widgets/base",
          "model_name": "LayoutModel",
          "model_module_version": "1.2.0",
          "state": {
            "_model_module": "@jupyter-widgets/base",
            "_model_module_version": "1.2.0",
            "_model_name": "LayoutModel",
            "_view_count": null,
            "_view_module": "@jupyter-widgets/base",
            "_view_module_version": "1.2.0",
            "_view_name": "LayoutView",
            "align_content": null,
            "align_items": null,
            "align_self": null,
            "border": null,
            "bottom": null,
            "display": null,
            "flex": null,
            "flex_flow": null,
            "grid_area": null,
            "grid_auto_columns": null,
            "grid_auto_flow": null,
            "grid_auto_rows": null,
            "grid_column": null,
            "grid_gap": null,
            "grid_row": null,
            "grid_template_areas": null,
            "grid_template_columns": null,
            "grid_template_rows": null,
            "height": null,
            "justify_content": null,
            "justify_items": null,
            "left": null,
            "margin": null,
            "max_height": null,
            "max_width": null,
            "min_height": null,
            "min_width": null,
            "object_fit": null,
            "object_position": null,
            "order": null,
            "overflow": null,
            "overflow_x": null,
            "overflow_y": null,
            "padding": null,
            "right": null,
            "top": null,
            "visibility": null,
            "width": null
          }
        },
        "cc48e37a65fa49d5bb1cbc920252fdae": {
          "model_module": "@jupyter-widgets/output",
          "model_name": "OutputModel",
          "model_module_version": "1.0.0",
          "state": {
            "_dom_classes": [],
            "_model_module": "@jupyter-widgets/output",
            "_model_module_version": "1.0.0",
            "_model_name": "OutputModel",
            "_view_count": null,
            "_view_module": "@jupyter-widgets/output",
            "_view_module_version": "1.0.0",
            "_view_name": "OutputView",
            "layout": "IPY_MODEL_667d2d1865c34a8a81d9d2a31ec947b9",
            "msg_id": "",
            "outputs": [
              {
                "output_type": "display_data",
                "data": {
                  "text/plain": "Epoch 6/299 \u001b[38;2;98;6;224m━━━━━━━━━━━━━━━━━━━━━━━━━━━━━━━━━━\u001b[0m \u001b[37m8/8\u001b[0m \u001b[38;5;245m0:00:00 • 0:00:00\u001b[0m \u001b[38;5;249m43.19it/s\u001b[0m \u001b[37mv_num: 166.000 train_loss: 0.528    \u001b[0m\n                                                                               \u001b[37mvalid_loss: 0.537 valid_accuracy:   \u001b[0m\n                                                                               \u001b[37m0.696 train_accuracy: 0.683         \u001b[0m\n",
                  "text/html": "<pre style=\"white-space:pre;overflow-x:auto;line-height:normal;font-family:Menlo,'DejaVu Sans Mono',consolas,'Courier New',monospace\">Epoch 6/299 <span style=\"color: #6206e0; text-decoration-color: #6206e0\">━━━━━━━━━━━━━━━━━━━━━━━━━━━━━━━━━━</span> <span style=\"color: #c0c0c0; text-decoration-color: #c0c0c0\">8/8</span> <span style=\"color: #8a8a8a; text-decoration-color: #8a8a8a\">0:00:00 • 0:00:00</span> <span style=\"color: #b2b2b2; text-decoration-color: #b2b2b2\">43.19it/s</span> <span style=\"color: #c0c0c0; text-decoration-color: #c0c0c0\">v_num: 166.000 train_loss: 0.528    </span>\n                                                                               <span style=\"color: #c0c0c0; text-decoration-color: #c0c0c0\">valid_loss: 0.537 valid_accuracy:   </span>\n                                                                               <span style=\"color: #c0c0c0; text-decoration-color: #c0c0c0\">0.696 train_accuracy: 0.683         </span>\n</pre>\n"
                },
                "metadata": {}
              }
            ]
          }
        },
        "667d2d1865c34a8a81d9d2a31ec947b9": {
          "model_module": "@jupyter-widgets/base",
          "model_name": "LayoutModel",
          "model_module_version": "1.2.0",
          "state": {
            "_model_module": "@jupyter-widgets/base",
            "_model_module_version": "1.2.0",
            "_model_name": "LayoutModel",
            "_view_count": null,
            "_view_module": "@jupyter-widgets/base",
            "_view_module_version": "1.2.0",
            "_view_name": "LayoutView",
            "align_content": null,
            "align_items": null,
            "align_self": null,
            "border": null,
            "bottom": null,
            "display": null,
            "flex": null,
            "flex_flow": null,
            "grid_area": null,
            "grid_auto_columns": null,
            "grid_auto_flow": null,
            "grid_auto_rows": null,
            "grid_column": null,
            "grid_gap": null,
            "grid_row": null,
            "grid_template_areas": null,
            "grid_template_columns": null,
            "grid_template_rows": null,
            "height": null,
            "justify_content": null,
            "justify_items": null,
            "left": null,
            "margin": null,
            "max_height": null,
            "max_width": null,
            "min_height": null,
            "min_width": null,
            "object_fit": null,
            "object_position": null,
            "order": null,
            "overflow": null,
            "overflow_x": null,
            "overflow_y": null,
            "padding": null,
            "right": null,
            "top": null,
            "visibility": null,
            "width": null
          }
        }
      }
    },
    "accelerator": "GPU"
  },
  "nbformat": 4,
  "nbformat_minor": 0
}